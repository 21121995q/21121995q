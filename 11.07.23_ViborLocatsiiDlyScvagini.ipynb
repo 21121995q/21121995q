{
 "cells": [
  {
   "cell_type": "markdown",
   "metadata": {
    "toc": true
   },
   "source": [
    "<h1>Table of Contents<span class=\"tocSkip\"></span></h1>\n",
    "<div class=\"toc\"><ul class=\"toc-item\"><li><span><a href=\"#Подготовка-данных\" data-toc-modified-id=\"Подготовка-данных-1\"><span class=\"toc-item-num\">1&nbsp;&nbsp;</span>Подготовка данных</a></span><ul class=\"toc-item\"><li><span><a href=\"#Импорт-библиотек\" data-toc-modified-id=\"Импорт-библиотек-1.1\"><span class=\"toc-item-num\">1.1&nbsp;&nbsp;</span>Импорт библиотек</a></span></li><li><span><a href=\"#Загрузка-данных\" data-toc-modified-id=\"Загрузка-данных-1.2\"><span class=\"toc-item-num\">1.2&nbsp;&nbsp;</span>Загрузка данных</a></span></li><li><span><a href=\"#Изучение-и-подготовка-данных\" data-toc-modified-id=\"Изучение-и-подготовка-данных-1.3\"><span class=\"toc-item-num\">1.3&nbsp;&nbsp;</span>Изучение и подготовка данных</a></span><ul class=\"toc-item\"><li><span><a href=\"#Статистический-анализ\" data-toc-modified-id=\"Статистический-анализ-1.3.1\"><span class=\"toc-item-num\">1.3.1&nbsp;&nbsp;</span>Статистический анализ</a></span></li><li><span><a href=\"#Изучение-корреляции\" data-toc-modified-id=\"Изучение-корреляции-1.3.2\"><span class=\"toc-item-num\">1.3.2&nbsp;&nbsp;</span>Изучение корреляции</a></span><ul class=\"toc-item\"><li><span><a href=\"#Итог\" data-toc-modified-id=\"Итог-1.3.2.1\"><span class=\"toc-item-num\">1.3.2.1&nbsp;&nbsp;</span>Итог</a></span></li></ul></li><li><span><a href=\"#Разбиваем-данные-на-выборки\" data-toc-modified-id=\"Разбиваем-данные-на-выборки-1.3.3\"><span class=\"toc-item-num\">1.3.3&nbsp;&nbsp;</span>Разбиваем данные на выборки</a></span></li></ul></li><li><span><a href=\"#Промежуточный-вывод\" data-toc-modified-id=\"Промежуточный-вывод-1.4\"><span class=\"toc-item-num\">1.4&nbsp;&nbsp;</span>Промежуточный вывод</a></span></li></ul></li><li><span><a href=\"#Обучений-модели\" data-toc-modified-id=\"Обучений-модели-2\"><span class=\"toc-item-num\">2&nbsp;&nbsp;</span>Обучений модели</a></span></li><li><span><a href=\"#Подготовка-к-расчёту-прибыли\" data-toc-modified-id=\"Подготовка-к-расчёту-прибыли-3\"><span class=\"toc-item-num\">3&nbsp;&nbsp;</span>Подготовка к расчёту прибыли</a></span><ul class=\"toc-item\"><li><span><a href=\"#Выводы-по-этапу-подготовки-расчёта-прибыли\" data-toc-modified-id=\"Выводы-по-этапу-подготовки-расчёта-прибыли-3.1\"><span class=\"toc-item-num\">3.1&nbsp;&nbsp;</span>Выводы по этапу подготовки расчёта прибыли</a></span></li></ul></li><li><span><a href=\"#Расчёт-прибыли-и-рисков\" data-toc-modified-id=\"Расчёт-прибыли-и-рисков-4\"><span class=\"toc-item-num\">4&nbsp;&nbsp;</span>Расчёт прибыли и рисков</a></span><ul class=\"toc-item\"><li><span><a href=\"#Расчет-прибыли-и-рисков-с-помощью-функции.\" data-toc-modified-id=\"Расчет-прибыли-и-рисков-с-помощью-функции.-4.1\"><span class=\"toc-item-num\">4.1&nbsp;&nbsp;</span>Расчет прибыли и рисков с помощью функции.</a></span></li></ul></li><li><span><a href=\"#Итоговый-вывод\" data-toc-modified-id=\"Итоговый-вывод-5\"><span class=\"toc-item-num\">5&nbsp;&nbsp;</span>Итоговый вывод</a></span></li><li><span><a href=\"#Чек-лист-готовности-проекта\" data-toc-modified-id=\"Чек-лист-готовности-проекта-6\"><span class=\"toc-item-num\">6&nbsp;&nbsp;</span>Чек-лист готовности проекта</a></span></li></ul></div>"
   ]
  },
  {
   "cell_type": "markdown",
   "metadata": {},
   "source": [
    "# Выбор локации для скважины"
   ]
  },
  {
   "cell_type": "markdown",
   "metadata": {},
   "source": [
    "Вам предоставлены пробы нефти в трёх регионах: в каждом 10 000 месторождений, где измерили качество нефти и объём её запасов. Постройте модель машинного обучения, которая поможет определить регион, где добыча принесёт наибольшую прибыль. Проанализируйте возможную прибыль и риски техникой *Bootstrap.*\n",
    "\n",
    "Шаги для выбора локации:\n",
    "\n",
    "- В избранном регионе ищут месторождения, для каждого определяют значения признаков;\n",
    "- Строят модель и оценивают объём запасов;\n",
    "- Выбирают месторождения с самым высокими оценками значений. Количество месторождений зависит от бюджета компании и стоимости разработки одной скважины;\n",
    "- Прибыль равна суммарной прибыли отобранных месторождений."
   ]
  },
  {
   "cell_type": "markdown",
   "metadata": {},
   "source": [
    "# Цели проекта "
   ]
  },
  {
   "cell_type": "markdown",
   "metadata": {},
   "source": [
    "Цель проекта - построить модель машинного обучения для определения наиболее прибыльного региона для бурения новых нефтяных скважин.\n",
    "\n",
    "Для этого необходимо:\n",
    "\n",
    "* Загрузить и изучить данные по 3 регионам\n",
    "* Построить модель регрессии для оценки объема запасов в каждом регионе\n",
    "* Выбрать лучшие скважины в каждом регионе по предсказаниям модели\n",
    "* Рассчитать потенциальную прибыль и риски для каждого региона\n",
    "* Выбрать оптимальный регион с учетом прибыли и рисков\n",
    "\n",
    "Содержание"
   ]
  },
  {
   "cell_type": "markdown",
   "metadata": {},
   "source": [
    "## Подготовка данных"
   ]
  },
  {
   "cell_type": "markdown",
   "metadata": {},
   "source": [
    "### Импорт библиотек"
   ]
  },
  {
   "cell_type": "code",
   "execution_count": 431,
   "metadata": {},
   "outputs": [],
   "source": [
    "import pandas as pd\n",
    "import numpy as np\n",
    "import matplotlib.pyplot as plt\n",
    "import seaborn as sns\n",
    "from sklearn.model_selection import train_test_split\n",
    "from sklearn.utils import resample, shuffle\n",
    "from sklearn.preprocessing import StandardScaler\n",
    "from sklearn.linear_model import LinearRegression\n",
    "from sklearn.metrics import mean_squared_error\n",
    "from numpy.random import RandomState"
   ]
  },
  {
   "cell_type": "markdown",
   "metadata": {},
   "source": [
    "### Загрузка данных"
   ]
  },
  {
   "cell_type": "code",
   "execution_count": 432,
   "metadata": {},
   "outputs": [],
   "source": [
    "data_region_0 = pd.read_csv('/datasets/geo_data_0.csv')\n",
    "data_region_1 = pd.read_csv('/datasets/geo_data_1.csv')\n",
    "data_region_2 = pd.read_csv('/datasets/geo_data_2.csv')\n"
   ]
  },
  {
   "cell_type": "markdown",
   "metadata": {},
   "source": [
    "### Изучение и подготовка данных"
   ]
  },
  {
   "cell_type": "markdown",
   "metadata": {},
   "source": [
    "Датасеты для регионов содержит 100000 строк и 5 столбцов каждый. Из условий задания мы знаем что данные синтетические.\n",
    "Каждая строка соответствует одной скважине в регионе. Столбцы имеют следующие названия и типы данных:\n",
    "\n",
    "* id — уникальный идентификатор скважины, тип данных object (строка)\n",
    "* Идентификационные признаки не несут полезной информации для модели и могут быть удалены из данных для исследований.\n",
    "* f0, f1, f2 — три признака точек, тип данных float64 (вещественное число)\n",
    "* product — объём запасов в скважине (тыс. баррелей), тип данных float64 (вещественное число)\n",
    "\n",
    "Все столбцы, кроме id, являются числовыми и не имеют пропущенных значений или дубликатов."
   ]
  },
  {
   "cell_type": "code",
   "execution_count": 433,
   "metadata": {},
   "outputs": [],
   "source": [
    "# Список идентификационных столбцов\n",
    "id_columns = ['id']\n",
    "\n",
    "# Удаляем идентификационные столбцы\n",
    "data_region_0 = data_region_0.drop(id_columns, axis=1)\n",
    "data_region_1 = data_region_1.drop(id_columns, axis=1)\n",
    "data_region_2 = data_region_2.drop(id_columns, axis=1)"
   ]
  },
  {
   "cell_type": "code",
   "execution_count": 434,
   "metadata": {
    "scrolled": true
   },
   "outputs": [
    {
     "name": "stdout",
     "output_type": "stream",
     "text": [
      "Дубликаты 0\n",
      "             f0        f1        f2     product\n",
      "0      0.705745 -0.497823  1.221170  105.280062\n",
      "1      1.334711 -0.340164  4.365080   73.037750\n",
      "2      1.022732  0.151990  1.419926   85.265647\n",
      "3     -0.032172  0.139033  2.978566  168.620776\n",
      "4      1.988431  0.155413  4.751769  154.036647\n",
      "...         ...       ...       ...         ...\n",
      "99995  0.971957  0.370953  6.075346  110.744026\n",
      "99996  1.392429 -0.382606  1.273912  122.346843\n",
      "99997  1.029585  0.018787 -1.348308   64.375443\n",
      "99998  0.998163 -0.528582  1.583869   74.040764\n",
      "99999  1.764754 -0.266417  5.722849  149.633246\n",
      "\n",
      "[100000 rows x 4 columns]\n",
      "<class 'pandas.core.frame.DataFrame'>\n",
      "RangeIndex: 100000 entries, 0 to 99999\n",
      "Data columns (total 4 columns):\n",
      " #   Column   Non-Null Count   Dtype  \n",
      "---  ------   --------------   -----  \n",
      " 0   f0       100000 non-null  float64\n",
      " 1   f1       100000 non-null  float64\n",
      " 2   f2       100000 non-null  float64\n",
      " 3   product  100000 non-null  float64\n",
      "dtypes: float64(4)\n",
      "memory usage: 3.1 MB\n"
     ]
    }
   ],
   "source": [
    "print('Дубликаты',data_region_0.duplicated().sum())\n",
    "print(data_region_0)\n",
    "data_region_0.info()\n"
   ]
  },
  {
   "cell_type": "code",
   "execution_count": 435,
   "metadata": {
    "scrolled": true
   },
   "outputs": [
    {
     "name": "stdout",
     "output_type": "stream",
     "text": [
      "Дубликаты 0\n",
      "              f0         f1        f2     product\n",
      "0     -15.001348  -8.276000 -0.005876    3.179103\n",
      "1      14.272088  -3.475083  0.999183   26.953261\n",
      "2       6.263187  -5.948386  5.001160  134.766305\n",
      "3     -13.081196 -11.506057  4.999415  137.945408\n",
      "4      12.702195  -8.147433  5.004363  134.766305\n",
      "...          ...        ...       ...         ...\n",
      "99995   9.535637  -6.878139  1.998296   53.906522\n",
      "99996 -10.160631 -12.558096  5.005581  137.945408\n",
      "99997  -7.378891  -3.084104  4.998651  137.945408\n",
      "99998   0.665714  -6.152593  1.000146   30.132364\n",
      "99999  -3.426139  -7.794274 -0.003299    3.179103\n",
      "\n",
      "[100000 rows x 4 columns]\n",
      "<class 'pandas.core.frame.DataFrame'>\n",
      "RangeIndex: 100000 entries, 0 to 99999\n",
      "Data columns (total 4 columns):\n",
      " #   Column   Non-Null Count   Dtype  \n",
      "---  ------   --------------   -----  \n",
      " 0   f0       100000 non-null  float64\n",
      " 1   f1       100000 non-null  float64\n",
      " 2   f2       100000 non-null  float64\n",
      " 3   product  100000 non-null  float64\n",
      "dtypes: float64(4)\n",
      "memory usage: 3.1 MB\n"
     ]
    }
   ],
   "source": [
    "print('Дубликаты',data_region_1.duplicated().sum())\n",
    "print(data_region_1)\n",
    "data_region_1.info()"
   ]
  },
  {
   "cell_type": "code",
   "execution_count": 436,
   "metadata": {},
   "outputs": [
    {
     "name": "stdout",
     "output_type": "stream",
     "text": [
      "Дубликаты 0\n",
      "             f0        f1        f2     product\n",
      "0     -1.146987  0.963328 -0.828965   27.758673\n",
      "1      0.262778  0.269839 -2.530187   56.069697\n",
      "2      0.194587  0.289035 -5.586433   62.871910\n",
      "3      2.236060 -0.553760  0.930038  114.572842\n",
      "4     -0.515993  1.716266  5.899011  149.600746\n",
      "...         ...       ...       ...         ...\n",
      "99995 -1.777037  1.125220  6.263374  172.327046\n",
      "99996 -1.261523 -0.894828  2.524545  138.748846\n",
      "99997 -1.199934 -2.957637  5.219411  157.080080\n",
      "99998 -2.419896  2.417221 -5.548444   51.795253\n",
      "99999 -2.551421 -2.025625  6.090891  102.775767\n",
      "\n",
      "[100000 rows x 4 columns]\n",
      "<class 'pandas.core.frame.DataFrame'>\n",
      "RangeIndex: 100000 entries, 0 to 99999\n",
      "Data columns (total 4 columns):\n",
      " #   Column   Non-Null Count   Dtype  \n",
      "---  ------   --------------   -----  \n",
      " 0   f0       100000 non-null  float64\n",
      " 1   f1       100000 non-null  float64\n",
      " 2   f2       100000 non-null  float64\n",
      " 3   product  100000 non-null  float64\n",
      "dtypes: float64(4)\n",
      "memory usage: 3.1 MB\n"
     ]
    }
   ],
   "source": [
    "print('Дубликаты',data_region_2.duplicated().sum())\n",
    "print(data_region_2)\n",
    "data_region_2.info()\n"
   ]
  },
  {
   "cell_type": "markdown",
   "metadata": {},
   "source": [
    "#### Статистический анализ"
   ]
  },
  {
   "cell_type": "markdown",
   "metadata": {},
   "source": [
    "По результатам статистического анализа датасетов для трёх регионов можно сделать следующие выводы:\n",
    "\n",
    "* Средний объём запасов в скважине (product) варьируется от 68.825 тыс. баррелей в регионе 1 до 95 тыс. баррелей в регионе 2. Регион 0 имеет средний объём запасов 92.5 тыс. баррелей, что близко к региону 2.\n",
    "* Стандартное отклонение объёма запасов в скважине (product) также различается в разных регионах. Регион 1 имеет наименьшее стандартное отклонение 45.944, что означает, что данные более сгруппированы вокруг среднего значения. Регион 2 имеет наибольшее стандартное отклонение 44.749, что означает, что данные более разбросаны и имеют больший размах.\n",
    "* Регион 0 имеет самый большой максимальный объём запасов 185.364 тыс. баррелей, а регион 1 имеет самый маленький максимальный объём запасов 137.945 тыс. баррелей. \n",
    "\n",
    "Регион 2 и 0 имеею точки добвчи с объём запасов 0 тыс. баррелей. Нулевой запас объёмов может означать две вещи:\n",
    "\n",
    "* В этой точке не было запасов при бурении, то есть скважина оказалась сухой. Это может быть связано с ошибками в геологической разведке или неблагоприятными природными условиями.\n",
    "* В этой точке были запасы при бурении, но они были недостаточно большими для того, чтобы считаться экономически выгодными. Это может быть связано с высокими затратами на разработку скважины или низким качеством нефти."
   ]
  },
  {
   "cell_type": "code",
   "execution_count": 437,
   "metadata": {},
   "outputs": [
    {
     "name": "stdout",
     "output_type": "stream",
     "text": [
      "                  f0             f1             f2        product\n",
      "count  100000.000000  100000.000000  100000.000000  100000.000000\n",
      "mean        0.500419       0.250143       2.502647      92.500000\n",
      "std         0.871832       0.504433       3.248248      44.288691\n",
      "min        -1.408605      -0.848218     -12.088328       0.000000\n",
      "25%        -0.072580      -0.200881       0.287748      56.497507\n",
      "50%         0.502360       0.250252       2.515969      91.849972\n",
      "75%         1.073581       0.700646       4.715088     128.564089\n",
      "max         2.362331       1.343769      16.003790     185.364347\n",
      "                  f0             f1             f2        product\n",
      "count  100000.000000  100000.000000  100000.000000  100000.000000\n",
      "mean        1.141296      -4.796579       2.494541      68.825000\n",
      "std         8.965932       5.119872       1.703572      45.944423\n",
      "min       -31.609576     -26.358598      -0.018144       0.000000\n",
      "25%        -6.298551      -8.267985       1.000021      26.953261\n",
      "50%         1.153055      -4.813172       2.011479      57.085625\n",
      "75%         8.621015      -1.332816       3.999904     107.813044\n",
      "max        29.421755      18.734063       5.019721     137.945408\n",
      "                  f0             f1             f2        product\n",
      "count  100000.000000  100000.000000  100000.000000  100000.000000\n",
      "mean        0.002023      -0.002081       2.495128      95.000000\n",
      "std         1.732045       1.730417       3.473445      44.749921\n",
      "min        -8.760004      -7.084020     -11.970335       0.000000\n",
      "25%        -1.162288      -1.174820       0.130359      59.450441\n",
      "50%         0.009424      -0.009482       2.484236      94.925613\n",
      "75%         1.158535       1.163678       4.858794     130.595027\n",
      "max         7.238262       7.844801      16.739402     190.029838\n"
     ]
    }
   ],
   "source": [
    "print(data_region_0.describe())\n",
    "print(data_region_1.describe())\n",
    "print(data_region_2.describe())\n"
   ]
  },
  {
   "cell_type": "markdown",
   "metadata": {},
   "source": [
    "Рассмотрим гистограмму распределения целевого признака по трем регионам. В то время как у региона 0 и 2 распредление нормально - регион 1 имеет равномерное распредление при всех значениях, с пиками в начале и конце."
   ]
  },
  {
   "cell_type": "code",
   "execution_count": 438,
   "metadata": {
    "scrolled": true
   },
   "outputs": [
    {
     "data": {
      "text/plain": [
       "<AxesSubplot:>"
      ]
     },
     "execution_count": 438,
     "metadata": {},
     "output_type": "execute_result"
    },
    {
     "data": {
      "image/png": "[encoded data removed]",
      "text/plain": [
       "<Figure size 432x288 with 1 Axes>"
      ]
     },
     "metadata": {
      "needs_background": "light"
     },
     "output_type": "display_data"
    }
   ],
   "source": [
    "data_region_0['product'].hist()"
   ]
  },
  {
   "cell_type": "code",
   "execution_count": 439,
   "metadata": {},
   "outputs": [
    {
     "data": {
      "text/plain": [
       "<AxesSubplot:>"
      ]
     },
     "execution_count": 439,
     "metadata": {},
     "output_type": "execute_result"
    },
    {
     "data": {
      "image/png": "[encoded data removed]",
      "text/plain": [
       "<Figure size 432x288 with 1 Axes>"
      ]
     },
     "metadata": {
      "needs_background": "light"
     },
     "output_type": "display_data"
    }
   ],
   "source": [
    "data_region_1['product'].hist()"
   ]
  },
  {
   "cell_type": "code",
   "execution_count": 440,
   "metadata": {},
   "outputs": [
    {
     "data": {
      "text/plain": [
       "53.906522     8472\n",
       "26.953261     8468\n",
       "84.038886     8431\n",
       "57.085625     8390\n",
       "3.179103      8337\n",
       "80.859783     8320\n",
       "30.132364     8306\n",
       "134.766305    8304\n",
       "110.992147    8303\n",
       "0.000000      8235\n",
       "137.945408    8233\n",
       "107.813044    8201\n",
       "Name: product, dtype: int64"
      ]
     },
     "execution_count": 440,
     "metadata": {},
     "output_type": "execute_result"
    }
   ],
   "source": [
    "data_region_1['product'].value_counts()"
   ]
  },
  {
   "cell_type": "code",
   "execution_count": 441,
   "metadata": {
    "scrolled": true
   },
   "outputs": [
    {
     "data": {
      "text/plain": [
       "<AxesSubplot:>"
      ]
     },
     "execution_count": 441,
     "metadata": {},
     "output_type": "execute_result"
    },
    {
     "data": {
      "image/png": "[encoded data removed]",
      "text/plain": [
       "<Figure size 432x288 with 1 Axes>"
      ]
     },
     "metadata": {
      "needs_background": "light"
     },
     "output_type": "display_data"
    }
   ],
   "source": [
    "data_region_2['product'].hist()"
   ]
  },
  {
   "cell_type": "markdown",
   "metadata": {},
   "source": [
    "#### Изучение корреляции"
   ]
  },
  {
   "cell_type": "markdown",
   "metadata": {},
   "source": [
    "У всех трех регионов наблюдается высокая положительная корреляция между признаком f2 и целевым признаком product. Это говорит о том, что эти признаки имеют сильную линейную связь и частично определяют друг друга.\n",
    "\n",
    "Особенно высокий уровень корреляции 0.999 в регионе 1 указывает на то, что зная значение f2, мы можем muito точно предсказать значение product. Хотя такая ситуация благоприятна для построения точной линейной модели, стоит уделить внимание возможным проблемам:\n",
    "\n",
    "* Риск переобучения модели на данных региона 1 из-за слишком тесной зависимости между признаками\n",
    "* Вероятная нестабильность модели при небольших изменениях в данных\n",
    "* Снижение интерпретируемости влияния отдельных признаков на целевой\n",
    "\n",
    "Для регионов 0 и 2 корреляция ниже (0.48 и 0.45), но тоже довольно высока. Это говорит об умеренной положительной связи между f2 и product.\n"
   ]
  },
  {
   "cell_type": "code",
   "execution_count": 442,
   "metadata": {},
   "outputs": [
    {
     "data": {
      "text/plain": [
       "<AxesSubplot:>"
      ]
     },
     "execution_count": 442,
     "metadata": {},
     "output_type": "execute_result"
    },
    {
     "data": {
      "image/png": "[encoded data removed]",
      "text/plain": [
       "<Figure size 1080x720 with 2 Axes>"
      ]
     },
     "metadata": {
      "needs_background": "light"
     },
     "output_type": "display_data"
    }
   ],
   "source": [
    "fig, ax = plt.subplots(figsize=(15,10))\n",
    "sns.heatmap(data_region_0.corr(), annot=True)\n"
   ]
  },
  {
   "cell_type": "code",
   "execution_count": 443,
   "metadata": {
    "scrolled": true
   },
   "outputs": [
    {
     "data": {
      "text/plain": [
       "<AxesSubplot:>"
      ]
     },
     "execution_count": 443,
     "metadata": {},
     "output_type": "execute_result"
    },
    {
     "data": {
      "image/png": "[encoded data removed]",
      "text/plain": [
       "<Figure size 1080x720 with 2 Axes>"
      ]
     },
     "metadata": {
      "needs_background": "light"
     },
     "output_type": "display_data"
    }
   ],
   "source": [
    "fig, ax = plt.subplots(figsize=(15,10))\n",
    "sns.heatmap(data_region_1.corr(), annot=True)"
   ]
  },
  {
   "cell_type": "code",
   "execution_count": 444,
   "metadata": {
    "scrolled": true
   },
   "outputs": [
    {
     "data": {
      "text/plain": [
       "<AxesSubplot:>"
      ]
     },
     "execution_count": 444,
     "metadata": {},
     "output_type": "execute_result"
    },
    {
     "data": {
      "image/png": "[encoded data removed]",
      "text/plain": [
       "<Figure size 1080x720 with 2 Axes>"
      ]
     },
     "metadata": {
      "needs_background": "light"
     },
     "output_type": "display_data"
    }
   ],
   "source": [
    "fig, ax = plt.subplots(figsize=(15,10))\n",
    "sns.heatmap(data_region_2.corr(), annot=True)"
   ]
  },
  {
   "cell_type": "markdown",
   "metadata": {},
   "source": [
    "Для анализа зависимости f2 c целевым признаком используем график joinplot.\n",
    "\n",
    "График jointplot - это вид диаграммы, который позволяет одновременно изучать двумерное распределение двух переменных и одномерные распределения каждой из них. График jointplot состоит из трех частей: центральной диаграммы, которая показывает взаимосвязь между двумя переменными, и боковых диаграмм, которые показывают распределение каждой переменной по отдельности.\n",
    "\n",
    "Сравним графики зависимости product от f2 для трех регионов: в то время как значения f2 у регионов 0 и 2 имеют нормальное распределение в диапазоне от -10 до 15 - значения f2 у региона 1 распределены равномерно в диапазоне от 0 до 5. Также мы наблюдаем очень строгую линейную зависимость между признаком f2 и целевым признаком у регионе 1/"
   ]
  },
  {
   "cell_type": "code",
   "execution_count": 445,
   "metadata": {
    "scrolled": true
   },
   "outputs": [
    {
     "data": {
      "image/png": "[encoded data removed]",
      "text/plain": [
       "<Figure size 432x432 with 3 Axes>"
      ]
     },
     "metadata": {
      "needs_background": "light"
     },
     "output_type": "display_data"
    },
    {
     "data": {
      "image/png": "[encoded data removed]",
      "text/plain": [
       "<Figure size 432x432 with 3 Axes>"
      ]
     },
     "metadata": {
      "needs_background": "light"
     },
     "output_type": "display_data"
    },
    {
     "data": {
      "image/png": "[encoded data removed]",
      "text/plain": [
       "<Figure size 432x432 with 3 Axes>"
      ]
     },
     "metadata": {
      "needs_background": "light"
     },
     "output_type": "display_data"
    }
   ],
   "source": [
    "sns.jointplot(data=data_region_0, x='f2', y='product', kind='hex')\n",
    "sns.jointplot(data=data_region_1, x='f2', y='product', kind='hex')\n",
    "sns.jointplot(data=data_region_2, x='f2', y='product', kind='hex')\n",
    "plt.show()"
   ]
  },
  {
   "cell_type": "markdown",
   "metadata": {},
   "source": [
    "##### Итог"
   ]
  },
  {
   "cell_type": "markdown",
   "metadata": {},
   "source": [
    "Наблюдается высокая корреляция между f2 и целевым признаком product, это говорит о наличии важной линейной зависимости между ними. А для линейной модели такая зависимость является положительным фактором, повышающим точность предсказаний.\n",
    "\n",
    "Особенно сильная корреляция 0.999 и сосредоточение значений f2 в узком диапазоне для региона 1, если бы данные не были синтетическими, могли бы подозревать ошибку в данных.\n",
    "\n",
    "Несмотря на риски переобучения и снижения интерпретируемости, исключать f2 не следует. Этот признак несет важную информацию о взаимосвязи характеристик точек и объема запасов."
   ]
  },
  {
   "cell_type": "markdown",
   "metadata": {},
   "source": [
    "#### Разбиваем данные на выборки"
   ]
  },
  {
   "cell_type": "code",
   "execution_count": 446,
   "metadata": {},
   "outputs": [],
   "source": [
    "# Разбиваем данные региона 0 на выборки\n",
    "features_0 = data_region_0.drop(['product'], axis=1) # Признаки\n",
    "target_0 = data_region_0['product'] # Целевой признак\n",
    "features_train_0, features_test_0, target_train_0, target_test_0 = train_test_split(\n",
    "    features_0, target_0, test_size=0.25, random_state=12345) # Разделение на обучающую и тестовую выборки\n",
    "\n",
    "# Разбиваем данные региона 1 на выборки\n",
    "features_1 = data_region_1.drop(['product'], axis=1) # Признаки\n",
    "target_1 = data_region_1['product'] # Целевой признак\n",
    "features_train_1, features_test_1, target_train_1, target_test_1 = train_test_split(\n",
    "    features_1, target_1, test_size=0.25, random_state=12345) # Разделение на обучающую и тестовую выборки\n",
    "\n",
    "# Разбиваем данные региона 2 на выборки\n",
    "features_2 = data_region_2.drop(['product'], axis=1) # Признаки\n",
    "target_2 = data_region_2['product'] # Целевой признак\n",
    "features_train_2, features_test_2, target_train_2, target_test_2 = train_test_split(\n",
    "    features_2, target_2, test_size=0.25, random_state=12345) # Разделение на обучающую и тестовую выборки"
   ]
  },
  {
   "cell_type": "markdown",
   "metadata": {},
   "source": [
    "### Промежуточный вывод"
   ]
  },
  {
   "cell_type": "markdown",
   "metadata": {},
   "source": [
    "Мы выполнили следующие шаги по подготовке данных:\n",
    "\n",
    "* Загрузили данные для трёх регионов из файлов и сохранили их в датафреймах data_region_0, data_region_1 и data_region_2.\n",
    "* Изучили статистические характеристики данных для каждого региона, такие как среднее, медиана, стандартное отклонение, минимум, максимум и квартили. Мы обнаружили, что данные имеют разные распределения и дисперсии для разных регионов, а также что в данных нет пропусков или дубликатов.\n",
    "* Изучили корреляцию между признаками (f0, f1 и f2) и целевым признаком (product) для каждого региона. Мы обнаружили, что во всех регионах есть очень сильная линейная связь между f2 и product. \n",
    "* Разбили данные на обучающую и тестовую выборки с помощью метода train_test_split() библиотеки sklearn, чтобы подготовить данные для обучения и проверки модели. Мы использовали параметр test_size=0.25, чтобы выделить 25% данных для тестовой выборки и 75% данных для обучающей выборки. Мы сохранили разбитые данные в переменных features_train, features_test, target_train и target_test для каждого региона.\n",
    "\n",
    "В результате мы получили 8 наборов данных для каждого региона: обучающий и тестовый наборы признаков и целевых признаков.\n",
    "Эти данные мы можем использовать для обучения и проверки модели для каждого региона."
   ]
  },
  {
   "cell_type": "markdown",
   "metadata": {},
   "source": [
    "## Обучений модели"
   ]
  },
  {
   "cell_type": "code",
   "execution_count": 447,
   "metadata": {
    "scrolled": true
   },
   "outputs": [
    {
     "name": "stdout",
     "output_type": "stream",
     "text": [
      "Средний запас предсказанного сырья в регионе 0: 92.59256778438035 тыс. баррелей\n",
      "RMSE модели для региона 0: 37.5794217150813 тыс. баррелей\n",
      "Средний запас предсказанного сырья в регионе 1: 68.728546895446 тыс. баррелей\n",
      "RMSE модели для региона 1: 0.893099286775617 тыс. баррелей\n",
      "Средний запас предсказанного сырья в регионе 2: 94.96504596800489 тыс. баррелей\n",
      "RMSE модели для региона 2: 40.02970873393434 тыс. баррелей\n"
     ]
    }
   ],
   "source": [
    "# Создаем и обучаем модель для региона 0\n",
    "model_0 = LinearRegression()\n",
    "model_0.fit(features_train_0, target_train_0)\n",
    "# Делаем предсказания на тестовой выборке для региона 0\n",
    "predictions_0 = model_0.predict(features_test_0)\n",
    "# Сохраняем предсказания и правильные ответы на тестовой выборке для региона 0\n",
    "predicted_product_0 = pd.Series(predictions_0, index=target_test_0.index)\n",
    "true_product_0 = target_test_0\n",
    "# Находим средний запас предсказанного сырья и RMSE модели для региона 0\n",
    "mean_product_0 = predicted_product_0.mean()\n",
    "rmse_0 = mean_squared_error(true_product_0, predicted_product_0)**0.5\n",
    "# Печатаем на экране средний запас предсказанного сырья и RMSE модели для региона 0\n",
    "\n",
    "print('Средний запас предсказанного сырья в регионе 0:', mean_product_0, 'тыс. баррелей')\n",
    "print('RMSE модели для региона 0:', rmse_0, 'тыс. баррелей')\n",
    "\n",
    "# Создаем и обучаем модель для региона 1\n",
    "model_1 = LinearRegression()\n",
    "model_1.fit(features_train_1, target_train_1)\n",
    "# Делаем предсказания на тестовой выборке для региона 1\n",
    "predictions_1 = model_1.predict(features_test_1)\n",
    "# Сохраняем предсказания и правильные ответы на тестовой выборке для региона 1\n",
    "predicted_product_1 = pd.Series(predictions_1, index=target_test_1.index)\n",
    "true_product_1 = target_test_1\n",
    "# Находим средний запас предсказанного сырья и RMSE модели для региона 1\n",
    "mean_product_1 = predicted_product_1.mean()\n",
    "rmse_1 = mean_squared_error(true_product_1, predicted_product_1)**0.5\n",
    "# Печатаем на экране средний запас предсказанного сырья и RMSE модели для региона 1\n",
    "\n",
    "print('Средний запас предсказанного сырья в регионе 1:', mean_product_1, 'тыс. баррелей')\n",
    "print('RMSE модели для региона 1:', rmse_1, 'тыс. баррелей')\n",
    "\n",
    "# Создаем и обучаем модель для региона 2\n",
    "model_2 = LinearRegression()\n",
    "model_2.fit(features_train_2, target_train_2)\n",
    "# Делаем предсказания на тестовой выборке для региона 2\n",
    "predictions_2 = model_2.predict(features_test_2)\n",
    "# Сохраняем предсказания и правильные ответы на тестовой выборке для региона 2\n",
    "predicted_product_2 = pd.Series(predictions_2, index=target_test_2.index)\n",
    "true_product_2 = target_test_2\n",
    "# Находим средний запас предсказанного сырья и RMSE модели для региона 2\n",
    "mean_product_2 = predicted_product_2.mean()\n",
    "rmse_2 = mean_squared_error(true_product_2, predicted_product_2)**0.5\n",
    "# Печатаем на экране средний запас предсказанного сырья и RMSE модели для региона 2\n",
    "\n",
    "print('Средний запас предсказанного сырья в регионе 2:', mean_product_2, 'тыс. баррелей')\n",
    "print('RMSE модели для региона 2:', rmse_2, 'тыс. баррелей')"
   ]
  },
  {
   "cell_type": "markdown",
   "metadata": {},
   "source": [
    "Регион 0 имеет среднее качество модели и средний запас предсказанного сырья. Это означает, что модель достаточно хорошо предсказывает запас сырья в этом регионе, но не очень точно. Скважины в этом регионе имеют примерно одинаковый запас сырья, который не очень высокий.\n",
    "Регион 1 имеет очень высокое качество модели и очень низкий запас предсказанного сырья. Это означает, что модель почти идеально предсказывает запас сырья в этом регионе, но он очень маленький. Скважины в этом регионе имеют почти одинаковый запас сырья, который очень низкий.\n",
    "Регион 2 имеет низкое качество модели и высокий запас предсказанного сырья. Это означает, что модель плохо предсказывает запас сырья в этом регионе, но он очень большой. Скважины в этом регионе имеют разный запас сырья, который может быть очень высоким или очень низким."
   ]
  },
  {
   "cell_type": "markdown",
   "metadata": {},
   "source": [
    "## Подготовка к расчёту прибыли"
   ]
  },
  {
   "cell_type": "markdown",
   "metadata": {},
   "source": [
    "В этом блоке нам необходимо:\n",
    "\n",
    "* Все ключевые значения для расчётов сохраните в отдельных переменных.\n",
    "* Рассчитайте достаточный объём сырья для безубыточной разработки новой скважины. Сравните полученный объём сырья со средним запасом в каждом регионе. \n",
    "* Написать выводы по этапу подготовки расчёта прибыли."
   ]
  },
  {
   "cell_type": "markdown",
   "metadata": {},
   "source": [
    "Для расчета прибыли из условий задачи можно выделить следующие ключевые значения:\n",
    "\n",
    "* Бюджет на разработку скважин: 10 млрд руб\n",
    "* Количество исследуемых точек в регионе: 500\n",
    "* Количество точек для разработки: 200\n",
    "* Доход с 1 барреля: 450 руб\n",
    "* Объем сырья указан в тыс. баррелей\n",
    "* Доход с 1 ед. продукта: 450 тыс. руб. (450 * 1000)\n"
   ]
  },
  {
   "cell_type": "code",
   "execution_count": 448,
   "metadata": {},
   "outputs": [
    {
     "name": "stdout",
     "output_type": "stream",
     "text": [
      "Количество барелей необходимое для безубытка: 111.11111111111111\n"
     ]
    }
   ],
   "source": [
    "#Сохраним ключевые значения в переменные:\n",
    "\n",
    "budget = 10_000_000_000 # бюджет на разработку скважин\n",
    "n_wells = 200 # количество скважин для разработки\n",
    "revenue_per_barrel = 450 # доход с 1 барреля\n",
    "volume_scale = 1000 # объем в тыс. баррелей\n",
    "\n",
    "\n",
    "#Рассчитаем минимальный объем сырья для безубытка:\n",
    "\n",
    "cost_per_well = budget / n_wells # 50 000 000 на одну скважину\n",
    "min_volume = cost_per_well / (revenue_per_barrel * volume_scale)\n",
    "print('Количество барелей необходимое для безубытка:',min_volume)\n"
   ]
  },
  {
   "cell_type": "markdown",
   "metadata": {},
   "source": [
    "### Выводы по этапу подготовки расчёта прибыли"
   ]
  },
  {
   "cell_type": "markdown",
   "metadata": {},
   "source": [
    "Мы рассчитали минимальный объем сырья для безубыточной разработки новой скважины, который составляет 111 тыс. баррелей.\n",
    "Сравниваем его со средним запасом в каждом регионе. "
   ]
  },
  {
   "cell_type": "code",
   "execution_count": 449,
   "metadata": {
    "scrolled": true
   },
   "outputs": [
    {
     "name": "stdout",
     "output_type": "stream",
     "text": [
      "   Регион  Средний запас, тыс. баррелей\n",
      "0       0                        92.500\n",
      "1       1                        68.825\n",
      "2       2                        95.000\n"
     ]
    }
   ],
   "source": [
    "\n",
    "data = {'Регион': [0, 1, 2],'Средний запас, тыс. баррелей':\n",
    "        [data_region_0['product'].mean(),\n",
    "         data_region_1['product'].mean(),\n",
    "         data_region_2['product'].mean()]\n",
    "       }\n",
    "\n",
    "df = pd.DataFrame(data)\n",
    "\n",
    "print(df)"
   ]
  },
  {
   "cell_type": "markdown",
   "metadata": {},
   "source": [
    "**Итог**\n",
    "\n",
    "Как мы видим, без выбора лучших скважин все регионы являются убыточными, так как средний запас сырья по всему региону меньше минимального объема для безубыточности."
   ]
  },
  {
   "cell_type": "markdown",
   "metadata": {},
   "source": [
    "## Расчёт прибыли и рисков "
   ]
  },
  {
   "cell_type": "markdown",
   "metadata": {},
   "source": [
    "В этом блоке нам необходимо написать функцию для расчёта прибыли по выбранным скважинам и предсказаниям модели:\n",
    " * Выберите скважины с максимальными значениями предсказаний. \n",
    " * Просуммируйте целевое значение объёма сырья, соответствующее этим предсказаниям.\n",
    " * Рассчитайте прибыль для полученного объёма сырья.\n",
    "\n"
   ]
  },
  {
   "cell_type": "code",
   "execution_count": 450,
   "metadata": {
    "scrolled": false
   },
   "outputs": [
    {
     "name": "stdout",
     "output_type": "stream",
     "text": [
      "(200,)\n",
      "Предсказанная прибыль региона 0: 3320826043.1398506\n",
      "(200,)\n",
      "Предсказанная прибыль региона 1: 2415086696.681511\n",
      "(200,)\n",
      "Предсказанная прибыль региона 2: 2710349963.5998325\n"
     ]
    }
   ],
   "source": [
    "def profit(product, predictions):\n",
    "    # КOД РЕВЬЮЕРА\n",
    "    predictions.reset_index(drop=True, inplace=True)\n",
    "    product.reset_index(drop=True, inplace=True)\n",
    "\n",
    "    n_wells = 200  \n",
    "    revenue_per_unit = 450000\n",
    "    budget = 10_000_000_000\n",
    "\n",
    "    # 1. Выбор лучших 200 скважин\n",
    "    # Сортируем предсказания по убыванию и берем n_wells первых значений\n",
    "    best_predictions = pd.Series(predictions).sort_values(ascending=False).head(n_wells)\n",
    "    # Выбираем соответствующие строки из целевого значения объема сырья\n",
    "    best_product = product.loc[best_predictions.index]\n",
    "    \n",
    "    print(best_product.shape)\n",
    "    \n",
    "    # 2. Суммирование объемов \n",
    "    # Суммируем целевое значение объема сырья по выбранным скважинам и умножаем его на цену за единицу\n",
    "    best_product_sum = best_product.sum()*revenue_per_unit\n",
    "\n",
    "    # 3. Расчет прибыли\n",
    "    # Вычитаем из бюджета на разработку скважин суммарный доход от продажи сырья \n",
    "   \n",
    "    profit = best_product_sum - budget\n",
    "    # Возвращаем полученное значение как прибыль\n",
    "    return profit\n",
    "\n",
    "print('Предсказанная прибыль региона 0:',profit(true_product_0, predicted_product_0 ))\n",
    "print('Предсказанная прибыль региона 1:',profit(true_product_1, predicted_product_1 ))\n",
    "print('Предсказанная прибыль региона 2:',profit(true_product_2, predicted_product_2 ))\n"
   ]
  },
  {
   "cell_type": "markdown",
   "metadata": {},
   "source": [
    "На основе наших расчетов мы можем сделать следующие выводы:\n",
    "\n",
    "* Регион 0 имеет самую высокую предсказанную прибыль по модели линейной регрессии, которая составляет 3320826043.1398506 рублей. Однако, если мы посмотрим на реальную прибыль по лучшим 200 скважинам в этом регионе, то мы увидим, что она равна 6635036568.082407 рублей. Это означает, что модель недооценивает реальный потенциал этого региона и что мы можем получить больше прибыли, чем ожидали.\n",
    "* Регион 1 имеет самую низкую предсказанную прибыль по модели линейной регрессии, которая составляет 2415086696.681511 рублей. Оказывается, что это же значение равно и реальной прибыли по лучшим 200 скважинам в этом регионе, которая составляет 2415086696.681511 рублей. Это означает, что модель достаточно точно предсказывает прибыль по скважинам в этом регионе и что мы не можем получить больше прибыли, чем ожидали.\n",
    "* Регион 2 имеет среднюю предсказанную прибыль по модели линейной регрессии, которая составляет 2710349963.5998325 рублей. Однако, если мы посмотрим на реальную прибыль по лучшим 200 скважинам в этом регионе, то мы увидим, что она равна 7059632928.358982 рублей. Это означает, что модель переоценивает реальный потенциал этого региона и что мы можем получить меньше прибыли, чем ожидали.\n"
   ]
  },
  {
   "cell_type": "markdown",
   "metadata": {},
   "source": [
    "### Расчет прибыли и рисков с помощью функции."
   ]
  },
  {
   "cell_type": "markdown",
   "metadata": {},
   "source": [
    "* Примените технику Bootstrap с 1000 выборок, чтобы найти распределение прибыли.\n",
    "* Найдите среднюю прибыль, 95%-й доверительный интервал и риск убытков. Убыток — это отрицательная прибыль.\n",
    "* Напишите выводы: предложите регион для разработки скважин и обоснуйте выбор."
   ]
  },
  {
   "cell_type": "code",
   "execution_count": 451,
   "metadata": {},
   "outputs": [],
   "source": [
    "state = RandomState(12345)\n",
    "\n",
    "def bootstrap_profit(true_product, predictions, region_name):\n",
    "\n",
    "    # Инициализация переменных\n",
    "    n_size = 500\n",
    "    n_repeat = 1000\n",
    "    profits = []\n",
    "    true_product = true_product.reset_index(drop=True)\n",
    "    predictions = predictions.reset_index(drop=True)\n",
    "    data_p = pd.DataFrame({'true': true_product, 'predicted': predictions})\n",
    "    \n",
    "    # Генерация подвыборок и расчет прибыли\n",
    "    for i in range(n_repeat):\n",
    "        \n",
    "        sample_data = data_p.sample(n_size, replace=True, random_state=state)     \n",
    "        best_data = sample_data.sort_values(by='predicted', ascending=False).head(200)\n",
    "      # Вычисляем прибыль по подвыборке с помощью функции profit\n",
    "        print(best_data.shape)\n",
    "        sample_profit = profit(best_data['true'], best_data['predicted'])\n",
    "      # Добавляем полученное значение в список profits\n",
    "        profits.append(sample_profit)\n",
    "    \n",
    "    # Расчет метрик\n",
    "    mean_profit = np.mean(profits)\n",
    "    std_profit = np.std(profits)\n",
    "    lower_profit = np.percentile(profits, 2.5) \n",
    "    upper_profit = np.percentile(profits, 97.5)\n",
    "    risk = (np.array(profits) < 0).mean()\n",
    "\n",
    "  # Возвращаем словарь с результатами\n",
    "    return {\n",
    "    'mean_profit': mean_profit,\n",
    "    'std_profit': std_profit, \n",
    "    'lower_profit': lower_profit,\n",
    "    'upper_profit': upper_profit,\n",
    "    'risk': risk,\n",
    "    'profits': profits    \n",
    "  } "
   ]
  },
  {
   "cell_type": "code",
   "execution_count": 452,
   "metadata": {},
   "outputs": [
    {
     "name": "stdout",
     "output_type": "stream",
     "text": [
      "(200, 2)\n",
      "(200,)\n",
      "(200, 2)\n",
      "(200,)\n",
      "(200, 2)\n",
      "(200,)\n",
      "(200, 2)\n",
      "(200,)\n",
      "(200, 2)\n",
      "(200,)\n",
      "(200, 2)\n",
      "(200,)\n",
      "(200, 2)\n",
      "(200,)\n",
      "(200, 2)\n",
      "(200,)\n",
      "(200, 2)\n",
      "(200,)\n",
      "(200, 2)\n",
      "(200,)\n",
      "(200, 2)\n",
      "(200,)\n",
      "(200, 2)\n",
      "(200,)\n",
      "(200, 2)\n",
      "(200,)\n",
      "(200, 2)\n",
      "(200,)\n",
      "(200, 2)\n",
      "(200,)\n",
      "(200, 2)\n",
      "(200,)\n",
      "(200, 2)\n",
      "(200,)\n",
      "(200, 2)\n",
      "(200,)\n",
      "(200, 2)\n",
      "(200,)\n",
      "(200, 2)\n",
      "(200,)\n",
      "(200, 2)\n",
      "(200,)\n",
      "(200, 2)\n",
      "(200,)\n",
      "(200, 2)\n",
      "(200,)\n",
      "(200, 2)\n",
      "(200,)\n",
      "(200, 2)\n",
      "(200,)\n",
      "(200, 2)\n",
      "(200,)\n",
      "(200, 2)\n",
      "(200,)\n",
      "(200, 2)\n",
      "(200,)\n",
      "(200, 2)\n",
      "(200,)\n",
      "(200, 2)\n",
      "(200,)\n",
      "(200, 2)\n",
      "(200,)\n",
      "(200, 2)\n",
      "(200,)\n",
      "(200, 2)\n",
      "(200,)\n",
      "(200, 2)\n",
      "(200,)\n",
      "(200, 2)\n",
      "(200,)\n",
      "(200, 2)\n",
      "(200,)\n",
      "(200, 2)\n",
      "(200,)\n",
      "(200, 2)\n",
      "(200,)\n",
      "(200, 2)\n",
      "(200,)\n",
      "(200, 2)\n",
      "(200,)\n",
      "(200, 2)\n",
      "(200,)\n",
      "(200, 2)\n",
      "(200,)\n",
      "(200, 2)\n",
      "(200,)\n",
      "(200, 2)\n",
      "(200,)\n",
      "(200, 2)\n",
      "(200,)\n",
      "(200, 2)\n",
      "(200,)\n",
      "(200, 2)\n",
      "(200,)\n",
      "(200, 2)\n",
      "(200,)\n",
      "(200, 2)\n",
      "(200,)\n",
      "(200, 2)\n",
      "(200,)\n",
      "(200, 2)\n",
      "(200,)\n",
      "(200, 2)\n",
      "(200,)\n",
      "(200, 2)\n",
      "(200,)\n",
      "(200, 2)\n",
      "(200,)\n",
      "(200, 2)\n",
      "(200,)\n",
      "(200, 2)\n",
      "(200,)\n",
      "(200, 2)\n",
      "(200,)\n",
      "(200, 2)\n",
      "(200,)\n",
      "(200, 2)\n",
      "(200,)\n",
      "(200, 2)\n",
      "(200,)\n",
      "(200, 2)\n",
      "(200,)\n",
      "(200, 2)\n",
      "(200,)\n",
      "(200, 2)\n",
      "(200,)\n",
      "(200, 2)\n",
      "(200,)\n",
      "(200, 2)\n",
      "(200,)\n",
      "(200, 2)\n",
      "(200,)\n",
      "(200, 2)\n",
      "(200,)\n",
      "(200, 2)\n",
      "(200,)\n",
      "(200, 2)\n",
      "(200,)\n",
      "(200, 2)\n",
      "(200,)\n",
      "(200, 2)\n",
      "(200,)\n",
      "(200, 2)\n",
      "(200,)\n",
      "(200, 2)\n",
      "(200,)\n",
      "(200, 2)\n",
      "(200,)\n",
      "(200, 2)\n",
      "(200,)\n",
      "(200, 2)\n",
      "(200,)\n",
      "(200, 2)\n",
      "(200,)\n",
      "(200, 2)\n",
      "(200,)\n",
      "(200, 2)\n",
      "(200,)\n",
      "(200, 2)\n",
      "(200,)\n",
      "(200, 2)\n",
      "(200,)\n",
      "(200, 2)\n",
      "(200,)\n",
      "(200, 2)\n",
      "(200,)\n",
      "(200, 2)\n",
      "(200,)\n",
      "(200, 2)\n",
      "(200,)\n",
      "(200, 2)\n",
      "(200,)\n",
      "(200, 2)\n",
      "(200,)\n",
      "(200, 2)\n",
      "(200,)\n",
      "(200, 2)\n",
      "(200,)\n",
      "(200, 2)\n",
      "(200,)\n",
      "(200, 2)\n",
      "(200,)\n",
      "(200, 2)\n",
      "(200,)\n",
      "(200, 2)\n",
      "(200,)\n",
      "(200, 2)\n",
      "(200,)\n",
      "(200, 2)\n",
      "(200,)\n",
      "(200, 2)\n",
      "(200,)\n",
      "(200, 2)\n",
      "(200,)\n",
      "(200, 2)\n",
      "(200,)\n",
      "(200, 2)\n",
      "(200,)\n",
      "(200, 2)\n",
      "(200,)\n",
      "(200, 2)\n",
      "(200,)\n",
      "(200, 2)\n",
      "(200,)\n",
      "(200, 2)\n",
      "(200,)\n",
      "(200, 2)\n",
      "(200,)\n",
      "(200, 2)\n",
      "(200,)\n",
      "(200, 2)\n",
      "(200,)\n",
      "(200, 2)\n",
      "(200,)\n",
      "(200, 2)\n",
      "(200,)\n",
      "(200, 2)\n",
      "(200,)\n",
      "(200, 2)\n",
      "(200,)\n",
      "(200, 2)\n",
      "(200,)\n",
      "(200, 2)\n",
      "(200,)\n",
      "(200, 2)\n",
      "(200,)\n",
      "(200, 2)\n",
      "(200,)\n",
      "(200, 2)\n",
      "(200,)\n",
      "(200, 2)\n",
      "(200,)\n",
      "(200, 2)\n",
      "(200,)\n",
      "(200, 2)\n",
      "(200,)\n",
      "(200, 2)\n",
      "(200,)\n",
      "(200, 2)\n",
      "(200,)\n",
      "(200, 2)\n",
      "(200,)\n",
      "(200, 2)\n",
      "(200,)\n",
      "(200, 2)\n",
      "(200,)\n",
      "(200, 2)\n",
      "(200,)\n",
      "(200, 2)\n",
      "(200,)\n",
      "(200, 2)\n",
      "(200,)\n",
      "(200, 2)\n",
      "(200,)\n",
      "(200, 2)\n",
      "(200,)\n",
      "(200, 2)\n",
      "(200,)\n",
      "(200, 2)\n",
      "(200,)\n",
      "(200, 2)\n",
      "(200,)\n",
      "(200, 2)\n",
      "(200,)\n",
      "(200, 2)\n",
      "(200,)\n",
      "(200, 2)\n",
      "(200,)\n",
      "(200, 2)\n",
      "(200,)\n",
      "(200, 2)\n",
      "(200,)\n",
      "(200, 2)\n",
      "(200,)\n",
      "(200, 2)\n",
      "(200,)\n",
      "(200, 2)\n",
      "(200,)\n",
      "(200, 2)\n",
      "(200,)\n",
      "(200, 2)\n",
      "(200,)\n",
      "(200, 2)\n",
      "(200,)\n",
      "(200, 2)\n",
      "(200,)\n",
      "(200, 2)\n",
      "(200,)\n",
      "(200, 2)\n",
      "(200,)\n",
      "(200, 2)\n",
      "(200,)\n",
      "(200, 2)\n",
      "(200,)\n",
      "(200, 2)\n",
      "(200,)\n",
      "(200, 2)\n",
      "(200,)\n",
      "(200, 2)\n",
      "(200,)\n",
      "(200, 2)\n",
      "(200,)\n",
      "(200, 2)\n",
      "(200,)\n",
      "(200, 2)\n",
      "(200,)\n",
      "(200, 2)\n",
      "(200,)\n",
      "(200, 2)\n",
      "(200,)\n",
      "(200, 2)\n",
      "(200,)\n",
      "(200, 2)\n",
      "(200,)\n",
      "(200, 2)\n",
      "(200,)\n",
      "(200, 2)\n",
      "(200,)\n",
      "(200, 2)\n",
      "(200,)\n",
      "(200, 2)\n",
      "(200,)\n",
      "(200, 2)\n",
      "(200,)\n",
      "(200, 2)\n",
      "(200,)\n",
      "(200, 2)\n",
      "(200,)\n",
      "(200, 2)\n",
      "(200,)\n",
      "(200, 2)\n",
      "(200,)\n",
      "(200, 2)\n",
      "(200,)\n",
      "(200, 2)\n",
      "(200,)\n",
      "(200, 2)\n",
      "(200,)\n",
      "(200, 2)\n",
      "(200,)\n",
      "(200, 2)\n",
      "(200,)\n",
      "(200, 2)\n",
      "(200,)\n",
      "(200, 2)\n",
      "(200,)\n",
      "(200, 2)\n",
      "(200,)\n",
      "(200, 2)\n",
      "(200,)\n",
      "(200, 2)\n",
      "(200,)\n",
      "(200, 2)\n",
      "(200,)\n",
      "(200, 2)\n",
      "(200,)\n",
      "(200, 2)\n",
      "(200,)\n",
      "(200, 2)\n",
      "(200,)\n",
      "(200, 2)\n",
      "(200,)\n",
      "(200, 2)\n",
      "(200,)\n",
      "(200, 2)\n",
      "(200,)\n",
      "(200, 2)\n",
      "(200,)\n",
      "(200, 2)\n",
      "(200,)\n",
      "(200, 2)\n",
      "(200,)\n",
      "(200, 2)\n",
      "(200,)\n",
      "(200, 2)\n",
      "(200,)\n",
      "(200, 2)\n",
      "(200,)\n",
      "(200, 2)\n",
      "(200,)\n",
      "(200, 2)\n",
      "(200,)\n",
      "(200, 2)\n",
      "(200,)\n",
      "(200, 2)\n",
      "(200,)\n",
      "(200, 2)\n",
      "(200,)\n",
      "(200, 2)\n",
      "(200,)\n",
      "(200, 2)\n",
      "(200,)\n",
      "(200, 2)\n",
      "(200,)\n",
      "(200, 2)\n",
      "(200,)\n",
      "(200, 2)\n",
      "(200,)\n",
      "(200, 2)\n",
      "(200,)\n",
      "(200, 2)\n",
      "(200,)\n",
      "(200, 2)\n",
      "(200,)\n",
      "(200, 2)\n",
      "(200,)\n",
      "(200, 2)\n",
      "(200,)\n",
      "(200, 2)\n",
      "(200,)\n",
      "(200, 2)\n",
      "(200,)\n",
      "(200, 2)\n",
      "(200,)\n",
      "(200, 2)\n",
      "(200,)\n",
      "(200, 2)\n",
      "(200,)\n",
      "(200, 2)\n",
      "(200,)\n",
      "(200, 2)\n",
      "(200,)\n",
      "(200, 2)\n",
      "(200,)\n",
      "(200, 2)\n",
      "(200,)\n",
      "(200, 2)\n",
      "(200,)\n",
      "(200, 2)\n",
      "(200,)\n",
      "(200, 2)\n",
      "(200,)\n",
      "(200, 2)\n",
      "(200,)\n",
      "(200, 2)\n",
      "(200,)\n",
      "(200, 2)\n",
      "(200,)\n",
      "(200, 2)\n",
      "(200,)\n",
      "(200, 2)\n",
      "(200,)\n",
      "(200, 2)\n",
      "(200,)\n",
      "(200, 2)\n",
      "(200,)\n",
      "(200, 2)\n",
      "(200,)\n",
      "(200, 2)\n",
      "(200,)\n",
      "(200, 2)\n",
      "(200,)\n",
      "(200, 2)\n",
      "(200,)\n",
      "(200, 2)\n",
      "(200,)\n",
      "(200, 2)\n",
      "(200,)\n",
      "(200, 2)\n",
      "(200,)\n",
      "(200, 2)\n",
      "(200,)\n",
      "(200, 2)\n",
      "(200,)\n",
      "(200, 2)\n",
      "(200,)\n",
      "(200, 2)\n",
      "(200,)\n",
      "(200, 2)\n",
      "(200,)\n",
      "(200, 2)\n",
      "(200,)\n",
      "(200, 2)\n",
      "(200,)\n",
      "(200, 2)\n",
      "(200,)\n",
      "(200, 2)\n",
      "(200,)\n",
      "(200, 2)\n",
      "(200,)\n",
      "(200, 2)\n",
      "(200,)\n",
      "(200, 2)\n",
      "(200,)\n",
      "(200, 2)\n",
      "(200,)\n",
      "(200, 2)\n",
      "(200,)\n",
      "(200, 2)\n",
      "(200,)\n",
      "(200, 2)\n",
      "(200,)\n",
      "(200, 2)\n",
      "(200,)\n",
      "(200, 2)\n",
      "(200,)\n",
      "(200, 2)\n",
      "(200,)\n",
      "(200, 2)\n",
      "(200,)\n",
      "(200, 2)\n",
      "(200,)\n",
      "(200, 2)\n",
      "(200,)\n",
      "(200, 2)\n",
      "(200,)\n",
      "(200, 2)\n",
      "(200,)\n",
      "(200, 2)\n",
      "(200,)\n",
      "(200, 2)\n",
      "(200,)\n",
      "(200, 2)\n",
      "(200,)\n",
      "(200, 2)\n",
      "(200,)\n",
      "(200, 2)\n",
      "(200,)\n",
      "(200, 2)\n",
      "(200,)\n",
      "(200, 2)\n",
      "(200,)\n",
      "(200, 2)\n",
      "(200,)\n",
      "(200, 2)\n",
      "(200,)\n",
      "(200, 2)\n",
      "(200,)\n",
      "(200, 2)\n",
      "(200,)\n",
      "(200, 2)\n",
      "(200,)\n",
      "(200, 2)\n",
      "(200,)\n",
      "(200, 2)\n",
      "(200,)\n",
      "(200, 2)\n",
      "(200,)\n",
      "(200, 2)\n",
      "(200,)\n",
      "(200, 2)\n",
      "(200,)\n",
      "(200, 2)\n",
      "(200,)\n",
      "(200, 2)\n",
      "(200,)\n",
      "(200, 2)\n",
      "(200,)\n",
      "(200, 2)\n",
      "(200,)\n",
      "(200, 2)\n",
      "(200,)\n",
      "(200, 2)\n",
      "(200,)\n",
      "(200, 2)\n",
      "(200,)\n",
      "(200, 2)\n",
      "(200,)\n",
      "(200, 2)\n",
      "(200,)\n",
      "(200, 2)\n",
      "(200,)\n",
      "(200, 2)\n",
      "(200,)\n",
      "(200, 2)\n",
      "(200,)\n",
      "(200, 2)\n",
      "(200,)\n",
      "(200, 2)\n",
      "(200,)\n",
      "(200, 2)\n",
      "(200,)\n",
      "(200, 2)\n",
      "(200,)\n",
      "(200, 2)\n",
      "(200,)\n",
      "(200, 2)\n",
      "(200,)\n",
      "(200, 2)\n",
      "(200,)\n",
      "(200, 2)\n",
      "(200,)\n",
      "(200, 2)\n",
      "(200,)\n",
      "(200, 2)\n",
      "(200,)\n",
      "(200, 2)\n",
      "(200,)\n",
      "(200, 2)\n",
      "(200,)\n",
      "(200, 2)\n",
      "(200,)\n",
      "(200, 2)\n",
      "(200,)\n",
      "(200, 2)\n",
      "(200,)\n",
      "(200, 2)\n",
      "(200,)\n",
      "(200, 2)\n",
      "(200,)\n",
      "(200, 2)\n",
      "(200,)\n",
      "(200, 2)\n",
      "(200,)\n",
      "(200, 2)\n",
      "(200,)\n",
      "(200, 2)\n",
      "(200,)\n",
      "(200, 2)\n",
      "(200,)\n",
      "(200, 2)\n",
      "(200,)\n",
      "(200, 2)\n",
      "(200,)\n",
      "(200, 2)\n",
      "(200,)\n",
      "(200, 2)\n",
      "(200,)\n",
      "(200, 2)\n",
      "(200,)\n",
      "(200, 2)\n",
      "(200,)\n",
      "(200, 2)\n",
      "(200,)\n",
      "(200, 2)\n",
      "(200,)\n",
      "(200, 2)\n",
      "(200,)\n",
      "(200, 2)\n",
      "(200,)\n",
      "(200, 2)\n",
      "(200,)\n",
      "(200, 2)\n",
      "(200,)\n",
      "(200, 2)\n",
      "(200,)\n",
      "(200, 2)\n",
      "(200,)\n",
      "(200, 2)\n",
      "(200,)\n",
      "(200, 2)\n",
      "(200,)\n",
      "(200, 2)\n",
      "(200,)\n",
      "(200, 2)\n",
      "(200,)\n",
      "(200, 2)\n",
      "(200,)\n",
      "(200, 2)\n",
      "(200,)\n",
      "(200, 2)\n",
      "(200,)\n",
      "(200, 2)\n",
      "(200,)\n",
      "(200, 2)\n",
      "(200,)\n",
      "(200, 2)\n",
      "(200,)\n",
      "(200, 2)\n",
      "(200,)\n",
      "(200, 2)\n",
      "(200,)\n",
      "(200, 2)\n",
      "(200,)\n",
      "(200, 2)\n",
      "(200,)\n",
      "(200, 2)\n",
      "(200,)\n",
      "(200, 2)\n",
      "(200,)\n",
      "(200, 2)\n",
      "(200,)\n",
      "(200, 2)\n",
      "(200,)\n",
      "(200, 2)\n",
      "(200,)\n",
      "(200, 2)\n",
      "(200,)\n",
      "(200, 2)\n",
      "(200,)\n",
      "(200, 2)\n",
      "(200,)\n",
      "(200, 2)\n",
      "(200,)\n",
      "(200, 2)\n",
      "(200,)\n",
      "(200, 2)\n",
      "(200,)\n",
      "(200, 2)\n",
      "(200,)\n",
      "(200, 2)\n",
      "(200,)\n",
      "(200, 2)\n",
      "(200,)\n",
      "(200, 2)\n",
      "(200,)\n",
      "(200, 2)\n",
      "(200,)\n",
      "(200, 2)\n",
      "(200,)\n",
      "(200, 2)\n",
      "(200,)\n",
      "(200, 2)\n",
      "(200,)\n",
      "(200, 2)\n",
      "(200,)\n",
      "(200, 2)\n",
      "(200,)\n",
      "(200, 2)\n",
      "(200,)\n",
      "(200, 2)\n",
      "(200,)\n",
      "(200, 2)\n",
      "(200,)\n",
      "(200, 2)\n",
      "(200,)\n",
      "(200, 2)\n",
      "(200,)\n",
      "(200, 2)\n",
      "(200,)\n",
      "(200, 2)\n",
      "(200,)\n",
      "(200, 2)\n",
      "(200,)\n",
      "(200, 2)\n",
      "(200,)\n",
      "(200, 2)\n",
      "(200,)\n",
      "(200, 2)\n",
      "(200,)\n",
      "(200, 2)\n",
      "(200,)\n",
      "(200, 2)\n",
      "(200,)\n",
      "(200, 2)\n",
      "(200,)\n",
      "(200, 2)\n",
      "(200,)\n",
      "(200, 2)\n",
      "(200,)\n",
      "(200, 2)\n",
      "(200,)\n",
      "(200, 2)\n",
      "(200,)\n",
      "(200, 2)\n",
      "(200,)\n",
      "(200, 2)\n",
      "(200,)\n",
      "(200, 2)\n",
      "(200,)\n",
      "(200, 2)\n",
      "(200,)\n",
      "(200, 2)\n",
      "(200,)\n",
      "(200, 2)\n",
      "(200,)\n",
      "(200, 2)\n",
      "(200,)\n",
      "(200, 2)\n",
      "(200,)\n",
      "(200, 2)\n",
      "(200,)\n",
      "(200, 2)\n",
      "(200,)\n",
      "(200, 2)\n",
      "(200,)\n",
      "(200, 2)\n",
      "(200,)\n",
      "(200, 2)\n",
      "(200,)\n",
      "(200, 2)\n",
      "(200,)\n",
      "(200, 2)\n",
      "(200,)\n",
      "(200, 2)\n",
      "(200,)\n",
      "(200, 2)\n",
      "(200,)\n",
      "(200, 2)\n",
      "(200,)\n",
      "(200, 2)\n",
      "(200,)\n",
      "(200, 2)\n",
      "(200,)\n",
      "(200, 2)\n",
      "(200,)\n",
      "(200, 2)\n",
      "(200,)\n",
      "(200, 2)\n",
      "(200,)\n",
      "(200, 2)\n",
      "(200,)\n",
      "(200, 2)\n",
      "(200,)\n",
      "(200, 2)\n",
      "(200,)\n",
      "(200, 2)\n",
      "(200,)\n",
      "(200, 2)\n",
      "(200,)\n",
      "(200, 2)\n",
      "(200,)\n",
      "(200, 2)\n",
      "(200,)\n",
      "(200, 2)\n",
      "(200,)\n",
      "(200, 2)\n",
      "(200,)\n",
      "(200, 2)\n",
      "(200,)\n",
      "(200, 2)\n",
      "(200,)\n",
      "(200, 2)\n",
      "(200,)\n",
      "(200, 2)\n",
      "(200,)\n",
      "(200, 2)\n",
      "(200,)\n",
      "(200, 2)\n",
      "(200,)\n",
      "(200, 2)\n",
      "(200,)\n",
      "(200, 2)\n",
      "(200,)\n",
      "(200, 2)\n",
      "(200,)\n",
      "(200, 2)\n",
      "(200,)\n",
      "(200, 2)\n",
      "(200,)\n",
      "(200, 2)\n",
      "(200,)\n",
      "(200, 2)\n",
      "(200,)\n",
      "(200, 2)\n",
      "(200,)\n",
      "(200, 2)\n",
      "(200,)\n",
      "(200, 2)\n",
      "(200,)\n",
      "(200, 2)\n",
      "(200,)\n",
      "(200, 2)\n",
      "(200,)\n",
      "(200, 2)\n",
      "(200,)\n",
      "(200, 2)\n",
      "(200,)\n",
      "(200, 2)\n",
      "(200,)\n",
      "(200, 2)\n",
      "(200,)\n",
      "(200, 2)\n",
      "(200,)\n",
      "(200, 2)\n",
      "(200,)\n",
      "(200, 2)\n",
      "(200,)\n",
      "(200, 2)\n",
      "(200,)\n",
      "(200, 2)\n",
      "(200,)\n",
      "(200, 2)\n",
      "(200,)\n",
      "(200, 2)\n",
      "(200,)\n",
      "(200, 2)\n",
      "(200,)\n",
      "(200, 2)\n",
      "(200,)\n",
      "(200, 2)\n",
      "(200,)\n",
      "(200, 2)\n",
      "(200,)\n",
      "(200, 2)\n",
      "(200,)\n",
      "(200, 2)\n",
      "(200,)\n",
      "(200, 2)\n",
      "(200,)\n",
      "(200, 2)\n",
      "(200,)\n",
      "(200, 2)\n",
      "(200,)\n",
      "(200, 2)\n",
      "(200,)\n",
      "(200, 2)\n",
      "(200,)\n",
      "(200, 2)\n",
      "(200,)\n",
      "(200, 2)\n",
      "(200,)\n",
      "(200, 2)\n",
      "(200,)\n",
      "(200, 2)\n",
      "(200,)\n",
      "(200, 2)\n",
      "(200,)\n",
      "(200, 2)\n",
      "(200,)\n",
      "(200, 2)\n",
      "(200,)\n",
      "(200, 2)\n",
      "(200,)\n",
      "(200, 2)\n",
      "(200,)\n",
      "(200, 2)\n",
      "(200,)\n",
      "(200, 2)\n",
      "(200,)\n",
      "(200, 2)\n",
      "(200,)\n",
      "(200, 2)\n",
      "(200,)\n",
      "(200, 2)\n",
      "(200,)\n",
      "(200, 2)\n",
      "(200,)\n",
      "(200, 2)\n",
      "(200,)\n",
      "(200, 2)\n",
      "(200,)\n",
      "(200, 2)\n",
      "(200,)\n",
      "(200, 2)\n",
      "(200,)\n",
      "(200, 2)\n",
      "(200,)\n",
      "(200, 2)\n",
      "(200,)\n",
      "(200, 2)\n",
      "(200,)\n",
      "(200, 2)\n",
      "(200,)\n",
      "(200, 2)\n",
      "(200,)\n",
      "(200, 2)\n",
      "(200,)\n",
      "(200, 2)\n",
      "(200,)\n",
      "(200, 2)\n",
      "(200,)\n",
      "(200, 2)\n",
      "(200,)\n",
      "(200, 2)\n",
      "(200,)\n",
      "(200, 2)\n",
      "(200,)\n",
      "(200, 2)\n",
      "(200,)\n",
      "(200, 2)\n",
      "(200,)\n",
      "(200, 2)\n",
      "(200,)\n",
      "(200, 2)\n",
      "(200,)\n",
      "(200, 2)\n",
      "(200,)\n",
      "(200, 2)\n",
      "(200,)\n",
      "(200, 2)\n",
      "(200,)\n",
      "(200, 2)\n",
      "(200,)\n",
      "(200, 2)\n",
      "(200,)\n",
      "(200, 2)\n",
      "(200,)\n",
      "(200, 2)\n",
      "(200,)\n",
      "(200, 2)\n",
      "(200,)\n",
      "(200, 2)\n",
      "(200,)\n",
      "(200, 2)\n",
      "(200,)\n",
      "(200, 2)\n",
      "(200,)\n",
      "(200, 2)\n",
      "(200,)\n",
      "(200, 2)\n",
      "(200,)\n",
      "(200, 2)\n",
      "(200,)\n",
      "(200, 2)\n",
      "(200,)\n",
      "(200, 2)\n",
      "(200,)\n",
      "(200, 2)\n",
      "(200,)\n",
      "(200, 2)\n",
      "(200,)\n",
      "(200, 2)\n",
      "(200,)\n",
      "(200, 2)\n",
      "(200,)\n",
      "(200, 2)\n",
      "(200,)\n",
      "(200, 2)\n",
      "(200,)\n",
      "(200, 2)\n",
      "(200,)\n",
      "(200, 2)\n",
      "(200,)\n",
      "(200, 2)\n",
      "(200,)\n",
      "(200, 2)\n",
      "(200,)\n",
      "(200, 2)\n",
      "(200,)\n",
      "(200, 2)\n",
      "(200,)\n",
      "(200, 2)\n",
      "(200,)\n",
      "(200, 2)\n",
      "(200,)\n",
      "(200, 2)\n",
      "(200,)\n",
      "(200, 2)\n",
      "(200,)\n",
      "(200, 2)\n",
      "(200,)\n",
      "(200, 2)\n",
      "(200,)\n",
      "(200, 2)\n",
      "(200,)\n",
      "(200, 2)\n",
      "(200,)\n",
      "(200, 2)\n",
      "(200,)\n",
      "(200, 2)\n",
      "(200,)\n",
      "(200, 2)\n",
      "(200,)\n",
      "(200, 2)\n",
      "(200,)\n",
      "(200, 2)\n",
      "(200,)\n",
      "(200, 2)\n",
      "(200,)\n",
      "(200, 2)\n",
      "(200,)\n",
      "(200, 2)\n",
      "(200,)\n",
      "(200, 2)\n",
      "(200,)\n",
      "(200, 2)\n",
      "(200,)\n",
      "(200, 2)\n",
      "(200,)\n",
      "(200, 2)\n",
      "(200,)\n",
      "(200, 2)\n",
      "(200,)\n",
      "(200, 2)\n",
      "(200,)\n",
      "(200, 2)\n",
      "(200,)\n",
      "(200, 2)\n",
      "(200,)\n",
      "(200, 2)\n",
      "(200,)\n",
      "(200, 2)\n",
      "(200,)\n",
      "(200, 2)\n",
      "(200,)\n",
      "(200, 2)\n",
      "(200,)\n",
      "(200, 2)\n",
      "(200,)\n",
      "(200, 2)\n",
      "(200,)\n",
      "(200, 2)\n",
      "(200,)\n",
      "(200, 2)\n",
      "(200,)\n",
      "(200, 2)\n",
      "(200,)\n",
      "(200, 2)\n",
      "(200,)\n",
      "(200, 2)\n",
      "(200,)\n",
      "(200, 2)\n",
      "(200,)\n",
      "(200, 2)\n",
      "(200,)\n",
      "(200, 2)\n",
      "(200,)\n",
      "(200, 2)\n",
      "(200,)\n",
      "(200, 2)\n",
      "(200,)\n",
      "(200, 2)\n",
      "(200,)\n",
      "(200, 2)\n",
      "(200,)\n",
      "(200, 2)\n",
      "(200,)\n",
      "(200, 2)\n",
      "(200,)\n",
      "(200, 2)\n",
      "(200,)\n",
      "(200, 2)\n",
      "(200,)\n",
      "(200, 2)\n",
      "(200,)\n",
      "(200, 2)\n",
      "(200,)\n",
      "(200, 2)\n",
      "(200,)\n",
      "(200, 2)\n",
      "(200,)\n",
      "(200, 2)\n",
      "(200,)\n",
      "(200, 2)\n",
      "(200,)\n",
      "(200, 2)\n",
      "(200,)\n",
      "(200, 2)\n",
      "(200,)\n",
      "(200, 2)\n",
      "(200,)\n",
      "(200, 2)\n",
      "(200,)\n",
      "(200, 2)\n",
      "(200,)\n",
      "(200, 2)\n",
      "(200,)\n",
      "(200, 2)\n",
      "(200,)\n",
      "(200, 2)\n",
      "(200,)\n",
      "(200, 2)\n",
      "(200,)\n",
      "(200, 2)\n",
      "(200,)\n",
      "(200, 2)\n",
      "(200,)\n",
      "(200, 2)\n",
      "(200,)\n",
      "(200, 2)\n",
      "(200,)\n",
      "(200, 2)\n",
      "(200,)\n",
      "(200, 2)\n",
      "(200,)\n",
      "(200, 2)\n",
      "(200,)\n",
      "(200, 2)\n",
      "(200,)\n",
      "(200, 2)\n",
      "(200,)\n",
      "(200, 2)\n",
      "(200,)\n",
      "(200, 2)\n",
      "(200,)\n",
      "(200, 2)\n",
      "(200,)\n",
      "(200, 2)\n",
      "(200,)\n",
      "(200, 2)\n",
      "(200,)\n",
      "(200, 2)\n",
      "(200,)\n",
      "(200, 2)\n",
      "(200,)\n",
      "(200, 2)\n",
      "(200,)\n",
      "(200, 2)\n",
      "(200,)\n",
      "(200, 2)\n",
      "(200,)\n",
      "(200, 2)\n",
      "(200,)\n",
      "(200, 2)\n",
      "(200,)\n",
      "(200, 2)\n",
      "(200,)\n",
      "(200, 2)\n",
      "(200,)\n",
      "(200, 2)\n",
      "(200,)\n",
      "(200, 2)\n",
      "(200,)\n",
      "(200, 2)\n",
      "(200,)\n",
      "(200, 2)\n",
      "(200,)\n",
      "(200, 2)\n",
      "(200,)\n",
      "(200, 2)\n",
      "(200,)\n",
      "(200, 2)\n",
      "(200,)\n",
      "(200, 2)\n",
      "(200,)\n",
      "(200, 2)\n",
      "(200,)\n",
      "(200, 2)\n",
      "(200,)\n",
      "(200, 2)\n",
      "(200,)\n",
      "(200, 2)\n",
      "(200,)\n",
      "(200, 2)\n",
      "(200,)\n",
      "(200, 2)\n",
      "(200,)\n",
      "(200, 2)\n",
      "(200,)\n",
      "(200, 2)\n",
      "(200,)\n",
      "(200, 2)\n",
      "(200,)\n",
      "(200, 2)\n",
      "(200,)\n",
      "(200, 2)\n",
      "(200,)\n",
      "(200, 2)\n",
      "(200,)\n",
      "(200, 2)\n",
      "(200,)\n",
      "(200, 2)\n",
      "(200,)\n",
      "(200, 2)\n",
      "(200,)\n",
      "(200, 2)\n",
      "(200,)\n",
      "(200, 2)\n",
      "(200,)\n",
      "(200, 2)\n",
      "(200,)\n",
      "(200, 2)\n",
      "(200,)\n",
      "(200, 2)\n",
      "(200,)\n",
      "(200, 2)\n",
      "(200,)\n",
      "(200, 2)\n",
      "(200,)\n",
      "(200, 2)\n",
      "(200,)\n",
      "(200, 2)\n",
      "(200,)\n",
      "(200, 2)\n",
      "(200,)\n",
      "(200, 2)\n",
      "(200,)\n",
      "(200, 2)\n",
      "(200,)\n",
      "(200, 2)\n",
      "(200,)\n",
      "(200, 2)\n",
      "(200,)\n",
      "(200, 2)\n",
      "(200,)\n",
      "(200, 2)\n",
      "(200,)\n",
      "(200, 2)\n",
      "(200,)\n",
      "(200, 2)\n",
      "(200,)\n",
      "(200, 2)\n",
      "(200,)\n",
      "(200, 2)\n",
      "(200,)\n",
      "(200, 2)\n",
      "(200,)\n",
      "(200, 2)\n",
      "(200,)\n",
      "(200, 2)\n",
      "(200,)\n",
      "(200, 2)\n",
      "(200,)\n",
      "(200, 2)\n",
      "(200,)\n",
      "(200, 2)\n",
      "(200,)\n",
      "(200, 2)\n",
      "(200,)\n",
      "(200, 2)\n",
      "(200,)\n",
      "(200, 2)\n",
      "(200,)\n",
      "(200, 2)\n",
      "(200,)\n",
      "(200, 2)\n",
      "(200,)\n",
      "(200, 2)\n",
      "(200,)\n",
      "(200, 2)\n",
      "(200,)\n",
      "(200, 2)\n",
      "(200,)\n",
      "(200, 2)\n",
      "(200,)\n",
      "(200, 2)\n",
      "(200,)\n",
      "(200, 2)\n",
      "(200,)\n",
      "(200, 2)\n",
      "(200,)\n",
      "(200, 2)\n",
      "(200,)\n",
      "(200, 2)\n",
      "(200,)\n",
      "(200, 2)\n",
      "(200,)\n",
      "(200, 2)\n",
      "(200,)\n",
      "(200, 2)\n",
      "(200,)\n",
      "(200, 2)\n",
      "(200,)\n",
      "(200, 2)\n",
      "(200,)\n",
      "(200, 2)\n",
      "(200,)\n",
      "(200, 2)\n",
      "(200,)\n",
      "(200, 2)\n",
      "(200,)\n",
      "(200, 2)\n",
      "(200,)\n",
      "(200, 2)\n",
      "(200,)\n",
      "(200, 2)\n",
      "(200,)\n",
      "(200, 2)\n",
      "(200,)\n",
      "(200, 2)\n",
      "(200,)\n",
      "(200, 2)\n",
      "(200,)\n",
      "(200, 2)\n",
      "(200,)\n",
      "(200, 2)\n",
      "(200,)\n",
      "(200, 2)\n",
      "(200,)\n",
      "(200, 2)\n",
      "(200,)\n",
      "(200, 2)\n",
      "(200,)\n",
      "(200, 2)\n",
      "(200,)\n",
      "(200, 2)\n",
      "(200,)\n",
      "(200, 2)\n",
      "(200,)\n",
      "(200, 2)\n",
      "(200,)\n",
      "(200, 2)\n",
      "(200,)\n",
      "(200, 2)\n",
      "(200,)\n",
      "(200, 2)\n",
      "(200,)\n",
      "(200, 2)\n",
      "(200,)\n",
      "(200, 2)\n",
      "(200,)\n",
      "(200, 2)\n",
      "(200,)\n",
      "(200, 2)\n",
      "(200,)\n",
      "(200, 2)\n",
      "(200,)\n",
      "(200, 2)\n",
      "(200,)\n",
      "(200, 2)\n",
      "(200,)\n",
      "(200, 2)\n",
      "(200,)\n",
      "(200, 2)\n",
      "(200,)\n",
      "(200, 2)\n",
      "(200,)\n",
      "(200, 2)\n",
      "(200,)\n",
      "(200, 2)\n",
      "(200,)\n",
      "(200, 2)\n",
      "(200,)\n",
      "(200, 2)\n",
      "(200,)\n",
      "(200, 2)\n",
      "(200,)\n",
      "(200, 2)\n",
      "(200,)\n",
      "(200, 2)\n",
      "(200,)\n",
      "(200, 2)\n",
      "(200,)\n",
      "(200, 2)\n",
      "(200,)\n",
      "(200, 2)\n",
      "(200,)\n",
      "(200, 2)\n",
      "(200,)\n",
      "(200, 2)\n",
      "(200,)\n",
      "(200, 2)\n",
      "(200,)\n",
      "(200, 2)\n",
      "(200,)\n",
      "(200, 2)\n",
      "(200,)\n",
      "(200, 2)\n",
      "(200,)\n",
      "(200, 2)\n",
      "(200,)\n",
      "(200, 2)\n",
      "(200,)\n",
      "(200, 2)\n",
      "(200,)\n",
      "(200, 2)\n",
      "(200,)\n",
      "(200, 2)\n",
      "(200,)\n",
      "(200, 2)\n",
      "(200,)\n",
      "(200, 2)\n",
      "(200,)\n",
      "(200, 2)\n",
      "(200,)\n",
      "(200, 2)\n",
      "(200,)\n",
      "(200, 2)\n",
      "(200,)\n",
      "(200, 2)\n",
      "(200,)\n",
      "(200, 2)\n",
      "(200,)\n",
      "(200, 2)\n",
      "(200,)\n",
      "(200, 2)\n",
      "(200,)\n",
      "(200, 2)\n",
      "(200,)\n",
      "(200, 2)\n",
      "(200,)\n",
      "(200, 2)\n",
      "(200,)\n",
      "(200, 2)\n",
      "(200,)\n",
      "(200, 2)\n",
      "(200,)\n",
      "(200, 2)\n",
      "(200,)\n",
      "(200, 2)\n",
      "(200,)\n",
      "(200, 2)\n",
      "(200,)\n",
      "(200, 2)\n",
      "(200,)\n",
      "(200, 2)\n",
      "(200,)\n",
      "(200, 2)\n",
      "(200,)\n",
      "(200, 2)\n",
      "(200,)\n",
      "(200, 2)\n",
      "(200,)\n",
      "(200, 2)\n",
      "(200,)\n",
      "(200, 2)\n",
      "(200,)\n",
      "(200, 2)\n",
      "(200,)\n",
      "(200, 2)\n",
      "(200,)\n",
      "(200, 2)\n",
      "(200,)\n",
      "(200, 2)\n",
      "(200,)\n",
      "(200, 2)\n",
      "(200,)\n",
      "(200, 2)\n",
      "(200,)\n",
      "(200, 2)\n",
      "(200,)\n",
      "(200, 2)\n",
      "(200,)\n",
      "(200, 2)\n",
      "(200,)\n",
      "(200, 2)\n",
      "(200,)\n",
      "(200, 2)\n",
      "(200,)\n",
      "(200, 2)\n",
      "(200,)\n",
      "(200, 2)\n",
      "(200,)\n",
      "(200, 2)\n",
      "(200,)\n",
      "(200, 2)\n",
      "(200,)\n",
      "(200, 2)\n",
      "(200,)\n",
      "(200, 2)\n",
      "(200,)\n",
      "(200, 2)\n",
      "(200,)\n",
      "(200, 2)\n",
      "(200,)\n",
      "(200, 2)\n",
      "(200,)\n",
      "(200, 2)\n",
      "(200,)\n",
      "(200, 2)\n",
      "(200,)\n",
      "(200, 2)\n",
      "(200,)\n",
      "(200, 2)\n",
      "(200,)\n",
      "(200, 2)\n",
      "(200,)\n",
      "(200, 2)\n",
      "(200,)\n",
      "(200, 2)\n",
      "(200,)\n",
      "(200, 2)\n",
      "(200,)\n",
      "(200, 2)\n",
      "(200,)\n",
      "(200, 2)\n",
      "(200,)\n",
      "(200, 2)\n",
      "(200,)\n",
      "(200, 2)\n",
      "(200,)\n",
      "(200, 2)\n",
      "(200,)\n",
      "(200, 2)\n",
      "(200,)\n",
      "(200, 2)\n",
      "(200,)\n",
      "(200, 2)\n",
      "(200,)\n",
      "(200, 2)\n",
      "(200,)\n",
      "(200, 2)\n",
      "(200,)\n",
      "(200, 2)\n",
      "(200,)\n",
      "(200, 2)\n",
      "(200,)\n",
      "(200, 2)\n",
      "(200,)\n",
      "(200, 2)\n",
      "(200,)\n",
      "(200, 2)\n",
      "(200,)\n",
      "(200, 2)\n",
      "(200,)\n",
      "(200, 2)\n",
      "(200,)\n",
      "(200, 2)\n",
      "(200,)\n",
      "(200, 2)\n",
      "(200,)\n",
      "(200, 2)\n",
      "(200,)\n",
      "(200, 2)\n",
      "(200,)\n",
      "(200, 2)\n",
      "(200,)\n",
      "(200, 2)\n",
      "(200,)\n",
      "(200, 2)\n",
      "(200,)\n",
      "(200, 2)\n",
      "(200,)\n",
      "(200, 2)\n",
      "(200,)\n",
      "(200, 2)\n",
      "(200,)\n",
      "(200, 2)\n",
      "(200,)\n",
      "(200, 2)\n",
      "(200,)\n",
      "(200, 2)\n",
      "(200,)\n",
      "(200, 2)\n",
      "(200,)\n",
      "(200, 2)\n",
      "(200,)\n",
      "(200, 2)\n",
      "(200,)\n",
      "(200, 2)\n",
      "(200,)\n",
      "(200, 2)\n",
      "(200,)\n",
      "(200, 2)\n",
      "(200,)\n",
      "(200, 2)\n",
      "(200,)\n",
      "(200, 2)\n",
      "(200,)\n",
      "(200, 2)\n",
      "(200,)\n",
      "(200, 2)\n",
      "(200,)\n",
      "(200, 2)\n",
      "(200,)\n",
      "(200, 2)\n",
      "(200,)\n",
      "(200, 2)\n",
      "(200,)\n",
      "(200, 2)\n",
      "(200,)\n",
      "(200, 2)\n",
      "(200,)\n",
      "(200, 2)\n",
      "(200,)\n",
      "(200, 2)\n",
      "(200,)\n",
      "(200, 2)\n",
      "(200,)\n",
      "(200, 2)\n",
      "(200,)\n",
      "(200, 2)\n",
      "(200,)\n",
      "(200, 2)\n",
      "(200,)\n",
      "(200, 2)\n",
      "(200,)\n",
      "(200, 2)\n",
      "(200,)\n",
      "(200, 2)\n",
      "(200,)\n",
      "(200, 2)\n",
      "(200,)\n",
      "(200, 2)\n",
      "(200,)\n",
      "(200, 2)\n",
      "(200,)\n",
      "(200, 2)\n",
      "(200,)\n",
      "(200, 2)\n",
      "(200,)\n",
      "(200, 2)\n",
      "(200,)\n",
      "(200, 2)\n",
      "(200,)\n",
      "(200, 2)\n",
      "(200,)\n",
      "(200, 2)\n",
      "(200,)\n",
      "(200, 2)\n",
      "(200,)\n",
      "(200, 2)\n",
      "(200,)\n",
      "(200, 2)\n",
      "(200,)\n",
      "(200, 2)\n",
      "(200,)\n",
      "(200, 2)\n",
      "(200,)\n",
      "(200, 2)\n",
      "(200,)\n",
      "(200, 2)\n",
      "(200,)\n",
      "(200, 2)\n",
      "(200,)\n",
      "(200, 2)\n",
      "(200,)\n",
      "(200, 2)\n",
      "(200,)\n",
      "(200, 2)\n",
      "(200,)\n",
      "(200, 2)\n",
      "(200,)\n",
      "(200, 2)\n",
      "(200,)\n",
      "(200, 2)\n",
      "(200,)\n",
      "(200, 2)\n",
      "(200,)\n",
      "(200, 2)\n",
      "(200,)\n",
      "(200, 2)\n",
      "(200,)\n",
      "(200, 2)\n",
      "(200,)\n",
      "(200, 2)\n",
      "(200,)\n",
      "(200, 2)\n",
      "(200,)\n",
      "(200, 2)\n",
      "(200,)\n",
      "(200, 2)\n",
      "(200,)\n",
      "(200, 2)\n",
      "(200,)\n",
      "(200, 2)\n",
      "(200,)\n",
      "(200, 2)\n",
      "(200,)\n",
      "(200, 2)\n",
      "(200,)\n",
      "(200, 2)\n",
      "(200,)\n",
      "(200, 2)\n",
      "(200,)\n",
      "(200, 2)\n",
      "(200,)\n",
      "(200, 2)\n",
      "(200,)\n",
      "(200, 2)\n",
      "(200,)\n",
      "(200, 2)\n",
      "(200,)\n",
      "(200, 2)\n",
      "(200,)\n",
      "(200, 2)\n",
      "(200,)\n",
      "(200, 2)\n",
      "(200,)\n",
      "(200, 2)\n",
      "(200,)\n",
      "(200, 2)\n",
      "(200,)\n",
      "(200, 2)\n",
      "(200,)\n",
      "(200, 2)\n",
      "(200,)\n",
      "(200, 2)\n",
      "(200,)\n",
      "(200, 2)\n",
      "(200,)\n",
      "(200, 2)\n",
      "(200,)\n",
      "(200, 2)\n",
      "(200,)\n",
      "(200, 2)\n",
      "(200,)\n",
      "(200, 2)\n",
      "(200,)\n",
      "(200, 2)\n",
      "(200,)\n",
      "(200, 2)\n",
      "(200,)\n",
      "(200, 2)\n",
      "(200,)\n",
      "(200, 2)\n",
      "(200,)\n",
      "(200, 2)\n",
      "(200,)\n",
      "(200, 2)\n",
      "(200,)\n",
      "(200, 2)\n",
      "(200,)\n",
      "(200, 2)\n",
      "(200,)\n",
      "(200, 2)\n",
      "(200,)\n",
      "(200, 2)\n",
      "(200,)\n",
      "(200, 2)\n",
      "(200,)\n",
      "(200, 2)\n",
      "(200,)\n",
      "(200, 2)\n",
      "(200,)\n",
      "(200, 2)\n",
      "(200,)\n",
      "(200, 2)\n",
      "(200,)\n",
      "(200, 2)\n",
      "(200,)\n",
      "(200, 2)\n",
      "(200,)\n",
      "(200, 2)\n",
      "(200,)\n",
      "(200, 2)\n",
      "(200,)\n",
      "(200, 2)\n",
      "(200,)\n",
      "(200, 2)\n",
      "(200,)\n",
      "(200, 2)\n",
      "(200,)\n",
      "(200, 2)\n",
      "(200,)\n",
      "(200, 2)\n",
      "(200,)\n",
      "(200, 2)\n",
      "(200,)\n",
      "(200, 2)\n",
      "(200,)\n",
      "(200, 2)\n",
      "(200,)\n",
      "(200, 2)\n",
      "(200,)\n",
      "(200, 2)\n",
      "(200,)\n",
      "(200, 2)\n",
      "(200,)\n",
      "(200, 2)\n",
      "(200,)\n",
      "(200, 2)\n",
      "(200,)\n",
      "(200, 2)\n",
      "(200,)\n",
      "(200, 2)\n",
      "(200,)\n",
      "(200, 2)\n",
      "(200,)\n",
      "(200, 2)\n",
      "(200,)\n",
      "(200, 2)\n",
      "(200,)\n",
      "(200, 2)\n",
      "(200,)\n",
      "(200, 2)\n",
      "(200,)\n",
      "(200, 2)\n",
      "(200,)\n",
      "(200, 2)\n",
      "(200,)\n",
      "(200, 2)\n",
      "(200,)\n",
      "(200, 2)\n",
      "(200,)\n",
      "(200, 2)\n",
      "(200,)\n",
      "(200, 2)\n",
      "(200,)\n",
      "(200, 2)\n",
      "(200,)\n",
      "(200, 2)\n",
      "(200,)\n",
      "(200, 2)\n",
      "(200,)\n",
      "(200, 2)\n",
      "(200,)\n",
      "(200, 2)\n",
      "(200,)\n",
      "(200, 2)\n",
      "(200,)\n",
      "(200, 2)\n",
      "(200,)\n",
      "(200, 2)\n",
      "(200,)\n",
      "(200, 2)\n",
      "(200,)\n",
      "(200, 2)\n",
      "(200,)\n",
      "(200, 2)\n",
      "(200,)\n",
      "(200, 2)\n",
      "(200,)\n",
      "(200, 2)\n",
      "(200,)\n",
      "(200, 2)\n",
      "(200,)\n",
      "(200, 2)\n",
      "(200,)\n",
      "(200, 2)\n",
      "(200,)\n",
      "(200, 2)\n",
      "(200,)\n",
      "(200, 2)\n",
      "(200,)\n",
      "(200, 2)\n",
      "(200,)\n",
      "(200, 2)\n",
      "(200,)\n",
      "(200, 2)\n",
      "(200,)\n",
      "(200, 2)\n",
      "(200,)\n",
      "(200, 2)\n",
      "(200,)\n",
      "(200, 2)\n",
      "(200,)\n",
      "(200, 2)\n",
      "(200,)\n",
      "(200, 2)\n",
      "(200,)\n",
      "(200, 2)\n",
      "(200,)\n",
      "(200, 2)\n",
      "(200,)\n",
      "(200, 2)\n",
      "(200,)\n",
      "(200, 2)\n",
      "(200,)\n",
      "(200, 2)\n",
      "(200,)\n",
      "(200, 2)\n",
      "(200,)\n",
      "(200, 2)\n",
      "(200,)\n",
      "(200, 2)\n",
      "(200,)\n",
      "(200, 2)\n",
      "(200,)\n",
      "(200, 2)\n",
      "(200,)\n",
      "(200, 2)\n",
      "(200,)\n",
      "(200, 2)\n",
      "(200,)\n",
      "(200, 2)\n",
      "(200,)\n",
      "(200, 2)\n",
      "(200,)\n",
      "(200, 2)\n",
      "(200,)\n",
      "(200, 2)\n",
      "(200,)\n",
      "(200, 2)\n",
      "(200,)\n",
      "(200, 2)\n",
      "(200,)\n",
      "(200, 2)\n",
      "(200,)\n",
      "(200, 2)\n",
      "(200,)\n",
      "(200, 2)\n",
      "(200,)\n",
      "(200, 2)\n",
      "(200,)\n",
      "(200, 2)\n",
      "(200,)\n",
      "(200, 2)\n",
      "(200,)\n",
      "(200, 2)\n",
      "(200,)\n",
      "(200, 2)\n",
      "(200,)\n",
      "(200, 2)\n",
      "(200,)\n",
      "(200, 2)\n",
      "(200,)\n",
      "(200, 2)\n",
      "(200,)\n",
      "(200, 2)\n",
      "(200,)\n",
      "(200, 2)\n",
      "(200,)\n",
      "(200, 2)\n",
      "(200,)\n",
      "(200, 2)\n",
      "(200,)\n",
      "(200, 2)\n",
      "(200,)\n",
      "(200, 2)\n",
      "(200,)\n",
      "(200, 2)\n",
      "(200,)\n",
      "(200, 2)\n",
      "(200,)\n",
      "(200, 2)\n",
      "(200,)\n",
      "(200, 2)\n",
      "(200,)\n",
      "(200, 2)\n",
      "(200,)\n",
      "(200, 2)\n",
      "(200,)\n",
      "(200, 2)\n",
      "(200,)\n",
      "(200, 2)\n",
      "(200,)\n",
      "(200, 2)\n",
      "(200,)\n",
      "(200, 2)\n",
      "(200,)\n",
      "(200, 2)\n",
      "(200,)\n",
      "(200, 2)\n",
      "(200,)\n",
      "(200, 2)\n",
      "(200,)\n",
      "(200, 2)\n",
      "(200,)\n",
      "(200, 2)\n",
      "(200,)\n",
      "(200, 2)\n",
      "(200,)\n",
      "(200, 2)\n",
      "(200,)\n",
      "(200, 2)\n",
      "(200,)\n",
      "(200, 2)\n",
      "(200,)\n",
      "(200, 2)\n",
      "(200,)\n",
      "(200, 2)\n",
      "(200,)\n",
      "(200, 2)\n",
      "(200,)\n",
      "(200, 2)\n",
      "(200,)\n",
      "(200, 2)\n",
      "(200,)\n"
     ]
    }
   ],
   "source": [
    "results_0 = bootstrap_profit(true_product_0, predicted_product_0, 'region_0') \n"
   ]
  },
  {
   "cell_type": "code",
   "execution_count": 453,
   "metadata": {},
   "outputs": [
    {
     "data": {
      "image/png": "[encoded data removed]",
      "text/plain": [
       "<Figure size 432x288 with 1 Axes>"
      ]
     },
     "metadata": {
      "needs_background": "light"
     },
     "output_type": "display_data"
    },
    {
     "name": "stdout",
     "output_type": "stream",
     "text": [
      "Средняя прибыль по региону 0: 396164984.8023711\n",
      "Стандартное отклонение прибыли по региону 0: 266481009.12069455\n",
      "Доверительный интервал прибыли по региону 0: от -111215545.89049526 до 909766941.5534226\n",
      "Риск убытка в региону: 0.069\n"
     ]
    }
   ],
   "source": [
    "# Строим гистограмму распределения прибыли по всем подвыборкам\n",
    "plt.hist(results_0['profits'])\n",
    "plt.xlabel('Прибыль')\n",
    "plt.ylabel('Частота')\n",
    "plt.title('Распределение прибыли по региону 0')\n",
    "plt.show()\n",
    "\n",
    "print('Средняя прибыль по региону 0:', results_0['mean_profit'])\n",
    "print('Стандартное отклонение прибыли по региону 0:', results_0['std_profit'])\n",
    "print('Доверительный интервал прибыли по региону 0: от', results_0['lower_profit'], 'до', results_0['upper_profit'])\n",
    "print('Риск убытка в региону:',results_0['risk'])"
   ]
  },
  {
   "cell_type": "code",
   "execution_count": 454,
   "metadata": {},
   "outputs": [
    {
     "name": "stdout",
     "output_type": "stream",
     "text": [
      "(200, 2)\n",
      "(200,)\n",
      "(200, 2)\n",
      "(200,)\n",
      "(200, 2)\n",
      "(200,)\n",
      "(200, 2)\n",
      "(200,)\n",
      "(200, 2)\n",
      "(200,)\n",
      "(200, 2)\n",
      "(200,)\n",
      "(200, 2)\n",
      "(200,)\n",
      "(200, 2)\n",
      "(200,)\n",
      "(200, 2)\n",
      "(200,)\n",
      "(200, 2)\n",
      "(200,)\n",
      "(200, 2)\n",
      "(200,)\n",
      "(200, 2)\n",
      "(200,)\n",
      "(200, 2)\n",
      "(200,)\n",
      "(200, 2)\n",
      "(200,)\n",
      "(200, 2)\n",
      "(200,)\n",
      "(200, 2)\n",
      "(200,)\n",
      "(200, 2)\n",
      "(200,)\n",
      "(200, 2)\n",
      "(200,)\n",
      "(200, 2)\n",
      "(200,)\n",
      "(200, 2)\n",
      "(200,)\n",
      "(200, 2)\n",
      "(200,)\n",
      "(200, 2)\n",
      "(200,)\n",
      "(200, 2)\n",
      "(200,)\n",
      "(200, 2)\n",
      "(200,)\n",
      "(200, 2)\n",
      "(200,)\n",
      "(200, 2)\n",
      "(200,)\n",
      "(200, 2)\n",
      "(200,)\n",
      "(200, 2)\n",
      "(200,)\n",
      "(200, 2)\n",
      "(200,)\n",
      "(200, 2)\n",
      "(200,)\n",
      "(200, 2)\n",
      "(200,)\n",
      "(200, 2)\n",
      "(200,)\n",
      "(200, 2)\n",
      "(200,)\n",
      "(200, 2)\n",
      "(200,)\n",
      "(200, 2)\n",
      "(200,)\n",
      "(200, 2)\n",
      "(200,)\n",
      "(200, 2)\n",
      "(200,)\n",
      "(200, 2)\n",
      "(200,)\n",
      "(200, 2)\n",
      "(200,)\n",
      "(200, 2)\n",
      "(200,)\n",
      "(200, 2)\n",
      "(200,)\n",
      "(200, 2)\n",
      "(200,)\n",
      "(200, 2)\n",
      "(200,)\n",
      "(200, 2)\n",
      "(200,)\n",
      "(200, 2)\n",
      "(200,)\n",
      "(200, 2)\n",
      "(200,)\n",
      "(200, 2)\n",
      "(200,)\n",
      "(200, 2)\n",
      "(200,)\n",
      "(200, 2)\n",
      "(200,)\n",
      "(200, 2)\n",
      "(200,)\n",
      "(200, 2)\n",
      "(200,)\n",
      "(200, 2)\n",
      "(200,)\n",
      "(200, 2)\n",
      "(200,)\n",
      "(200, 2)\n",
      "(200,)\n",
      "(200, 2)\n",
      "(200,)\n",
      "(200, 2)\n",
      "(200,)\n",
      "(200, 2)\n",
      "(200,)\n",
      "(200, 2)\n",
      "(200,)\n",
      "(200, 2)\n",
      "(200,)\n",
      "(200, 2)\n",
      "(200,)\n",
      "(200, 2)\n",
      "(200,)\n",
      "(200, 2)\n",
      "(200,)\n",
      "(200, 2)\n",
      "(200,)\n",
      "(200, 2)\n",
      "(200,)\n",
      "(200, 2)\n",
      "(200,)\n",
      "(200, 2)\n",
      "(200,)\n",
      "(200, 2)\n",
      "(200,)\n",
      "(200, 2)\n",
      "(200,)\n",
      "(200, 2)\n",
      "(200,)\n",
      "(200, 2)\n",
      "(200,)\n",
      "(200, 2)\n",
      "(200,)\n",
      "(200, 2)\n",
      "(200,)\n",
      "(200, 2)\n",
      "(200,)\n",
      "(200, 2)\n",
      "(200,)\n",
      "(200, 2)\n",
      "(200,)\n",
      "(200, 2)\n",
      "(200,)\n",
      "(200, 2)\n",
      "(200,)\n",
      "(200, 2)\n",
      "(200,)\n",
      "(200, 2)\n",
      "(200,)\n",
      "(200, 2)\n",
      "(200,)\n",
      "(200, 2)\n",
      "(200,)\n",
      "(200, 2)\n",
      "(200,)\n",
      "(200, 2)\n",
      "(200,)\n",
      "(200, 2)\n",
      "(200,)\n",
      "(200, 2)\n",
      "(200,)\n",
      "(200, 2)\n",
      "(200,)\n",
      "(200, 2)\n",
      "(200,)\n",
      "(200, 2)\n",
      "(200,)\n",
      "(200, 2)\n",
      "(200,)\n",
      "(200, 2)\n",
      "(200,)\n",
      "(200, 2)\n",
      "(200,)\n",
      "(200, 2)\n",
      "(200,)\n",
      "(200, 2)\n",
      "(200,)\n",
      "(200, 2)\n",
      "(200,)\n",
      "(200, 2)\n",
      "(200,)\n",
      "(200, 2)\n",
      "(200,)\n",
      "(200, 2)\n",
      "(200,)\n",
      "(200, 2)\n",
      "(200,)\n",
      "(200, 2)\n",
      "(200,)\n",
      "(200, 2)\n",
      "(200,)\n",
      "(200, 2)\n",
      "(200,)\n",
      "(200, 2)\n",
      "(200,)\n",
      "(200, 2)\n",
      "(200,)\n",
      "(200, 2)\n",
      "(200,)\n",
      "(200, 2)\n",
      "(200,)\n",
      "(200, 2)\n",
      "(200,)\n",
      "(200, 2)\n",
      "(200,)\n",
      "(200, 2)\n",
      "(200,)\n",
      "(200, 2)\n",
      "(200,)\n",
      "(200, 2)\n",
      "(200,)\n",
      "(200, 2)\n",
      "(200,)\n",
      "(200, 2)\n",
      "(200,)\n",
      "(200, 2)\n",
      "(200,)\n",
      "(200, 2)\n",
      "(200,)\n",
      "(200, 2)\n",
      "(200,)\n",
      "(200, 2)\n",
      "(200,)\n",
      "(200, 2)\n",
      "(200,)\n",
      "(200, 2)\n",
      "(200,)\n",
      "(200, 2)\n",
      "(200,)\n",
      "(200, 2)\n",
      "(200,)\n",
      "(200, 2)\n",
      "(200,)\n",
      "(200, 2)\n",
      "(200,)\n",
      "(200, 2)\n",
      "(200,)\n",
      "(200, 2)\n",
      "(200,)\n",
      "(200, 2)\n",
      "(200,)\n",
      "(200, 2)\n",
      "(200,)\n",
      "(200, 2)\n",
      "(200,)\n",
      "(200, 2)\n",
      "(200,)\n",
      "(200, 2)\n",
      "(200,)\n",
      "(200, 2)\n",
      "(200,)\n",
      "(200, 2)\n",
      "(200,)\n",
      "(200, 2)\n",
      "(200,)\n",
      "(200, 2)\n",
      "(200,)\n",
      "(200, 2)\n",
      "(200,)\n",
      "(200, 2)\n",
      "(200,)\n",
      "(200, 2)\n",
      "(200,)\n",
      "(200, 2)\n",
      "(200,)\n",
      "(200, 2)\n",
      "(200,)\n",
      "(200, 2)\n",
      "(200,)\n",
      "(200, 2)\n",
      "(200,)\n",
      "(200, 2)\n",
      "(200,)\n",
      "(200, 2)\n",
      "(200,)\n",
      "(200, 2)\n",
      "(200,)\n",
      "(200, 2)\n",
      "(200,)\n",
      "(200, 2)\n",
      "(200,)\n",
      "(200, 2)\n",
      "(200,)\n",
      "(200, 2)\n",
      "(200,)\n",
      "(200, 2)\n",
      "(200,)\n",
      "(200, 2)\n",
      "(200,)\n",
      "(200, 2)\n",
      "(200,)\n",
      "(200, 2)\n",
      "(200,)\n",
      "(200, 2)\n",
      "(200,)\n",
      "(200, 2)\n",
      "(200,)\n",
      "(200, 2)\n",
      "(200,)\n",
      "(200, 2)\n",
      "(200,)\n",
      "(200, 2)\n",
      "(200,)\n",
      "(200, 2)\n",
      "(200,)\n",
      "(200, 2)\n",
      "(200,)\n",
      "(200, 2)\n",
      "(200,)\n",
      "(200, 2)\n",
      "(200,)\n",
      "(200, 2)\n",
      "(200,)\n",
      "(200, 2)\n",
      "(200,)\n",
      "(200, 2)\n",
      "(200,)\n",
      "(200, 2)\n",
      "(200,)\n",
      "(200, 2)\n",
      "(200,)\n",
      "(200, 2)\n",
      "(200,)\n",
      "(200, 2)\n",
      "(200,)\n",
      "(200, 2)\n",
      "(200,)\n",
      "(200, 2)\n",
      "(200,)\n",
      "(200, 2)\n",
      "(200,)\n",
      "(200, 2)\n",
      "(200,)\n",
      "(200, 2)\n",
      "(200,)\n",
      "(200, 2)\n",
      "(200,)\n",
      "(200, 2)\n",
      "(200,)\n",
      "(200, 2)\n",
      "(200,)\n",
      "(200, 2)\n",
      "(200,)\n",
      "(200, 2)\n",
      "(200,)\n",
      "(200, 2)\n",
      "(200,)\n",
      "(200, 2)\n",
      "(200,)\n",
      "(200, 2)\n",
      "(200,)\n",
      "(200, 2)\n",
      "(200,)\n",
      "(200, 2)\n",
      "(200,)\n",
      "(200, 2)\n",
      "(200,)\n",
      "(200, 2)\n",
      "(200,)\n",
      "(200, 2)\n",
      "(200,)\n",
      "(200, 2)\n",
      "(200,)\n",
      "(200, 2)\n",
      "(200,)\n",
      "(200, 2)\n",
      "(200,)\n",
      "(200, 2)\n",
      "(200,)\n",
      "(200, 2)\n",
      "(200,)\n",
      "(200, 2)\n",
      "(200,)\n",
      "(200, 2)\n",
      "(200,)\n",
      "(200, 2)\n",
      "(200,)\n",
      "(200, 2)\n",
      "(200,)\n",
      "(200, 2)\n",
      "(200,)\n",
      "(200, 2)\n",
      "(200,)\n",
      "(200, 2)\n",
      "(200,)\n",
      "(200, 2)\n",
      "(200,)\n",
      "(200, 2)\n",
      "(200,)\n",
      "(200, 2)\n",
      "(200,)\n",
      "(200, 2)\n",
      "(200,)\n",
      "(200, 2)\n",
      "(200,)\n",
      "(200, 2)\n",
      "(200,)\n",
      "(200, 2)\n",
      "(200,)\n",
      "(200, 2)\n",
      "(200,)\n",
      "(200, 2)\n",
      "(200,)\n",
      "(200, 2)\n",
      "(200,)\n",
      "(200, 2)\n",
      "(200,)\n",
      "(200, 2)\n",
      "(200,)\n",
      "(200, 2)\n",
      "(200,)\n",
      "(200, 2)\n",
      "(200,)\n",
      "(200, 2)\n",
      "(200,)\n",
      "(200, 2)\n",
      "(200,)\n",
      "(200, 2)\n",
      "(200,)\n",
      "(200, 2)\n",
      "(200,)\n",
      "(200, 2)\n",
      "(200,)\n",
      "(200, 2)\n",
      "(200,)\n",
      "(200, 2)\n",
      "(200,)\n",
      "(200, 2)\n",
      "(200,)\n",
      "(200, 2)\n",
      "(200,)\n",
      "(200, 2)\n",
      "(200,)\n",
      "(200, 2)\n",
      "(200,)\n",
      "(200, 2)\n",
      "(200,)\n",
      "(200, 2)\n",
      "(200,)\n",
      "(200, 2)\n",
      "(200,)\n",
      "(200, 2)\n",
      "(200,)\n",
      "(200, 2)\n",
      "(200,)\n",
      "(200, 2)\n",
      "(200,)\n",
      "(200, 2)\n",
      "(200,)\n",
      "(200, 2)\n",
      "(200,)\n",
      "(200, 2)\n",
      "(200,)\n",
      "(200, 2)\n",
      "(200,)\n",
      "(200, 2)\n",
      "(200,)\n",
      "(200, 2)\n",
      "(200,)\n",
      "(200, 2)\n",
      "(200,)\n",
      "(200, 2)\n",
      "(200,)\n",
      "(200, 2)\n",
      "(200,)\n",
      "(200, 2)\n",
      "(200,)\n",
      "(200, 2)\n",
      "(200,)\n",
      "(200, 2)\n",
      "(200,)\n",
      "(200, 2)\n",
      "(200,)\n",
      "(200, 2)\n",
      "(200,)\n",
      "(200, 2)\n",
      "(200,)\n",
      "(200, 2)\n",
      "(200,)\n",
      "(200, 2)\n",
      "(200,)\n",
      "(200, 2)\n",
      "(200,)\n",
      "(200, 2)\n",
      "(200,)\n",
      "(200, 2)\n",
      "(200,)\n",
      "(200, 2)\n",
      "(200,)\n",
      "(200, 2)\n",
      "(200,)\n",
      "(200, 2)\n",
      "(200,)\n",
      "(200, 2)\n",
      "(200,)\n",
      "(200, 2)\n",
      "(200,)\n",
      "(200, 2)\n",
      "(200,)\n",
      "(200, 2)\n",
      "(200,)\n",
      "(200, 2)\n",
      "(200,)\n",
      "(200, 2)\n",
      "(200,)\n",
      "(200, 2)\n",
      "(200,)\n",
      "(200, 2)\n",
      "(200,)\n",
      "(200, 2)\n",
      "(200,)\n",
      "(200, 2)\n",
      "(200,)\n",
      "(200, 2)\n",
      "(200,)\n",
      "(200, 2)\n",
      "(200,)\n",
      "(200, 2)\n",
      "(200,)\n",
      "(200, 2)\n",
      "(200,)\n",
      "(200, 2)\n",
      "(200,)\n",
      "(200, 2)\n",
      "(200,)\n",
      "(200, 2)\n",
      "(200,)\n",
      "(200, 2)\n",
      "(200,)\n",
      "(200, 2)\n",
      "(200,)\n",
      "(200, 2)\n",
      "(200,)\n",
      "(200, 2)\n",
      "(200,)\n",
      "(200, 2)\n",
      "(200,)\n",
      "(200, 2)\n",
      "(200,)\n",
      "(200, 2)\n",
      "(200,)\n",
      "(200, 2)\n",
      "(200,)\n",
      "(200, 2)\n",
      "(200,)\n",
      "(200, 2)\n",
      "(200,)\n",
      "(200, 2)\n",
      "(200,)\n",
      "(200, 2)\n",
      "(200,)\n",
      "(200, 2)\n",
      "(200,)\n",
      "(200, 2)\n",
      "(200,)\n",
      "(200, 2)\n",
      "(200,)\n",
      "(200, 2)\n",
      "(200,)\n",
      "(200, 2)\n",
      "(200,)\n",
      "(200, 2)\n",
      "(200,)\n",
      "(200, 2)\n",
      "(200,)\n",
      "(200, 2)\n",
      "(200,)\n",
      "(200, 2)\n",
      "(200,)\n",
      "(200, 2)\n",
      "(200,)\n",
      "(200, 2)\n",
      "(200,)\n",
      "(200, 2)\n",
      "(200,)\n",
      "(200, 2)\n",
      "(200,)\n",
      "(200, 2)\n",
      "(200,)\n",
      "(200, 2)\n",
      "(200,)\n",
      "(200, 2)\n",
      "(200,)\n",
      "(200, 2)\n",
      "(200,)\n",
      "(200, 2)\n",
      "(200,)\n",
      "(200, 2)\n",
      "(200,)\n",
      "(200, 2)\n",
      "(200,)\n",
      "(200, 2)\n",
      "(200,)\n",
      "(200, 2)\n",
      "(200,)\n",
      "(200, 2)\n",
      "(200,)\n",
      "(200, 2)\n",
      "(200,)\n",
      "(200, 2)\n",
      "(200,)\n",
      "(200, 2)\n",
      "(200,)\n",
      "(200, 2)\n",
      "(200,)\n",
      "(200, 2)\n",
      "(200,)\n",
      "(200, 2)\n",
      "(200,)\n",
      "(200, 2)\n",
      "(200,)\n",
      "(200, 2)\n",
      "(200,)\n",
      "(200, 2)\n",
      "(200,)\n",
      "(200, 2)\n",
      "(200,)\n",
      "(200, 2)\n",
      "(200,)\n",
      "(200, 2)\n",
      "(200,)\n",
      "(200, 2)\n",
      "(200,)\n",
      "(200, 2)\n",
      "(200,)\n",
      "(200, 2)\n",
      "(200,)\n",
      "(200, 2)\n",
      "(200,)\n",
      "(200, 2)\n",
      "(200,)\n",
      "(200, 2)\n",
      "(200,)\n",
      "(200, 2)\n",
      "(200,)\n",
      "(200, 2)\n",
      "(200,)\n",
      "(200, 2)\n",
      "(200,)\n",
      "(200, 2)\n",
      "(200,)\n",
      "(200, 2)\n",
      "(200,)\n",
      "(200, 2)\n",
      "(200,)\n",
      "(200, 2)\n",
      "(200,)\n",
      "(200, 2)\n",
      "(200,)\n",
      "(200, 2)\n",
      "(200,)\n",
      "(200, 2)\n",
      "(200,)\n",
      "(200, 2)\n",
      "(200,)\n",
      "(200, 2)\n",
      "(200,)\n",
      "(200, 2)\n",
      "(200,)\n",
      "(200, 2)\n",
      "(200,)\n",
      "(200, 2)\n",
      "(200,)\n",
      "(200, 2)\n",
      "(200,)\n",
      "(200, 2)\n",
      "(200,)\n",
      "(200, 2)\n",
      "(200,)\n",
      "(200, 2)\n",
      "(200,)\n",
      "(200, 2)\n",
      "(200,)\n",
      "(200, 2)\n",
      "(200,)\n",
      "(200, 2)\n",
      "(200,)\n",
      "(200, 2)\n",
      "(200,)\n",
      "(200, 2)\n",
      "(200,)\n",
      "(200, 2)\n",
      "(200,)\n",
      "(200, 2)\n",
      "(200,)\n",
      "(200, 2)\n",
      "(200,)\n",
      "(200, 2)\n",
      "(200,)\n",
      "(200, 2)\n",
      "(200,)\n",
      "(200, 2)\n",
      "(200,)\n",
      "(200, 2)\n",
      "(200,)\n",
      "(200, 2)\n",
      "(200,)\n",
      "(200, 2)\n",
      "(200,)\n",
      "(200, 2)\n",
      "(200,)\n",
      "(200, 2)\n",
      "(200,)\n",
      "(200, 2)\n",
      "(200,)\n",
      "(200, 2)\n",
      "(200,)\n",
      "(200, 2)\n",
      "(200,)\n",
      "(200, 2)\n",
      "(200,)\n",
      "(200, 2)\n",
      "(200,)\n",
      "(200, 2)\n",
      "(200,)\n",
      "(200, 2)\n",
      "(200,)\n",
      "(200, 2)\n",
      "(200,)\n",
      "(200, 2)\n",
      "(200,)\n",
      "(200, 2)\n",
      "(200,)\n",
      "(200, 2)\n",
      "(200,)\n",
      "(200, 2)\n",
      "(200,)\n",
      "(200, 2)\n",
      "(200,)\n",
      "(200, 2)\n",
      "(200,)\n",
      "(200, 2)\n",
      "(200,)\n",
      "(200, 2)\n",
      "(200,)\n",
      "(200, 2)\n",
      "(200,)\n",
      "(200, 2)\n",
      "(200,)\n",
      "(200, 2)\n",
      "(200,)\n",
      "(200, 2)\n",
      "(200,)\n",
      "(200, 2)\n",
      "(200,)\n",
      "(200, 2)\n",
      "(200,)\n",
      "(200, 2)\n",
      "(200,)\n",
      "(200, 2)\n",
      "(200,)\n",
      "(200, 2)\n",
      "(200,)\n",
      "(200, 2)\n",
      "(200,)\n",
      "(200, 2)\n",
      "(200,)\n",
      "(200, 2)\n",
      "(200,)\n",
      "(200, 2)\n",
      "(200,)\n",
      "(200, 2)\n",
      "(200,)\n",
      "(200, 2)\n",
      "(200,)\n",
      "(200, 2)\n",
      "(200,)\n",
      "(200, 2)\n",
      "(200,)\n",
      "(200, 2)\n",
      "(200,)\n",
      "(200, 2)\n",
      "(200,)\n",
      "(200, 2)\n",
      "(200,)\n",
      "(200, 2)\n",
      "(200,)\n",
      "(200, 2)\n",
      "(200,)\n",
      "(200, 2)\n",
      "(200,)\n",
      "(200, 2)\n",
      "(200,)\n",
      "(200, 2)\n",
      "(200,)\n",
      "(200, 2)\n",
      "(200,)\n",
      "(200, 2)\n",
      "(200,)\n",
      "(200, 2)\n",
      "(200,)\n",
      "(200, 2)\n",
      "(200,)\n",
      "(200, 2)\n",
      "(200,)\n",
      "(200, 2)\n",
      "(200,)\n",
      "(200, 2)\n",
      "(200,)\n",
      "(200, 2)\n",
      "(200,)\n",
      "(200, 2)\n",
      "(200,)\n",
      "(200, 2)\n",
      "(200,)\n",
      "(200, 2)\n",
      "(200,)\n",
      "(200, 2)\n",
      "(200,)\n",
      "(200, 2)\n",
      "(200,)\n",
      "(200, 2)\n",
      "(200,)\n",
      "(200, 2)\n",
      "(200,)\n",
      "(200, 2)\n",
      "(200,)\n",
      "(200, 2)\n",
      "(200,)\n",
      "(200, 2)\n",
      "(200,)\n",
      "(200, 2)\n",
      "(200,)\n",
      "(200, 2)\n",
      "(200,)\n",
      "(200, 2)\n",
      "(200,)\n",
      "(200, 2)\n",
      "(200,)\n",
      "(200, 2)\n",
      "(200,)\n",
      "(200, 2)\n",
      "(200,)\n",
      "(200, 2)\n",
      "(200,)\n",
      "(200, 2)\n",
      "(200,)\n",
      "(200, 2)\n",
      "(200,)\n",
      "(200, 2)\n",
      "(200,)\n",
      "(200, 2)\n",
      "(200,)\n",
      "(200, 2)\n",
      "(200,)\n",
      "(200, 2)\n",
      "(200,)\n",
      "(200, 2)\n",
      "(200,)\n",
      "(200, 2)\n",
      "(200,)\n",
      "(200, 2)\n",
      "(200,)\n",
      "(200, 2)\n",
      "(200,)\n",
      "(200, 2)\n",
      "(200,)\n",
      "(200, 2)\n",
      "(200,)\n",
      "(200, 2)\n",
      "(200,)\n",
      "(200, 2)\n",
      "(200,)\n",
      "(200, 2)\n",
      "(200,)\n",
      "(200, 2)\n",
      "(200,)\n",
      "(200, 2)\n",
      "(200,)\n",
      "(200, 2)\n",
      "(200,)\n",
      "(200, 2)\n",
      "(200,)\n",
      "(200, 2)\n",
      "(200,)\n",
      "(200, 2)\n",
      "(200,)\n",
      "(200, 2)\n",
      "(200,)\n",
      "(200, 2)\n",
      "(200,)\n",
      "(200, 2)\n",
      "(200,)\n",
      "(200, 2)\n",
      "(200,)\n",
      "(200, 2)\n",
      "(200,)\n",
      "(200, 2)\n",
      "(200,)\n",
      "(200, 2)\n",
      "(200,)\n",
      "(200, 2)\n",
      "(200,)\n",
      "(200, 2)\n",
      "(200,)\n",
      "(200, 2)\n",
      "(200,)\n",
      "(200, 2)\n",
      "(200,)\n",
      "(200, 2)\n",
      "(200,)\n",
      "(200, 2)\n",
      "(200,)\n",
      "(200, 2)\n",
      "(200,)\n",
      "(200, 2)\n",
      "(200,)\n",
      "(200, 2)\n",
      "(200,)\n",
      "(200, 2)\n",
      "(200,)\n",
      "(200, 2)\n",
      "(200,)\n",
      "(200, 2)\n",
      "(200,)\n",
      "(200, 2)\n",
      "(200,)\n",
      "(200, 2)\n",
      "(200,)\n",
      "(200, 2)\n",
      "(200,)\n",
      "(200, 2)\n",
      "(200,)\n",
      "(200, 2)\n",
      "(200,)\n",
      "(200, 2)\n",
      "(200,)\n",
      "(200, 2)\n",
      "(200,)\n",
      "(200, 2)\n",
      "(200,)\n",
      "(200, 2)\n",
      "(200,)\n",
      "(200, 2)\n",
      "(200,)\n",
      "(200, 2)\n",
      "(200,)\n",
      "(200, 2)\n",
      "(200,)\n",
      "(200, 2)\n",
      "(200,)\n",
      "(200, 2)\n",
      "(200,)\n",
      "(200, 2)\n",
      "(200,)\n",
      "(200, 2)\n",
      "(200,)\n",
      "(200, 2)\n",
      "(200,)\n",
      "(200, 2)\n",
      "(200,)\n",
      "(200, 2)\n",
      "(200,)\n",
      "(200, 2)\n",
      "(200,)\n",
      "(200, 2)\n",
      "(200,)\n",
      "(200, 2)\n",
      "(200,)\n",
      "(200, 2)\n",
      "(200,)\n",
      "(200, 2)\n",
      "(200,)\n",
      "(200, 2)\n",
      "(200,)\n",
      "(200, 2)\n",
      "(200,)\n",
      "(200, 2)\n",
      "(200,)\n",
      "(200, 2)\n",
      "(200,)\n",
      "(200, 2)\n",
      "(200,)\n",
      "(200, 2)\n",
      "(200,)\n",
      "(200, 2)\n",
      "(200,)\n",
      "(200, 2)\n",
      "(200,)\n",
      "(200, 2)\n",
      "(200,)\n",
      "(200, 2)\n",
      "(200,)\n",
      "(200, 2)\n",
      "(200,)\n",
      "(200, 2)\n",
      "(200,)\n",
      "(200, 2)\n",
      "(200,)\n",
      "(200, 2)\n",
      "(200,)\n",
      "(200, 2)\n",
      "(200,)\n",
      "(200, 2)\n",
      "(200,)\n",
      "(200, 2)\n",
      "(200,)\n",
      "(200, 2)\n",
      "(200,)\n",
      "(200, 2)\n",
      "(200,)\n",
      "(200, 2)\n",
      "(200,)\n",
      "(200, 2)\n",
      "(200,)\n",
      "(200, 2)\n",
      "(200,)\n",
      "(200, 2)\n",
      "(200,)\n",
      "(200, 2)\n",
      "(200,)\n",
      "(200, 2)\n",
      "(200,)\n",
      "(200, 2)\n",
      "(200,)\n",
      "(200, 2)\n",
      "(200,)\n",
      "(200, 2)\n",
      "(200,)\n",
      "(200, 2)\n",
      "(200,)\n",
      "(200, 2)\n",
      "(200,)\n",
      "(200, 2)\n",
      "(200,)\n",
      "(200, 2)\n",
      "(200,)\n",
      "(200, 2)\n",
      "(200,)\n",
      "(200, 2)\n",
      "(200,)\n",
      "(200, 2)\n",
      "(200,)\n",
      "(200, 2)\n",
      "(200,)\n",
      "(200, 2)\n",
      "(200,)\n",
      "(200, 2)\n",
      "(200,)\n",
      "(200, 2)\n",
      "(200,)\n",
      "(200, 2)\n",
      "(200,)\n",
      "(200, 2)\n",
      "(200,)\n",
      "(200, 2)\n",
      "(200,)\n",
      "(200, 2)\n",
      "(200,)\n",
      "(200, 2)\n",
      "(200,)\n",
      "(200, 2)\n",
      "(200,)\n",
      "(200, 2)\n",
      "(200,)\n",
      "(200, 2)\n",
      "(200,)\n",
      "(200, 2)\n",
      "(200,)\n",
      "(200, 2)\n",
      "(200,)\n",
      "(200, 2)\n",
      "(200,)\n",
      "(200, 2)\n",
      "(200,)\n",
      "(200, 2)\n",
      "(200,)\n",
      "(200, 2)\n",
      "(200,)\n",
      "(200, 2)\n",
      "(200,)\n",
      "(200, 2)\n",
      "(200,)\n",
      "(200, 2)\n",
      "(200,)\n",
      "(200, 2)\n",
      "(200,)\n",
      "(200, 2)\n",
      "(200,)\n",
      "(200, 2)\n",
      "(200,)\n",
      "(200, 2)\n",
      "(200,)\n",
      "(200, 2)\n",
      "(200,)\n",
      "(200, 2)\n",
      "(200,)\n",
      "(200, 2)\n",
      "(200,)\n",
      "(200, 2)\n",
      "(200,)\n",
      "(200, 2)\n",
      "(200,)\n",
      "(200, 2)\n",
      "(200,)\n",
      "(200, 2)\n",
      "(200,)\n",
      "(200, 2)\n",
      "(200,)\n",
      "(200, 2)\n",
      "(200,)\n",
      "(200, 2)\n",
      "(200,)\n",
      "(200, 2)\n",
      "(200,)\n",
      "(200, 2)\n",
      "(200,)\n",
      "(200, 2)\n",
      "(200,)\n",
      "(200, 2)\n",
      "(200,)\n",
      "(200, 2)\n",
      "(200,)\n",
      "(200, 2)\n",
      "(200,)\n",
      "(200, 2)\n",
      "(200,)\n",
      "(200, 2)\n",
      "(200,)\n",
      "(200, 2)\n",
      "(200,)\n",
      "(200, 2)\n",
      "(200,)\n",
      "(200, 2)\n",
      "(200,)\n",
      "(200, 2)\n",
      "(200,)\n",
      "(200, 2)\n",
      "(200,)\n",
      "(200, 2)\n",
      "(200,)\n",
      "(200, 2)\n",
      "(200,)\n",
      "(200, 2)\n",
      "(200,)\n",
      "(200, 2)\n",
      "(200,)\n",
      "(200, 2)\n",
      "(200,)\n",
      "(200, 2)\n",
      "(200,)\n",
      "(200, 2)\n",
      "(200,)\n",
      "(200, 2)\n",
      "(200,)\n",
      "(200, 2)\n",
      "(200,)\n",
      "(200, 2)\n",
      "(200,)\n",
      "(200, 2)\n",
      "(200,)\n",
      "(200, 2)\n",
      "(200,)\n",
      "(200, 2)\n",
      "(200,)\n",
      "(200, 2)\n",
      "(200,)\n",
      "(200, 2)\n",
      "(200,)\n",
      "(200, 2)\n",
      "(200,)\n",
      "(200, 2)\n",
      "(200,)\n",
      "(200, 2)\n",
      "(200,)\n",
      "(200, 2)\n",
      "(200,)\n",
      "(200, 2)\n",
      "(200,)\n",
      "(200, 2)\n",
      "(200,)\n",
      "(200, 2)\n",
      "(200,)\n",
      "(200, 2)\n",
      "(200,)\n",
      "(200, 2)\n",
      "(200,)\n",
      "(200, 2)\n",
      "(200,)\n",
      "(200, 2)\n",
      "(200,)\n",
      "(200, 2)\n",
      "(200,)\n",
      "(200, 2)\n",
      "(200,)\n",
      "(200, 2)\n",
      "(200,)\n",
      "(200, 2)\n",
      "(200,)\n",
      "(200, 2)\n",
      "(200,)\n",
      "(200, 2)\n",
      "(200,)\n",
      "(200, 2)\n",
      "(200,)\n",
      "(200, 2)\n",
      "(200,)\n",
      "(200, 2)\n",
      "(200,)\n",
      "(200, 2)\n",
      "(200,)\n",
      "(200, 2)\n",
      "(200,)\n",
      "(200, 2)\n",
      "(200,)\n",
      "(200, 2)\n",
      "(200,)\n",
      "(200, 2)\n",
      "(200,)\n",
      "(200, 2)\n",
      "(200,)\n",
      "(200, 2)\n",
      "(200,)\n",
      "(200, 2)\n",
      "(200,)\n",
      "(200, 2)\n",
      "(200,)\n",
      "(200, 2)\n",
      "(200,)\n",
      "(200, 2)\n",
      "(200,)\n",
      "(200, 2)\n",
      "(200,)\n",
      "(200, 2)\n",
      "(200,)\n",
      "(200, 2)\n",
      "(200,)\n",
      "(200, 2)\n",
      "(200,)\n",
      "(200, 2)\n",
      "(200,)\n",
      "(200, 2)\n",
      "(200,)\n",
      "(200, 2)\n",
      "(200,)\n",
      "(200, 2)\n",
      "(200,)\n",
      "(200, 2)\n",
      "(200,)\n",
      "(200, 2)\n",
      "(200,)\n",
      "(200, 2)\n",
      "(200,)\n",
      "(200, 2)\n",
      "(200,)\n",
      "(200, 2)\n",
      "(200,)\n",
      "(200, 2)\n",
      "(200,)\n",
      "(200, 2)\n",
      "(200,)\n",
      "(200, 2)\n",
      "(200,)\n",
      "(200, 2)\n",
      "(200,)\n",
      "(200, 2)\n",
      "(200,)\n",
      "(200, 2)\n",
      "(200,)\n",
      "(200, 2)\n",
      "(200,)\n",
      "(200, 2)\n",
      "(200,)\n",
      "(200, 2)\n",
      "(200,)\n",
      "(200, 2)\n",
      "(200,)\n",
      "(200, 2)\n",
      "(200,)\n",
      "(200, 2)\n",
      "(200,)\n",
      "(200, 2)\n",
      "(200,)\n",
      "(200, 2)\n",
      "(200,)\n",
      "(200, 2)\n",
      "(200,)\n",
      "(200, 2)\n",
      "(200,)\n",
      "(200, 2)\n",
      "(200,)\n",
      "(200, 2)\n",
      "(200,)\n",
      "(200, 2)\n",
      "(200,)\n",
      "(200, 2)\n",
      "(200,)\n",
      "(200, 2)\n",
      "(200,)\n",
      "(200, 2)\n",
      "(200,)\n",
      "(200, 2)\n",
      "(200,)\n",
      "(200, 2)\n",
      "(200,)\n",
      "(200, 2)\n",
      "(200,)\n",
      "(200, 2)\n",
      "(200,)\n",
      "(200, 2)\n",
      "(200,)\n",
      "(200, 2)\n",
      "(200,)\n",
      "(200, 2)\n",
      "(200,)\n",
      "(200, 2)\n",
      "(200,)\n",
      "(200, 2)\n",
      "(200,)\n",
      "(200, 2)\n",
      "(200,)\n",
      "(200, 2)\n",
      "(200,)\n",
      "(200, 2)\n",
      "(200,)\n",
      "(200, 2)\n",
      "(200,)\n",
      "(200, 2)\n",
      "(200,)\n",
      "(200, 2)\n",
      "(200,)\n",
      "(200, 2)\n",
      "(200,)\n",
      "(200, 2)\n",
      "(200,)\n",
      "(200, 2)\n",
      "(200,)\n",
      "(200, 2)\n",
      "(200,)\n",
      "(200, 2)\n",
      "(200,)\n",
      "(200, 2)\n",
      "(200,)\n",
      "(200, 2)\n",
      "(200,)\n",
      "(200, 2)\n",
      "(200,)\n",
      "(200, 2)\n",
      "(200,)\n",
      "(200, 2)\n",
      "(200,)\n",
      "(200, 2)\n",
      "(200,)\n",
      "(200, 2)\n",
      "(200,)\n",
      "(200, 2)\n",
      "(200,)\n",
      "(200, 2)\n",
      "(200,)\n",
      "(200, 2)\n",
      "(200,)\n",
      "(200, 2)\n",
      "(200,)\n",
      "(200, 2)\n",
      "(200,)\n",
      "(200, 2)\n",
      "(200,)\n",
      "(200, 2)\n",
      "(200,)\n",
      "(200, 2)\n",
      "(200,)\n",
      "(200, 2)\n",
      "(200,)\n",
      "(200, 2)\n",
      "(200,)\n",
      "(200, 2)\n",
      "(200,)\n",
      "(200, 2)\n",
      "(200,)\n",
      "(200, 2)\n",
      "(200,)\n",
      "(200, 2)\n",
      "(200,)\n",
      "(200, 2)\n",
      "(200,)\n",
      "(200, 2)\n",
      "(200,)\n",
      "(200, 2)\n",
      "(200,)\n",
      "(200, 2)\n",
      "(200,)\n",
      "(200, 2)\n",
      "(200,)\n",
      "(200, 2)\n",
      "(200,)\n",
      "(200, 2)\n",
      "(200,)\n",
      "(200, 2)\n",
      "(200,)\n",
      "(200, 2)\n",
      "(200,)\n",
      "(200, 2)\n",
      "(200,)\n",
      "(200, 2)\n",
      "(200,)\n",
      "(200, 2)\n",
      "(200,)\n",
      "(200, 2)\n",
      "(200,)\n",
      "(200, 2)\n",
      "(200,)\n",
      "(200, 2)\n",
      "(200,)\n",
      "(200, 2)\n",
      "(200,)\n",
      "(200, 2)\n",
      "(200,)\n",
      "(200, 2)\n",
      "(200,)\n",
      "(200, 2)\n",
      "(200,)\n",
      "(200, 2)\n",
      "(200,)\n",
      "(200, 2)\n",
      "(200,)\n",
      "(200, 2)\n",
      "(200,)\n",
      "(200, 2)\n",
      "(200,)\n",
      "(200, 2)\n",
      "(200,)\n",
      "(200, 2)\n",
      "(200,)\n",
      "(200, 2)\n",
      "(200,)\n",
      "(200, 2)\n",
      "(200,)\n",
      "(200, 2)\n",
      "(200,)\n",
      "(200, 2)\n",
      "(200,)\n",
      "(200, 2)\n",
      "(200,)\n",
      "(200, 2)\n",
      "(200,)\n",
      "(200, 2)\n",
      "(200,)\n",
      "(200, 2)\n",
      "(200,)\n",
      "(200, 2)\n",
      "(200,)\n",
      "(200, 2)\n",
      "(200,)\n",
      "(200, 2)\n",
      "(200,)\n",
      "(200, 2)\n",
      "(200,)\n",
      "(200, 2)\n",
      "(200,)\n",
      "(200, 2)\n",
      "(200,)\n",
      "(200, 2)\n",
      "(200,)\n",
      "(200, 2)\n",
      "(200,)\n",
      "(200, 2)\n",
      "(200,)\n",
      "(200, 2)\n",
      "(200,)\n",
      "(200, 2)\n",
      "(200,)\n",
      "(200, 2)\n",
      "(200,)\n",
      "(200, 2)\n",
      "(200,)\n",
      "(200, 2)\n",
      "(200,)\n",
      "(200, 2)\n",
      "(200,)\n",
      "(200, 2)\n",
      "(200,)\n",
      "(200, 2)\n",
      "(200,)\n",
      "(200, 2)\n",
      "(200,)\n",
      "(200, 2)\n",
      "(200,)\n",
      "(200, 2)\n",
      "(200,)\n",
      "(200, 2)\n",
      "(200,)\n",
      "(200, 2)\n",
      "(200,)\n",
      "(200, 2)\n",
      "(200,)\n",
      "(200, 2)\n",
      "(200,)\n",
      "(200, 2)\n",
      "(200,)\n",
      "(200, 2)\n",
      "(200,)\n",
      "(200, 2)\n",
      "(200,)\n",
      "(200, 2)\n",
      "(200,)\n",
      "(200, 2)\n",
      "(200,)\n",
      "(200, 2)\n",
      "(200,)\n",
      "(200, 2)\n",
      "(200,)\n",
      "(200, 2)\n",
      "(200,)\n",
      "(200, 2)\n",
      "(200,)\n",
      "(200, 2)\n",
      "(200,)\n",
      "(200, 2)\n",
      "(200,)\n",
      "(200, 2)\n",
      "(200,)\n",
      "(200, 2)\n",
      "(200,)\n",
      "(200, 2)\n",
      "(200,)\n",
      "(200, 2)\n",
      "(200,)\n",
      "(200, 2)\n",
      "(200,)\n",
      "(200, 2)\n",
      "(200,)\n",
      "(200, 2)\n",
      "(200,)\n",
      "(200, 2)\n",
      "(200,)\n",
      "(200, 2)\n",
      "(200,)\n",
      "(200, 2)\n",
      "(200,)\n",
      "(200, 2)\n",
      "(200,)\n",
      "(200, 2)\n",
      "(200,)\n",
      "(200, 2)\n",
      "(200,)\n",
      "(200, 2)\n",
      "(200,)\n",
      "(200, 2)\n",
      "(200,)\n",
      "(200, 2)\n",
      "(200,)\n",
      "(200, 2)\n",
      "(200,)\n",
      "(200, 2)\n",
      "(200,)\n",
      "(200, 2)\n",
      "(200,)\n",
      "(200, 2)\n",
      "(200,)\n",
      "(200, 2)\n",
      "(200,)\n",
      "(200, 2)\n",
      "(200,)\n",
      "(200, 2)\n",
      "(200,)\n",
      "(200, 2)\n",
      "(200,)\n",
      "(200, 2)\n",
      "(200,)\n",
      "(200, 2)\n",
      "(200,)\n",
      "(200, 2)\n",
      "(200,)\n",
      "(200, 2)\n",
      "(200,)\n",
      "(200, 2)\n",
      "(200,)\n",
      "(200, 2)\n",
      "(200,)\n",
      "(200, 2)\n",
      "(200,)\n",
      "(200, 2)\n",
      "(200,)\n",
      "(200, 2)\n",
      "(200,)\n",
      "(200, 2)\n",
      "(200,)\n",
      "(200, 2)\n",
      "(200,)\n",
      "(200, 2)\n",
      "(200,)\n",
      "(200, 2)\n",
      "(200,)\n",
      "(200, 2)\n",
      "(200,)\n",
      "(200, 2)\n",
      "(200,)\n",
      "(200, 2)\n",
      "(200,)\n",
      "(200, 2)\n",
      "(200,)\n",
      "(200, 2)\n",
      "(200,)\n",
      "(200, 2)\n",
      "(200,)\n",
      "(200, 2)\n",
      "(200,)\n",
      "(200, 2)\n",
      "(200,)\n",
      "(200, 2)\n",
      "(200,)\n",
      "(200, 2)\n",
      "(200,)\n",
      "(200, 2)\n",
      "(200,)\n",
      "(200, 2)\n",
      "(200,)\n",
      "(200, 2)\n",
      "(200,)\n",
      "(200, 2)\n",
      "(200,)\n",
      "(200, 2)\n",
      "(200,)\n",
      "(200, 2)\n",
      "(200,)\n",
      "(200, 2)\n",
      "(200,)\n",
      "(200, 2)\n",
      "(200,)\n",
      "(200, 2)\n",
      "(200,)\n",
      "(200, 2)\n",
      "(200,)\n",
      "(200, 2)\n",
      "(200,)\n",
      "(200, 2)\n",
      "(200,)\n",
      "(200, 2)\n",
      "(200,)\n",
      "(200, 2)\n",
      "(200,)\n",
      "(200, 2)\n",
      "(200,)\n",
      "(200, 2)\n",
      "(200,)\n",
      "(200, 2)\n",
      "(200,)\n",
      "(200, 2)\n",
      "(200,)\n",
      "(200, 2)\n",
      "(200,)\n",
      "(200, 2)\n",
      "(200,)\n",
      "(200, 2)\n",
      "(200,)\n",
      "(200, 2)\n",
      "(200,)\n",
      "(200, 2)\n",
      "(200,)\n",
      "(200, 2)\n",
      "(200,)\n",
      "(200, 2)\n",
      "(200,)\n",
      "(200, 2)\n",
      "(200,)\n",
      "(200, 2)\n",
      "(200,)\n",
      "(200, 2)\n",
      "(200,)\n",
      "(200, 2)\n",
      "(200,)\n",
      "(200, 2)\n",
      "(200,)\n",
      "(200, 2)\n",
      "(200,)\n",
      "(200, 2)\n",
      "(200,)\n",
      "(200, 2)\n",
      "(200,)\n",
      "(200, 2)\n",
      "(200,)\n",
      "(200, 2)\n",
      "(200,)\n",
      "(200, 2)\n",
      "(200,)\n",
      "(200, 2)\n",
      "(200,)\n",
      "(200, 2)\n",
      "(200,)\n",
      "(200, 2)\n",
      "(200,)\n",
      "(200, 2)\n",
      "(200,)\n",
      "(200, 2)\n",
      "(200,)\n",
      "(200, 2)\n",
      "(200,)\n",
      "(200, 2)\n",
      "(200,)\n",
      "(200, 2)\n",
      "(200,)\n",
      "(200, 2)\n",
      "(200,)\n",
      "(200, 2)\n",
      "(200,)\n",
      "(200, 2)\n",
      "(200,)\n",
      "(200, 2)\n",
      "(200,)\n",
      "(200, 2)\n",
      "(200,)\n",
      "(200, 2)\n",
      "(200,)\n",
      "(200, 2)\n",
      "(200,)\n",
      "(200, 2)\n",
      "(200,)\n",
      "(200, 2)\n",
      "(200,)\n",
      "(200, 2)\n",
      "(200,)\n",
      "(200, 2)\n",
      "(200,)\n",
      "(200, 2)\n",
      "(200,)\n",
      "(200, 2)\n",
      "(200,)\n",
      "(200, 2)\n",
      "(200,)\n",
      "(200, 2)\n",
      "(200,)\n",
      "(200, 2)\n",
      "(200,)\n",
      "(200, 2)\n",
      "(200,)\n",
      "(200, 2)\n",
      "(200,)\n",
      "(200, 2)\n",
      "(200,)\n",
      "(200, 2)\n",
      "(200,)\n",
      "(200, 2)\n",
      "(200,)\n",
      "(200, 2)\n",
      "(200,)\n",
      "(200, 2)\n",
      "(200,)\n",
      "(200, 2)\n",
      "(200,)\n",
      "(200, 2)\n",
      "(200,)\n",
      "(200, 2)\n",
      "(200,)\n",
      "(200, 2)\n",
      "(200,)\n",
      "(200, 2)\n",
      "(200,)\n",
      "(200, 2)\n",
      "(200,)\n",
      "(200, 2)\n",
      "(200,)\n",
      "(200, 2)\n",
      "(200,)\n",
      "(200, 2)\n",
      "(200,)\n",
      "(200, 2)\n",
      "(200,)\n",
      "(200, 2)\n",
      "(200,)\n",
      "(200, 2)\n",
      "(200,)\n",
      "(200, 2)\n",
      "(200,)\n",
      "(200, 2)\n",
      "(200,)\n",
      "(200, 2)\n",
      "(200,)\n",
      "(200, 2)\n",
      "(200,)\n",
      "(200, 2)\n",
      "(200,)\n",
      "(200, 2)\n",
      "(200,)\n",
      "(200, 2)\n",
      "(200,)\n",
      "(200, 2)\n",
      "(200,)\n",
      "(200, 2)\n",
      "(200,)\n",
      "(200, 2)\n",
      "(200,)\n",
      "(200, 2)\n",
      "(200,)\n",
      "(200, 2)\n",
      "(200,)\n",
      "(200, 2)\n",
      "(200,)\n",
      "(200, 2)\n",
      "(200,)\n",
      "(200, 2)\n",
      "(200,)\n",
      "(200, 2)\n",
      "(200,)\n",
      "(200, 2)\n",
      "(200,)\n",
      "(200, 2)\n",
      "(200,)\n",
      "(200, 2)\n",
      "(200,)\n",
      "(200, 2)\n",
      "(200,)\n",
      "(200, 2)\n",
      "(200,)\n",
      "(200, 2)\n",
      "(200,)\n",
      "(200, 2)\n",
      "(200,)\n",
      "(200, 2)\n",
      "(200,)\n",
      "(200, 2)\n",
      "(200,)\n",
      "(200, 2)\n",
      "(200,)\n",
      "(200, 2)\n",
      "(200,)\n",
      "(200, 2)\n",
      "(200,)\n",
      "(200, 2)\n",
      "(200,)\n",
      "(200, 2)\n",
      "(200,)\n",
      "(200, 2)\n",
      "(200,)\n",
      "(200, 2)\n",
      "(200,)\n",
      "(200, 2)\n",
      "(200,)\n",
      "(200, 2)\n",
      "(200,)\n",
      "(200, 2)\n",
      "(200,)\n",
      "(200, 2)\n",
      "(200,)\n",
      "(200, 2)\n",
      "(200,)\n",
      "(200, 2)\n",
      "(200,)\n",
      "(200, 2)\n",
      "(200,)\n",
      "(200, 2)\n",
      "(200,)\n",
      "(200, 2)\n",
      "(200,)\n",
      "(200, 2)\n",
      "(200,)\n",
      "(200, 2)\n",
      "(200,)\n",
      "(200, 2)\n",
      "(200,)\n",
      "(200, 2)\n",
      "(200,)\n",
      "(200, 2)\n",
      "(200,)\n",
      "(200, 2)\n",
      "(200,)\n",
      "(200, 2)\n",
      "(200,)\n",
      "(200, 2)\n",
      "(200,)\n",
      "(200, 2)\n",
      "(200,)\n",
      "(200, 2)\n",
      "(200,)\n",
      "(200, 2)\n",
      "(200,)\n",
      "(200, 2)\n",
      "(200,)\n",
      "(200, 2)\n",
      "(200,)\n",
      "(200, 2)\n",
      "(200,)\n",
      "(200, 2)\n",
      "(200,)\n",
      "(200, 2)\n",
      "(200,)\n",
      "(200, 2)\n",
      "(200,)\n",
      "(200, 2)\n",
      "(200,)\n",
      "(200, 2)\n",
      "(200,)\n",
      "(200, 2)\n",
      "(200,)\n",
      "(200, 2)\n",
      "(200,)\n",
      "(200, 2)\n",
      "(200,)\n",
      "(200, 2)\n",
      "(200,)\n",
      "(200, 2)\n",
      "(200,)\n",
      "(200, 2)\n",
      "(200,)\n",
      "(200, 2)\n",
      "(200,)\n",
      "(200, 2)\n",
      "(200,)\n",
      "(200, 2)\n",
      "(200,)\n",
      "(200, 2)\n",
      "(200,)\n",
      "(200, 2)\n",
      "(200,)\n",
      "(200, 2)\n",
      "(200,)\n",
      "(200, 2)\n",
      "(200,)\n",
      "(200, 2)\n",
      "(200,)\n",
      "(200, 2)\n",
      "(200,)\n",
      "(200, 2)\n",
      "(200,)\n",
      "(200, 2)\n",
      "(200,)\n",
      "(200, 2)\n",
      "(200,)\n",
      "(200, 2)\n",
      "(200,)\n",
      "(200, 2)\n",
      "(200,)\n",
      "(200, 2)\n",
      "(200,)\n",
      "(200, 2)\n",
      "(200,)\n",
      "(200, 2)\n",
      "(200,)\n",
      "(200, 2)\n",
      "(200,)\n",
      "(200, 2)\n",
      "(200,)\n",
      "(200, 2)\n",
      "(200,)\n",
      "(200, 2)\n",
      "(200,)\n",
      "(200, 2)\n",
      "(200,)\n",
      "(200, 2)\n",
      "(200,)\n",
      "(200, 2)\n",
      "(200,)\n",
      "(200, 2)\n",
      "(200,)\n",
      "(200, 2)\n",
      "(200,)\n",
      "(200, 2)\n",
      "(200,)\n",
      "(200, 2)\n",
      "(200,)\n",
      "(200, 2)\n",
      "(200,)\n",
      "(200, 2)\n",
      "(200,)\n",
      "(200, 2)\n",
      "(200,)\n",
      "(200, 2)\n",
      "(200,)\n",
      "(200, 2)\n",
      "(200,)\n",
      "(200, 2)\n",
      "(200,)\n",
      "(200, 2)\n",
      "(200,)\n",
      "(200, 2)\n",
      "(200,)\n",
      "(200, 2)\n",
      "(200,)\n",
      "(200, 2)\n",
      "(200,)\n",
      "(200, 2)\n",
      "(200,)\n",
      "(200, 2)\n",
      "(200,)\n",
      "(200, 2)\n",
      "(200,)\n",
      "(200, 2)\n",
      "(200,)\n",
      "(200, 2)\n",
      "(200,)\n",
      "(200, 2)\n",
      "(200,)\n",
      "(200, 2)\n",
      "(200,)\n",
      "(200, 2)\n",
      "(200,)\n",
      "(200, 2)\n",
      "(200,)\n",
      "(200, 2)\n",
      "(200,)\n",
      "(200, 2)\n",
      "(200,)\n"
     ]
    }
   ],
   "source": [
    "results_1 = bootstrap_profit(true_product_1, predicted_product_1, 'region_1') "
   ]
  },
  {
   "cell_type": "code",
   "execution_count": 455,
   "metadata": {},
   "outputs": [
    {
     "data": {
      "image/png": "[encoded data removed]",
      "text/plain": [
       "<Figure size 432x288 with 1 Axes>"
      ]
     },
     "metadata": {
      "needs_background": "light"
     },
     "output_type": "display_data"
    },
    {
     "name": "stdout",
     "output_type": "stream",
     "text": [
      "Средняя прибыль по региону 0: 461155817.2772397\n",
      "Стандартное отклонение прибыли по региону 0: 198546099.88329223\n",
      "Доверительный интервал прибыли по региону 0: от 78050810.7517417 до 862952060.2637234\n",
      "Риск убытка в региону: 0.007\n"
     ]
    }
   ],
   "source": [
    "# Строим гистограмму распределения прибыли по всем подвыборкам\n",
    "plt.hist(results_1['profits'])\n",
    "plt.xlabel('Прибыль')\n",
    "plt.ylabel('Частота')\n",
    "plt.title('Распределение прибыли по региону 0')\n",
    "plt.show()\n",
    "\n",
    "print('Средняя прибыль по региону 0:', results_1['mean_profit'])\n",
    "print('Стандартное отклонение прибыли по региону 0:', results_1['std_profit'])\n",
    "print('Доверительный интервал прибыли по региону 0: от', results_1['lower_profit'], 'до', results_1['upper_profit'])\n",
    "print('Риск убытка в региону:',results_1['risk'])"
   ]
  },
  {
   "cell_type": "code",
   "execution_count": 456,
   "metadata": {},
   "outputs": [
    {
     "name": "stdout",
     "output_type": "stream",
     "text": [
      "(200, 2)\n",
      "(200,)\n",
      "(200, 2)\n",
      "(200,)\n",
      "(200, 2)\n",
      "(200,)\n",
      "(200, 2)\n",
      "(200,)\n",
      "(200, 2)\n",
      "(200,)\n",
      "(200, 2)\n",
      "(200,)\n",
      "(200, 2)\n",
      "(200,)\n",
      "(200, 2)\n",
      "(200,)\n",
      "(200, 2)\n",
      "(200,)\n",
      "(200, 2)\n",
      "(200,)\n",
      "(200, 2)\n",
      "(200,)\n",
      "(200, 2)\n",
      "(200,)\n",
      "(200, 2)\n",
      "(200,)\n",
      "(200, 2)\n",
      "(200,)\n",
      "(200, 2)\n",
      "(200,)\n",
      "(200, 2)\n",
      "(200,)\n",
      "(200, 2)\n",
      "(200,)\n",
      "(200, 2)\n",
      "(200,)\n",
      "(200, 2)\n",
      "(200,)\n",
      "(200, 2)\n",
      "(200,)\n",
      "(200, 2)\n",
      "(200,)\n",
      "(200, 2)\n",
      "(200,)\n",
      "(200, 2)\n",
      "(200,)\n",
      "(200, 2)\n",
      "(200,)\n",
      "(200, 2)\n",
      "(200,)\n",
      "(200, 2)\n",
      "(200,)\n",
      "(200, 2)\n",
      "(200,)\n",
      "(200, 2)\n",
      "(200,)\n",
      "(200, 2)\n",
      "(200,)\n",
      "(200, 2)\n",
      "(200,)\n",
      "(200, 2)\n",
      "(200,)\n",
      "(200, 2)\n",
      "(200,)\n",
      "(200, 2)\n",
      "(200,)\n",
      "(200, 2)\n",
      "(200,)\n",
      "(200, 2)\n",
      "(200,)\n",
      "(200, 2)\n",
      "(200,)\n",
      "(200, 2)\n",
      "(200,)\n",
      "(200, 2)\n",
      "(200,)\n",
      "(200, 2)\n",
      "(200,)\n",
      "(200, 2)\n",
      "(200,)\n",
      "(200, 2)\n",
      "(200,)\n",
      "(200, 2)\n",
      "(200,)\n",
      "(200, 2)\n",
      "(200,)\n",
      "(200, 2)\n",
      "(200,)\n",
      "(200, 2)\n",
      "(200,)\n",
      "(200, 2)\n",
      "(200,)\n",
      "(200, 2)\n",
      "(200,)\n",
      "(200, 2)\n",
      "(200,)\n",
      "(200, 2)\n",
      "(200,)\n",
      "(200, 2)\n",
      "(200,)\n",
      "(200, 2)\n",
      "(200,)\n",
      "(200, 2)\n",
      "(200,)\n",
      "(200, 2)\n",
      "(200,)\n",
      "(200, 2)\n",
      "(200,)\n",
      "(200, 2)\n",
      "(200,)\n",
      "(200, 2)\n",
      "(200,)\n",
      "(200, 2)\n",
      "(200,)\n",
      "(200, 2)\n",
      "(200,)\n",
      "(200, 2)\n",
      "(200,)\n",
      "(200, 2)\n",
      "(200,)\n",
      "(200, 2)\n",
      "(200,)\n",
      "(200, 2)\n",
      "(200,)\n",
      "(200, 2)\n",
      "(200,)\n",
      "(200, 2)\n",
      "(200,)\n",
      "(200, 2)\n",
      "(200,)\n",
      "(200, 2)\n",
      "(200,)\n",
      "(200, 2)\n",
      "(200,)\n",
      "(200, 2)\n",
      "(200,)\n",
      "(200, 2)\n",
      "(200,)\n",
      "(200, 2)\n",
      "(200,)\n",
      "(200, 2)\n",
      "(200,)\n",
      "(200, 2)\n",
      "(200,)\n",
      "(200, 2)\n",
      "(200,)\n",
      "(200, 2)\n",
      "(200,)\n",
      "(200, 2)\n",
      "(200,)\n",
      "(200, 2)\n",
      "(200,)\n",
      "(200, 2)\n",
      "(200,)\n",
      "(200, 2)\n",
      "(200,)\n",
      "(200, 2)\n",
      "(200,)\n",
      "(200, 2)\n",
      "(200,)\n",
      "(200, 2)\n",
      "(200,)\n",
      "(200, 2)\n",
      "(200,)\n",
      "(200, 2)\n",
      "(200,)\n",
      "(200, 2)\n",
      "(200,)\n",
      "(200, 2)\n",
      "(200,)\n",
      "(200, 2)\n",
      "(200,)\n",
      "(200, 2)\n",
      "(200,)\n",
      "(200, 2)\n",
      "(200,)\n",
      "(200, 2)\n",
      "(200,)\n",
      "(200, 2)\n",
      "(200,)\n",
      "(200, 2)\n",
      "(200,)\n",
      "(200, 2)\n",
      "(200,)\n",
      "(200, 2)\n",
      "(200,)\n",
      "(200, 2)\n",
      "(200,)\n",
      "(200, 2)\n",
      "(200,)\n",
      "(200, 2)\n",
      "(200,)\n",
      "(200, 2)\n",
      "(200,)\n",
      "(200, 2)\n",
      "(200,)\n",
      "(200, 2)\n",
      "(200,)\n",
      "(200, 2)\n",
      "(200,)\n",
      "(200, 2)\n",
      "(200,)\n",
      "(200, 2)\n",
      "(200,)\n",
      "(200, 2)\n",
      "(200,)\n",
      "(200, 2)\n",
      "(200,)\n",
      "(200, 2)\n",
      "(200,)\n",
      "(200, 2)\n",
      "(200,)\n",
      "(200, 2)\n",
      "(200,)\n",
      "(200, 2)\n",
      "(200,)\n",
      "(200, 2)\n",
      "(200,)\n",
      "(200, 2)\n",
      "(200,)\n",
      "(200, 2)\n",
      "(200,)\n",
      "(200, 2)\n",
      "(200,)\n",
      "(200, 2)\n",
      "(200,)\n",
      "(200, 2)\n",
      "(200,)\n",
      "(200, 2)\n",
      "(200,)\n",
      "(200, 2)\n",
      "(200,)\n",
      "(200, 2)\n",
      "(200,)\n",
      "(200, 2)\n",
      "(200,)\n",
      "(200, 2)\n",
      "(200,)\n",
      "(200, 2)\n",
      "(200,)\n",
      "(200, 2)\n",
      "(200,)\n",
      "(200, 2)\n",
      "(200,)\n",
      "(200, 2)\n",
      "(200,)\n",
      "(200, 2)\n",
      "(200,)\n",
      "(200, 2)\n",
      "(200,)\n",
      "(200, 2)\n",
      "(200,)\n",
      "(200, 2)\n",
      "(200,)\n",
      "(200, 2)\n",
      "(200,)\n",
      "(200, 2)\n",
      "(200,)\n",
      "(200, 2)\n",
      "(200,)\n",
      "(200, 2)\n",
      "(200,)\n",
      "(200, 2)\n",
      "(200,)\n",
      "(200, 2)\n",
      "(200,)\n",
      "(200, 2)\n",
      "(200,)\n",
      "(200, 2)\n",
      "(200,)\n",
      "(200, 2)\n",
      "(200,)\n",
      "(200, 2)\n",
      "(200,)\n",
      "(200, 2)\n",
      "(200,)\n",
      "(200, 2)\n",
      "(200,)\n",
      "(200, 2)\n",
      "(200,)\n",
      "(200, 2)\n",
      "(200,)\n",
      "(200, 2)\n",
      "(200,)\n",
      "(200, 2)\n",
      "(200,)\n",
      "(200, 2)\n",
      "(200,)\n",
      "(200, 2)\n",
      "(200,)\n",
      "(200, 2)\n",
      "(200,)\n",
      "(200, 2)\n",
      "(200,)\n",
      "(200, 2)\n",
      "(200,)\n",
      "(200, 2)\n",
      "(200,)\n",
      "(200, 2)\n",
      "(200,)\n",
      "(200, 2)\n",
      "(200,)\n",
      "(200, 2)\n",
      "(200,)\n",
      "(200, 2)\n",
      "(200,)\n",
      "(200, 2)\n",
      "(200,)\n",
      "(200, 2)\n",
      "(200,)\n",
      "(200, 2)\n",
      "(200,)\n",
      "(200, 2)\n",
      "(200,)\n",
      "(200, 2)\n",
      "(200,)\n",
      "(200, 2)\n",
      "(200,)\n",
      "(200, 2)\n",
      "(200,)\n",
      "(200, 2)\n",
      "(200,)\n",
      "(200, 2)\n",
      "(200,)\n",
      "(200, 2)\n",
      "(200,)\n",
      "(200, 2)\n",
      "(200,)\n",
      "(200, 2)\n",
      "(200,)\n",
      "(200, 2)\n",
      "(200,)\n",
      "(200, 2)\n",
      "(200,)\n",
      "(200, 2)\n",
      "(200,)\n",
      "(200, 2)\n",
      "(200,)\n",
      "(200, 2)\n",
      "(200,)\n",
      "(200, 2)\n",
      "(200,)\n",
      "(200, 2)\n",
      "(200,)\n",
      "(200, 2)\n",
      "(200,)\n",
      "(200, 2)\n",
      "(200,)\n",
      "(200, 2)\n",
      "(200,)\n",
      "(200, 2)\n",
      "(200,)\n",
      "(200, 2)\n",
      "(200,)\n",
      "(200, 2)\n",
      "(200,)\n",
      "(200, 2)\n",
      "(200,)\n",
      "(200, 2)\n",
      "(200,)\n",
      "(200, 2)\n",
      "(200,)\n",
      "(200, 2)\n",
      "(200,)\n",
      "(200, 2)\n",
      "(200,)\n",
      "(200, 2)\n",
      "(200,)\n",
      "(200, 2)\n",
      "(200,)\n",
      "(200, 2)\n",
      "(200,)\n",
      "(200, 2)\n",
      "(200,)\n",
      "(200, 2)\n",
      "(200,)\n",
      "(200, 2)\n",
      "(200,)\n",
      "(200, 2)\n",
      "(200,)\n",
      "(200, 2)\n",
      "(200,)\n",
      "(200, 2)\n",
      "(200,)\n",
      "(200, 2)\n",
      "(200,)\n",
      "(200, 2)\n",
      "(200,)\n",
      "(200, 2)\n",
      "(200,)\n",
      "(200, 2)\n",
      "(200,)\n",
      "(200, 2)\n",
      "(200,)\n",
      "(200, 2)\n",
      "(200,)\n",
      "(200, 2)\n",
      "(200,)\n",
      "(200, 2)\n",
      "(200,)\n",
      "(200, 2)\n",
      "(200,)\n",
      "(200, 2)\n",
      "(200,)\n",
      "(200, 2)\n",
      "(200,)\n",
      "(200, 2)\n",
      "(200,)\n",
      "(200, 2)\n",
      "(200,)\n",
      "(200, 2)\n",
      "(200,)\n",
      "(200, 2)\n",
      "(200,)\n",
      "(200, 2)\n",
      "(200,)\n",
      "(200, 2)\n",
      "(200,)\n",
      "(200, 2)\n",
      "(200,)\n",
      "(200, 2)\n",
      "(200,)\n",
      "(200, 2)\n",
      "(200,)\n",
      "(200, 2)\n",
      "(200,)\n",
      "(200, 2)\n",
      "(200,)\n",
      "(200, 2)\n",
      "(200,)\n",
      "(200, 2)\n",
      "(200,)\n",
      "(200, 2)\n",
      "(200,)\n",
      "(200, 2)\n",
      "(200,)\n",
      "(200, 2)\n",
      "(200,)\n",
      "(200, 2)\n",
      "(200,)\n",
      "(200, 2)\n",
      "(200,)\n",
      "(200, 2)\n",
      "(200,)\n",
      "(200, 2)\n",
      "(200,)\n",
      "(200, 2)\n",
      "(200,)\n",
      "(200, 2)\n",
      "(200,)\n",
      "(200, 2)\n",
      "(200,)\n",
      "(200, 2)\n",
      "(200,)\n",
      "(200, 2)\n",
      "(200,)\n",
      "(200, 2)\n",
      "(200,)\n",
      "(200, 2)\n",
      "(200,)\n",
      "(200, 2)\n",
      "(200,)\n",
      "(200, 2)\n",
      "(200,)\n",
      "(200, 2)\n",
      "(200,)\n",
      "(200, 2)\n",
      "(200,)\n",
      "(200, 2)\n",
      "(200,)\n",
      "(200, 2)\n",
      "(200,)\n",
      "(200, 2)\n",
      "(200,)\n",
      "(200, 2)\n",
      "(200,)\n",
      "(200, 2)\n",
      "(200,)\n",
      "(200, 2)\n",
      "(200,)\n",
      "(200, 2)\n",
      "(200,)\n",
      "(200, 2)\n",
      "(200,)\n",
      "(200, 2)\n",
      "(200,)\n",
      "(200, 2)\n",
      "(200,)\n",
      "(200, 2)\n",
      "(200,)\n",
      "(200, 2)\n",
      "(200,)\n",
      "(200, 2)\n",
      "(200,)\n",
      "(200, 2)\n",
      "(200,)\n",
      "(200, 2)\n",
      "(200,)\n",
      "(200, 2)\n",
      "(200,)\n",
      "(200, 2)\n",
      "(200,)\n",
      "(200, 2)\n",
      "(200,)\n",
      "(200, 2)\n",
      "(200,)\n",
      "(200, 2)\n",
      "(200,)\n",
      "(200, 2)\n",
      "(200,)\n",
      "(200, 2)\n",
      "(200,)\n",
      "(200, 2)\n",
      "(200,)\n",
      "(200, 2)\n",
      "(200,)\n",
      "(200, 2)\n",
      "(200,)\n",
      "(200, 2)\n",
      "(200,)\n",
      "(200, 2)\n",
      "(200,)\n",
      "(200, 2)\n",
      "(200,)\n",
      "(200, 2)\n",
      "(200,)\n",
      "(200, 2)\n",
      "(200,)\n",
      "(200, 2)\n",
      "(200,)\n",
      "(200, 2)\n",
      "(200,)\n",
      "(200, 2)\n",
      "(200,)\n",
      "(200, 2)\n",
      "(200,)\n",
      "(200, 2)\n",
      "(200,)\n",
      "(200, 2)\n",
      "(200,)\n",
      "(200, 2)\n",
      "(200,)\n",
      "(200, 2)\n",
      "(200,)\n",
      "(200, 2)\n",
      "(200,)\n",
      "(200, 2)\n",
      "(200,)\n",
      "(200, 2)\n",
      "(200,)\n",
      "(200, 2)\n",
      "(200,)\n",
      "(200, 2)\n",
      "(200,)\n",
      "(200, 2)\n",
      "(200,)\n",
      "(200, 2)\n",
      "(200,)\n",
      "(200, 2)\n",
      "(200,)\n",
      "(200, 2)\n",
      "(200,)\n",
      "(200, 2)\n",
      "(200,)\n",
      "(200, 2)\n",
      "(200,)\n",
      "(200, 2)\n",
      "(200,)\n",
      "(200, 2)\n",
      "(200,)\n",
      "(200, 2)\n",
      "(200,)\n",
      "(200, 2)\n",
      "(200,)\n",
      "(200, 2)\n",
      "(200,)\n",
      "(200, 2)\n",
      "(200,)\n",
      "(200, 2)\n",
      "(200,)\n",
      "(200, 2)\n",
      "(200,)\n",
      "(200, 2)\n",
      "(200,)\n",
      "(200, 2)\n",
      "(200,)\n",
      "(200, 2)\n",
      "(200,)\n",
      "(200, 2)\n",
      "(200,)\n",
      "(200, 2)\n",
      "(200,)\n",
      "(200, 2)\n",
      "(200,)\n",
      "(200, 2)\n",
      "(200,)\n",
      "(200, 2)\n",
      "(200,)\n",
      "(200, 2)\n",
      "(200,)\n",
      "(200, 2)\n",
      "(200,)\n",
      "(200, 2)\n",
      "(200,)\n",
      "(200, 2)\n",
      "(200,)\n",
      "(200, 2)\n",
      "(200,)\n",
      "(200, 2)\n",
      "(200,)\n",
      "(200, 2)\n",
      "(200,)\n",
      "(200, 2)\n",
      "(200,)\n",
      "(200, 2)\n",
      "(200,)\n",
      "(200, 2)\n",
      "(200,)\n",
      "(200, 2)\n",
      "(200,)\n",
      "(200, 2)\n",
      "(200,)\n",
      "(200, 2)\n",
      "(200,)\n",
      "(200, 2)\n",
      "(200,)\n",
      "(200, 2)\n",
      "(200,)\n",
      "(200, 2)\n",
      "(200,)\n",
      "(200, 2)\n",
      "(200,)\n",
      "(200, 2)\n",
      "(200,)\n",
      "(200, 2)\n",
      "(200,)\n",
      "(200, 2)\n",
      "(200,)\n",
      "(200, 2)\n",
      "(200,)\n",
      "(200, 2)\n",
      "(200,)\n",
      "(200, 2)\n",
      "(200,)\n",
      "(200, 2)\n",
      "(200,)\n",
      "(200, 2)\n",
      "(200,)\n",
      "(200, 2)\n",
      "(200,)\n",
      "(200, 2)\n",
      "(200,)\n",
      "(200, 2)\n",
      "(200,)\n",
      "(200, 2)\n",
      "(200,)\n",
      "(200, 2)\n",
      "(200,)\n",
      "(200, 2)\n",
      "(200,)\n",
      "(200, 2)\n",
      "(200,)\n",
      "(200, 2)\n",
      "(200,)\n",
      "(200, 2)\n",
      "(200,)\n",
      "(200, 2)\n",
      "(200,)\n",
      "(200, 2)\n",
      "(200,)\n",
      "(200, 2)\n",
      "(200,)\n",
      "(200, 2)\n",
      "(200,)\n",
      "(200, 2)\n",
      "(200,)\n",
      "(200, 2)\n",
      "(200,)\n",
      "(200, 2)\n",
      "(200,)\n",
      "(200, 2)\n",
      "(200,)\n",
      "(200, 2)\n",
      "(200,)\n",
      "(200, 2)\n",
      "(200,)\n",
      "(200, 2)\n",
      "(200,)\n",
      "(200, 2)\n",
      "(200,)\n",
      "(200, 2)\n",
      "(200,)\n",
      "(200, 2)\n",
      "(200,)\n",
      "(200, 2)\n",
      "(200,)\n",
      "(200, 2)\n",
      "(200,)\n",
      "(200, 2)\n",
      "(200,)\n",
      "(200, 2)\n",
      "(200,)\n",
      "(200, 2)\n",
      "(200,)\n",
      "(200, 2)\n",
      "(200,)\n",
      "(200, 2)\n",
      "(200,)\n",
      "(200, 2)\n",
      "(200,)\n",
      "(200, 2)\n",
      "(200,)\n",
      "(200, 2)\n",
      "(200,)\n",
      "(200, 2)\n",
      "(200,)\n",
      "(200, 2)\n",
      "(200,)\n",
      "(200, 2)\n",
      "(200,)\n",
      "(200, 2)\n",
      "(200,)\n",
      "(200, 2)\n",
      "(200,)\n",
      "(200, 2)\n",
      "(200,)\n",
      "(200, 2)\n",
      "(200,)\n",
      "(200, 2)\n",
      "(200,)\n",
      "(200, 2)\n",
      "(200,)\n",
      "(200, 2)\n",
      "(200,)\n",
      "(200, 2)\n",
      "(200,)\n",
      "(200, 2)\n",
      "(200,)\n",
      "(200, 2)\n",
      "(200,)\n",
      "(200, 2)\n",
      "(200,)\n",
      "(200, 2)\n",
      "(200,)\n",
      "(200, 2)\n",
      "(200,)\n",
      "(200, 2)\n",
      "(200,)\n",
      "(200, 2)\n",
      "(200,)\n",
      "(200, 2)\n",
      "(200,)\n",
      "(200, 2)\n",
      "(200,)\n",
      "(200, 2)\n",
      "(200,)\n",
      "(200, 2)\n",
      "(200,)\n",
      "(200, 2)\n",
      "(200,)\n",
      "(200, 2)\n",
      "(200,)\n",
      "(200, 2)\n",
      "(200,)\n",
      "(200, 2)\n",
      "(200,)\n",
      "(200, 2)\n",
      "(200,)\n",
      "(200, 2)\n",
      "(200,)\n",
      "(200, 2)\n",
      "(200,)\n",
      "(200, 2)\n",
      "(200,)\n",
      "(200, 2)\n",
      "(200,)\n",
      "(200, 2)\n",
      "(200,)\n",
      "(200, 2)\n",
      "(200,)\n",
      "(200, 2)\n",
      "(200,)\n",
      "(200, 2)\n",
      "(200,)\n",
      "(200, 2)\n",
      "(200,)\n",
      "(200, 2)\n",
      "(200,)\n",
      "(200, 2)\n",
      "(200,)\n",
      "(200, 2)\n",
      "(200,)\n",
      "(200, 2)\n",
      "(200,)\n",
      "(200, 2)\n",
      "(200,)\n",
      "(200, 2)\n",
      "(200,)\n",
      "(200, 2)\n",
      "(200,)\n",
      "(200, 2)\n",
      "(200,)\n",
      "(200, 2)\n",
      "(200,)\n",
      "(200, 2)\n",
      "(200,)\n",
      "(200, 2)\n",
      "(200,)\n",
      "(200, 2)\n",
      "(200,)\n",
      "(200, 2)\n",
      "(200,)\n",
      "(200, 2)\n",
      "(200,)\n",
      "(200, 2)\n",
      "(200,)\n",
      "(200, 2)\n",
      "(200,)\n",
      "(200, 2)\n",
      "(200,)\n",
      "(200, 2)\n",
      "(200,)\n",
      "(200, 2)\n",
      "(200,)\n",
      "(200, 2)\n",
      "(200,)\n",
      "(200, 2)\n",
      "(200,)\n",
      "(200, 2)\n",
      "(200,)\n",
      "(200, 2)\n",
      "(200,)\n",
      "(200, 2)\n",
      "(200,)\n",
      "(200, 2)\n",
      "(200,)\n",
      "(200, 2)\n",
      "(200,)\n",
      "(200, 2)\n",
      "(200,)\n",
      "(200, 2)\n",
      "(200,)\n",
      "(200, 2)\n",
      "(200,)\n",
      "(200, 2)\n",
      "(200,)\n",
      "(200, 2)\n",
      "(200,)\n",
      "(200, 2)\n",
      "(200,)\n",
      "(200, 2)\n",
      "(200,)\n",
      "(200, 2)\n",
      "(200,)\n",
      "(200, 2)\n",
      "(200,)\n",
      "(200, 2)\n",
      "(200,)\n",
      "(200, 2)\n",
      "(200,)\n",
      "(200, 2)\n",
      "(200,)\n",
      "(200, 2)\n",
      "(200,)\n",
      "(200, 2)\n",
      "(200,)\n",
      "(200, 2)\n",
      "(200,)\n",
      "(200, 2)\n",
      "(200,)\n",
      "(200, 2)\n",
      "(200,)\n",
      "(200, 2)\n",
      "(200,)\n",
      "(200, 2)\n",
      "(200,)\n",
      "(200, 2)\n",
      "(200,)\n",
      "(200, 2)\n",
      "(200,)\n",
      "(200, 2)\n",
      "(200,)\n",
      "(200, 2)\n",
      "(200,)\n",
      "(200, 2)\n",
      "(200,)\n",
      "(200, 2)\n",
      "(200,)\n",
      "(200, 2)\n",
      "(200,)\n",
      "(200, 2)\n",
      "(200,)\n",
      "(200, 2)\n",
      "(200,)\n",
      "(200, 2)\n",
      "(200,)\n",
      "(200, 2)\n",
      "(200,)\n",
      "(200, 2)\n",
      "(200,)\n",
      "(200, 2)\n",
      "(200,)\n",
      "(200, 2)\n",
      "(200,)\n",
      "(200, 2)\n",
      "(200,)\n",
      "(200, 2)\n",
      "(200,)\n",
      "(200, 2)\n",
      "(200,)\n",
      "(200, 2)\n",
      "(200,)\n",
      "(200, 2)\n",
      "(200,)\n",
      "(200, 2)\n",
      "(200,)\n",
      "(200, 2)\n",
      "(200,)\n",
      "(200, 2)\n",
      "(200,)\n",
      "(200, 2)\n",
      "(200,)\n",
      "(200, 2)\n",
      "(200,)\n",
      "(200, 2)\n",
      "(200,)\n",
      "(200, 2)\n",
      "(200,)\n",
      "(200, 2)\n",
      "(200,)\n",
      "(200, 2)\n",
      "(200,)\n",
      "(200, 2)\n",
      "(200,)\n",
      "(200, 2)\n",
      "(200,)\n",
      "(200, 2)\n",
      "(200,)\n",
      "(200, 2)\n",
      "(200,)\n",
      "(200, 2)\n",
      "(200,)\n",
      "(200, 2)\n",
      "(200,)\n",
      "(200, 2)\n",
      "(200,)\n",
      "(200, 2)\n",
      "(200,)\n",
      "(200, 2)\n",
      "(200,)\n",
      "(200, 2)\n",
      "(200,)\n",
      "(200, 2)\n",
      "(200,)\n",
      "(200, 2)\n",
      "(200,)\n",
      "(200, 2)\n",
      "(200,)\n",
      "(200, 2)\n",
      "(200,)\n",
      "(200, 2)\n",
      "(200,)\n",
      "(200, 2)\n",
      "(200,)\n",
      "(200, 2)\n",
      "(200,)\n",
      "(200, 2)\n",
      "(200,)\n",
      "(200, 2)\n",
      "(200,)\n",
      "(200, 2)\n",
      "(200,)\n",
      "(200, 2)\n",
      "(200,)\n",
      "(200, 2)\n",
      "(200,)\n",
      "(200, 2)\n",
      "(200,)\n",
      "(200, 2)\n",
      "(200,)\n",
      "(200, 2)\n",
      "(200,)\n",
      "(200, 2)\n",
      "(200,)\n",
      "(200, 2)\n",
      "(200,)\n",
      "(200, 2)\n",
      "(200,)\n",
      "(200, 2)\n",
      "(200,)\n",
      "(200, 2)\n",
      "(200,)\n",
      "(200, 2)\n",
      "(200,)\n",
      "(200, 2)\n",
      "(200,)\n",
      "(200, 2)\n",
      "(200,)\n",
      "(200, 2)\n",
      "(200,)\n",
      "(200, 2)\n",
      "(200,)\n",
      "(200, 2)\n",
      "(200,)\n",
      "(200, 2)\n",
      "(200,)\n",
      "(200, 2)\n",
      "(200,)\n",
      "(200, 2)\n",
      "(200,)\n",
      "(200, 2)\n",
      "(200,)\n",
      "(200, 2)\n",
      "(200,)\n",
      "(200, 2)\n",
      "(200,)\n",
      "(200, 2)\n",
      "(200,)\n",
      "(200, 2)\n",
      "(200,)\n",
      "(200, 2)\n",
      "(200,)\n",
      "(200, 2)\n",
      "(200,)\n",
      "(200, 2)\n",
      "(200,)\n",
      "(200, 2)\n",
      "(200,)\n",
      "(200, 2)\n",
      "(200,)\n",
      "(200, 2)\n",
      "(200,)\n",
      "(200, 2)\n",
      "(200,)\n",
      "(200, 2)\n",
      "(200,)\n",
      "(200, 2)\n",
      "(200,)\n",
      "(200, 2)\n",
      "(200,)\n",
      "(200, 2)\n",
      "(200,)\n",
      "(200, 2)\n",
      "(200,)\n",
      "(200, 2)\n",
      "(200,)\n",
      "(200, 2)\n",
      "(200,)\n",
      "(200, 2)\n",
      "(200,)\n",
      "(200, 2)\n",
      "(200,)\n",
      "(200, 2)\n",
      "(200,)\n",
      "(200, 2)\n",
      "(200,)\n",
      "(200, 2)\n",
      "(200,)\n",
      "(200, 2)\n",
      "(200,)\n",
      "(200, 2)\n",
      "(200,)\n",
      "(200, 2)\n",
      "(200,)\n",
      "(200, 2)\n",
      "(200,)\n",
      "(200, 2)\n",
      "(200,)\n",
      "(200, 2)\n",
      "(200,)\n",
      "(200, 2)\n",
      "(200,)\n",
      "(200, 2)\n",
      "(200,)\n",
      "(200, 2)\n",
      "(200,)\n",
      "(200, 2)\n",
      "(200,)\n",
      "(200, 2)\n",
      "(200,)\n",
      "(200, 2)\n",
      "(200,)\n",
      "(200, 2)\n",
      "(200,)\n",
      "(200, 2)\n",
      "(200,)\n",
      "(200, 2)\n",
      "(200,)\n",
      "(200, 2)\n",
      "(200,)\n",
      "(200, 2)\n",
      "(200,)\n",
      "(200, 2)\n",
      "(200,)\n",
      "(200, 2)\n",
      "(200,)\n",
      "(200, 2)\n",
      "(200,)\n",
      "(200, 2)\n",
      "(200,)\n",
      "(200, 2)\n",
      "(200,)\n",
      "(200, 2)\n",
      "(200,)\n",
      "(200, 2)\n",
      "(200,)\n",
      "(200, 2)\n",
      "(200,)\n",
      "(200, 2)\n",
      "(200,)\n",
      "(200, 2)\n",
      "(200,)\n",
      "(200, 2)\n",
      "(200,)\n",
      "(200, 2)\n",
      "(200,)\n",
      "(200, 2)\n",
      "(200,)\n",
      "(200, 2)\n",
      "(200,)\n",
      "(200, 2)\n",
      "(200,)\n",
      "(200, 2)\n",
      "(200,)\n",
      "(200, 2)\n",
      "(200,)\n",
      "(200, 2)\n",
      "(200,)\n",
      "(200, 2)\n",
      "(200,)\n",
      "(200, 2)\n",
      "(200,)\n",
      "(200, 2)\n",
      "(200,)\n",
      "(200, 2)\n",
      "(200,)\n",
      "(200, 2)\n",
      "(200,)\n",
      "(200, 2)\n",
      "(200,)\n",
      "(200, 2)\n",
      "(200,)\n",
      "(200, 2)\n",
      "(200,)\n",
      "(200, 2)\n",
      "(200,)\n",
      "(200, 2)\n",
      "(200,)\n",
      "(200, 2)\n",
      "(200,)\n",
      "(200, 2)\n",
      "(200,)\n",
      "(200, 2)\n",
      "(200,)\n",
      "(200, 2)\n",
      "(200,)\n",
      "(200, 2)\n",
      "(200,)\n",
      "(200, 2)\n",
      "(200,)\n",
      "(200, 2)\n",
      "(200,)\n",
      "(200, 2)\n",
      "(200,)\n",
      "(200, 2)\n",
      "(200,)\n",
      "(200, 2)\n",
      "(200,)\n",
      "(200, 2)\n",
      "(200,)\n",
      "(200, 2)\n",
      "(200,)\n",
      "(200, 2)\n",
      "(200,)\n",
      "(200, 2)\n",
      "(200,)\n",
      "(200, 2)\n",
      "(200,)\n",
      "(200, 2)\n",
      "(200,)\n",
      "(200, 2)\n",
      "(200,)\n",
      "(200, 2)\n",
      "(200,)\n",
      "(200, 2)\n",
      "(200,)\n",
      "(200, 2)\n",
      "(200,)\n",
      "(200, 2)\n",
      "(200,)\n",
      "(200, 2)\n",
      "(200,)\n",
      "(200, 2)\n",
      "(200,)\n",
      "(200, 2)\n",
      "(200,)\n",
      "(200, 2)\n",
      "(200,)\n",
      "(200, 2)\n",
      "(200,)\n",
      "(200, 2)\n",
      "(200,)\n",
      "(200, 2)\n",
      "(200,)\n",
      "(200, 2)\n",
      "(200,)\n",
      "(200, 2)\n",
      "(200,)\n",
      "(200, 2)\n",
      "(200,)\n",
      "(200, 2)\n",
      "(200,)\n",
      "(200, 2)\n",
      "(200,)\n",
      "(200, 2)\n",
      "(200,)\n",
      "(200, 2)\n",
      "(200,)\n",
      "(200, 2)\n",
      "(200,)\n",
      "(200, 2)\n",
      "(200,)\n",
      "(200, 2)\n",
      "(200,)\n",
      "(200, 2)\n",
      "(200,)\n",
      "(200, 2)\n",
      "(200,)\n",
      "(200, 2)\n",
      "(200,)\n",
      "(200, 2)\n",
      "(200,)\n",
      "(200, 2)\n",
      "(200,)\n",
      "(200, 2)\n",
      "(200,)\n",
      "(200, 2)\n",
      "(200,)\n",
      "(200, 2)\n",
      "(200,)\n",
      "(200, 2)\n",
      "(200,)\n",
      "(200, 2)\n",
      "(200,)\n",
      "(200, 2)\n",
      "(200,)\n",
      "(200, 2)\n",
      "(200,)\n",
      "(200, 2)\n",
      "(200,)\n",
      "(200, 2)\n",
      "(200,)\n",
      "(200, 2)\n",
      "(200,)\n",
      "(200, 2)\n",
      "(200,)\n",
      "(200, 2)\n",
      "(200,)\n",
      "(200, 2)\n",
      "(200,)\n",
      "(200, 2)\n",
      "(200,)\n",
      "(200, 2)\n",
      "(200,)\n",
      "(200, 2)\n",
      "(200,)\n",
      "(200, 2)\n",
      "(200,)\n",
      "(200, 2)\n",
      "(200,)\n",
      "(200, 2)\n",
      "(200,)\n",
      "(200, 2)\n",
      "(200,)\n",
      "(200, 2)\n",
      "(200,)\n",
      "(200, 2)\n",
      "(200,)\n",
      "(200, 2)\n",
      "(200,)\n",
      "(200, 2)\n",
      "(200,)\n",
      "(200, 2)\n",
      "(200,)\n",
      "(200, 2)\n",
      "(200,)\n",
      "(200, 2)\n",
      "(200,)\n",
      "(200, 2)\n",
      "(200,)\n",
      "(200, 2)\n",
      "(200,)\n",
      "(200, 2)\n",
      "(200,)\n",
      "(200, 2)\n",
      "(200,)\n",
      "(200, 2)\n",
      "(200,)\n",
      "(200, 2)\n",
      "(200,)\n",
      "(200, 2)\n",
      "(200,)\n",
      "(200, 2)\n",
      "(200,)\n",
      "(200, 2)\n",
      "(200,)\n",
      "(200, 2)\n",
      "(200,)\n",
      "(200, 2)\n",
      "(200,)\n",
      "(200, 2)\n",
      "(200,)\n",
      "(200, 2)\n",
      "(200,)\n",
      "(200, 2)\n",
      "(200,)\n",
      "(200, 2)\n",
      "(200,)\n",
      "(200, 2)\n",
      "(200,)\n",
      "(200, 2)\n",
      "(200,)\n",
      "(200, 2)\n",
      "(200,)\n",
      "(200, 2)\n",
      "(200,)\n",
      "(200, 2)\n",
      "(200,)\n",
      "(200, 2)\n",
      "(200,)\n",
      "(200, 2)\n",
      "(200,)\n",
      "(200, 2)\n",
      "(200,)\n",
      "(200, 2)\n",
      "(200,)\n",
      "(200, 2)\n",
      "(200,)\n",
      "(200, 2)\n",
      "(200,)\n",
      "(200, 2)\n",
      "(200,)\n",
      "(200, 2)\n",
      "(200,)\n",
      "(200, 2)\n",
      "(200,)\n",
      "(200, 2)\n",
      "(200,)\n",
      "(200, 2)\n",
      "(200,)\n",
      "(200, 2)\n",
      "(200,)\n",
      "(200, 2)\n",
      "(200,)\n",
      "(200, 2)\n",
      "(200,)\n",
      "(200, 2)\n",
      "(200,)\n",
      "(200, 2)\n",
      "(200,)\n",
      "(200, 2)\n",
      "(200,)\n",
      "(200, 2)\n",
      "(200,)\n",
      "(200, 2)\n",
      "(200,)\n",
      "(200, 2)\n",
      "(200,)\n",
      "(200, 2)\n",
      "(200,)\n",
      "(200, 2)\n",
      "(200,)\n",
      "(200, 2)\n",
      "(200,)\n",
      "(200, 2)\n",
      "(200,)\n",
      "(200, 2)\n",
      "(200,)\n",
      "(200, 2)\n",
      "(200,)\n",
      "(200, 2)\n",
      "(200,)\n",
      "(200, 2)\n",
      "(200,)\n",
      "(200, 2)\n",
      "(200,)\n",
      "(200, 2)\n",
      "(200,)\n",
      "(200, 2)\n",
      "(200,)\n",
      "(200, 2)\n",
      "(200,)\n",
      "(200, 2)\n",
      "(200,)\n",
      "(200, 2)\n",
      "(200,)\n",
      "(200, 2)\n",
      "(200,)\n",
      "(200, 2)\n",
      "(200,)\n",
      "(200, 2)\n",
      "(200,)\n",
      "(200, 2)\n",
      "(200,)\n",
      "(200, 2)\n",
      "(200,)\n",
      "(200, 2)\n",
      "(200,)\n",
      "(200, 2)\n",
      "(200,)\n",
      "(200, 2)\n",
      "(200,)\n",
      "(200, 2)\n",
      "(200,)\n",
      "(200, 2)\n",
      "(200,)\n",
      "(200, 2)\n",
      "(200,)\n",
      "(200, 2)\n",
      "(200,)\n",
      "(200, 2)\n",
      "(200,)\n",
      "(200, 2)\n",
      "(200,)\n",
      "(200, 2)\n",
      "(200,)\n",
      "(200, 2)\n",
      "(200,)\n",
      "(200, 2)\n",
      "(200,)\n",
      "(200, 2)\n",
      "(200,)\n",
      "(200, 2)\n",
      "(200,)\n",
      "(200, 2)\n",
      "(200,)\n",
      "(200, 2)\n",
      "(200,)\n",
      "(200, 2)\n",
      "(200,)\n",
      "(200, 2)\n",
      "(200,)\n",
      "(200, 2)\n",
      "(200,)\n",
      "(200, 2)\n",
      "(200,)\n",
      "(200, 2)\n",
      "(200,)\n",
      "(200, 2)\n",
      "(200,)\n",
      "(200, 2)\n",
      "(200,)\n",
      "(200, 2)\n",
      "(200,)\n",
      "(200, 2)\n",
      "(200,)\n",
      "(200, 2)\n",
      "(200,)\n",
      "(200, 2)\n",
      "(200,)\n",
      "(200, 2)\n",
      "(200,)\n",
      "(200, 2)\n",
      "(200,)\n",
      "(200, 2)\n",
      "(200,)\n",
      "(200, 2)\n",
      "(200,)\n",
      "(200, 2)\n",
      "(200,)\n",
      "(200, 2)\n",
      "(200,)\n",
      "(200, 2)\n",
      "(200,)\n",
      "(200, 2)\n",
      "(200,)\n",
      "(200, 2)\n",
      "(200,)\n",
      "(200, 2)\n",
      "(200,)\n",
      "(200, 2)\n",
      "(200,)\n",
      "(200, 2)\n",
      "(200,)\n",
      "(200, 2)\n",
      "(200,)\n",
      "(200, 2)\n",
      "(200,)\n",
      "(200, 2)\n",
      "(200,)\n",
      "(200, 2)\n",
      "(200,)\n",
      "(200, 2)\n",
      "(200,)\n",
      "(200, 2)\n",
      "(200,)\n",
      "(200, 2)\n",
      "(200,)\n",
      "(200, 2)\n",
      "(200,)\n",
      "(200, 2)\n",
      "(200,)\n",
      "(200, 2)\n",
      "(200,)\n",
      "(200, 2)\n",
      "(200,)\n",
      "(200, 2)\n",
      "(200,)\n",
      "(200, 2)\n",
      "(200,)\n",
      "(200, 2)\n",
      "(200,)\n",
      "(200, 2)\n",
      "(200,)\n",
      "(200, 2)\n",
      "(200,)\n",
      "(200, 2)\n",
      "(200,)\n",
      "(200, 2)\n",
      "(200,)\n",
      "(200, 2)\n",
      "(200,)\n",
      "(200, 2)\n",
      "(200,)\n",
      "(200, 2)\n",
      "(200,)\n",
      "(200, 2)\n",
      "(200,)\n",
      "(200, 2)\n",
      "(200,)\n",
      "(200, 2)\n",
      "(200,)\n",
      "(200, 2)\n",
      "(200,)\n",
      "(200, 2)\n",
      "(200,)\n",
      "(200, 2)\n",
      "(200,)\n",
      "(200, 2)\n",
      "(200,)\n",
      "(200, 2)\n",
      "(200,)\n",
      "(200, 2)\n",
      "(200,)\n",
      "(200, 2)\n",
      "(200,)\n",
      "(200, 2)\n",
      "(200,)\n",
      "(200, 2)\n",
      "(200,)\n",
      "(200, 2)\n",
      "(200,)\n",
      "(200, 2)\n",
      "(200,)\n",
      "(200, 2)\n",
      "(200,)\n",
      "(200, 2)\n",
      "(200,)\n",
      "(200, 2)\n",
      "(200,)\n",
      "(200, 2)\n",
      "(200,)\n",
      "(200, 2)\n",
      "(200,)\n",
      "(200, 2)\n",
      "(200,)\n",
      "(200, 2)\n",
      "(200,)\n",
      "(200, 2)\n",
      "(200,)\n",
      "(200, 2)\n",
      "(200,)\n",
      "(200, 2)\n",
      "(200,)\n",
      "(200, 2)\n",
      "(200,)\n",
      "(200, 2)\n",
      "(200,)\n",
      "(200, 2)\n",
      "(200,)\n",
      "(200, 2)\n",
      "(200,)\n",
      "(200, 2)\n",
      "(200,)\n",
      "(200, 2)\n",
      "(200,)\n",
      "(200, 2)\n",
      "(200,)\n",
      "(200, 2)\n",
      "(200,)\n",
      "(200, 2)\n",
      "(200,)\n",
      "(200, 2)\n",
      "(200,)\n",
      "(200, 2)\n",
      "(200,)\n",
      "(200, 2)\n",
      "(200,)\n",
      "(200, 2)\n",
      "(200,)\n",
      "(200, 2)\n",
      "(200,)\n",
      "(200, 2)\n",
      "(200,)\n",
      "(200, 2)\n",
      "(200,)\n",
      "(200, 2)\n",
      "(200,)\n",
      "(200, 2)\n",
      "(200,)\n",
      "(200, 2)\n",
      "(200,)\n",
      "(200, 2)\n",
      "(200,)\n",
      "(200, 2)\n",
      "(200,)\n",
      "(200, 2)\n",
      "(200,)\n",
      "(200, 2)\n",
      "(200,)\n",
      "(200, 2)\n",
      "(200,)\n",
      "(200, 2)\n",
      "(200,)\n",
      "(200, 2)\n",
      "(200,)\n",
      "(200, 2)\n",
      "(200,)\n",
      "(200, 2)\n",
      "(200,)\n",
      "(200, 2)\n",
      "(200,)\n",
      "(200, 2)\n",
      "(200,)\n",
      "(200, 2)\n",
      "(200,)\n",
      "(200, 2)\n",
      "(200,)\n",
      "(200, 2)\n",
      "(200,)\n",
      "(200, 2)\n",
      "(200,)\n",
      "(200, 2)\n",
      "(200,)\n",
      "(200, 2)\n",
      "(200,)\n",
      "(200, 2)\n",
      "(200,)\n",
      "(200, 2)\n",
      "(200,)\n",
      "(200, 2)\n",
      "(200,)\n",
      "(200, 2)\n",
      "(200,)\n",
      "(200, 2)\n",
      "(200,)\n",
      "(200, 2)\n",
      "(200,)\n",
      "(200, 2)\n",
      "(200,)\n",
      "(200, 2)\n",
      "(200,)\n",
      "(200, 2)\n",
      "(200,)\n",
      "(200, 2)\n",
      "(200,)\n",
      "(200, 2)\n",
      "(200,)\n",
      "(200, 2)\n",
      "(200,)\n",
      "(200, 2)\n",
      "(200,)\n",
      "(200, 2)\n",
      "(200,)\n",
      "(200, 2)\n",
      "(200,)\n",
      "(200, 2)\n",
      "(200,)\n",
      "(200, 2)\n",
      "(200,)\n",
      "(200, 2)\n",
      "(200,)\n",
      "(200, 2)\n",
      "(200,)\n",
      "(200, 2)\n",
      "(200,)\n",
      "(200, 2)\n",
      "(200,)\n",
      "(200, 2)\n",
      "(200,)\n",
      "(200, 2)\n",
      "(200,)\n",
      "(200, 2)\n",
      "(200,)\n",
      "(200, 2)\n",
      "(200,)\n",
      "(200, 2)\n",
      "(200,)\n",
      "(200, 2)\n",
      "(200,)\n",
      "(200, 2)\n",
      "(200,)\n",
      "(200, 2)\n",
      "(200,)\n",
      "(200, 2)\n",
      "(200,)\n",
      "(200, 2)\n",
      "(200,)\n",
      "(200, 2)\n",
      "(200,)\n",
      "(200, 2)\n",
      "(200,)\n",
      "(200, 2)\n",
      "(200,)\n",
      "(200, 2)\n",
      "(200,)\n",
      "(200, 2)\n",
      "(200,)\n",
      "(200, 2)\n",
      "(200,)\n",
      "(200, 2)\n",
      "(200,)\n",
      "(200, 2)\n",
      "(200,)\n",
      "(200, 2)\n",
      "(200,)\n",
      "(200, 2)\n",
      "(200,)\n",
      "(200, 2)\n",
      "(200,)\n",
      "(200, 2)\n",
      "(200,)\n",
      "(200, 2)\n",
      "(200,)\n",
      "(200, 2)\n",
      "(200,)\n",
      "(200, 2)\n",
      "(200,)\n",
      "(200, 2)\n",
      "(200,)\n",
      "(200, 2)\n",
      "(200,)\n",
      "(200, 2)\n",
      "(200,)\n",
      "(200, 2)\n",
      "(200,)\n",
      "(200, 2)\n",
      "(200,)\n",
      "(200, 2)\n",
      "(200,)\n",
      "(200, 2)\n",
      "(200,)\n",
      "(200, 2)\n",
      "(200,)\n",
      "(200, 2)\n",
      "(200,)\n",
      "(200, 2)\n",
      "(200,)\n",
      "(200, 2)\n",
      "(200,)\n",
      "(200, 2)\n",
      "(200,)\n",
      "(200, 2)\n",
      "(200,)\n",
      "(200, 2)\n",
      "(200,)\n",
      "(200, 2)\n",
      "(200,)\n",
      "(200, 2)\n",
      "(200,)\n",
      "(200, 2)\n",
      "(200,)\n",
      "(200, 2)\n",
      "(200,)\n",
      "(200, 2)\n",
      "(200,)\n",
      "(200, 2)\n",
      "(200,)\n",
      "(200, 2)\n",
      "(200,)\n",
      "(200, 2)\n",
      "(200,)\n",
      "(200, 2)\n",
      "(200,)\n",
      "(200, 2)\n",
      "(200,)\n",
      "(200, 2)\n",
      "(200,)\n",
      "(200, 2)\n",
      "(200,)\n",
      "(200, 2)\n",
      "(200,)\n",
      "(200, 2)\n",
      "(200,)\n",
      "(200, 2)\n",
      "(200,)\n",
      "(200, 2)\n",
      "(200,)\n",
      "(200, 2)\n",
      "(200,)\n",
      "(200, 2)\n",
      "(200,)\n",
      "(200, 2)\n",
      "(200,)\n",
      "(200, 2)\n",
      "(200,)\n",
      "(200, 2)\n",
      "(200,)\n",
      "(200, 2)\n",
      "(200,)\n",
      "(200, 2)\n",
      "(200,)\n",
      "(200, 2)\n",
      "(200,)\n",
      "(200, 2)\n",
      "(200,)\n",
      "(200, 2)\n",
      "(200,)\n",
      "(200, 2)\n",
      "(200,)\n",
      "(200, 2)\n",
      "(200,)\n",
      "(200, 2)\n",
      "(200,)\n",
      "(200, 2)\n",
      "(200,)\n",
      "(200, 2)\n",
      "(200,)\n",
      "(200, 2)\n",
      "(200,)\n",
      "(200, 2)\n",
      "(200,)\n",
      "(200, 2)\n",
      "(200,)\n",
      "(200, 2)\n",
      "(200,)\n",
      "(200, 2)\n",
      "(200,)\n",
      "(200, 2)\n",
      "(200,)\n",
      "(200, 2)\n",
      "(200,)\n",
      "(200, 2)\n",
      "(200,)\n",
      "(200, 2)\n",
      "(200,)\n",
      "(200, 2)\n",
      "(200,)\n",
      "(200, 2)\n",
      "(200,)\n",
      "(200, 2)\n",
      "(200,)\n",
      "(200, 2)\n",
      "(200,)\n",
      "(200, 2)\n",
      "(200,)\n",
      "(200, 2)\n",
      "(200,)\n",
      "(200, 2)\n",
      "(200,)\n",
      "(200, 2)\n",
      "(200,)\n",
      "(200, 2)\n",
      "(200,)\n",
      "(200, 2)\n",
      "(200,)\n",
      "(200, 2)\n",
      "(200,)\n",
      "(200, 2)\n",
      "(200,)\n",
      "(200, 2)\n",
      "(200,)\n",
      "(200, 2)\n",
      "(200,)\n",
      "(200, 2)\n",
      "(200,)\n",
      "(200, 2)\n",
      "(200,)\n",
      "(200, 2)\n",
      "(200,)\n",
      "(200, 2)\n",
      "(200,)\n",
      "(200, 2)\n",
      "(200,)\n",
      "(200, 2)\n",
      "(200,)\n",
      "(200, 2)\n",
      "(200,)\n",
      "(200, 2)\n",
      "(200,)\n",
      "(200, 2)\n",
      "(200,)\n",
      "(200, 2)\n",
      "(200,)\n",
      "(200, 2)\n",
      "(200,)\n",
      "(200, 2)\n",
      "(200,)\n",
      "(200, 2)\n",
      "(200,)\n",
      "(200, 2)\n",
      "(200,)\n",
      "(200, 2)\n",
      "(200,)\n",
      "(200, 2)\n",
      "(200,)\n",
      "(200, 2)\n",
      "(200,)\n",
      "(200, 2)\n",
      "(200,)\n",
      "(200, 2)\n",
      "(200,)\n",
      "(200, 2)\n",
      "(200,)\n",
      "(200, 2)\n",
      "(200,)\n",
      "(200, 2)\n",
      "(200,)\n",
      "(200, 2)\n",
      "(200,)\n",
      "(200, 2)\n",
      "(200,)\n",
      "(200, 2)\n",
      "(200,)\n",
      "(200, 2)\n",
      "(200,)\n",
      "(200, 2)\n",
      "(200,)\n",
      "(200, 2)\n",
      "(200,)\n",
      "(200, 2)\n",
      "(200,)\n",
      "(200, 2)\n",
      "(200,)\n",
      "(200, 2)\n",
      "(200,)\n",
      "(200, 2)\n",
      "(200,)\n",
      "(200, 2)\n",
      "(200,)\n",
      "(200, 2)\n",
      "(200,)\n",
      "(200, 2)\n",
      "(200,)\n",
      "(200, 2)\n",
      "(200,)\n",
      "(200, 2)\n",
      "(200,)\n",
      "(200, 2)\n",
      "(200,)\n",
      "(200, 2)\n",
      "(200,)\n",
      "(200, 2)\n",
      "(200,)\n",
      "(200, 2)\n",
      "(200,)\n",
      "(200, 2)\n",
      "(200,)\n",
      "(200, 2)\n",
      "(200,)\n",
      "(200, 2)\n",
      "(200,)\n",
      "(200, 2)\n",
      "(200,)\n",
      "(200, 2)\n",
      "(200,)\n",
      "(200, 2)\n",
      "(200,)\n",
      "(200, 2)\n",
      "(200,)\n",
      "(200, 2)\n",
      "(200,)\n",
      "(200, 2)\n",
      "(200,)\n",
      "(200, 2)\n",
      "(200,)\n",
      "(200, 2)\n",
      "(200,)\n",
      "(200, 2)\n",
      "(200,)\n",
      "(200, 2)\n",
      "(200,)\n",
      "(200, 2)\n",
      "(200,)\n",
      "(200, 2)\n",
      "(200,)\n",
      "(200, 2)\n",
      "(200,)\n",
      "(200, 2)\n",
      "(200,)\n",
      "(200, 2)\n",
      "(200,)\n",
      "(200, 2)\n",
      "(200,)\n",
      "(200, 2)\n",
      "(200,)\n",
      "(200, 2)\n",
      "(200,)\n",
      "(200, 2)\n",
      "(200,)\n"
     ]
    }
   ],
   "source": [
    "results_2 = bootstrap_profit(true_product_2, predicted_product_2, 'region_2') "
   ]
  },
  {
   "cell_type": "code",
   "execution_count": 457,
   "metadata": {},
   "outputs": [
    {
     "data": {
      "image/png": "[encoded data removed]",
      "text/plain": [
       "<Figure size 432x288 with 1 Axes>"
      ]
     },
     "metadata": {
      "needs_background": "light"
     },
     "output_type": "display_data"
    },
    {
     "name": "stdout",
     "output_type": "stream",
     "text": [
      "Средняя прибыль по региону 0: 392950475.17060447\n",
      "Стандартное отклонение прибыли по региону 0: 270372082.9993838\n",
      "Доверительный интервал прибыли по региону 0: от -112227625.37857565 до 934562914.5511636\n",
      "Риск убытка в региону: 0.065\n"
     ]
    }
   ],
   "source": [
    "# Строим гистограмму распределения прибыли по всем подвыборкам\n",
    "plt.hist(results_2['profits'])\n",
    "plt.xlabel('Прибыль')\n",
    "plt.ylabel('Частота')\n",
    "plt.title('Распределение прибыли по региону 0')\n",
    "plt.show()\n",
    "\n",
    "print('Средняя прибыль по региону 0:', results_2['mean_profit'])\n",
    "print('Стандартное отклонение прибыли по региону 0:', results_2['std_profit'])\n",
    "print('Доверительный интервал прибыли по региону 0: от', results_2['lower_profit'], 'до', results_2['upper_profit'])\n",
    "print('Риск убытка в региону:',results_2['risk'])"
   ]
  },
  {
   "cell_type": "code",
   "execution_count": 458,
   "metadata": {
    "scrolled": true
   },
   "outputs": [
    {
     "data": {
      "text/html": [
       "<div>\n",
       "<style scoped>\n",
       "    .dataframe tbody tr th:only-of-type {\n",
       "        vertical-align: middle;\n",
       "    }\n",
       "\n",
       "    .dataframe tbody tr th {\n",
       "        vertical-align: top;\n",
       "    }\n",
       "\n",
       "    .dataframe thead th {\n",
       "        text-align: right;\n",
       "    }\n",
       "</style>\n",
       "<table border=\"1\" class=\"dataframe\">\n",
       "  <thead>\n",
       "    <tr style=\"text-align: right;\">\n",
       "      <th></th>\n",
       "      <th>upper_profit</th>\n",
       "      <th>std_profit_deviation</th>\n",
       "      <th>lower_profit</th>\n",
       "      <th>mean_profit</th>\n",
       "      <th>risk</th>\n",
       "    </tr>\n",
       "  </thead>\n",
       "  <tbody>\n",
       "    <tr>\n",
       "      <th>region_0</th>\n",
       "      <td>909.8 милиона р</td>\n",
       "      <td>266.5 милиона р</td>\n",
       "      <td>-111.2 милиона р</td>\n",
       "      <td>396.2 милиона р</td>\n",
       "      <td>0.069</td>\n",
       "    </tr>\n",
       "    <tr>\n",
       "      <th>region_1</th>\n",
       "      <td>863.0 милиона р</td>\n",
       "      <td>198.5 милиона р</td>\n",
       "      <td>78.1 милиона р</td>\n",
       "      <td>461.2 милиона р</td>\n",
       "      <td>0.007</td>\n",
       "    </tr>\n",
       "    <tr>\n",
       "      <th>region_2</th>\n",
       "      <td>934.6 милиона р</td>\n",
       "      <td>270.4 милиона р</td>\n",
       "      <td>-112.2 милиона р</td>\n",
       "      <td>393.0 милиона р</td>\n",
       "      <td>0.065</td>\n",
       "    </tr>\n",
       "  </tbody>\n",
       "</table>\n",
       "</div>"
      ],
      "text/plain": [
       "              upper_profit std_profit_deviation       lower_profit  \\\n",
       "region_0   909.8 милиона р      266.5 милиона р   -111.2 милиона р   \n",
       "region_1   863.0 милиона р      198.5 милиона р     78.1 милиона р   \n",
       "region_2   934.6 милиона р      270.4 милиона р   -112.2 милиона р   \n",
       "\n",
       "               mean_profit   risk  \n",
       "region_0   396.2 милиона р  0.069  \n",
       "region_1   461.2 милиона р  0.007  \n",
       "region_2   393.0 милиона р  0.065  "
      ]
     },
     "execution_count": 458,
     "metadata": {},
     "output_type": "execute_result"
    }
   ],
   "source": [
    "# Импортируем библиотеку pandas\n",
    "import pandas as pd\n",
    "\n",
    "# Создаем словарь с переменными\n",
    "data = {\n",
    "  'risk': [results_0['risk'], results_1['risk'], results_2['risk']],\n",
    "  'mean_profit': [results_0['mean_profit'], results_1['mean_profit'], results_2['mean_profit']],\n",
    "  'std_profit_deviation': [results_0['std_profit'], results_1['std_profit'], results_2['std_profit']],\n",
    "  'lower_profit': [results_0['lower_profit'], results_1['lower_profit'], results_2['lower_profit']],\n",
    "  'upper_profit': [results_0['upper_profit'], results_1['upper_profit'], results_2['upper_profit']]  \n",
    "}\n",
    "\n",
    "# Создаем объект pandas.DataFrame из словаря\n",
    "df = pd.DataFrame(data)\n",
    "\n",
    "# Создаем сводную таблицу с индексом по регионам\n",
    "pivot = df.pivot_table(index=['region_0', 'region_1', 'region_2'])\n",
    "\n",
    "# Переупорядочиваем столбцы по желанию\n",
    "pivot = pivot.reindex(['upper_profit', 'std_profit_deviation', 'lower_profit', 'mean_profit', 'risk'], axis=1)\n",
    "\n",
    "# Форматируем значения с одним знаком после запятой и сокращением млн для всех столбцов кроме риск\n",
    "pivot[['upper_profit', 'std_profit_deviation', 'lower_profit', 'mean_profit']] = pivot[['upper_profit', 'std_profit_deviation', 'lower_profit', 'mean_profit']].applymap(lambda x: f' {x/1e6:.1f} милиона р')\n",
    "\n",
    "# Печатаем сводную таблицу на экране\n",
    "pivot\n"
   ]
  },
  {
   "cell_type": "markdown",
   "metadata": {},
   "source": [
    "На основании сводной таблицы, я могу сделать следующий вывод:\n",
    "\n",
    "* Все три региона имеют положительную среднюю прибыль, то есть в среднем разработка скважин приносит доход.\n",
    "* Регион 1 имеет самую высокую среднюю прибыль (**461 милиона р**),самый низкий риск убытков (**0.007**), а так же самую высокую минимальную прибыль, что делает его наименее рискованным для инвестиций.\n",
    "* Регион 2 имеет самую низкую среднюю прибыль (**393 милиона р**), самую высокую верхнюю границу прибыли (**934 милиона р**), но и самую низкую минимальную прибыль.\n",
    "* Регион 0 так же является довольно рискованным , и есть угроза убытков.\n",
    "\n",
    "Разброс значений у всех регионов достаточно велик, что свидетельствует о высокой неопределенности и вариабельности результатов. Но разброс значений у региона один значительно меньше чем у других регионов. Исходя из вышеперечисленных данных, я бы предложил выбрать регион 1 для разработки."
   ]
  },
  {
   "cell_type": "markdown",
   "metadata": {},
   "source": [
    "## Итоговый вывод"
   ]
  },
  {
   "cell_type": "markdown",
   "metadata": {},
   "source": [
    "Целью проекта было найти наиболее прибыльный регион для разработки нефтяных скважин с учетом рисков и бюджетных ограничений.\n",
    "\n",
    "Для этого мы провели следующие этапы работы:\n",
    "* Подготовка данных: мы импортировали библиотеки, загрузили данные, изучили их статистические характеристики и корреляции, закодировали категориальные признаки и разбили данные на обучающую и тестовую выборки для каждого региона.\n",
    "* Обучение и проверка модели: мы создали и обучили модель линейной регрессии для каждого региона, сделали предсказания на тестовой выборке и оценили качество модели с помощью метрики RMSE. Мы также посчитали средний запас предсказанного сырья для каждого региона.\n",
    "* Подготовка к расчету прибыли: мы определили ключевые параметры для расчета прибыли: бюджет на разработку региона, доход с каждой единицы продукта, количество скважин для разработки. Мы также посчитали достаточный объем сырья для безубыточной разработки скважины и сравнили его со средним запасом предсказанного сырья по регионам.\n",
    "* Расчет прибыли и рисков: мы применили метод бутстрепа для генерации подвыборок из исходных данных, вычислили прибыль по каждой подвыборке, нашли среднюю прибыль, доверительные интервалы и риск убытков для каждого региона.\n",
    "\n",
    "На основании полученных результатов, можно сделать вывод, что наиболее привлекательным регионом для разработки является регион 1, так как имеет наименьший риск убытков, наибольшую среднюю прибыль и наибольшую минимальную прибыль.\n"
   ]
  },
  {
   "cell_type": "markdown",
   "metadata": {},
   "source": [
    "## Чек-лист готовности проекта"
   ]
  },
  {
   "cell_type": "markdown",
   "metadata": {},
   "source": [
    "Поставьте 'x' в выполненных пунктах. Далее нажмите Shift+Enter."
   ]
  },
  {
   "cell_type": "markdown",
   "metadata": {},
   "source": [
    "- [x]  Jupyter Notebook открыт\n",
    "- [x]  Весь код выполняется без ошибок\n",
    "- [x]  Ячейки с кодом расположены в порядке исполнения\n",
    "- [x]  Выполнен шаг 1: данные подготовлены\n",
    "- [x]  Выполнен шаг 2: модели обучены и проверены\n",
    "    - [x]  Данные корректно разбиты на обучающую и валидационную выборки\n",
    "    - [x]  Модели обучены, предсказания сделаны\n",
    "    - [x]  Предсказания и правильные ответы на валидационной выборке сохранены\n",
    "    - [x]  На экране напечатаны результаты\n",
    "    - [x]  Сделаны выводы\n",
    "- [x]  Выполнен шаг 3: проведена подготовка к расчёту прибыли\n",
    "    - [x]  Для всех ключевых значений созданы константы Python\n",
    "    - [x]  Посчитано минимальное среднее количество продукта в месторождениях региона, достаточное для разработки\n",
    "    - [x]  По предыдущему пункту сделаны выводы\n",
    "    - [x]  Написана функция расчёта прибыли\n",
    "- [x]  Выполнен шаг 4: посчитаны риски и прибыль\n",
    "    - [x]  Проведена процедура *Bootstrap*\n",
    "    - [x]  Все параметры бутстрепа соответствуют условию\n",
    "    - [x]  Найдены все нужные величины\n",
    "    - [x]  Предложен регион для разработки месторождения\n",
    "    - [x]  Выбор региона обоснован"
   ]
  }
 ],
 "metadata": {
  "ExecuteTimeLog": [
   {
    "duration": 4,
    "start_time": "2023-08-30T09:44:28.514Z"
   },
   {
    "duration": 1980,
    "start_time": "2023-08-30T09:49:53.864Z"
   },
   {
    "duration": 418,
    "start_time": "2023-08-30T09:50:56.079Z"
   },
   {
    "duration": 154,
    "start_time": "2023-08-30T09:51:23.135Z"
   },
   {
    "duration": 253,
    "start_time": "2023-08-30T09:51:26.059Z"
   },
   {
    "duration": 223,
    "start_time": "2023-08-30T09:51:46.069Z"
   },
   {
    "duration": 158,
    "start_time": "2023-08-30T09:52:00.191Z"
   },
   {
    "duration": 162,
    "start_time": "2023-08-30T09:56:28.030Z"
   },
   {
    "duration": 384,
    "start_time": "2023-08-30T09:56:42.337Z"
   },
   {
    "duration": 13,
    "start_time": "2023-08-30T09:58:00.407Z"
   },
   {
    "duration": 20,
    "start_time": "2023-08-30T09:58:18.493Z"
   },
   {
    "duration": 52,
    "start_time": "2023-08-30T09:59:44.871Z"
   },
   {
    "duration": 62,
    "start_time": "2023-08-30T10:00:10.714Z"
   },
   {
    "duration": 53,
    "start_time": "2023-08-30T10:00:31.912Z"
   },
   {
    "duration": 20,
    "start_time": "2023-08-30T10:02:02.314Z"
   },
   {
    "duration": 23,
    "start_time": "2023-08-30T10:02:04.243Z"
   },
   {
    "duration": 92,
    "start_time": "2023-08-30T10:02:23.759Z"
   },
   {
    "duration": 19,
    "start_time": "2023-08-30T10:03:23.443Z"
   },
   {
    "duration": 497,
    "start_time": "2023-08-30T10:04:22.375Z"
   },
   {
    "duration": 418,
    "start_time": "2023-08-30T10:04:50.102Z"
   },
   {
    "duration": 379,
    "start_time": "2023-08-30T10:05:29.747Z"
   },
   {
    "duration": 16,
    "start_time": "2023-08-30T10:06:15.847Z"
   },
   {
    "duration": 30,
    "start_time": "2023-08-30T10:14:50.912Z"
   },
   {
    "duration": 17,
    "start_time": "2023-08-30T10:15:47.819Z"
   },
   {
    "duration": 18,
    "start_time": "2023-08-30T10:15:56.065Z"
   },
   {
    "duration": 17,
    "start_time": "2023-08-30T10:16:02.567Z"
   },
   {
    "duration": 21,
    "start_time": "2023-08-30T10:18:29.267Z"
   },
   {
    "duration": 24,
    "start_time": "2023-08-30T10:18:38.963Z"
   },
   {
    "duration": 496,
    "start_time": "2023-08-30T10:22:54.760Z"
   },
   {
    "duration": 405,
    "start_time": "2023-08-30T10:22:57.756Z"
   },
   {
    "duration": 467,
    "start_time": "2023-08-30T10:23:04.165Z"
   },
   {
    "duration": 5,
    "start_time": "2023-08-30T10:23:58.906Z"
   },
   {
    "duration": 235,
    "start_time": "2023-08-30T10:24:13.172Z"
   },
   {
    "duration": 101,
    "start_time": "2023-08-30T10:24:16.751Z"
   },
   {
    "duration": 9,
    "start_time": "2023-08-30T10:24:21.145Z"
   },
   {
    "duration": 318,
    "start_time": "2023-08-30T10:24:35.013Z"
   },
   {
    "duration": 361,
    "start_time": "2023-08-30T10:25:13.392Z"
   },
   {
    "duration": 335,
    "start_time": "2023-08-30T10:25:28.552Z"
   },
   {
    "duration": 313,
    "start_time": "2023-08-30T10:32:27.489Z"
   },
   {
    "duration": 51,
    "start_time": "2023-08-30T10:34:32.091Z"
   },
   {
    "duration": 60,
    "start_time": "2023-08-30T10:34:37.715Z"
   },
   {
    "duration": 747,
    "start_time": "2023-08-30T10:34:57.891Z"
   },
   {
    "duration": 754,
    "start_time": "2023-08-30T10:35:27.425Z"
   },
   {
    "duration": 352,
    "start_time": "2023-08-30T10:35:41.337Z"
   },
   {
    "duration": 69,
    "start_time": "2023-08-30T10:36:08.103Z"
   },
   {
    "duration": 68,
    "start_time": "2023-08-30T10:36:14.103Z"
   },
   {
    "duration": 27,
    "start_time": "2023-08-30T10:36:25.943Z"
   },
   {
    "duration": 62,
    "start_time": "2023-08-30T10:36:41.567Z"
   },
   {
    "duration": 68,
    "start_time": "2023-08-30T10:36:53.202Z"
   },
   {
    "duration": 74,
    "start_time": "2023-08-30T10:37:05.749Z"
   },
   {
    "duration": 73,
    "start_time": "2023-08-30T10:37:27.834Z"
   },
   {
    "duration": 16,
    "start_time": "2023-08-30T10:39:02.085Z"
   },
   {
    "duration": 78,
    "start_time": "2023-08-30T10:46:59.548Z"
   },
   {
    "duration": 672,
    "start_time": "2023-08-30T10:47:02.143Z"
   },
   {
    "duration": 454,
    "start_time": "2023-08-30T10:55:57.465Z"
   },
   {
    "duration": 1831,
    "start_time": "2023-08-30T10:56:18.329Z"
   },
   {
    "duration": 2012,
    "start_time": "2023-08-30T10:57:24.090Z"
   },
   {
    "duration": 85,
    "start_time": "2023-08-30T10:59:55.013Z"
   },
   {
    "duration": 1600,
    "start_time": "2023-08-30T11:00:28.654Z"
   },
   {
    "duration": 438,
    "start_time": "2023-08-30T11:00:30.256Z"
   },
   {
    "duration": 78,
    "start_time": "2023-08-30T11:00:30.696Z"
   },
   {
    "duration": 76,
    "start_time": "2023-08-30T11:00:30.776Z"
   },
   {
    "duration": 67,
    "start_time": "2023-08-30T11:00:30.855Z"
   },
   {
    "duration": 113,
    "start_time": "2023-08-30T11:00:30.924Z"
   },
   {
    "duration": 395,
    "start_time": "2023-08-30T11:00:31.046Z"
   },
   {
    "duration": 382,
    "start_time": "2023-08-30T11:00:31.442Z"
   },
   {
    "duration": 405,
    "start_time": "2023-08-30T11:00:31.826Z"
   },
   {
    "duration": 772,
    "start_time": "2023-08-30T11:00:32.233Z"
   },
   {
    "duration": 143,
    "start_time": "2023-08-30T11:00:33.008Z"
   },
   {
    "duration": 0,
    "start_time": "2023-08-30T11:00:33.153Z"
   },
   {
    "duration": 713,
    "start_time": "2023-08-30T11:00:42.336Z"
   },
   {
    "duration": 1814,
    "start_time": "2023-08-30T11:00:46.038Z"
   },
   {
    "duration": 65344,
    "start_time": "2023-08-30T11:00:49.866Z"
   },
   {
    "duration": 804,
    "start_time": "2023-08-30T11:02:30.797Z"
   },
   {
    "duration": 837,
    "start_time": "2023-08-30T11:02:50.926Z"
   },
   {
    "duration": 954,
    "start_time": "2023-08-30T11:03:03.379Z"
   },
   {
    "duration": 3,
    "start_time": "2023-08-30T11:21:06.344Z"
   },
   {
    "duration": 10,
    "start_time": "2023-08-30T11:22:03.945Z"
   },
   {
    "duration": 628,
    "start_time": "2023-08-30T11:22:05.713Z"
   },
   {
    "duration": 780,
    "start_time": "2023-08-30T11:43:56.088Z"
   },
   {
    "duration": 681,
    "start_time": "2023-08-30T11:45:48.926Z"
   },
   {
    "duration": 2553,
    "start_time": "2023-08-30T11:46:54.547Z"
   },
   {
    "duration": 2376,
    "start_time": "2023-08-30T11:47:03.713Z"
   },
   {
    "duration": 11,
    "start_time": "2023-08-30T11:47:26.731Z"
   },
   {
    "duration": 2375,
    "start_time": "2023-08-30T11:47:36.812Z"
   },
   {
    "duration": 24,
    "start_time": "2023-08-30T11:54:55.642Z"
   },
   {
    "duration": 19,
    "start_time": "2023-08-30T11:54:58.407Z"
   },
   {
    "duration": 10,
    "start_time": "2023-08-30T11:55:34.816Z"
   },
   {
    "duration": 16,
    "start_time": "2023-08-30T11:55:39.221Z"
   },
   {
    "duration": 11,
    "start_time": "2023-08-30T11:56:52.158Z"
   },
   {
    "duration": 21,
    "start_time": "2023-08-30T11:57:11.008Z"
   },
   {
    "duration": 32,
    "start_time": "2023-08-30T11:57:12.675Z"
   },
   {
    "duration": 14,
    "start_time": "2023-08-30T11:57:36.690Z"
   },
   {
    "duration": 4,
    "start_time": "2023-08-30T11:57:43.716Z"
   },
   {
    "duration": 402,
    "start_time": "2023-08-30T11:57:43.722Z"
   },
   {
    "duration": 13,
    "start_time": "2023-08-30T11:57:44.125Z"
   },
   {
    "duration": 45,
    "start_time": "2023-08-30T11:57:44.147Z"
   },
   {
    "duration": 34,
    "start_time": "2023-08-30T11:57:44.195Z"
   },
   {
    "duration": 44,
    "start_time": "2023-08-30T11:57:44.246Z"
   },
   {
    "duration": 113,
    "start_time": "2023-08-30T11:57:44.292Z"
   },
   {
    "duration": 394,
    "start_time": "2023-08-30T11:57:44.406Z"
   },
   {
    "duration": 390,
    "start_time": "2023-08-30T11:57:44.802Z"
   },
   {
    "duration": 387,
    "start_time": "2023-08-30T11:57:45.194Z"
   },
   {
    "duration": 2347,
    "start_time": "2023-08-30T11:57:45.582Z"
   },
   {
    "duration": 8,
    "start_time": "2023-08-30T11:57:50.903Z"
   },
   {
    "duration": 46,
    "start_time": "2023-08-30T12:12:40.830Z"
   },
   {
    "duration": 39,
    "start_time": "2023-08-30T12:12:46.867Z"
   },
   {
    "duration": 343,
    "start_time": "2023-08-30T12:12:49.615Z"
   },
   {
    "duration": 166,
    "start_time": "2023-08-30T12:31:56.043Z"
   },
   {
    "duration": 161,
    "start_time": "2023-08-30T12:32:07.506Z"
   },
   {
    "duration": 165,
    "start_time": "2023-08-30T12:32:15.847Z"
   },
   {
    "duration": 7,
    "start_time": "2023-08-30T12:32:29.789Z"
   },
   {
    "duration": 161,
    "start_time": "2023-08-30T12:37:54.160Z"
   },
   {
    "duration": 11,
    "start_time": "2023-08-30T12:43:58.880Z"
   },
   {
    "duration": 17,
    "start_time": "2023-08-30T12:44:07.262Z"
   },
   {
    "duration": 4,
    "start_time": "2023-08-30T12:44:45.983Z"
   },
   {
    "duration": 4,
    "start_time": "2023-08-30T12:44:49.305Z"
   },
   {
    "duration": 15,
    "start_time": "2023-08-30T12:44:53.853Z"
   },
   {
    "duration": 31,
    "start_time": "2023-08-30T12:50:48.821Z"
   },
   {
    "duration": 8,
    "start_time": "2023-08-30T12:52:11.861Z"
   },
   {
    "duration": 10,
    "start_time": "2023-08-30T12:52:36.480Z"
   },
   {
    "duration": 6,
    "start_time": "2023-08-30T12:52:42.870Z"
   },
   {
    "duration": 169,
    "start_time": "2023-08-30T12:52:58.258Z"
   },
   {
    "duration": 6,
    "start_time": "2023-08-30T12:52:59.659Z"
   },
   {
    "duration": 28,
    "start_time": "2023-08-30T12:55:16.892Z"
   },
   {
    "duration": 1625,
    "start_time": "2023-08-30T12:55:34.770Z"
   },
   {
    "duration": 17,
    "start_time": "2023-08-30T12:58:08.680Z"
   },
   {
    "duration": 14,
    "start_time": "2023-08-30T12:58:37.363Z"
   },
   {
    "duration": 12,
    "start_time": "2023-08-30T12:59:18.583Z"
   },
   {
    "duration": 12,
    "start_time": "2023-08-30T13:00:55.368Z"
   },
   {
    "duration": 4,
    "start_time": "2023-08-30T13:02:10.471Z"
   },
   {
    "duration": 81,
    "start_time": "2023-08-30T13:03:01.569Z"
   },
   {
    "duration": 193,
    "start_time": "2023-08-30T13:03:12.957Z"
   },
   {
    "duration": 241,
    "start_time": "2023-08-30T13:03:21.619Z"
   },
   {
    "duration": 58,
    "start_time": "2023-08-30T13:04:02.690Z"
   },
   {
    "duration": 84,
    "start_time": "2023-08-30T13:06:46.165Z"
   },
   {
    "duration": 105,
    "start_time": "2023-08-30T13:07:44.645Z"
   },
   {
    "duration": 181,
    "start_time": "2023-08-30T13:08:17.368Z"
   },
   {
    "duration": 82,
    "start_time": "2023-08-30T13:08:48.170Z"
   },
   {
    "duration": 11,
    "start_time": "2023-08-30T13:09:00.849Z"
   },
   {
    "duration": 390,
    "start_time": "2023-08-30T13:09:35.157Z"
   },
   {
    "duration": 10,
    "start_time": "2023-08-30T13:11:15.882Z"
   },
   {
    "duration": 22,
    "start_time": "2023-08-30T13:11:19.598Z"
   },
   {
    "duration": 15,
    "start_time": "2023-08-30T13:12:53.968Z"
   },
   {
    "duration": 19,
    "start_time": "2023-08-30T13:13:12.092Z"
   },
   {
    "duration": 136,
    "start_time": "2023-08-30T13:13:44.912Z"
   },
   {
    "duration": 1804,
    "start_time": "2023-08-30T13:18:26.962Z"
   },
   {
    "duration": 164,
    "start_time": "2023-08-30T13:26:50.444Z"
   },
   {
    "duration": 178,
    "start_time": "2023-08-30T13:27:23.385Z"
   },
   {
    "duration": 164,
    "start_time": "2023-08-30T13:27:24.955Z"
   },
   {
    "duration": 5,
    "start_time": "2023-08-30T13:31:27.767Z"
   },
   {
    "duration": 5,
    "start_time": "2023-08-30T13:36:57.357Z"
   },
   {
    "duration": 84,
    "start_time": "2023-08-30T13:48:02.493Z"
   },
   {
    "duration": 6,
    "start_time": "2023-08-30T13:48:06.845Z"
   },
   {
    "duration": 7,
    "start_time": "2023-08-30T13:48:38.197Z"
   },
   {
    "duration": 9,
    "start_time": "2023-08-30T13:48:51.267Z"
   },
   {
    "duration": 9,
    "start_time": "2023-08-30T13:48:59.079Z"
   },
   {
    "duration": 8,
    "start_time": "2023-08-30T13:49:05.676Z"
   },
   {
    "duration": 24,
    "start_time": "2023-08-30T14:01:35.029Z"
   },
   {
    "duration": 33,
    "start_time": "2023-08-30T14:03:56.251Z"
   },
   {
    "duration": 8,
    "start_time": "2023-08-30T14:04:06.814Z"
   },
   {
    "duration": 19,
    "start_time": "2023-08-30T14:04:39.154Z"
   },
   {
    "duration": 1543,
    "start_time": "2023-08-30T14:04:55.269Z"
   },
   {
    "duration": 415,
    "start_time": "2023-08-30T14:04:56.814Z"
   },
   {
    "duration": 21,
    "start_time": "2023-08-30T14:04:57.232Z"
   },
   {
    "duration": 75,
    "start_time": "2023-08-30T14:04:57.255Z"
   },
   {
    "duration": 35,
    "start_time": "2023-08-30T14:04:57.333Z"
   },
   {
    "duration": 40,
    "start_time": "2023-08-30T14:04:57.370Z"
   },
   {
    "duration": 109,
    "start_time": "2023-08-30T14:04:57.411Z"
   },
   {
    "duration": 191,
    "start_time": "2023-08-30T14:04:57.522Z"
   },
   {
    "duration": 184,
    "start_time": "2023-08-30T14:04:57.715Z"
   },
   {
    "duration": 168,
    "start_time": "2023-08-30T14:04:57.901Z"
   },
   {
    "duration": 370,
    "start_time": "2023-08-30T14:04:58.072Z"
   },
   {
    "duration": 454,
    "start_time": "2023-08-30T14:04:58.446Z"
   },
   {
    "duration": 390,
    "start_time": "2023-08-30T14:04:58.902Z"
   },
   {
    "duration": 2307,
    "start_time": "2023-08-30T14:04:59.295Z"
   },
   {
    "duration": 8,
    "start_time": "2023-08-30T14:05:01.604Z"
   },
   {
    "duration": 259,
    "start_time": "2023-08-30T14:05:01.614Z"
   },
   {
    "duration": 342,
    "start_time": "2023-08-30T14:05:01.875Z"
   },
   {
    "duration": 329,
    "start_time": "2023-08-30T14:05:02.219Z"
   },
   {
    "duration": 99,
    "start_time": "2023-08-30T14:05:02.550Z"
   },
   {
    "duration": 64,
    "start_time": "2023-08-30T14:05:02.651Z"
   },
   {
    "duration": 120,
    "start_time": "2023-08-30T14:08:29.270Z"
   },
   {
    "duration": 25,
    "start_time": "2023-08-30T14:08:56.777Z"
   },
   {
    "duration": 21,
    "start_time": "2023-08-30T14:09:11.303Z"
   },
   {
    "duration": 12,
    "start_time": "2023-08-30T14:11:10.909Z"
   },
   {
    "duration": 19,
    "start_time": "2023-08-30T14:17:39.578Z"
   },
   {
    "duration": 17,
    "start_time": "2023-08-30T14:22:19.045Z"
   },
   {
    "duration": 11,
    "start_time": "2023-08-30T14:25:39.517Z"
   },
   {
    "duration": 9,
    "start_time": "2023-08-30T14:25:44.704Z"
   },
   {
    "duration": 9,
    "start_time": "2023-08-30T14:26:17.520Z"
   },
   {
    "duration": 9,
    "start_time": "2023-08-30T14:27:21.876Z"
   },
   {
    "duration": 9,
    "start_time": "2023-08-30T14:27:29.517Z"
   },
   {
    "duration": 9,
    "start_time": "2023-08-30T14:27:56.744Z"
   },
   {
    "duration": 187,
    "start_time": "2023-08-30T14:28:20.487Z"
   },
   {
    "duration": 99,
    "start_time": "2023-08-30T14:29:15.961Z"
   },
   {
    "duration": 85,
    "start_time": "2023-08-30T14:29:19.039Z"
   },
   {
    "duration": 11,
    "start_time": "2023-08-30T14:29:23.265Z"
   },
   {
    "duration": 11,
    "start_time": "2023-08-30T14:29:36.780Z"
   },
   {
    "duration": 20,
    "start_time": "2023-08-30T14:31:35.295Z"
   },
   {
    "duration": 17,
    "start_time": "2023-08-30T14:31:47.081Z"
   },
   {
    "duration": 5,
    "start_time": "2023-08-30T14:39:21.066Z"
   },
   {
    "duration": 12,
    "start_time": "2023-08-30T14:40:09.889Z"
   },
   {
    "duration": 12,
    "start_time": "2023-08-30T14:40:21.664Z"
   },
   {
    "duration": 15,
    "start_time": "2023-08-30T14:41:09.904Z"
   },
   {
    "duration": 14,
    "start_time": "2023-08-30T14:41:34.926Z"
   },
   {
    "duration": 13,
    "start_time": "2023-08-30T14:41:55.876Z"
   },
   {
    "duration": 18,
    "start_time": "2023-08-30T14:43:05.926Z"
   },
   {
    "duration": 8,
    "start_time": "2023-08-30T14:55:06.187Z"
   },
   {
    "duration": 13,
    "start_time": "2023-08-30T14:55:14.953Z"
   },
   {
    "duration": 13,
    "start_time": "2023-08-30T14:55:19.918Z"
   },
   {
    "duration": 12,
    "start_time": "2023-08-30T14:55:22.780Z"
   },
   {
    "duration": 14,
    "start_time": "2023-08-30T14:55:29.018Z"
   },
   {
    "duration": 15,
    "start_time": "2023-08-30T14:55:36.723Z"
   },
   {
    "duration": 1514,
    "start_time": "2023-08-30T14:56:46.231Z"
   },
   {
    "duration": 408,
    "start_time": "2023-08-30T14:56:47.747Z"
   },
   {
    "duration": 18,
    "start_time": "2023-08-30T14:56:48.157Z"
   },
   {
    "duration": 48,
    "start_time": "2023-08-30T14:56:48.177Z"
   },
   {
    "duration": 50,
    "start_time": "2023-08-30T14:56:48.228Z"
   },
   {
    "duration": 39,
    "start_time": "2023-08-30T14:56:48.280Z"
   },
   {
    "duration": 114,
    "start_time": "2023-08-30T14:56:48.321Z"
   },
   {
    "duration": 188,
    "start_time": "2023-08-30T14:56:48.437Z"
   },
   {
    "duration": 174,
    "start_time": "2023-08-30T14:56:48.626Z"
   },
   {
    "duration": 168,
    "start_time": "2023-08-30T14:56:48.802Z"
   },
   {
    "duration": 383,
    "start_time": "2023-08-30T14:56:48.972Z"
   },
   {
    "duration": 451,
    "start_time": "2023-08-30T14:56:49.358Z"
   },
   {
    "duration": 387,
    "start_time": "2023-08-30T14:56:49.811Z"
   },
   {
    "duration": 2242,
    "start_time": "2023-08-30T14:56:50.201Z"
   },
   {
    "duration": 8,
    "start_time": "2023-08-30T14:56:52.446Z"
   },
   {
    "duration": 197,
    "start_time": "2023-08-30T14:56:52.455Z"
   },
   {
    "duration": 7,
    "start_time": "2023-08-30T14:56:52.653Z"
   },
   {
    "duration": 290,
    "start_time": "2023-08-30T14:56:52.661Z"
   },
   {
    "duration": 6,
    "start_time": "2023-08-30T14:56:52.954Z"
   },
   {
    "duration": 25,
    "start_time": "2023-08-30T14:56:53.047Z"
   },
   {
    "duration": 17,
    "start_time": "2023-08-30T14:57:43.882Z"
   },
   {
    "duration": 17,
    "start_time": "2023-08-30T14:58:50.413Z"
   },
   {
    "duration": 16,
    "start_time": "2023-08-30T15:00:11.335Z"
   },
   {
    "duration": 18,
    "start_time": "2023-08-30T15:00:18.992Z"
   },
   {
    "duration": 20,
    "start_time": "2023-08-30T15:00:21.779Z"
   },
   {
    "duration": 135,
    "start_time": "2023-08-30T15:02:56.816Z"
   },
   {
    "duration": 16,
    "start_time": "2023-08-30T15:03:06.839Z"
   },
   {
    "duration": 18,
    "start_time": "2023-08-30T15:03:17.255Z"
   },
   {
    "duration": 17,
    "start_time": "2023-08-30T15:03:20.493Z"
   },
   {
    "duration": 17,
    "start_time": "2023-08-30T15:03:47.504Z"
   },
   {
    "duration": 16,
    "start_time": "2023-08-30T15:04:01.504Z"
   },
   {
    "duration": 16,
    "start_time": "2023-08-30T15:04:21.159Z"
   },
   {
    "duration": 17,
    "start_time": "2023-08-30T15:04:24.587Z"
   },
   {
    "duration": 16,
    "start_time": "2023-08-30T15:16:11.221Z"
   },
   {
    "duration": 18,
    "start_time": "2023-08-30T15:16:15.415Z"
   },
   {
    "duration": 26,
    "start_time": "2023-08-30T15:17:06.352Z"
   },
   {
    "duration": 19,
    "start_time": "2023-08-30T15:19:52.064Z"
   },
   {
    "duration": 17,
    "start_time": "2023-08-30T15:20:59.758Z"
   },
   {
    "duration": 16,
    "start_time": "2023-08-30T15:21:08.305Z"
   },
   {
    "duration": 16,
    "start_time": "2023-08-30T15:23:10.979Z"
   },
   {
    "duration": 4,
    "start_time": "2023-08-30T15:24:48.193Z"
   },
   {
    "duration": 16,
    "start_time": "2023-08-30T15:24:52.877Z"
   },
   {
    "duration": 21,
    "start_time": "2023-08-30T15:25:38.085Z"
   },
   {
    "duration": 15,
    "start_time": "2023-08-30T15:25:49.214Z"
   },
   {
    "duration": 4,
    "start_time": "2023-08-30T15:26:14.010Z"
   },
   {
    "duration": 16,
    "start_time": "2023-08-30T15:26:34.206Z"
   },
   {
    "duration": 19,
    "start_time": "2023-08-30T15:33:26.414Z"
   },
   {
    "duration": 16,
    "start_time": "2023-08-30T15:37:37.370Z"
   },
   {
    "duration": 18,
    "start_time": "2023-08-30T15:41:41.345Z"
   },
   {
    "duration": 16,
    "start_time": "2023-08-30T15:42:24.134Z"
   },
   {
    "duration": 17,
    "start_time": "2023-08-30T15:42:37.524Z"
   },
   {
    "duration": 3,
    "start_time": "2023-08-30T15:49:55.286Z"
   },
   {
    "duration": 4106,
    "start_time": "2023-08-30T16:06:05.041Z"
   },
   {
    "duration": 3992,
    "start_time": "2023-08-30T16:10:47.672Z"
   },
   {
    "duration": 4,
    "start_time": "2023-08-30T16:19:01.990Z"
   },
   {
    "duration": 17,
    "start_time": "2023-08-30T16:21:54.323Z"
   },
   {
    "duration": 4115,
    "start_time": "2023-08-30T16:21:58.719Z"
   },
   {
    "duration": 5,
    "start_time": "2023-08-30T16:22:05.915Z"
   },
   {
    "duration": 4070,
    "start_time": "2023-08-30T16:22:43.482Z"
   },
   {
    "duration": 5,
    "start_time": "2023-08-30T16:24:31.326Z"
   },
   {
    "duration": 4122,
    "start_time": "2023-08-30T16:24:53.585Z"
   },
   {
    "duration": 4076,
    "start_time": "2023-08-30T16:29:56.114Z"
   },
   {
    "duration": 4101,
    "start_time": "2023-08-30T16:30:53.176Z"
   },
   {
    "duration": 11,
    "start_time": "2023-08-30T16:32:38.626Z"
   },
   {
    "duration": 4107,
    "start_time": "2023-08-30T16:32:43.935Z"
   },
   {
    "duration": 4106,
    "start_time": "2023-08-30T16:32:51.408Z"
   },
   {
    "duration": 4123,
    "start_time": "2023-08-30T16:32:59.674Z"
   },
   {
    "duration": 4,
    "start_time": "2023-08-30T16:33:28.340Z"
   },
   {
    "duration": 4,
    "start_time": "2023-08-30T16:33:38.551Z"
   },
   {
    "duration": 15,
    "start_time": "2023-08-30T16:33:47.467Z"
   },
   {
    "duration": 13,
    "start_time": "2023-08-30T16:34:20.693Z"
   },
   {
    "duration": 4,
    "start_time": "2023-08-30T16:34:29.640Z"
   },
   {
    "duration": 15,
    "start_time": "2023-08-30T16:34:33.288Z"
   },
   {
    "duration": 21,
    "start_time": "2023-08-30T16:34:41.835Z"
   },
   {
    "duration": 21,
    "start_time": "2023-08-30T16:35:09.855Z"
   },
   {
    "duration": 20,
    "start_time": "2023-08-30T16:37:47.666Z"
   },
   {
    "duration": 13,
    "start_time": "2023-08-30T16:41:00.161Z"
   },
   {
    "duration": 5,
    "start_time": "2023-08-30T16:41:04.790Z"
   },
   {
    "duration": 405,
    "start_time": "2023-08-30T16:41:04.797Z"
   },
   {
    "duration": 16,
    "start_time": "2023-08-30T16:41:05.204Z"
   },
   {
    "duration": 57,
    "start_time": "2023-08-30T16:41:05.222Z"
   },
   {
    "duration": 43,
    "start_time": "2023-08-30T16:41:05.281Z"
   },
   {
    "duration": 67,
    "start_time": "2023-08-30T16:41:05.327Z"
   },
   {
    "duration": 125,
    "start_time": "2023-08-30T16:41:05.396Z"
   },
   {
    "duration": 184,
    "start_time": "2023-08-30T16:41:05.523Z"
   },
   {
    "duration": 174,
    "start_time": "2023-08-30T16:41:05.709Z"
   },
   {
    "duration": 273,
    "start_time": "2023-08-30T16:41:05.886Z"
   },
   {
    "duration": 368,
    "start_time": "2023-08-30T16:41:06.161Z"
   },
   {
    "duration": 400,
    "start_time": "2023-08-30T16:41:06.531Z"
   },
   {
    "duration": 381,
    "start_time": "2023-08-30T16:41:06.933Z"
   },
   {
    "duration": 2350,
    "start_time": "2023-08-30T16:41:07.316Z"
   },
   {
    "duration": 7,
    "start_time": "2023-08-30T16:41:09.667Z"
   },
   {
    "duration": 54,
    "start_time": "2023-08-30T16:41:09.676Z"
   },
   {
    "duration": 5,
    "start_time": "2023-08-30T16:41:09.732Z"
   },
   {
    "duration": 308,
    "start_time": "2023-08-30T16:41:09.739Z"
   },
   {
    "duration": 97,
    "start_time": "2023-08-30T16:41:10.050Z"
   },
   {
    "duration": 8,
    "start_time": "2023-08-30T16:41:10.149Z"
   },
   {
    "duration": 62,
    "start_time": "2023-08-30T16:41:10.158Z"
   },
   {
    "duration": 4063,
    "start_time": "2023-08-30T16:41:10.222Z"
   },
   {
    "duration": 0,
    "start_time": "2023-08-30T16:41:14.287Z"
   },
   {
    "duration": 0,
    "start_time": "2023-08-30T16:41:14.288Z"
   },
   {
    "duration": 0,
    "start_time": "2023-08-30T16:41:14.289Z"
   },
   {
    "duration": 0,
    "start_time": "2023-08-30T16:41:14.290Z"
   },
   {
    "duration": 0,
    "start_time": "2023-08-30T16:41:14.291Z"
   },
   {
    "duration": 11,
    "start_time": "2023-08-30T16:41:21.683Z"
   },
   {
    "duration": 1643,
    "start_time": "2023-08-30T16:41:34.325Z"
   },
   {
    "duration": 417,
    "start_time": "2023-08-30T16:41:35.970Z"
   },
   {
    "duration": 18,
    "start_time": "2023-08-30T16:41:36.389Z"
   },
   {
    "duration": 58,
    "start_time": "2023-08-30T16:41:36.409Z"
   },
   {
    "duration": 35,
    "start_time": "2023-08-30T16:41:36.470Z"
   },
   {
    "duration": 61,
    "start_time": "2023-08-30T16:41:36.507Z"
   },
   {
    "duration": 107,
    "start_time": "2023-08-30T16:41:36.570Z"
   },
   {
    "duration": 182,
    "start_time": "2023-08-30T16:41:36.680Z"
   },
   {
    "duration": 167,
    "start_time": "2023-08-30T16:41:36.863Z"
   },
   {
    "duration": 157,
    "start_time": "2023-08-30T16:41:37.032Z"
   },
   {
    "duration": 418,
    "start_time": "2023-08-30T16:41:37.191Z"
   },
   {
    "duration": 468,
    "start_time": "2023-08-30T16:41:37.611Z"
   },
   {
    "duration": 398,
    "start_time": "2023-08-30T16:41:38.081Z"
   },
   {
    "duration": 2292,
    "start_time": "2023-08-30T16:41:38.482Z"
   },
   {
    "duration": 8,
    "start_time": "2023-08-30T16:41:40.776Z"
   },
   {
    "duration": 172,
    "start_time": "2023-08-30T16:41:40.785Z"
   },
   {
    "duration": 7,
    "start_time": "2023-08-30T16:41:40.959Z"
   },
   {
    "duration": 184,
    "start_time": "2023-08-30T16:41:40.968Z"
   },
   {
    "duration": 94,
    "start_time": "2023-08-30T16:41:41.155Z"
   },
   {
    "duration": 41,
    "start_time": "2023-08-30T16:41:41.251Z"
   },
   {
    "duration": 272,
    "start_time": "2023-08-30T16:41:41.294Z"
   },
   {
    "duration": 4167,
    "start_time": "2023-08-30T16:41:41.568Z"
   },
   {
    "duration": 0,
    "start_time": "2023-08-30T16:41:45.736Z"
   },
   {
    "duration": 0,
    "start_time": "2023-08-30T16:41:45.738Z"
   },
   {
    "duration": 0,
    "start_time": "2023-08-30T16:41:45.738Z"
   },
   {
    "duration": 0,
    "start_time": "2023-08-30T16:41:45.746Z"
   },
   {
    "duration": 0,
    "start_time": "2023-08-30T16:41:45.747Z"
   },
   {
    "duration": 12,
    "start_time": "2023-08-30T16:41:49.041Z"
   },
   {
    "duration": 4099,
    "start_time": "2023-08-30T16:41:59.341Z"
   },
   {
    "duration": 12,
    "start_time": "2023-08-30T16:42:05.573Z"
   },
   {
    "duration": 4,
    "start_time": "2023-08-30T16:42:10.233Z"
   },
   {
    "duration": 4052,
    "start_time": "2023-08-30T16:42:13.495Z"
   },
   {
    "duration": 4,
    "start_time": "2023-08-30T16:42:19.670Z"
   },
   {
    "duration": 4048,
    "start_time": "2023-08-30T16:42:23.774Z"
   },
   {
    "duration": 4,
    "start_time": "2023-08-30T16:42:29.730Z"
   },
   {
    "duration": 20,
    "start_time": "2023-08-30T16:42:32.456Z"
   },
   {
    "duration": 20,
    "start_time": "2023-08-30T16:42:43.159Z"
   },
   {
    "duration": 27,
    "start_time": "2023-08-30T16:53:22.982Z"
   },
   {
    "duration": 27,
    "start_time": "2023-08-30T16:53:30.182Z"
   },
   {
    "duration": 28,
    "start_time": "2023-08-30T16:53:35.172Z"
   },
   {
    "duration": 22,
    "start_time": "2023-08-30T16:53:43.635Z"
   },
   {
    "duration": 20,
    "start_time": "2023-08-30T16:53:51.148Z"
   },
   {
    "duration": 27,
    "start_time": "2023-08-30T16:54:25.401Z"
   },
   {
    "duration": 28,
    "start_time": "2023-08-30T16:54:31.000Z"
   },
   {
    "duration": 34,
    "start_time": "2023-08-30T16:58:09.274Z"
   },
   {
    "duration": 78,
    "start_time": "2023-08-30T16:58:25.481Z"
   },
   {
    "duration": 23,
    "start_time": "2023-08-30T16:58:29.113Z"
   },
   {
    "duration": 70,
    "start_time": "2023-08-30T17:08:17.413Z"
   },
   {
    "duration": 76,
    "start_time": "2023-08-30T17:08:18.877Z"
   },
   {
    "duration": 79,
    "start_time": "2023-08-31T15:22:41.225Z"
   },
   {
    "duration": 2798,
    "start_time": "2023-08-31T15:22:44.041Z"
   },
   {
    "duration": 952,
    "start_time": "2023-08-31T15:22:46.841Z"
   },
   {
    "duration": 1636,
    "start_time": "2023-08-31T15:29:39.902Z"
   },
   {
    "duration": 407,
    "start_time": "2023-08-31T15:29:41.540Z"
   },
   {
    "duration": 18,
    "start_time": "2023-08-31T15:29:41.948Z"
   },
   {
    "duration": 64,
    "start_time": "2023-08-31T15:29:41.968Z"
   },
   {
    "duration": 31,
    "start_time": "2023-08-31T15:29:42.033Z"
   },
   {
    "duration": 58,
    "start_time": "2023-08-31T15:29:42.065Z"
   },
   {
    "duration": 96,
    "start_time": "2023-08-31T15:29:42.124Z"
   },
   {
    "duration": 381,
    "start_time": "2023-08-31T15:29:42.222Z"
   },
   {
    "duration": 330,
    "start_time": "2023-08-31T15:29:42.609Z"
   },
   {
    "duration": 297,
    "start_time": "2023-08-31T15:29:42.942Z"
   },
   {
    "duration": 432,
    "start_time": "2023-08-31T15:29:43.241Z"
   },
   {
    "duration": 492,
    "start_time": "2023-08-31T15:29:43.675Z"
   },
   {
    "duration": 426,
    "start_time": "2023-08-31T15:29:44.169Z"
   },
   {
    "duration": 2931,
    "start_time": "2023-08-31T15:29:44.596Z"
   },
   {
    "duration": 9,
    "start_time": "2023-08-31T15:29:47.529Z"
   },
   {
    "duration": 43,
    "start_time": "2023-08-31T15:29:47.540Z"
   },
   {
    "duration": 25,
    "start_time": "2023-08-31T15:29:47.585Z"
   },
   {
    "duration": 207,
    "start_time": "2023-08-31T15:29:47.612Z"
   },
   {
    "duration": 7,
    "start_time": "2023-08-31T15:29:47.911Z"
   },
   {
    "duration": 12,
    "start_time": "2023-08-31T15:29:48.010Z"
   },
   {
    "duration": 16,
    "start_time": "2023-08-31T15:29:48.023Z"
   },
   {
    "duration": 5503,
    "start_time": "2023-08-31T15:29:48.042Z"
   },
   {
    "duration": 4,
    "start_time": "2023-08-31T15:29:53.547Z"
   },
   {
    "duration": 5335,
    "start_time": "2023-08-31T15:29:53.552Z"
   },
   {
    "duration": 4,
    "start_time": "2023-08-31T15:29:58.889Z"
   },
   {
    "duration": 5389,
    "start_time": "2023-08-31T15:29:58.909Z"
   },
   {
    "duration": 9,
    "start_time": "2023-08-31T15:30:04.300Z"
   },
   {
    "duration": 37,
    "start_time": "2023-08-31T15:30:04.312Z"
   },
   {
    "duration": 1618,
    "start_time": "2023-08-31T15:30:18.839Z"
   },
   {
    "duration": 422,
    "start_time": "2023-08-31T15:30:20.459Z"
   },
   {
    "duration": 16,
    "start_time": "2023-08-31T15:30:20.883Z"
   },
   {
    "duration": 46,
    "start_time": "2023-08-31T15:30:20.901Z"
   },
   {
    "duration": 31,
    "start_time": "2023-08-31T15:30:20.949Z"
   },
   {
    "duration": 62,
    "start_time": "2023-08-31T15:30:20.982Z"
   },
   {
    "duration": 104,
    "start_time": "2023-08-31T15:30:21.046Z"
   },
   {
    "duration": 371,
    "start_time": "2023-08-31T15:30:21.152Z"
   },
   {
    "duration": 310,
    "start_time": "2023-08-31T15:30:21.525Z"
   },
   {
    "duration": 303,
    "start_time": "2023-08-31T15:30:21.836Z"
   },
   {
    "duration": 482,
    "start_time": "2023-08-31T15:30:22.141Z"
   },
   {
    "duration": 485,
    "start_time": "2023-08-31T15:30:22.625Z"
   },
   {
    "duration": 420,
    "start_time": "2023-08-31T15:30:23.112Z"
   },
   {
    "duration": 2864,
    "start_time": "2023-08-31T15:30:23.535Z"
   },
   {
    "duration": 10,
    "start_time": "2023-08-31T15:30:26.401Z"
   },
   {
    "duration": 44,
    "start_time": "2023-08-31T15:30:26.413Z"
   },
   {
    "duration": 6,
    "start_time": "2023-08-31T15:30:26.458Z"
   },
   {
    "duration": 252,
    "start_time": "2023-08-31T15:30:26.466Z"
   },
   {
    "duration": 6,
    "start_time": "2023-08-31T15:30:26.811Z"
   },
   {
    "duration": 101,
    "start_time": "2023-08-31T15:30:26.819Z"
   },
   {
    "duration": 15,
    "start_time": "2023-08-31T15:30:26.922Z"
   },
   {
    "duration": 4491,
    "start_time": "2023-08-31T15:30:26.939Z"
   },
   {
    "duration": 4,
    "start_time": "2023-08-31T15:30:31.432Z"
   },
   {
    "duration": 4708,
    "start_time": "2023-08-31T15:30:31.438Z"
   },
   {
    "duration": 4,
    "start_time": "2023-08-31T15:30:36.148Z"
   },
   {
    "duration": 4458,
    "start_time": "2023-08-31T15:30:36.154Z"
   },
   {
    "duration": 3,
    "start_time": "2023-08-31T15:30:40.614Z"
   },
   {
    "duration": 64,
    "start_time": "2023-08-31T15:30:40.619Z"
   },
   {
    "duration": 1725,
    "start_time": "2023-09-01T06:12:22.139Z"
   },
   {
    "duration": 1635,
    "start_time": "2023-09-01T06:12:23.866Z"
   },
   {
    "duration": 21,
    "start_time": "2023-09-01T06:12:25.503Z"
   },
   {
    "duration": 50,
    "start_time": "2023-09-01T06:12:25.526Z"
   },
   {
    "duration": 33,
    "start_time": "2023-09-01T06:12:25.578Z"
   },
   {
    "duration": 55,
    "start_time": "2023-09-01T06:12:25.613Z"
   },
   {
    "duration": 101,
    "start_time": "2023-09-01T06:12:25.670Z"
   },
   {
    "duration": 171,
    "start_time": "2023-09-01T06:12:25.773Z"
   },
   {
    "duration": 176,
    "start_time": "2023-09-01T06:12:25.945Z"
   },
   {
    "duration": 158,
    "start_time": "2023-09-01T06:12:26.123Z"
   },
   {
    "duration": 18,
    "start_time": "2023-09-01T06:12:54.881Z"
   },
   {
    "duration": 16,
    "start_time": "2023-09-01T06:13:01.012Z"
   },
   {
    "duration": 47,
    "start_time": "2023-09-01T06:41:24.430Z"
   },
   {
    "duration": 37,
    "start_time": "2023-09-01T06:42:17.559Z"
   },
   {
    "duration": 7,
    "start_time": "2023-09-01T06:42:22.102Z"
   },
   {
    "duration": 129,
    "start_time": "2023-09-01T06:42:43.539Z"
   },
   {
    "duration": 1453,
    "start_time": "2023-09-01T06:42:58.420Z"
   },
   {
    "duration": 410,
    "start_time": "2023-09-01T06:42:59.875Z"
   },
   {
    "duration": 18,
    "start_time": "2023-09-01T06:43:00.287Z"
   },
   {
    "duration": 107,
    "start_time": "2023-09-01T06:43:00.307Z"
   },
   {
    "duration": 36,
    "start_time": "2023-09-01T06:43:00.416Z"
   },
   {
    "duration": 218,
    "start_time": "2023-09-01T06:43:00.454Z"
   },
   {
    "duration": 121,
    "start_time": "2023-09-01T06:43:00.674Z"
   },
   {
    "duration": 180,
    "start_time": "2023-09-01T06:43:00.797Z"
   },
   {
    "duration": 180,
    "start_time": "2023-09-01T06:43:00.979Z"
   },
   {
    "duration": 178,
    "start_time": "2023-09-01T06:43:01.162Z"
   },
   {
    "duration": 469,
    "start_time": "2023-09-01T06:43:01.343Z"
   },
   {
    "duration": 532,
    "start_time": "2023-09-01T06:43:01.815Z"
   },
   {
    "duration": 397,
    "start_time": "2023-09-01T06:43:02.350Z"
   },
   {
    "duration": 2760,
    "start_time": "2023-09-01T06:43:02.749Z"
   },
   {
    "duration": 184,
    "start_time": "2023-09-01T06:43:28.294Z"
   },
   {
    "duration": 176,
    "start_time": "2023-09-01T06:43:33.095Z"
   },
   {
    "duration": 73,
    "start_time": "2023-09-01T06:47:55.089Z"
   },
   {
    "duration": 66,
    "start_time": "2023-09-01T06:48:02.602Z"
   },
   {
    "duration": 55,
    "start_time": "2023-09-01T06:48:11.707Z"
   },
   {
    "duration": 208,
    "start_time": "2023-09-01T06:49:24.556Z"
   },
   {
    "duration": 147,
    "start_time": "2023-09-01T06:50:10.816Z"
   },
   {
    "duration": 369,
    "start_time": "2023-09-01T06:50:21.289Z"
   },
   {
    "duration": 16,
    "start_time": "2023-09-01T06:54:38.774Z"
   },
   {
    "duration": 16,
    "start_time": "2023-09-01T06:54:55.650Z"
   },
   {
    "duration": 161,
    "start_time": "2023-09-01T06:55:34.205Z"
   },
   {
    "duration": 161,
    "start_time": "2023-09-01T06:55:47.700Z"
   },
   {
    "duration": 4,
    "start_time": "2023-09-01T06:59:31.833Z"
   },
   {
    "duration": 118,
    "start_time": "2023-09-01T07:00:01.109Z"
   },
   {
    "duration": 28,
    "start_time": "2023-09-01T07:00:05.598Z"
   },
   {
    "duration": 27,
    "start_time": "2023-09-01T07:00:20.927Z"
   },
   {
    "duration": 4,
    "start_time": "2023-09-01T07:00:45.652Z"
   },
   {
    "duration": 32,
    "start_time": "2023-09-01T07:00:48.936Z"
   },
   {
    "duration": 4,
    "start_time": "2023-09-01T07:01:29.201Z"
   },
   {
    "duration": 124,
    "start_time": "2023-09-01T07:01:31.046Z"
   },
   {
    "duration": 5,
    "start_time": "2023-09-01T07:04:49.587Z"
   },
   {
    "duration": 191,
    "start_time": "2023-09-01T07:04:51.985Z"
   },
   {
    "duration": 1581,
    "start_time": "2023-09-01T07:19:54.080Z"
   },
   {
    "duration": 139,
    "start_time": "2023-09-01T07:30:52.332Z"
   },
   {
    "duration": 9,
    "start_time": "2023-09-01T07:31:09.085Z"
   },
   {
    "duration": 2325,
    "start_time": "2023-09-01T07:40:43.346Z"
   },
   {
    "duration": 1573,
    "start_time": "2023-09-01T07:40:52.693Z"
   },
   {
    "duration": 4,
    "start_time": "2023-09-01T07:41:15.579Z"
   },
   {
    "duration": 315,
    "start_time": "2023-09-01T07:41:17.546Z"
   },
   {
    "duration": 66,
    "start_time": "2023-09-01T07:48:25.444Z"
   },
   {
    "duration": 6,
    "start_time": "2023-09-01T07:48:34.259Z"
   },
   {
    "duration": 9,
    "start_time": "2023-09-01T07:49:06.333Z"
   },
   {
    "duration": 1453,
    "start_time": "2023-09-01T07:49:28.574Z"
   },
   {
    "duration": 387,
    "start_time": "2023-09-01T07:49:30.030Z"
   },
   {
    "duration": 20,
    "start_time": "2023-09-01T07:49:30.419Z"
   },
   {
    "duration": 105,
    "start_time": "2023-09-01T07:49:30.441Z"
   },
   {
    "duration": 35,
    "start_time": "2023-09-01T07:49:30.549Z"
   },
   {
    "duration": 51,
    "start_time": "2023-09-01T07:49:30.587Z"
   },
   {
    "duration": 120,
    "start_time": "2023-09-01T07:49:30.640Z"
   },
   {
    "duration": 191,
    "start_time": "2023-09-01T07:49:30.762Z"
   },
   {
    "duration": 163,
    "start_time": "2023-09-01T07:49:30.959Z"
   },
   {
    "duration": 7,
    "start_time": "2023-09-01T07:49:31.124Z"
   },
   {
    "duration": 177,
    "start_time": "2023-09-01T07:49:31.132Z"
   },
   {
    "duration": 395,
    "start_time": "2023-09-01T07:49:31.310Z"
   },
   {
    "duration": 504,
    "start_time": "2023-09-01T07:49:31.707Z"
   },
   {
    "duration": 425,
    "start_time": "2023-09-01T07:49:32.215Z"
   },
   {
    "duration": 2497,
    "start_time": "2023-09-01T07:49:32.642Z"
   },
   {
    "duration": 3,
    "start_time": "2023-09-01T07:49:35.141Z"
   },
   {
    "duration": 64,
    "start_time": "2023-09-01T07:49:35.146Z"
   },
   {
    "duration": 6,
    "start_time": "2023-09-01T07:49:35.212Z"
   },
   {
    "duration": 167,
    "start_time": "2023-09-01T07:49:35.220Z"
   },
   {
    "duration": 0,
    "start_time": "2023-09-01T07:49:35.389Z"
   },
   {
    "duration": 11,
    "start_time": "2023-09-01T07:49:38.181Z"
   },
   {
    "duration": 15,
    "start_time": "2023-09-01T07:49:46.455Z"
   },
   {
    "duration": 3,
    "start_time": "2023-09-01T07:58:51.316Z"
   },
   {
    "duration": 44,
    "start_time": "2023-09-01T07:58:57.414Z"
   },
   {
    "duration": 144,
    "start_time": "2023-09-01T08:05:14.562Z"
   },
   {
    "duration": 4,
    "start_time": "2023-09-01T08:05:19.543Z"
   },
   {
    "duration": 386,
    "start_time": "2023-09-01T08:05:19.559Z"
   },
   {
    "duration": 15,
    "start_time": "2023-09-01T08:05:19.947Z"
   },
   {
    "duration": 48,
    "start_time": "2023-09-01T08:05:19.964Z"
   },
   {
    "duration": 50,
    "start_time": "2023-09-01T08:05:20.014Z"
   },
   {
    "duration": 49,
    "start_time": "2023-09-01T08:05:20.066Z"
   },
   {
    "duration": 112,
    "start_time": "2023-09-01T08:05:20.117Z"
   },
   {
    "duration": 156,
    "start_time": "2023-09-01T08:05:20.231Z"
   },
   {
    "duration": 167,
    "start_time": "2023-09-01T08:05:20.388Z"
   },
   {
    "duration": 7,
    "start_time": "2023-09-01T08:05:20.559Z"
   },
   {
    "duration": 166,
    "start_time": "2023-09-01T08:05:20.567Z"
   },
   {
    "duration": 380,
    "start_time": "2023-09-01T08:05:20.734Z"
   },
   {
    "duration": 371,
    "start_time": "2023-09-01T08:05:21.116Z"
   },
   {
    "duration": 354,
    "start_time": "2023-09-01T08:05:21.488Z"
   },
   {
    "duration": 2494,
    "start_time": "2023-09-01T08:05:21.846Z"
   },
   {
    "duration": 20,
    "start_time": "2023-09-01T08:05:27.223Z"
   },
   {
    "duration": 1566,
    "start_time": "2023-09-01T08:05:38.755Z"
   },
   {
    "duration": 387,
    "start_time": "2023-09-01T08:05:40.324Z"
   },
   {
    "duration": 19,
    "start_time": "2023-09-01T08:05:40.713Z"
   },
   {
    "duration": 98,
    "start_time": "2023-09-01T08:05:40.734Z"
   },
   {
    "duration": 47,
    "start_time": "2023-09-01T08:05:40.834Z"
   },
   {
    "duration": 103,
    "start_time": "2023-09-01T08:05:40.882Z"
   },
   {
    "duration": 106,
    "start_time": "2023-09-01T08:05:40.986Z"
   },
   {
    "duration": 192,
    "start_time": "2023-09-01T08:05:41.094Z"
   },
   {
    "duration": 178,
    "start_time": "2023-09-01T08:05:41.288Z"
   },
   {
    "duration": 7,
    "start_time": "2023-09-01T08:05:41.469Z"
   },
   {
    "duration": 181,
    "start_time": "2023-09-01T08:05:41.477Z"
   },
   {
    "duration": 373,
    "start_time": "2023-09-01T08:05:41.660Z"
   },
   {
    "duration": 472,
    "start_time": "2023-09-01T08:05:42.035Z"
   },
   {
    "duration": 389,
    "start_time": "2023-09-01T08:05:42.509Z"
   },
   {
    "duration": 2470,
    "start_time": "2023-09-01T08:05:42.900Z"
   },
   {
    "duration": 253,
    "start_time": "2023-09-01T08:05:48.542Z"
   },
   {
    "duration": 15,
    "start_time": "2023-09-01T08:06:34.700Z"
   },
   {
    "duration": 4,
    "start_time": "2023-09-01T08:06:37.219Z"
   },
   {
    "duration": 372,
    "start_time": "2023-09-01T08:06:37.227Z"
   },
   {
    "duration": 14,
    "start_time": "2023-09-01T08:06:37.601Z"
   },
   {
    "duration": 52,
    "start_time": "2023-09-01T08:06:37.617Z"
   },
   {
    "duration": 37,
    "start_time": "2023-09-01T08:06:37.672Z"
   },
   {
    "duration": 57,
    "start_time": "2023-09-01T08:06:37.711Z"
   },
   {
    "duration": 110,
    "start_time": "2023-09-01T08:06:37.770Z"
   },
   {
    "duration": 159,
    "start_time": "2023-09-01T08:06:37.882Z"
   },
   {
    "duration": 175,
    "start_time": "2023-09-01T08:06:38.043Z"
   },
   {
    "duration": 7,
    "start_time": "2023-09-01T08:06:38.221Z"
   },
   {
    "duration": 169,
    "start_time": "2023-09-01T08:06:38.230Z"
   },
   {
    "duration": 384,
    "start_time": "2023-09-01T08:06:38.401Z"
   },
   {
    "duration": 353,
    "start_time": "2023-09-01T08:06:38.786Z"
   },
   {
    "duration": 404,
    "start_time": "2023-09-01T08:06:39.142Z"
   },
   {
    "duration": 2335,
    "start_time": "2023-09-01T08:06:39.549Z"
   },
   {
    "duration": 14,
    "start_time": "2023-09-01T08:06:45.063Z"
   },
   {
    "duration": 5,
    "start_time": "2023-09-01T08:07:12.534Z"
   },
   {
    "duration": 16,
    "start_time": "2023-09-01T08:07:15.049Z"
   },
   {
    "duration": 41,
    "start_time": "2023-09-01T08:11:23.507Z"
   },
   {
    "duration": 268,
    "start_time": "2023-09-01T08:11:27.492Z"
   },
   {
    "duration": 5,
    "start_time": "2023-09-01T08:11:32.800Z"
   },
   {
    "duration": 317,
    "start_time": "2023-09-01T08:11:34.750Z"
   },
   {
    "duration": 56,
    "start_time": "2023-09-01T08:12:39.304Z"
   },
   {
    "duration": 9,
    "start_time": "2023-09-01T08:13:26.448Z"
   },
   {
    "duration": 25,
    "start_time": "2023-09-01T08:13:29.139Z"
   },
   {
    "duration": 5,
    "start_time": "2023-09-01T08:13:41.635Z"
   },
   {
    "duration": 22,
    "start_time": "2023-09-01T08:13:45.567Z"
   },
   {
    "duration": 1890,
    "start_time": "2023-09-01T08:14:01.255Z"
   },
   {
    "duration": 445,
    "start_time": "2023-09-01T08:14:03.148Z"
   },
   {
    "duration": 26,
    "start_time": "2023-09-01T08:14:03.596Z"
   },
   {
    "duration": 67,
    "start_time": "2023-09-01T08:14:03.626Z"
   },
   {
    "duration": 35,
    "start_time": "2023-09-01T08:14:03.694Z"
   },
   {
    "duration": 85,
    "start_time": "2023-09-01T08:14:03.732Z"
   },
   {
    "duration": 120,
    "start_time": "2023-09-01T08:14:03.820Z"
   },
   {
    "duration": 238,
    "start_time": "2023-09-01T08:14:03.942Z"
   },
   {
    "duration": 226,
    "start_time": "2023-09-01T08:14:04.182Z"
   },
   {
    "duration": 8,
    "start_time": "2023-09-01T08:14:04.411Z"
   },
   {
    "duration": 182,
    "start_time": "2023-09-01T08:14:04.421Z"
   },
   {
    "duration": 428,
    "start_time": "2023-09-01T08:14:04.605Z"
   },
   {
    "duration": 477,
    "start_time": "2023-09-01T08:14:05.036Z"
   },
   {
    "duration": 398,
    "start_time": "2023-09-01T08:14:05.515Z"
   },
   {
    "duration": 2231,
    "start_time": "2023-09-01T08:14:05.915Z"
   },
   {
    "duration": 186,
    "start_time": "2023-09-01T08:14:08.148Z"
   },
   {
    "duration": 5,
    "start_time": "2023-09-01T08:14:08.336Z"
   },
   {
    "duration": 332,
    "start_time": "2023-09-01T08:14:08.342Z"
   },
   {
    "duration": 86,
    "start_time": "2023-09-01T08:14:08.676Z"
   },
   {
    "duration": 110,
    "start_time": "2023-09-01T08:14:08.765Z"
   },
   {
    "duration": 109,
    "start_time": "2023-09-01T08:14:13.366Z"
   },
   {
    "duration": 15,
    "start_time": "2023-09-01T08:14:29.444Z"
   },
   {
    "duration": 14,
    "start_time": "2023-09-01T08:14:42.472Z"
   },
   {
    "duration": 389,
    "start_time": "2023-09-01T08:17:14.182Z"
   },
   {
    "duration": 147,
    "start_time": "2023-09-01T08:21:01.323Z"
   },
   {
    "duration": 2380,
    "start_time": "2023-09-01T08:21:25.916Z"
   },
   {
    "duration": 455,
    "start_time": "2023-09-01T08:21:28.299Z"
   },
   {
    "duration": 25,
    "start_time": "2023-09-01T08:21:28.758Z"
   },
   {
    "duration": 73,
    "start_time": "2023-09-01T08:21:28.786Z"
   },
   {
    "duration": 34,
    "start_time": "2023-09-01T08:21:28.861Z"
   },
   {
    "duration": 62,
    "start_time": "2023-09-01T08:21:28.897Z"
   },
   {
    "duration": 123,
    "start_time": "2023-09-01T08:21:28.962Z"
   },
   {
    "duration": 194,
    "start_time": "2023-09-01T08:21:29.086Z"
   },
   {
    "duration": 191,
    "start_time": "2023-09-01T08:21:29.282Z"
   },
   {
    "duration": 7,
    "start_time": "2023-09-01T08:21:29.476Z"
   },
   {
    "duration": 179,
    "start_time": "2023-09-01T08:21:29.485Z"
   },
   {
    "duration": 386,
    "start_time": "2023-09-01T08:21:29.667Z"
   },
   {
    "duration": 455,
    "start_time": "2023-09-01T08:21:30.055Z"
   },
   {
    "duration": 375,
    "start_time": "2023-09-01T08:21:30.512Z"
   },
   {
    "duration": 2294,
    "start_time": "2023-09-01T08:21:30.889Z"
   },
   {
    "duration": 198,
    "start_time": "2023-09-01T08:21:33.185Z"
   },
   {
    "duration": 382,
    "start_time": "2023-09-01T08:21:33.386Z"
   },
   {
    "duration": 89,
    "start_time": "2023-09-01T08:21:33.770Z"
   },
   {
    "duration": 119,
    "start_time": "2023-09-01T08:21:33.862Z"
   },
   {
    "duration": 18,
    "start_time": "2023-09-01T08:21:35.895Z"
   },
   {
    "duration": 4091,
    "start_time": "2023-09-01T08:22:11.129Z"
   },
   {
    "duration": 4,
    "start_time": "2023-09-01T08:22:27.896Z"
   },
   {
    "duration": 4104,
    "start_time": "2023-09-01T08:22:30.509Z"
   },
   {
    "duration": 4,
    "start_time": "2023-09-01T08:22:36.517Z"
   },
   {
    "duration": 3971,
    "start_time": "2023-09-01T08:22:39.631Z"
   },
   {
    "duration": 5,
    "start_time": "2023-09-01T08:22:45.774Z"
   },
   {
    "duration": 25,
    "start_time": "2023-09-01T08:22:48.386Z"
   },
   {
    "duration": 41,
    "start_time": "2023-09-01T08:23:14.435Z"
   },
   {
    "duration": 157,
    "start_time": "2023-09-01T08:23:27.718Z"
   },
   {
    "duration": 5,
    "start_time": "2023-09-01T08:23:50.948Z"
   },
   {
    "duration": 12,
    "start_time": "2023-09-01T08:24:16.665Z"
   },
   {
    "duration": 21,
    "start_time": "2023-09-01T08:25:02.434Z"
   },
   {
    "duration": 16,
    "start_time": "2023-09-01T08:25:57.983Z"
   },
   {
    "duration": 161,
    "start_time": "2023-09-01T08:27:11.506Z"
   },
   {
    "duration": 138,
    "start_time": "2023-09-01T08:27:25.629Z"
   },
   {
    "duration": 201,
    "start_time": "2023-09-01T08:27:36.767Z"
   },
   {
    "duration": 210,
    "start_time": "2023-09-01T08:27:39.769Z"
   },
   {
    "duration": 76,
    "start_time": "2023-09-01T08:27:59.863Z"
   },
   {
    "duration": 163,
    "start_time": "2023-09-01T08:28:59.916Z"
   },
   {
    "duration": 178,
    "start_time": "2023-09-01T08:29:14.996Z"
   },
   {
    "duration": 198,
    "start_time": "2023-09-01T08:36:04.967Z"
   },
   {
    "duration": 2773,
    "start_time": "2023-09-01T12:44:28.889Z"
   },
   {
    "duration": 1837,
    "start_time": "2023-09-01T12:44:31.663Z"
   },
   {
    "duration": 67,
    "start_time": "2023-09-01T12:44:33.502Z"
   },
   {
    "duration": 125,
    "start_time": "2023-09-01T12:44:33.572Z"
   },
   {
    "duration": 99,
    "start_time": "2023-09-01T12:44:33.699Z"
   },
   {
    "duration": 99,
    "start_time": "2023-09-01T12:44:33.801Z"
   },
   {
    "duration": 138,
    "start_time": "2023-09-01T12:44:33.957Z"
   },
   {
    "duration": 498,
    "start_time": "2023-09-01T12:44:34.097Z"
   },
   {
    "duration": 581,
    "start_time": "2023-09-01T12:44:34.597Z"
   },
   {
    "duration": 6,
    "start_time": "2023-09-01T12:44:35.181Z"
   },
   {
    "duration": 501,
    "start_time": "2023-09-01T12:44:35.189Z"
   },
   {
    "duration": 679,
    "start_time": "2023-09-01T12:44:35.691Z"
   },
   {
    "duration": 888,
    "start_time": "2023-09-01T12:44:36.372Z"
   },
   {
    "duration": 698,
    "start_time": "2023-09-01T12:44:37.262Z"
   },
   {
    "duration": 4825,
    "start_time": "2023-09-01T12:44:37.962Z"
   },
   {
    "duration": 96,
    "start_time": "2023-09-01T12:44:42.789Z"
   },
   {
    "duration": 274,
    "start_time": "2023-09-01T12:44:42.887Z"
   },
   {
    "duration": 95,
    "start_time": "2023-09-01T12:44:43.163Z"
   },
   {
    "duration": 102,
    "start_time": "2023-09-01T12:44:43.260Z"
   },
   {
    "duration": 21,
    "start_time": "2023-09-01T12:44:43.364Z"
   },
   {
    "duration": 8900,
    "start_time": "2023-09-01T12:44:43.387Z"
   },
   {
    "duration": 4,
    "start_time": "2023-09-01T12:44:52.288Z"
   },
   {
    "duration": 9067,
    "start_time": "2023-09-01T12:44:52.294Z"
   },
   {
    "duration": 4,
    "start_time": "2023-09-01T12:45:01.363Z"
   },
   {
    "duration": 9231,
    "start_time": "2023-09-01T12:45:01.369Z"
   },
   {
    "duration": 4,
    "start_time": "2023-09-01T12:45:10.657Z"
   },
   {
    "duration": 26,
    "start_time": "2023-09-01T12:45:10.663Z"
   },
   {
    "duration": 67,
    "start_time": "2023-09-01T12:45:10.693Z"
   },
   {
    "duration": 5,
    "start_time": "2023-09-01T12:45:20.869Z"
   },
   {
    "duration": 45,
    "start_time": "2023-09-04T12:49:06.204Z"
   },
   {
    "duration": 1549,
    "start_time": "2023-09-04T12:49:10.635Z"
   },
   {
    "duration": 787,
    "start_time": "2023-09-04T12:49:12.187Z"
   },
   {
    "duration": 16,
    "start_time": "2023-09-04T12:49:12.976Z"
   },
   {
    "duration": 51,
    "start_time": "2023-09-04T12:49:12.994Z"
   },
   {
    "duration": 30,
    "start_time": "2023-09-04T12:49:13.047Z"
   },
   {
    "duration": 36,
    "start_time": "2023-09-04T12:49:13.079Z"
   },
   {
    "duration": 97,
    "start_time": "2023-09-04T12:49:13.116Z"
   },
   {
    "duration": 182,
    "start_time": "2023-09-04T12:49:13.215Z"
   },
   {
    "duration": 141,
    "start_time": "2023-09-04T12:49:13.399Z"
   },
   {
    "duration": 5,
    "start_time": "2023-09-04T12:49:13.542Z"
   },
   {
    "duration": 163,
    "start_time": "2023-09-04T12:49:13.549Z"
   },
   {
    "duration": 410,
    "start_time": "2023-09-04T12:49:13.714Z"
   },
   {
    "duration": 412,
    "start_time": "2023-09-04T12:49:14.126Z"
   },
   {
    "duration": 358,
    "start_time": "2023-09-04T12:49:14.541Z"
   },
   {
    "duration": 1882,
    "start_time": "2023-09-04T12:49:14.901Z"
   },
   {
    "duration": 143,
    "start_time": "2023-09-04T12:49:16.784Z"
   },
   {
    "duration": 306,
    "start_time": "2023-09-04T12:49:16.929Z"
   },
   {
    "duration": 6,
    "start_time": "2023-09-04T12:49:17.237Z"
   },
   {
    "duration": 33,
    "start_time": "2023-09-04T12:49:17.334Z"
   },
   {
    "duration": 18,
    "start_time": "2023-09-04T12:49:20.566Z"
   },
   {
    "duration": 10,
    "start_time": "2023-09-04T12:50:33.689Z"
   },
   {
    "duration": 18,
    "start_time": "2023-09-04T12:52:16.695Z"
   },
   {
    "duration": 38,
    "start_time": "2023-09-04T12:52:57.143Z"
   },
   {
    "duration": 14,
    "start_time": "2023-09-04T12:57:28.426Z"
   },
   {
    "duration": 397,
    "start_time": "2023-09-04T12:57:40.502Z"
   },
   {
    "duration": 44,
    "start_time": "2023-09-04T12:58:39.960Z"
   },
   {
    "duration": 39,
    "start_time": "2023-09-04T12:58:43.880Z"
   },
   {
    "duration": 15,
    "start_time": "2023-09-04T12:59:41.144Z"
   },
   {
    "duration": 104,
    "start_time": "2023-09-04T12:59:45.960Z"
   },
   {
    "duration": 133,
    "start_time": "2023-09-04T12:59:57.029Z"
   },
   {
    "duration": 36,
    "start_time": "2023-09-04T13:01:35.660Z"
   },
   {
    "duration": 52,
    "start_time": "2023-09-04T13:01:56.373Z"
   },
   {
    "duration": 70,
    "start_time": "2023-09-04T13:04:13.025Z"
   },
   {
    "duration": 14,
    "start_time": "2023-09-04T13:11:09.508Z"
   },
   {
    "duration": 27,
    "start_time": "2023-09-04T13:14:18.640Z"
   },
   {
    "duration": 74,
    "start_time": "2023-09-04T13:14:27.447Z"
   },
   {
    "duration": 39,
    "start_time": "2023-09-04T13:17:20.509Z"
   },
   {
    "duration": 3527,
    "start_time": "2023-09-04T13:21:35.509Z"
   },
   {
    "duration": 3754,
    "start_time": "2023-09-04T13:26:10.510Z"
   },
   {
    "duration": 6,
    "start_time": "2023-09-04T13:27:18.389Z"
   },
   {
    "duration": 1311,
    "start_time": "2023-09-04T13:27:33.255Z"
   },
   {
    "duration": 414,
    "start_time": "2023-09-04T13:27:34.568Z"
   },
   {
    "duration": 16,
    "start_time": "2023-09-04T13:27:34.984Z"
   },
   {
    "duration": 62,
    "start_time": "2023-09-04T13:27:35.002Z"
   },
   {
    "duration": 28,
    "start_time": "2023-09-04T13:27:35.065Z"
   },
   {
    "duration": 48,
    "start_time": "2023-09-04T13:27:35.095Z"
   },
   {
    "duration": 78,
    "start_time": "2023-09-04T13:27:35.145Z"
   },
   {
    "duration": 151,
    "start_time": "2023-09-04T13:27:35.234Z"
   },
   {
    "duration": 148,
    "start_time": "2023-09-04T13:27:35.387Z"
   },
   {
    "duration": 6,
    "start_time": "2023-09-04T13:27:35.538Z"
   },
   {
    "duration": 144,
    "start_time": "2023-09-04T13:27:35.545Z"
   },
   {
    "duration": 370,
    "start_time": "2023-09-04T13:27:35.690Z"
   },
   {
    "duration": 409,
    "start_time": "2023-09-04T13:27:36.062Z"
   },
   {
    "duration": 312,
    "start_time": "2023-09-04T13:27:36.473Z"
   },
   {
    "duration": 1933,
    "start_time": "2023-09-04T13:27:36.786Z"
   },
   {
    "duration": 164,
    "start_time": "2023-09-04T13:27:38.720Z"
   },
   {
    "duration": 252,
    "start_time": "2023-09-04T13:27:38.886Z"
   },
   {
    "duration": 95,
    "start_time": "2023-09-04T13:27:39.141Z"
   },
   {
    "duration": 17,
    "start_time": "2023-09-04T13:27:39.238Z"
   },
   {
    "duration": 88,
    "start_time": "2023-09-04T13:27:39.257Z"
   },
   {
    "duration": 52,
    "start_time": "2023-09-04T13:27:39.346Z"
   },
   {
    "duration": 5,
    "start_time": "2023-09-04T13:27:43.023Z"
   },
   {
    "duration": 110,
    "start_time": "2023-09-04T13:30:40.894Z"
   },
   {
    "duration": 3873,
    "start_time": "2023-09-04T13:31:15.794Z"
   },
   {
    "duration": 3473,
    "start_time": "2023-09-04T13:31:46.443Z"
   },
   {
    "duration": 3740,
    "start_time": "2023-09-04T13:31:56.432Z"
   },
   {
    "duration": 3898,
    "start_time": "2023-09-04T13:32:08.099Z"
   },
   {
    "duration": 4144,
    "start_time": "2023-09-04T13:32:30.698Z"
   },
   {
    "duration": 4630,
    "start_time": "2023-09-04T13:35:12.553Z"
   },
   {
    "duration": 1457,
    "start_time": "2023-09-04T13:35:33.676Z"
   },
   {
    "duration": 405,
    "start_time": "2023-09-04T13:35:35.138Z"
   },
   {
    "duration": 18,
    "start_time": "2023-09-04T13:35:35.545Z"
   },
   {
    "duration": 55,
    "start_time": "2023-09-04T13:35:35.564Z"
   },
   {
    "duration": 41,
    "start_time": "2023-09-04T13:35:35.622Z"
   },
   {
    "duration": 36,
    "start_time": "2023-09-04T13:35:35.665Z"
   },
   {
    "duration": 99,
    "start_time": "2023-09-04T13:35:35.703Z"
   },
   {
    "duration": 166,
    "start_time": "2023-09-04T13:35:35.803Z"
   },
   {
    "duration": 174,
    "start_time": "2023-09-04T13:35:35.971Z"
   },
   {
    "duration": 10,
    "start_time": "2023-09-04T13:35:36.147Z"
   },
   {
    "duration": 153,
    "start_time": "2023-09-04T13:35:36.158Z"
   },
   {
    "duration": 373,
    "start_time": "2023-09-04T13:35:36.313Z"
   },
   {
    "duration": 400,
    "start_time": "2023-09-04T13:35:36.688Z"
   },
   {
    "duration": 382,
    "start_time": "2023-09-04T13:35:37.091Z"
   },
   {
    "duration": 2065,
    "start_time": "2023-09-04T13:35:37.474Z"
   },
   {
    "duration": 157,
    "start_time": "2023-09-04T13:35:39.541Z"
   },
   {
    "duration": 152,
    "start_time": "2023-09-04T13:35:39.699Z"
   },
   {
    "duration": 84,
    "start_time": "2023-09-04T13:35:39.853Z"
   },
   {
    "duration": 103,
    "start_time": "2023-09-04T13:35:39.939Z"
   },
   {
    "duration": 18,
    "start_time": "2023-09-04T13:35:40.053Z"
   },
   {
    "duration": 42,
    "start_time": "2023-09-04T13:35:40.073Z"
   },
   {
    "duration": 5,
    "start_time": "2023-09-04T13:35:40.117Z"
   },
   {
    "duration": 4196,
    "start_time": "2023-09-04T13:35:59.269Z"
   },
   {
    "duration": 4032,
    "start_time": "2023-09-04T13:37:12.280Z"
   },
   {
    "duration": 4416,
    "start_time": "2023-09-04T13:38:32.020Z"
   },
   {
    "duration": 4328,
    "start_time": "2023-09-04T13:38:58.161Z"
   },
   {
    "duration": 3895,
    "start_time": "2023-09-04T13:39:05.385Z"
   },
   {
    "duration": 3787,
    "start_time": "2023-09-04T13:39:44.311Z"
   },
   {
    "duration": 5,
    "start_time": "2023-09-04T13:39:53.515Z"
   },
   {
    "duration": 3,
    "start_time": "2023-09-04T13:39:57.035Z"
   },
   {
    "duration": 3992,
    "start_time": "2023-09-04T13:40:24.163Z"
   },
   {
    "duration": 4,
    "start_time": "2023-09-04T13:40:30.179Z"
   },
   {
    "duration": 4151,
    "start_time": "2023-09-04T13:40:33.048Z"
   },
   {
    "duration": 3,
    "start_time": "2023-09-04T13:40:41.986Z"
   },
   {
    "duration": 36,
    "start_time": "2023-09-04T13:40:47.372Z"
   },
   {
    "duration": 84,
    "start_time": "2023-09-04T13:41:31.727Z"
   },
   {
    "duration": 3411,
    "start_time": "2023-09-05T01:55:03.423Z"
   },
   {
    "duration": 1486,
    "start_time": "2023-09-05T01:55:06.836Z"
   },
   {
    "duration": 18,
    "start_time": "2023-09-05T01:55:08.325Z"
   },
   {
    "duration": 159,
    "start_time": "2023-09-05T01:55:08.346Z"
   },
   {
    "duration": 99,
    "start_time": "2023-09-05T01:55:08.519Z"
   },
   {
    "duration": 116,
    "start_time": "2023-09-05T01:55:08.620Z"
   },
   {
    "duration": 280,
    "start_time": "2023-09-05T01:55:08.739Z"
   },
   {
    "duration": 416,
    "start_time": "2023-09-05T01:55:09.022Z"
   },
   {
    "duration": 412,
    "start_time": "2023-09-05T01:55:09.441Z"
   },
   {
    "duration": 17,
    "start_time": "2023-09-05T01:55:09.903Z"
   },
   {
    "duration": 402,
    "start_time": "2023-09-05T01:55:09.923Z"
   },
   {
    "duration": 705,
    "start_time": "2023-09-05T01:55:10.326Z"
   },
   {
    "duration": 876,
    "start_time": "2023-09-05T01:55:11.033Z"
   },
   {
    "duration": 826,
    "start_time": "2023-09-05T01:55:11.912Z"
   },
   {
    "duration": 5484,
    "start_time": "2023-09-05T01:55:12.741Z"
   },
   {
    "duration": 394,
    "start_time": "2023-09-05T01:55:18.227Z"
   },
   {
    "duration": 398,
    "start_time": "2023-09-05T01:55:18.623Z"
   },
   {
    "duration": 83,
    "start_time": "2023-09-05T01:55:19.024Z"
   },
   {
    "duration": 208,
    "start_time": "2023-09-05T01:55:19.110Z"
   },
   {
    "duration": 36,
    "start_time": "2023-09-05T01:55:19.321Z"
   },
   {
    "duration": 123,
    "start_time": "2023-09-05T01:55:19.404Z"
   },
   {
    "duration": 10907,
    "start_time": "2023-09-05T01:55:19.529Z"
   },
   {
    "duration": 5,
    "start_time": "2023-09-05T01:55:30.438Z"
   },
   {
    "duration": 10958,
    "start_time": "2023-09-05T01:55:30.444Z"
   },
   {
    "duration": 8,
    "start_time": "2023-09-05T01:55:41.405Z"
   },
   {
    "duration": 6617,
    "start_time": "2023-09-05T01:55:41.415Z"
   },
   {
    "duration": 0,
    "start_time": "2023-09-05T01:55:48.034Z"
   },
   {
    "duration": 0,
    "start_time": "2023-09-05T01:55:48.035Z"
   },
   {
    "duration": 0,
    "start_time": "2023-09-05T01:55:48.036Z"
   },
   {
    "duration": 3509,
    "start_time": "2023-09-05T01:56:00.334Z"
   },
   {
    "duration": 1082,
    "start_time": "2023-09-05T01:56:03.845Z"
   },
   {
    "duration": 76,
    "start_time": "2023-09-05T01:56:04.929Z"
   },
   {
    "duration": 121,
    "start_time": "2023-09-05T01:56:05.008Z"
   },
   {
    "duration": 111,
    "start_time": "2023-09-05T01:56:05.131Z"
   },
   {
    "duration": 108,
    "start_time": "2023-09-05T01:56:05.244Z"
   },
   {
    "duration": 301,
    "start_time": "2023-09-05T01:56:05.410Z"
   },
   {
    "duration": 501,
    "start_time": "2023-09-05T01:56:05.713Z"
   },
   {
    "duration": 497,
    "start_time": "2023-09-05T01:56:06.216Z"
   },
   {
    "duration": 11,
    "start_time": "2023-09-05T01:56:06.720Z"
   },
   {
    "duration": 401,
    "start_time": "2023-09-05T01:56:06.733Z"
   },
   {
    "duration": 705,
    "start_time": "2023-09-05T01:56:07.135Z"
   },
   {
    "duration": 899,
    "start_time": "2023-09-05T01:56:07.841Z"
   },
   {
    "duration": 801,
    "start_time": "2023-09-05T01:56:08.743Z"
   },
   {
    "duration": 4927,
    "start_time": "2023-09-05T01:56:09.601Z"
   },
   {
    "duration": 502,
    "start_time": "2023-09-05T01:56:14.532Z"
   },
   {
    "duration": 567,
    "start_time": "2023-09-05T01:56:15.037Z"
   },
   {
    "duration": 16,
    "start_time": "2023-09-05T01:56:15.607Z"
   },
   {
    "duration": 89,
    "start_time": "2023-09-05T01:56:15.626Z"
   },
   {
    "duration": 19,
    "start_time": "2023-09-05T01:56:15.718Z"
   },
   {
    "duration": 82,
    "start_time": "2023-09-05T01:56:16.151Z"
   },
   {
    "duration": 10811,
    "start_time": "2023-09-05T01:56:18.532Z"
   },
   {
    "duration": 7,
    "start_time": "2023-09-05T01:56:47.520Z"
   },
   {
    "duration": 4,
    "start_time": "2023-09-05T01:56:55.170Z"
   },
   {
    "duration": 6,
    "start_time": "2023-09-05T01:57:24.864Z"
   },
   {
    "duration": 37,
    "start_time": "2023-09-05T01:57:54.676Z"
   },
   {
    "duration": 6,
    "start_time": "2023-09-05T01:58:21.923Z"
   },
   {
    "duration": 16,
    "start_time": "2023-09-05T01:58:32.511Z"
   },
   {
    "duration": 11,
    "start_time": "2023-09-05T01:59:11.772Z"
   },
   {
    "duration": 15,
    "start_time": "2023-09-05T01:59:27.521Z"
   },
   {
    "duration": 48,
    "start_time": "2023-09-05T01:59:38.369Z"
   },
   {
    "duration": 14,
    "start_time": "2023-09-05T01:59:40.120Z"
   },
   {
    "duration": 12,
    "start_time": "2023-09-05T01:59:41.561Z"
   },
   {
    "duration": 14,
    "start_time": "2023-09-05T02:00:15.220Z"
   },
   {
    "duration": 25,
    "start_time": "2023-09-05T02:00:17.996Z"
   },
   {
    "duration": 11838,
    "start_time": "2023-09-05T02:00:53.594Z"
   },
   {
    "duration": 11112,
    "start_time": "2023-09-05T02:01:09.803Z"
   },
   {
    "duration": 1554,
    "start_time": "2023-09-05T05:51:37.062Z"
   },
   {
    "duration": 3,
    "start_time": "2023-09-05T05:52:31.666Z"
   },
   {
    "duration": 2031,
    "start_time": "2023-09-05T05:52:31.671Z"
   },
   {
    "duration": 19,
    "start_time": "2023-09-05T05:52:33.704Z"
   },
   {
    "duration": 58,
    "start_time": "2023-09-05T05:52:33.725Z"
   },
   {
    "duration": 36,
    "start_time": "2023-09-05T05:52:33.785Z"
   },
   {
    "duration": 57,
    "start_time": "2023-09-05T05:52:33.822Z"
   },
   {
    "duration": 101,
    "start_time": "2023-09-05T05:52:33.881Z"
   },
   {
    "duration": 206,
    "start_time": "2023-09-05T05:52:33.984Z"
   },
   {
    "duration": 209,
    "start_time": "2023-09-05T05:52:34.193Z"
   },
   {
    "duration": 42,
    "start_time": "2023-09-05T05:52:34.404Z"
   },
   {
    "duration": 157,
    "start_time": "2023-09-05T05:52:34.448Z"
   },
   {
    "duration": 418,
    "start_time": "2023-09-05T05:52:34.607Z"
   },
   {
    "duration": 426,
    "start_time": "2023-09-05T05:52:35.027Z"
   },
   {
    "duration": 325,
    "start_time": "2023-09-05T05:52:35.456Z"
   },
   {
    "duration": 1941,
    "start_time": "2023-09-05T05:52:35.783Z"
   },
   {
    "duration": 143,
    "start_time": "2023-09-05T05:52:37.726Z"
   },
   {
    "duration": 279,
    "start_time": "2023-09-05T05:52:37.870Z"
   },
   {
    "duration": 94,
    "start_time": "2023-09-05T05:52:38.151Z"
   },
   {
    "duration": 30,
    "start_time": "2023-09-05T05:52:38.247Z"
   },
   {
    "duration": 36,
    "start_time": "2023-09-05T05:52:38.279Z"
   },
   {
    "duration": 46,
    "start_time": "2023-09-05T05:52:38.317Z"
   },
   {
    "duration": 3851,
    "start_time": "2023-09-05T05:52:43.315Z"
   },
   {
    "duration": 11,
    "start_time": "2023-09-05T05:52:54.974Z"
   },
   {
    "duration": 4,
    "start_time": "2023-09-05T05:53:45.457Z"
   },
   {
    "duration": 3683,
    "start_time": "2023-09-05T05:53:57.211Z"
   },
   {
    "duration": 4,
    "start_time": "2023-09-05T05:54:08.280Z"
   },
   {
    "duration": 3692,
    "start_time": "2023-09-05T05:54:28.193Z"
   },
   {
    "duration": 4,
    "start_time": "2023-09-05T05:54:42.873Z"
   },
   {
    "duration": 20,
    "start_time": "2023-09-05T05:54:47.900Z"
   },
   {
    "duration": 5,
    "start_time": "2023-09-05T06:02:29.900Z"
   },
   {
    "duration": 5,
    "start_time": "2023-09-05T06:02:40.086Z"
   },
   {
    "duration": 4,
    "start_time": "2023-09-05T06:02:50.740Z"
   },
   {
    "duration": 7233,
    "start_time": "2023-09-05T06:03:06.469Z"
   },
   {
    "duration": 4,
    "start_time": "2023-09-05T06:03:16.750Z"
   },
   {
    "duration": 4,
    "start_time": "2023-09-05T06:04:58.505Z"
   },
   {
    "duration": 6,
    "start_time": "2023-09-05T06:06:13.819Z"
   },
   {
    "duration": 1481,
    "start_time": "2023-09-05T06:06:58.415Z"
   },
   {
    "duration": 377,
    "start_time": "2023-09-05T06:06:59.899Z"
   },
   {
    "duration": 16,
    "start_time": "2023-09-05T06:07:00.278Z"
   },
   {
    "duration": 70,
    "start_time": "2023-09-05T06:07:00.296Z"
   },
   {
    "duration": 30,
    "start_time": "2023-09-05T06:07:00.368Z"
   },
   {
    "duration": 54,
    "start_time": "2023-09-05T06:07:00.400Z"
   },
   {
    "duration": 97,
    "start_time": "2023-09-05T06:07:00.455Z"
   },
   {
    "duration": 157,
    "start_time": "2023-09-05T06:07:00.554Z"
   },
   {
    "duration": 168,
    "start_time": "2023-09-05T06:07:00.713Z"
   },
   {
    "duration": 7,
    "start_time": "2023-09-05T06:07:00.882Z"
   },
   {
    "duration": 194,
    "start_time": "2023-09-05T06:07:00.891Z"
   },
   {
    "duration": 348,
    "start_time": "2023-09-05T06:07:01.086Z"
   },
   {
    "duration": 466,
    "start_time": "2023-09-05T06:07:01.436Z"
   },
   {
    "duration": 388,
    "start_time": "2023-09-05T06:07:01.905Z"
   },
   {
    "duration": 2383,
    "start_time": "2023-09-05T06:07:02.295Z"
   },
   {
    "duration": 159,
    "start_time": "2023-09-05T06:07:04.680Z"
   },
   {
    "duration": 205,
    "start_time": "2023-09-05T06:07:04.841Z"
   },
   {
    "duration": 6,
    "start_time": "2023-09-05T06:07:05.050Z"
   },
   {
    "duration": 18,
    "start_time": "2023-09-05T06:07:05.145Z"
   },
   {
    "duration": 17,
    "start_time": "2023-09-05T06:07:05.164Z"
   },
   {
    "duration": 43,
    "start_time": "2023-09-05T06:07:05.182Z"
   },
   {
    "duration": 3763,
    "start_time": "2023-09-05T06:07:05.226Z"
   },
   {
    "duration": 15,
    "start_time": "2023-09-05T06:07:08.991Z"
   },
   {
    "duration": 7,
    "start_time": "2023-09-05T06:07:09.008Z"
   },
   {
    "duration": 5,
    "start_time": "2023-09-05T06:07:09.017Z"
   },
   {
    "duration": 3740,
    "start_time": "2023-09-05T06:07:09.024Z"
   },
   {
    "duration": 4,
    "start_time": "2023-09-05T06:07:12.766Z"
   },
   {
    "duration": 3844,
    "start_time": "2023-09-05T06:07:12.772Z"
   },
   {
    "duration": 4,
    "start_time": "2023-09-05T06:07:16.618Z"
   },
   {
    "duration": 35,
    "start_time": "2023-09-05T06:07:16.624Z"
   },
   {
    "duration": 5,
    "start_time": "2023-09-05T06:07:18.064Z"
   },
   {
    "duration": 3572,
    "start_time": "2023-09-05T06:07:28.645Z"
   },
   {
    "duration": 3717,
    "start_time": "2023-09-05T06:07:59.583Z"
   },
   {
    "duration": 3842,
    "start_time": "2023-09-05T06:08:25.028Z"
   },
   {
    "duration": 3636,
    "start_time": "2023-09-05T06:08:34.677Z"
   },
   {
    "duration": 12,
    "start_time": "2023-09-05T06:08:46.447Z"
   },
   {
    "duration": 4,
    "start_time": "2023-09-05T06:11:10.025Z"
   },
   {
    "duration": 132,
    "start_time": "2023-09-05T06:11:41.751Z"
   },
   {
    "duration": 3736,
    "start_time": "2023-09-05T06:11:51.747Z"
   },
   {
    "duration": 79,
    "start_time": "2023-09-05T06:13:15.234Z"
   },
   {
    "duration": 5,
    "start_time": "2023-09-05T06:13:20.224Z"
   },
   {
    "duration": 3455,
    "start_time": "2023-09-05T06:13:28.689Z"
   },
   {
    "duration": 14,
    "start_time": "2023-09-05T06:13:42.545Z"
   },
   {
    "duration": 145,
    "start_time": "2023-09-05T06:13:54.961Z"
   },
   {
    "duration": 3631,
    "start_time": "2023-09-05T06:17:03.170Z"
   },
   {
    "duration": 156,
    "start_time": "2023-09-05T06:17:37.357Z"
   },
   {
    "duration": 136,
    "start_time": "2023-09-05T06:17:51.580Z"
   },
   {
    "duration": 3564,
    "start_time": "2023-09-05T06:17:51.867Z"
   },
   {
    "duration": 142,
    "start_time": "2023-09-05T06:17:55.739Z"
   },
   {
    "duration": 3546,
    "start_time": "2023-09-05T06:18:04.010Z"
   },
   {
    "duration": 13,
    "start_time": "2023-09-05T06:18:48.362Z"
   },
   {
    "duration": 10,
    "start_time": "2023-09-05T06:19:31.541Z"
   },
   {
    "duration": 11,
    "start_time": "2023-09-05T06:19:37.339Z"
   },
   {
    "duration": 158,
    "start_time": "2023-09-05T06:19:45.094Z"
   },
   {
    "duration": 10,
    "start_time": "2023-09-05T06:19:58.224Z"
   },
   {
    "duration": 14,
    "start_time": "2023-09-05T06:20:12.566Z"
   },
   {
    "duration": 148,
    "start_time": "2023-09-05T06:22:06.950Z"
   },
   {
    "duration": 5,
    "start_time": "2023-09-05T06:22:15.999Z"
   },
   {
    "duration": 3541,
    "start_time": "2023-09-05T06:22:21.133Z"
   },
   {
    "duration": 139,
    "start_time": "2023-09-05T06:22:26.175Z"
   },
   {
    "duration": 3596,
    "start_time": "2023-09-05T06:22:36.285Z"
   },
   {
    "duration": 269,
    "start_time": "2023-09-05T06:22:44.897Z"
   },
   {
    "duration": 3395,
    "start_time": "2023-09-05T06:23:46.566Z"
   },
   {
    "duration": 152,
    "start_time": "2023-09-05T06:23:53.771Z"
   },
   {
    "duration": 140,
    "start_time": "2023-09-05T06:25:15.171Z"
   },
   {
    "duration": 150,
    "start_time": "2023-09-05T06:26:00.241Z"
   },
   {
    "duration": 146,
    "start_time": "2023-09-05T06:26:07.916Z"
   },
   {
    "duration": 191,
    "start_time": "2023-09-05T06:26:14.205Z"
   },
   {
    "duration": 134,
    "start_time": "2023-09-05T06:26:19.334Z"
   },
   {
    "duration": 138,
    "start_time": "2023-09-05T06:26:25.482Z"
   },
   {
    "duration": 5,
    "start_time": "2023-09-05T06:31:41.752Z"
   },
   {
    "duration": 3569,
    "start_time": "2023-09-05T06:31:45.524Z"
   },
   {
    "duration": 146,
    "start_time": "2023-09-05T06:31:51.636Z"
   },
   {
    "duration": 84,
    "start_time": "2023-09-05T06:37:25.622Z"
   },
   {
    "duration": 6,
    "start_time": "2023-09-05T06:39:33.067Z"
   },
   {
    "duration": 3860,
    "start_time": "2023-09-05T06:39:36.203Z"
   },
   {
    "duration": 176,
    "start_time": "2023-09-05T06:39:41.679Z"
   },
   {
    "duration": 4051,
    "start_time": "2023-09-05T06:42:04.393Z"
   },
   {
    "duration": 4030,
    "start_time": "2023-09-05T06:42:11.522Z"
   },
   {
    "duration": 7,
    "start_time": "2023-09-05T06:45:49.976Z"
   },
   {
    "duration": 8,
    "start_time": "2023-09-05T07:01:11.016Z"
   },
   {
    "duration": 4917,
    "start_time": "2023-09-05T07:01:18.128Z"
   },
   {
    "duration": 273,
    "start_time": "2023-09-05T07:01:25.198Z"
   },
   {
    "duration": 19,
    "start_time": "2023-09-05T07:03:54.033Z"
   },
   {
    "duration": 15,
    "start_time": "2023-09-05T07:07:10.175Z"
   },
   {
    "duration": 14,
    "start_time": "2023-09-05T07:07:29.583Z"
   },
   {
    "duration": 4926,
    "start_time": "2023-09-05T07:08:18.436Z"
   },
   {
    "duration": 5050,
    "start_time": "2023-09-05T07:08:48.371Z"
   },
   {
    "duration": 4981,
    "start_time": "2023-09-05T07:09:14.173Z"
   },
   {
    "duration": 7,
    "start_time": "2023-09-05T07:09:33.735Z"
   },
   {
    "duration": 4907,
    "start_time": "2023-09-05T07:09:37.462Z"
   },
   {
    "duration": 176,
    "start_time": "2023-09-05T07:09:45.004Z"
   },
   {
    "duration": 1980,
    "start_time": "2023-09-05T07:39:15.394Z"
   },
   {
    "duration": 441,
    "start_time": "2023-09-05T07:39:17.377Z"
   },
   {
    "duration": 20,
    "start_time": "2023-09-05T07:39:17.819Z"
   },
   {
    "duration": 169,
    "start_time": "2023-09-05T07:39:17.842Z"
   },
   {
    "duration": 36,
    "start_time": "2023-09-05T07:39:18.014Z"
   },
   {
    "duration": 64,
    "start_time": "2023-09-05T07:39:18.052Z"
   },
   {
    "duration": 100,
    "start_time": "2023-09-05T07:39:18.118Z"
   },
   {
    "duration": 185,
    "start_time": "2023-09-05T07:39:18.220Z"
   },
   {
    "duration": 174,
    "start_time": "2023-09-05T07:39:18.407Z"
   },
   {
    "duration": 20,
    "start_time": "2023-09-05T07:39:18.584Z"
   },
   {
    "duration": 187,
    "start_time": "2023-09-05T07:39:18.605Z"
   },
   {
    "duration": 395,
    "start_time": "2023-09-05T07:39:18.801Z"
   },
   {
    "duration": 455,
    "start_time": "2023-09-05T07:39:19.197Z"
   },
   {
    "duration": 400,
    "start_time": "2023-09-05T07:39:19.653Z"
   },
   {
    "duration": 2200,
    "start_time": "2023-09-05T07:39:20.054Z"
   },
   {
    "duration": 165,
    "start_time": "2023-09-05T07:39:22.255Z"
   },
   {
    "duration": 282,
    "start_time": "2023-09-05T07:39:22.422Z"
   },
   {
    "duration": 96,
    "start_time": "2023-09-05T07:39:22.706Z"
   },
   {
    "duration": 13,
    "start_time": "2023-09-05T07:39:22.804Z"
   },
   {
    "duration": 32,
    "start_time": "2023-09-05T07:39:22.819Z"
   },
   {
    "duration": 79,
    "start_time": "2023-09-05T07:39:22.853Z"
   },
   {
    "duration": 5142,
    "start_time": "2023-09-05T07:39:22.934Z"
   },
   {
    "duration": 4,
    "start_time": "2023-09-05T07:39:28.078Z"
   },
   {
    "duration": 5346,
    "start_time": "2023-09-05T07:39:28.084Z"
   },
   {
    "duration": 4,
    "start_time": "2023-09-05T07:39:33.432Z"
   },
   {
    "duration": 5228,
    "start_time": "2023-09-05T07:39:33.438Z"
   },
   {
    "duration": 4,
    "start_time": "2023-09-05T07:39:38.668Z"
   },
   {
    "duration": 11,
    "start_time": "2023-09-05T07:39:38.676Z"
   },
   {
    "duration": 5215,
    "start_time": "2023-09-05T07:39:38.701Z"
   },
   {
    "duration": 212,
    "start_time": "2023-09-05T07:39:43.919Z"
   },
   {
    "duration": 5249,
    "start_time": "2023-09-05T07:39:44.133Z"
   },
   {
    "duration": 159,
    "start_time": "2023-09-05T07:39:49.383Z"
   },
   {
    "duration": 5139,
    "start_time": "2023-09-05T07:39:49.544Z"
   },
   {
    "duration": 195,
    "start_time": "2023-09-05T07:39:54.686Z"
   },
   {
    "duration": 38,
    "start_time": "2023-09-05T07:39:54.883Z"
   },
   {
    "duration": 5092,
    "start_time": "2023-09-05T07:41:56.966Z"
   },
   {
    "duration": 7,
    "start_time": "2023-09-05T07:42:08.923Z"
   },
   {
    "duration": 7,
    "start_time": "2023-09-05T07:42:25.644Z"
   },
   {
    "duration": 10,
    "start_time": "2023-09-05T07:49:51.197Z"
   },
   {
    "duration": 116,
    "start_time": "2023-09-05T07:50:40.657Z"
   },
   {
    "duration": 6,
    "start_time": "2023-09-05T07:51:18.103Z"
   },
   {
    "duration": 8,
    "start_time": "2023-09-05T07:51:39.176Z"
   },
   {
    "duration": 7,
    "start_time": "2023-09-05T07:52:34.219Z"
   },
   {
    "duration": 7,
    "start_time": "2023-09-05T07:52:42.247Z"
   },
   {
    "duration": 7,
    "start_time": "2023-09-05T07:52:49.857Z"
   },
   {
    "duration": 7,
    "start_time": "2023-09-05T07:58:57.092Z"
   },
   {
    "duration": 6,
    "start_time": "2023-09-05T08:00:24.179Z"
   },
   {
    "duration": 10,
    "start_time": "2023-09-05T08:00:35.929Z"
   },
   {
    "duration": 11,
    "start_time": "2023-09-05T08:01:10.759Z"
   },
   {
    "duration": 7,
    "start_time": "2023-09-05T08:03:28.223Z"
   },
   {
    "duration": 51,
    "start_time": "2023-09-06T08:28:41.998Z"
   },
   {
    "duration": 1783,
    "start_time": "2023-09-06T08:28:47.088Z"
   },
   {
    "duration": 1740,
    "start_time": "2023-09-06T08:28:48.874Z"
   },
   {
    "duration": 23,
    "start_time": "2023-09-06T08:28:50.616Z"
   },
   {
    "duration": 83,
    "start_time": "2023-09-06T08:28:50.641Z"
   },
   {
    "duration": 33,
    "start_time": "2023-09-06T08:28:50.726Z"
   },
   {
    "duration": 39,
    "start_time": "2023-09-06T08:28:50.761Z"
   },
   {
    "duration": 111,
    "start_time": "2023-09-06T08:28:50.802Z"
   },
   {
    "duration": 209,
    "start_time": "2023-09-06T08:28:50.916Z"
   },
   {
    "duration": 193,
    "start_time": "2023-09-06T08:28:51.127Z"
   },
   {
    "duration": 7,
    "start_time": "2023-09-06T08:28:51.323Z"
   },
   {
    "duration": 186,
    "start_time": "2023-09-06T08:28:51.331Z"
   },
   {
    "duration": 432,
    "start_time": "2023-09-06T08:28:51.518Z"
   },
   {
    "duration": 467,
    "start_time": "2023-09-06T08:28:51.952Z"
   },
   {
    "duration": 366,
    "start_time": "2023-09-06T08:28:52.421Z"
   },
   {
    "duration": 2383,
    "start_time": "2023-09-06T08:28:52.789Z"
   },
   {
    "duration": 156,
    "start_time": "2023-09-06T08:28:55.174Z"
   },
   {
    "duration": 312,
    "start_time": "2023-09-06T08:28:55.332Z"
   },
   {
    "duration": 6,
    "start_time": "2023-09-06T08:28:55.647Z"
   },
   {
    "duration": 95,
    "start_time": "2023-09-06T08:28:55.655Z"
   },
   {
    "duration": 23,
    "start_time": "2023-09-06T08:28:55.751Z"
   },
   {
    "duration": 74,
    "start_time": "2023-09-06T08:28:55.776Z"
   },
   {
    "duration": 5098,
    "start_time": "2023-09-06T08:28:55.852Z"
   },
   {
    "duration": 4,
    "start_time": "2023-09-06T08:29:00.951Z"
   },
   {
    "duration": 5176,
    "start_time": "2023-09-06T08:29:02.725Z"
   },
   {
    "duration": 7,
    "start_time": "2023-09-06T08:29:38.771Z"
   },
   {
    "duration": 4,
    "start_time": "2023-09-06T08:30:00.470Z"
   },
   {
    "duration": 6,
    "start_time": "2023-09-06T08:30:22.305Z"
   },
   {
    "duration": 6,
    "start_time": "2023-09-06T08:31:13.726Z"
   },
   {
    "duration": 13,
    "start_time": "2023-09-06T08:31:39.236Z"
   },
   {
    "duration": 37,
    "start_time": "2023-09-06T08:32:55.829Z"
   },
   {
    "duration": 81,
    "start_time": "2023-09-06T08:34:10.585Z"
   },
   {
    "duration": 4,
    "start_time": "2023-09-06T08:34:16.770Z"
   },
   {
    "duration": 408,
    "start_time": "2023-09-06T08:34:16.776Z"
   },
   {
    "duration": 15,
    "start_time": "2023-09-06T08:34:17.185Z"
   },
   {
    "duration": 44,
    "start_time": "2023-09-06T08:34:17.201Z"
   },
   {
    "duration": 30,
    "start_time": "2023-09-06T08:34:17.247Z"
   },
   {
    "duration": 34,
    "start_time": "2023-09-06T08:34:17.279Z"
   },
   {
    "duration": 103,
    "start_time": "2023-09-06T08:34:17.315Z"
   },
   {
    "duration": 147,
    "start_time": "2023-09-06T08:34:17.420Z"
   },
   {
    "duration": 156,
    "start_time": "2023-09-06T08:34:17.569Z"
   },
   {
    "duration": 6,
    "start_time": "2023-09-06T08:34:17.727Z"
   },
   {
    "duration": 155,
    "start_time": "2023-09-06T08:34:17.745Z"
   },
   {
    "duration": 370,
    "start_time": "2023-09-06T08:34:17.902Z"
   },
   {
    "duration": 334,
    "start_time": "2023-09-06T08:34:18.274Z"
   },
   {
    "duration": 375,
    "start_time": "2023-09-06T08:34:18.611Z"
   },
   {
    "duration": 2213,
    "start_time": "2023-09-06T08:34:18.988Z"
   },
   {
    "duration": 42,
    "start_time": "2023-09-06T08:34:21.203Z"
   },
   {
    "duration": 203,
    "start_time": "2023-09-06T08:34:21.246Z"
   },
   {
    "duration": 194,
    "start_time": "2023-09-06T08:34:21.451Z"
   },
   {
    "duration": 8,
    "start_time": "2023-09-06T08:34:21.648Z"
   },
   {
    "duration": 13,
    "start_time": "2023-09-06T08:34:21.658Z"
   },
   {
    "duration": 23,
    "start_time": "2023-09-06T08:34:21.673Z"
   },
   {
    "duration": 56,
    "start_time": "2023-09-06T08:34:21.698Z"
   },
   {
    "duration": 16,
    "start_time": "2023-09-06T08:34:24.378Z"
   },
   {
    "duration": 33,
    "start_time": "2023-09-06T08:34:45.053Z"
   },
   {
    "duration": 23,
    "start_time": "2023-09-06T08:35:15.824Z"
   },
   {
    "duration": 19,
    "start_time": "2023-09-06T08:36:52.343Z"
   },
   {
    "duration": 4835,
    "start_time": "2023-09-06T08:36:58.456Z"
   },
   {
    "duration": 11,
    "start_time": "2023-09-06T08:39:15.750Z"
   },
   {
    "duration": 4813,
    "start_time": "2023-09-06T08:40:03.572Z"
   },
   {
    "duration": 27,
    "start_time": "2023-09-06T08:44:40.887Z"
   },
   {
    "duration": 15,
    "start_time": "2023-09-06T08:44:56.507Z"
   },
   {
    "duration": 3801,
    "start_time": "2023-09-06T08:46:23.923Z"
   },
   {
    "duration": 8,
    "start_time": "2023-09-06T08:46:44.383Z"
   },
   {
    "duration": 4804,
    "start_time": "2023-09-06T08:46:52.115Z"
   },
   {
    "duration": 8,
    "start_time": "2023-09-06T08:46:59.013Z"
   },
   {
    "duration": 27,
    "start_time": "2023-09-06T09:08:58.002Z"
   },
   {
    "duration": 1214,
    "start_time": "2023-09-06T09:28:20.398Z"
   },
   {
    "duration": 6,
    "start_time": "2023-09-06T09:29:09.950Z"
   },
   {
    "duration": 1310,
    "start_time": "2023-09-06T09:29:26.899Z"
   },
   {
    "duration": 6,
    "start_time": "2023-09-06T09:29:32.204Z"
   },
   {
    "duration": 36,
    "start_time": "2023-09-06T09:33:54.124Z"
   },
   {
    "duration": 16,
    "start_time": "2023-09-06T09:34:04.544Z"
   },
   {
    "duration": 15,
    "start_time": "2023-09-06T09:34:39.908Z"
   },
   {
    "duration": 3,
    "start_time": "2023-09-06T09:34:51.621Z"
   },
   {
    "duration": 428,
    "start_time": "2023-09-06T09:34:51.627Z"
   },
   {
    "duration": 14,
    "start_time": "2023-09-06T09:34:52.057Z"
   },
   {
    "duration": 62,
    "start_time": "2023-09-06T09:34:52.073Z"
   },
   {
    "duration": 30,
    "start_time": "2023-09-06T09:34:52.137Z"
   },
   {
    "duration": 50,
    "start_time": "2023-09-06T09:34:52.168Z"
   },
   {
    "duration": 88,
    "start_time": "2023-09-06T09:34:52.220Z"
   },
   {
    "duration": 155,
    "start_time": "2023-09-06T09:34:52.309Z"
   },
   {
    "duration": 154,
    "start_time": "2023-09-06T09:34:52.465Z"
   },
   {
    "duration": 6,
    "start_time": "2023-09-06T09:34:52.621Z"
   },
   {
    "duration": 161,
    "start_time": "2023-09-06T09:34:52.629Z"
   },
   {
    "duration": 334,
    "start_time": "2023-09-06T09:34:52.792Z"
   },
   {
    "duration": 337,
    "start_time": "2023-09-06T09:34:53.127Z"
   },
   {
    "duration": 320,
    "start_time": "2023-09-06T09:34:53.465Z"
   },
   {
    "duration": 2225,
    "start_time": "2023-09-06T09:34:53.787Z"
   },
   {
    "duration": 40,
    "start_time": "2023-09-06T09:34:56.014Z"
   },
   {
    "duration": 196,
    "start_time": "2023-09-06T09:34:56.056Z"
   },
   {
    "duration": 191,
    "start_time": "2023-09-06T09:34:56.254Z"
   },
   {
    "duration": 31,
    "start_time": "2023-09-06T09:34:56.447Z"
   },
   {
    "duration": 16,
    "start_time": "2023-09-06T09:34:56.480Z"
   },
   {
    "duration": 14,
    "start_time": "2023-09-06T09:34:56.498Z"
   },
   {
    "duration": 40,
    "start_time": "2023-09-06T09:34:56.514Z"
   },
   {
    "duration": 4659,
    "start_time": "2023-09-06T09:34:56.556Z"
   },
   {
    "duration": 6,
    "start_time": "2023-09-06T09:35:01.216Z"
   },
   {
    "duration": 55,
    "start_time": "2023-09-06T09:35:01.223Z"
   },
   {
    "duration": 98,
    "start_time": "2023-09-06T09:35:01.280Z"
   },
   {
    "duration": 0,
    "start_time": "2023-09-06T09:35:01.379Z"
   },
   {
    "duration": 23,
    "start_time": "2023-09-06T09:35:19.354Z"
   },
   {
    "duration": 22,
    "start_time": "2023-09-06T09:35:23.290Z"
   },
   {
    "duration": 23,
    "start_time": "2023-09-06T09:36:13.105Z"
   },
   {
    "duration": 7,
    "start_time": "2023-09-06T09:36:35.884Z"
   },
   {
    "duration": 26,
    "start_time": "2023-09-06T09:36:59.872Z"
   },
   {
    "duration": 15,
    "start_time": "2023-09-06T09:42:39.201Z"
   },
   {
    "duration": 15,
    "start_time": "2023-09-06T09:44:45.729Z"
   },
   {
    "duration": 41,
    "start_time": "2023-09-06T09:44:49.313Z"
   },
   {
    "duration": 21,
    "start_time": "2023-09-06T09:44:53.380Z"
   },
   {
    "duration": 21,
    "start_time": "2023-09-06T09:46:09.761Z"
   },
   {
    "duration": 10,
    "start_time": "2023-09-06T09:48:59.977Z"
   },
   {
    "duration": 4541,
    "start_time": "2023-09-06T09:49:33.045Z"
   },
   {
    "duration": 6,
    "start_time": "2023-09-06T09:49:42.162Z"
   },
   {
    "duration": 14,
    "start_time": "2023-09-06T09:51:28.848Z"
   },
   {
    "duration": 27,
    "start_time": "2023-09-06T09:51:50.415Z"
   },
   {
    "duration": 26,
    "start_time": "2023-09-06T09:51:57.748Z"
   },
   {
    "duration": 28,
    "start_time": "2023-09-06T09:52:05.098Z"
   },
   {
    "duration": 14,
    "start_time": "2023-09-06T09:54:27.569Z"
   },
   {
    "duration": 7776,
    "start_time": "2023-09-06T09:54:36.368Z"
   },
   {
    "duration": 6,
    "start_time": "2023-09-06T09:54:57.552Z"
   },
   {
    "duration": 7,
    "start_time": "2023-09-06T09:55:14.791Z"
   },
   {
    "duration": 6,
    "start_time": "2023-09-06T09:55:18.967Z"
   },
   {
    "duration": 6,
    "start_time": "2023-09-06T09:55:43.796Z"
   },
   {
    "duration": 4,
    "start_time": "2023-09-06T09:57:54.891Z"
   },
   {
    "duration": 4,
    "start_time": "2023-09-06T09:58:20.004Z"
   },
   {
    "duration": 8,
    "start_time": "2023-09-06T09:58:22.708Z"
   },
   {
    "duration": 7758,
    "start_time": "2023-09-06T09:59:08.197Z"
   },
   {
    "duration": 7,
    "start_time": "2023-09-06T09:59:18.166Z"
   },
   {
    "duration": 29,
    "start_time": "2023-09-06T10:00:38.803Z"
   },
   {
    "duration": 15,
    "start_time": "2023-09-06T10:04:07.957Z"
   },
   {
    "duration": 6,
    "start_time": "2023-09-06T10:04:19.663Z"
   },
   {
    "duration": 7,
    "start_time": "2023-09-06T10:04:55.053Z"
   },
   {
    "duration": 16,
    "start_time": "2023-09-06T10:05:10.530Z"
   },
   {
    "duration": 24,
    "start_time": "2023-09-06T10:05:41.960Z"
   },
   {
    "duration": 36,
    "start_time": "2023-09-06T10:05:46.329Z"
   },
   {
    "duration": 4693,
    "start_time": "2023-09-06T10:06:12.303Z"
   },
   {
    "duration": 6,
    "start_time": "2023-09-06T10:06:22.933Z"
   },
   {
    "duration": 11,
    "start_time": "2023-09-06T10:06:27.519Z"
   },
   {
    "duration": 9,
    "start_time": "2023-09-06T10:06:44.902Z"
   },
   {
    "duration": 46,
    "start_time": "2023-09-06T10:07:24.847Z"
   },
   {
    "duration": 16,
    "start_time": "2023-09-06T10:07:30.965Z"
   },
   {
    "duration": 8,
    "start_time": "2023-09-06T10:07:35.388Z"
   },
   {
    "duration": 4,
    "start_time": "2023-09-06T10:07:40.285Z"
   },
   {
    "duration": 15,
    "start_time": "2023-09-06T10:07:48.013Z"
   },
   {
    "duration": 7,
    "start_time": "2023-09-06T10:08:24.071Z"
   },
   {
    "duration": 6,
    "start_time": "2023-09-06T10:10:31.307Z"
   },
   {
    "duration": 17,
    "start_time": "2023-09-06T10:13:39.254Z"
   },
   {
    "duration": 1536,
    "start_time": "2023-09-06T10:14:32.730Z"
   },
   {
    "duration": 425,
    "start_time": "2023-09-06T10:14:34.268Z"
   },
   {
    "duration": 19,
    "start_time": "2023-09-06T10:14:34.695Z"
   },
   {
    "duration": 56,
    "start_time": "2023-09-06T10:14:34.716Z"
   },
   {
    "duration": 31,
    "start_time": "2023-09-06T10:14:34.775Z"
   },
   {
    "duration": 54,
    "start_time": "2023-09-06T10:14:34.808Z"
   },
   {
    "duration": 107,
    "start_time": "2023-09-06T10:14:34.864Z"
   },
   {
    "duration": 198,
    "start_time": "2023-09-06T10:14:34.973Z"
   },
   {
    "duration": 170,
    "start_time": "2023-09-06T10:14:35.174Z"
   },
   {
    "duration": 6,
    "start_time": "2023-09-06T10:14:35.346Z"
   },
   {
    "duration": 154,
    "start_time": "2023-09-06T10:14:35.353Z"
   },
   {
    "duration": 379,
    "start_time": "2023-09-06T10:14:35.509Z"
   },
   {
    "duration": 406,
    "start_time": "2023-09-06T10:14:35.889Z"
   },
   {
    "duration": 373,
    "start_time": "2023-09-06T10:14:36.298Z"
   },
   {
    "duration": 2144,
    "start_time": "2023-09-06T10:14:36.672Z"
   },
   {
    "duration": 177,
    "start_time": "2023-09-06T10:14:38.818Z"
   },
   {
    "duration": 347,
    "start_time": "2023-09-06T10:14:38.997Z"
   },
   {
    "duration": 102,
    "start_time": "2023-09-06T10:14:39.347Z"
   },
   {
    "duration": 4,
    "start_time": "2023-09-06T10:14:39.451Z"
   },
   {
    "duration": 32,
    "start_time": "2023-09-06T10:14:39.456Z"
   },
   {
    "duration": 15,
    "start_time": "2023-09-06T10:14:45.152Z"
   },
   {
    "duration": 117,
    "start_time": "2023-09-06T10:14:47.450Z"
   },
   {
    "duration": 23,
    "start_time": "2023-09-06T10:15:07.666Z"
   },
   {
    "duration": 14,
    "start_time": "2023-09-06T10:15:33.597Z"
   },
   {
    "duration": 21,
    "start_time": "2023-09-06T10:16:05.154Z"
   },
   {
    "duration": 22,
    "start_time": "2023-09-06T10:16:19.530Z"
   },
   {
    "duration": 22,
    "start_time": "2023-09-06T10:16:57.654Z"
   },
   {
    "duration": 10,
    "start_time": "2023-09-06T10:17:57.780Z"
   },
   {
    "duration": 13,
    "start_time": "2023-09-06T10:20:08.901Z"
   },
   {
    "duration": 10,
    "start_time": "2023-09-06T10:20:18.961Z"
   },
   {
    "duration": 73,
    "start_time": "2023-09-06T10:21:07.408Z"
   },
   {
    "duration": 11,
    "start_time": "2023-09-06T10:21:11.832Z"
   },
   {
    "duration": 12,
    "start_time": "2023-09-06T10:21:16.043Z"
   },
   {
    "duration": 10,
    "start_time": "2023-09-06T10:21:17.982Z"
   },
   {
    "duration": 14,
    "start_time": "2023-09-06T10:21:46.968Z"
   },
   {
    "duration": 9,
    "start_time": "2023-09-06T10:22:17.724Z"
   },
   {
    "duration": 12,
    "start_time": "2023-09-06T10:22:20.715Z"
   },
   {
    "duration": 21,
    "start_time": "2023-09-06T10:22:32.012Z"
   },
   {
    "duration": 12,
    "start_time": "2023-09-06T10:22:39.436Z"
   },
   {
    "duration": 22,
    "start_time": "2023-09-06T10:25:06.804Z"
   },
   {
    "duration": 21,
    "start_time": "2023-09-06T10:32:02.619Z"
   },
   {
    "duration": 12,
    "start_time": "2023-09-06T10:32:07.781Z"
   },
   {
    "duration": 10,
    "start_time": "2023-09-06T10:32:13.391Z"
   },
   {
    "duration": 11,
    "start_time": "2023-09-06T10:32:34.215Z"
   },
   {
    "duration": 10,
    "start_time": "2023-09-06T10:32:45.545Z"
   },
   {
    "duration": 13,
    "start_time": "2023-09-06T10:34:50.911Z"
   },
   {
    "duration": 17,
    "start_time": "2023-09-06T10:35:04.251Z"
   },
   {
    "duration": 9,
    "start_time": "2023-09-06T10:35:06.323Z"
   },
   {
    "duration": 14,
    "start_time": "2023-09-06T10:35:28.582Z"
   },
   {
    "duration": 8,
    "start_time": "2023-09-06T10:35:30.270Z"
   },
   {
    "duration": 11,
    "start_time": "2023-09-06T10:41:46.302Z"
   },
   {
    "duration": 57,
    "start_time": "2023-09-06T17:48:19.388Z"
   },
   {
    "duration": 1878,
    "start_time": "2023-09-06T17:48:24.490Z"
   },
   {
    "duration": 955,
    "start_time": "2023-09-06T17:48:26.370Z"
   },
   {
    "duration": 18,
    "start_time": "2023-09-06T17:48:27.327Z"
   },
   {
    "duration": 62,
    "start_time": "2023-09-06T17:48:27.347Z"
   },
   {
    "duration": 65,
    "start_time": "2023-09-06T17:48:27.411Z"
   },
   {
    "duration": 49,
    "start_time": "2023-09-06T17:48:27.479Z"
   },
   {
    "duration": 115,
    "start_time": "2023-09-06T17:48:27.530Z"
   },
   {
    "duration": 223,
    "start_time": "2023-09-06T17:48:27.650Z"
   },
   {
    "duration": 208,
    "start_time": "2023-09-06T17:48:27.875Z"
   },
   {
    "duration": 9,
    "start_time": "2023-09-06T17:48:28.087Z"
   },
   {
    "duration": 192,
    "start_time": "2023-09-06T17:48:28.099Z"
   },
   {
    "duration": 554,
    "start_time": "2023-09-06T17:48:28.293Z"
   },
   {
    "duration": 390,
    "start_time": "2023-09-06T17:48:28.850Z"
   },
   {
    "duration": 392,
    "start_time": "2023-09-06T17:48:29.242Z"
   },
   {
    "duration": 2732,
    "start_time": "2023-09-06T17:48:29.636Z"
   },
   {
    "duration": 43,
    "start_time": "2023-09-06T17:48:32.370Z"
   },
   {
    "duration": 242,
    "start_time": "2023-09-06T17:48:32.415Z"
   },
   {
    "duration": 98,
    "start_time": "2023-09-06T17:48:32.659Z"
   },
   {
    "duration": 41,
    "start_time": "2023-09-06T17:48:32.759Z"
   },
   {
    "duration": 33,
    "start_time": "2023-09-06T17:48:32.802Z"
   },
   {
    "duration": 146,
    "start_time": "2023-09-06T17:48:35.635Z"
   },
   {
    "duration": 6,
    "start_time": "2023-09-06T17:54:16.498Z"
   },
   {
    "duration": 4,
    "start_time": "2023-09-06T17:54:46.525Z"
   },
   {
    "duration": 7,
    "start_time": "2023-09-06T17:54:54.209Z"
   },
   {
    "duration": 1473,
    "start_time": "2023-09-06T17:55:25.253Z"
   },
   {
    "duration": 445,
    "start_time": "2023-09-06T17:55:26.728Z"
   },
   {
    "duration": 17,
    "start_time": "2023-09-06T17:55:27.175Z"
   },
   {
    "duration": 55,
    "start_time": "2023-09-06T17:55:27.195Z"
   },
   {
    "duration": 33,
    "start_time": "2023-09-06T17:55:27.252Z"
   },
   {
    "duration": 40,
    "start_time": "2023-09-06T17:55:27.287Z"
   },
   {
    "duration": 110,
    "start_time": "2023-09-06T17:55:27.347Z"
   },
   {
    "duration": 179,
    "start_time": "2023-09-06T17:55:27.459Z"
   },
   {
    "duration": 174,
    "start_time": "2023-09-06T17:55:27.640Z"
   },
   {
    "duration": 7,
    "start_time": "2023-09-06T17:55:27.817Z"
   },
   {
    "duration": 169,
    "start_time": "2023-09-06T17:55:27.826Z"
   },
   {
    "duration": 397,
    "start_time": "2023-09-06T17:55:27.996Z"
   },
   {
    "duration": 408,
    "start_time": "2023-09-06T17:55:28.394Z"
   },
   {
    "duration": 418,
    "start_time": "2023-09-06T17:55:28.804Z"
   },
   {
    "duration": 2301,
    "start_time": "2023-09-06T17:55:29.224Z"
   },
   {
    "duration": 171,
    "start_time": "2023-09-06T17:55:31.526Z"
   },
   {
    "duration": 228,
    "start_time": "2023-09-06T17:55:35.726Z"
   },
   {
    "duration": 5,
    "start_time": "2023-09-06T17:55:38.053Z"
   },
   {
    "duration": 5,
    "start_time": "2023-09-06T17:56:02.400Z"
   },
   {
    "duration": 6,
    "start_time": "2023-09-06T17:57:48.645Z"
   },
   {
    "duration": 12,
    "start_time": "2023-09-06T17:58:01.649Z"
   },
   {
    "duration": 23,
    "start_time": "2023-09-06T17:58:48.461Z"
   },
   {
    "duration": 16,
    "start_time": "2023-09-06T17:58:56.551Z"
   },
   {
    "duration": 43,
    "start_time": "2023-09-06T17:59:16.334Z"
   },
   {
    "duration": 44,
    "start_time": "2023-09-06T17:59:36.234Z"
   },
   {
    "duration": 8458,
    "start_time": "2023-09-06T17:59:44.553Z"
   },
   {
    "duration": 130,
    "start_time": "2023-09-06T18:00:21.828Z"
   },
   {
    "duration": 4,
    "start_time": "2023-09-06T18:01:32.303Z"
   },
   {
    "duration": 455,
    "start_time": "2023-09-06T18:01:32.309Z"
   },
   {
    "duration": 15,
    "start_time": "2023-09-06T18:01:32.766Z"
   },
   {
    "duration": 62,
    "start_time": "2023-09-06T18:01:32.782Z"
   },
   {
    "duration": 33,
    "start_time": "2023-09-06T18:01:32.846Z"
   },
   {
    "duration": 43,
    "start_time": "2023-09-06T18:01:32.881Z"
   },
   {
    "duration": 113,
    "start_time": "2023-09-06T18:01:32.926Z"
   },
   {
    "duration": 182,
    "start_time": "2023-09-06T18:01:33.047Z"
   },
   {
    "duration": 171,
    "start_time": "2023-09-06T18:01:33.231Z"
   },
   {
    "duration": 8,
    "start_time": "2023-09-06T18:01:33.405Z"
   },
   {
    "duration": 189,
    "start_time": "2023-09-06T18:01:33.415Z"
   },
   {
    "duration": 420,
    "start_time": "2023-09-06T18:01:33.606Z"
   },
   {
    "duration": 390,
    "start_time": "2023-09-06T18:01:34.028Z"
   },
   {
    "duration": 383,
    "start_time": "2023-09-06T18:01:34.421Z"
   },
   {
    "duration": 2390,
    "start_time": "2023-09-06T18:01:34.805Z"
   },
   {
    "duration": 30,
    "start_time": "2023-09-06T18:01:37.197Z"
   },
   {
    "duration": 223,
    "start_time": "2023-09-06T18:01:37.229Z"
   },
   {
    "duration": 97,
    "start_time": "2023-09-06T18:01:37.455Z"
   },
   {
    "duration": 97,
    "start_time": "2023-09-06T18:01:37.555Z"
   },
   {
    "duration": 21,
    "start_time": "2023-09-06T18:01:37.654Z"
   },
   {
    "duration": 12,
    "start_time": "2023-09-06T18:01:37.677Z"
   },
   {
    "duration": 19,
    "start_time": "2023-09-06T18:01:37.692Z"
   },
   {
    "duration": 70,
    "start_time": "2023-09-06T18:01:37.713Z"
   },
   {
    "duration": 8598,
    "start_time": "2023-09-06T18:01:40.793Z"
   },
   {
    "duration": 6075,
    "start_time": "2023-09-06T18:03:44.203Z"
   },
   {
    "duration": 2204,
    "start_time": "2023-09-06T18:10:39.524Z"
   },
   {
    "duration": 2254,
    "start_time": "2023-09-06T18:11:28.609Z"
   },
   {
    "duration": 7,
    "start_time": "2023-09-06T18:11:40.998Z"
   },
   {
    "duration": 20,
    "start_time": "2023-09-06T18:11:51.462Z"
   },
   {
    "duration": 7,
    "start_time": "2023-09-06T18:12:11.301Z"
   },
   {
    "duration": 4,
    "start_time": "2023-09-06T18:12:18.225Z"
   },
   {
    "duration": 2293,
    "start_time": "2023-09-06T18:12:43.636Z"
   },
   {
    "duration": 5,
    "start_time": "2023-09-06T18:12:49.600Z"
   },
   {
    "duration": 6,
    "start_time": "2023-09-06T18:12:52.916Z"
   },
   {
    "duration": 5490,
    "start_time": "2023-09-06T18:12:54.497Z"
   },
   {
    "duration": 7,
    "start_time": "2023-09-06T18:13:19.887Z"
   },
   {
    "duration": 6,
    "start_time": "2023-09-06T18:13:58.164Z"
   },
   {
    "duration": 19,
    "start_time": "2023-09-06T18:13:59.659Z"
   },
   {
    "duration": 9,
    "start_time": "2023-09-06T18:16:50.797Z"
   },
   {
    "duration": 2000,
    "start_time": "2023-09-06T18:17:08.026Z"
   },
   {
    "duration": 147,
    "start_time": "2023-09-06T18:17:16.305Z"
   },
   {
    "duration": 19,
    "start_time": "2023-09-06T18:18:32.074Z"
   },
   {
    "duration": 1485,
    "start_time": "2023-09-06T18:18:46.569Z"
   },
   {
    "duration": 430,
    "start_time": "2023-09-06T18:18:48.056Z"
   },
   {
    "duration": 18,
    "start_time": "2023-09-06T18:18:48.487Z"
   },
   {
    "duration": 50,
    "start_time": "2023-09-06T18:18:48.508Z"
   },
   {
    "duration": 33,
    "start_time": "2023-09-06T18:18:48.560Z"
   },
   {
    "duration": 59,
    "start_time": "2023-09-06T18:18:48.594Z"
   },
   {
    "duration": 100,
    "start_time": "2023-09-06T18:18:48.654Z"
   },
   {
    "duration": 180,
    "start_time": "2023-09-06T18:18:48.755Z"
   },
   {
    "duration": 189,
    "start_time": "2023-09-06T18:18:48.937Z"
   },
   {
    "duration": 16,
    "start_time": "2023-09-06T18:18:49.130Z"
   },
   {
    "duration": 160,
    "start_time": "2023-09-06T18:18:49.148Z"
   },
   {
    "duration": 396,
    "start_time": "2023-09-06T18:18:49.310Z"
   },
   {
    "duration": 478,
    "start_time": "2023-09-06T18:18:49.708Z"
   },
   {
    "duration": 394,
    "start_time": "2023-09-06T18:18:50.188Z"
   },
   {
    "duration": 2319,
    "start_time": "2023-09-06T18:18:50.584Z"
   },
   {
    "duration": 160,
    "start_time": "2023-09-06T18:18:52.905Z"
   },
   {
    "duration": 284,
    "start_time": "2023-09-06T18:18:53.067Z"
   },
   {
    "duration": 98,
    "start_time": "2023-09-06T18:18:53.353Z"
   },
   {
    "duration": 34,
    "start_time": "2023-09-06T18:18:53.453Z"
   },
   {
    "duration": 28,
    "start_time": "2023-09-06T18:18:53.489Z"
   },
   {
    "duration": 32,
    "start_time": "2023-09-06T18:18:53.518Z"
   },
   {
    "duration": 28,
    "start_time": "2023-09-06T18:18:53.552Z"
   },
   {
    "duration": 43,
    "start_time": "2023-09-06T18:18:53.582Z"
   },
   {
    "duration": 2280,
    "start_time": "2023-09-06T18:18:53.627Z"
   },
   {
    "duration": 4,
    "start_time": "2023-09-06T18:18:55.909Z"
   },
   {
    "duration": 2193,
    "start_time": "2023-09-06T18:18:55.915Z"
   },
   {
    "duration": 8,
    "start_time": "2023-09-06T18:18:58.110Z"
   },
   {
    "duration": 125,
    "start_time": "2023-09-06T18:19:22.897Z"
   },
   {
    "duration": 8,
    "start_time": "2023-09-06T18:19:26.797Z"
   },
   {
    "duration": 9,
    "start_time": "2023-09-06T18:19:45.614Z"
   },
   {
    "duration": 3,
    "start_time": "2023-09-06T18:20:03.395Z"
   },
   {
    "duration": 7,
    "start_time": "2023-09-06T18:20:44.849Z"
   },
   {
    "duration": 2048,
    "start_time": "2023-09-06T18:20:47.820Z"
   },
   {
    "duration": 152,
    "start_time": "2023-09-06T18:20:51.741Z"
   },
   {
    "duration": 2218,
    "start_time": "2023-09-06T18:21:16.697Z"
   },
   {
    "duration": 5,
    "start_time": "2023-09-06T18:21:32.872Z"
   },
   {
    "duration": 5,
    "start_time": "2023-09-06T18:21:55.499Z"
   },
   {
    "duration": 2147,
    "start_time": "2023-09-06T18:22:08.253Z"
   },
   {
    "duration": 4,
    "start_time": "2023-09-06T18:22:15.007Z"
   },
   {
    "duration": 13,
    "start_time": "2023-09-06T18:22:20.846Z"
   },
   {
    "duration": 7,
    "start_time": "2023-09-06T18:22:33.500Z"
   },
   {
    "duration": 2016,
    "start_time": "2023-09-06T18:22:35.343Z"
   },
   {
    "duration": 159,
    "start_time": "2023-09-06T18:22:39.453Z"
   },
   {
    "duration": 2026,
    "start_time": "2023-09-06T18:22:41.739Z"
   },
   {
    "duration": 143,
    "start_time": "2023-09-06T18:22:44.855Z"
   },
   {
    "duration": 2011,
    "start_time": "2023-09-06T18:22:48.506Z"
   },
   {
    "duration": 155,
    "start_time": "2023-09-06T18:22:53.057Z"
   },
   {
    "duration": 23,
    "start_time": "2023-09-06T18:22:56.619Z"
   },
   {
    "duration": 25,
    "start_time": "2023-09-06T18:23:49.003Z"
   },
   {
    "duration": 1494,
    "start_time": "2023-09-06T18:24:08.699Z"
   },
   {
    "duration": 436,
    "start_time": "2023-09-06T18:24:10.195Z"
   },
   {
    "duration": 18,
    "start_time": "2023-09-06T18:24:10.633Z"
   },
   {
    "duration": 63,
    "start_time": "2023-09-06T18:24:10.653Z"
   },
   {
    "duration": 33,
    "start_time": "2023-09-06T18:24:10.718Z"
   },
   {
    "duration": 39,
    "start_time": "2023-09-06T18:24:10.753Z"
   },
   {
    "duration": 110,
    "start_time": "2023-09-06T18:24:10.793Z"
   },
   {
    "duration": 171,
    "start_time": "2023-09-06T18:24:10.905Z"
   },
   {
    "duration": 169,
    "start_time": "2023-09-06T18:24:11.078Z"
   },
   {
    "duration": 7,
    "start_time": "2023-09-06T18:24:11.248Z"
   },
   {
    "duration": 165,
    "start_time": "2023-09-06T18:24:11.256Z"
   },
   {
    "duration": 393,
    "start_time": "2023-09-06T18:24:11.423Z"
   },
   {
    "duration": 483,
    "start_time": "2023-09-06T18:24:11.818Z"
   },
   {
    "duration": 395,
    "start_time": "2023-09-06T18:24:12.304Z"
   },
   {
    "duration": 2230,
    "start_time": "2023-09-06T18:24:12.700Z"
   },
   {
    "duration": 161,
    "start_time": "2023-09-06T18:24:14.932Z"
   },
   {
    "duration": 257,
    "start_time": "2023-09-06T18:24:15.095Z"
   },
   {
    "duration": 95,
    "start_time": "2023-09-06T18:24:15.354Z"
   },
   {
    "duration": 121,
    "start_time": "2023-09-06T18:24:15.452Z"
   },
   {
    "duration": 27,
    "start_time": "2023-09-06T18:24:15.575Z"
   },
   {
    "duration": 16,
    "start_time": "2023-09-06T18:24:15.605Z"
   },
   {
    "duration": 19,
    "start_time": "2023-09-06T18:24:21.422Z"
   },
   {
    "duration": 18,
    "start_time": "2023-09-06T18:25:23.207Z"
   },
   {
    "duration": 113,
    "start_time": "2023-09-06T18:26:03.719Z"
   },
   {
    "duration": 7,
    "start_time": "2023-09-06T18:26:23.097Z"
   },
   {
    "duration": 203,
    "start_time": "2023-09-06T18:28:29.752Z"
   },
   {
    "duration": 2119,
    "start_time": "2023-09-06T18:31:16.042Z"
   },
   {
    "duration": 2114,
    "start_time": "2023-09-06T18:31:41.067Z"
   },
   {
    "duration": 5,
    "start_time": "2023-09-06T18:31:53.535Z"
   },
   {
    "duration": 76,
    "start_time": "2023-09-06T18:32:14.589Z"
   },
   {
    "duration": 2159,
    "start_time": "2023-09-06T18:32:26.832Z"
   },
   {
    "duration": 4,
    "start_time": "2023-09-06T18:32:31.654Z"
   },
   {
    "duration": 7,
    "start_time": "2023-09-06T18:32:34.595Z"
   },
   {
    "duration": 13,
    "start_time": "2023-09-06T18:32:49.400Z"
   },
   {
    "duration": 7,
    "start_time": "2023-09-06T18:33:29.470Z"
   },
   {
    "duration": 2015,
    "start_time": "2023-09-06T18:33:32.435Z"
   },
   {
    "duration": 1965,
    "start_time": "2023-09-06T18:33:39.698Z"
   },
   {
    "duration": 2052,
    "start_time": "2023-09-06T18:33:44.505Z"
   },
   {
    "duration": 25,
    "start_time": "2023-09-06T18:33:50.105Z"
   },
   {
    "duration": 179,
    "start_time": "2023-09-06T18:37:43.698Z"
   },
   {
    "duration": 147,
    "start_time": "2023-09-06T18:37:57.031Z"
   },
   {
    "duration": 150,
    "start_time": "2023-09-06T18:42:08.502Z"
   },
   {
    "duration": 4,
    "start_time": "2023-09-06T18:43:40.813Z"
   },
   {
    "duration": 10,
    "start_time": "2023-09-06T18:43:48.796Z"
   },
   {
    "duration": 17,
    "start_time": "2023-09-06T18:44:12.712Z"
   },
   {
    "duration": 20,
    "start_time": "2023-09-06T18:45:54.125Z"
   },
   {
    "duration": 2162,
    "start_time": "2023-09-06T18:45:57.843Z"
   },
   {
    "duration": 4,
    "start_time": "2023-09-06T18:46:45.953Z"
   },
   {
    "duration": 4,
    "start_time": "2023-09-06T18:47:01.156Z"
   },
   {
    "duration": 24,
    "start_time": "2023-09-06T18:47:38.263Z"
   },
   {
    "duration": 2013,
    "start_time": "2023-09-07T16:38:01.299Z"
   },
   {
    "duration": 965,
    "start_time": "2023-09-07T16:38:03.314Z"
   },
   {
    "duration": 18,
    "start_time": "2023-09-07T16:38:04.282Z"
   },
   {
    "duration": 64,
    "start_time": "2023-09-07T16:38:04.302Z"
   },
   {
    "duration": 30,
    "start_time": "2023-09-07T16:38:04.368Z"
   },
   {
    "duration": 55,
    "start_time": "2023-09-07T16:38:04.400Z"
   },
   {
    "duration": 124,
    "start_time": "2023-09-07T16:38:04.457Z"
   },
   {
    "duration": 233,
    "start_time": "2023-09-07T16:38:04.584Z"
   },
   {
    "duration": 194,
    "start_time": "2023-09-07T16:38:04.819Z"
   },
   {
    "duration": 6,
    "start_time": "2023-09-07T16:38:05.016Z"
   },
   {
    "duration": 159,
    "start_time": "2023-09-07T16:38:05.024Z"
   },
   {
    "duration": 438,
    "start_time": "2023-09-07T16:38:05.184Z"
   },
   {
    "duration": 459,
    "start_time": "2023-09-07T16:38:05.624Z"
   },
   {
    "duration": 358,
    "start_time": "2023-09-07T16:38:06.085Z"
   },
   {
    "duration": 2201,
    "start_time": "2023-09-07T16:38:06.446Z"
   },
   {
    "duration": 150,
    "start_time": "2023-09-07T16:38:08.655Z"
   },
   {
    "duration": 142,
    "start_time": "2023-09-07T16:38:08.807Z"
   },
   {
    "duration": 10,
    "start_time": "2023-09-07T16:38:08.950Z"
   },
   {
    "duration": 105,
    "start_time": "2023-09-07T16:38:09.034Z"
   },
   {
    "duration": 22,
    "start_time": "2023-09-07T16:38:09.147Z"
   },
   {
    "duration": 2069,
    "start_time": "2023-09-07T16:38:09.170Z"
   },
   {
    "duration": 4,
    "start_time": "2023-09-07T16:38:11.241Z"
   },
   {
    "duration": 2066,
    "start_time": "2023-09-07T16:38:11.247Z"
   },
   {
    "duration": 6,
    "start_time": "2023-09-07T16:38:13.315Z"
   },
   {
    "duration": 25,
    "start_time": "2023-09-07T16:38:13.322Z"
   },
   {
    "duration": 124,
    "start_time": "2023-09-07T16:38:13.349Z"
   },
   {
    "duration": 0,
    "start_time": "2023-09-07T16:38:13.475Z"
   },
   {
    "duration": 0,
    "start_time": "2023-09-07T16:38:13.476Z"
   },
   {
    "duration": 0,
    "start_time": "2023-09-07T16:38:13.478Z"
   },
   {
    "duration": 0,
    "start_time": "2023-09-07T16:38:13.479Z"
   },
   {
    "duration": 0,
    "start_time": "2023-09-07T16:38:13.481Z"
   },
   {
    "duration": 0,
    "start_time": "2023-09-07T16:38:13.482Z"
   },
   {
    "duration": 0,
    "start_time": "2023-09-07T16:38:13.483Z"
   },
   {
    "duration": 0,
    "start_time": "2023-09-07T16:38:13.485Z"
   },
   {
    "duration": 0,
    "start_time": "2023-09-07T16:38:13.486Z"
   },
   {
    "duration": 0,
    "start_time": "2023-09-07T16:38:13.487Z"
   },
   {
    "duration": 0,
    "start_time": "2023-09-07T16:38:13.489Z"
   },
   {
    "duration": 2,
    "start_time": "2023-09-07T16:38:21.262Z"
   },
   {
    "duration": 3,
    "start_time": "2023-09-07T16:38:22.407Z"
   },
   {
    "duration": 2316,
    "start_time": "2023-09-07T16:38:22.612Z"
   },
   {
    "duration": 4,
    "start_time": "2023-09-07T16:38:24.947Z"
   },
   {
    "duration": 9,
    "start_time": "2023-09-07T16:38:24.952Z"
   },
   {
    "duration": 1932,
    "start_time": "2023-09-07T16:38:24.963Z"
   },
   {
    "duration": 160,
    "start_time": "2023-09-07T16:38:26.897Z"
   },
   {
    "duration": 1842,
    "start_time": "2023-09-07T16:38:27.059Z"
   },
   {
    "duration": 148,
    "start_time": "2023-09-07T16:38:28.902Z"
   },
   {
    "duration": 1858,
    "start_time": "2023-09-07T16:38:29.052Z"
   },
   {
    "duration": 161,
    "start_time": "2023-09-07T16:38:30.912Z"
   },
   {
    "duration": 25,
    "start_time": "2023-09-07T16:38:31.076Z"
   },
   {
    "duration": 6,
    "start_time": "2023-09-07T16:40:01.293Z"
   },
   {
    "duration": 2200,
    "start_time": "2023-09-07T16:40:07.596Z"
   },
   {
    "duration": 7,
    "start_time": "2023-09-07T16:44:23.954Z"
   },
   {
    "duration": 6,
    "start_time": "2023-09-07T16:45:21.824Z"
   },
   {
    "duration": 1529,
    "start_time": "2023-09-07T17:46:39.490Z"
   },
   {
    "duration": 846,
    "start_time": "2023-09-07T17:46:41.021Z"
   },
   {
    "duration": 15,
    "start_time": "2023-09-07T17:46:41.869Z"
   },
   {
    "duration": 54,
    "start_time": "2023-09-07T17:46:41.886Z"
   },
   {
    "duration": 31,
    "start_time": "2023-09-07T17:46:41.945Z"
   },
   {
    "duration": 39,
    "start_time": "2023-09-07T17:46:41.977Z"
   },
   {
    "duration": 99,
    "start_time": "2023-09-07T17:46:42.018Z"
   },
   {
    "duration": 154,
    "start_time": "2023-09-07T17:46:42.119Z"
   },
   {
    "duration": 152,
    "start_time": "2023-09-07T17:46:42.274Z"
   },
   {
    "duration": 16,
    "start_time": "2023-09-07T17:46:42.428Z"
   },
   {
    "duration": 133,
    "start_time": "2023-09-07T17:46:42.446Z"
   },
   {
    "duration": 411,
    "start_time": "2023-09-07T17:46:42.581Z"
   },
   {
    "duration": 412,
    "start_time": "2023-09-07T17:46:42.994Z"
   },
   {
    "duration": 374,
    "start_time": "2023-09-07T17:46:43.408Z"
   },
   {
    "duration": 2104,
    "start_time": "2023-09-07T17:46:43.784Z"
   },
   {
    "duration": 156,
    "start_time": "2023-09-07T17:46:45.890Z"
   },
   {
    "duration": 206,
    "start_time": "2023-09-07T17:46:46.048Z"
   },
   {
    "duration": 81,
    "start_time": "2023-09-07T17:46:46.256Z"
   },
   {
    "duration": 17,
    "start_time": "2023-09-07T17:46:46.339Z"
   },
   {
    "duration": 22,
    "start_time": "2023-09-07T17:46:46.433Z"
   },
   {
    "duration": 1892,
    "start_time": "2023-09-07T17:47:52.062Z"
   },
   {
    "duration": 5,
    "start_time": "2023-09-07T17:48:17.350Z"
   },
   {
    "duration": 1897,
    "start_time": "2023-09-07T17:48:19.776Z"
   },
   {
    "duration": 4,
    "start_time": "2023-09-07T17:48:30.293Z"
   },
   {
    "duration": 2130,
    "start_time": "2023-09-07T17:48:33.259Z"
   },
   {
    "duration": 6,
    "start_time": "2023-09-07T17:48:44.306Z"
   },
   {
    "duration": 2356,
    "start_time": "2023-09-07T17:48:51.702Z"
   },
   {
    "duration": 8,
    "start_time": "2023-09-07T17:49:30.802Z"
   },
   {
    "duration": 1952,
    "start_time": "2023-09-07T17:49:36.019Z"
   },
   {
    "duration": 143,
    "start_time": "2023-09-07T17:49:38.816Z"
   },
   {
    "duration": 7,
    "start_time": "2023-09-07T17:51:00.519Z"
   },
   {
    "duration": 2358,
    "start_time": "2023-09-07T17:51:07.079Z"
   },
   {
    "duration": 2595,
    "start_time": "2023-09-07T17:51:41.313Z"
   },
   {
    "duration": 7,
    "start_time": "2023-09-07T18:06:04.854Z"
   },
   {
    "duration": 7,
    "start_time": "2023-09-07T18:06:08.512Z"
   },
   {
    "duration": 8,
    "start_time": "2023-09-07T18:06:12.204Z"
   },
   {
    "duration": 8,
    "start_time": "2023-09-07T18:44:13.783Z"
   },
   {
    "duration": 6,
    "start_time": "2023-09-07T19:20:11.681Z"
   },
   {
    "duration": 7,
    "start_time": "2023-09-07T19:20:37.201Z"
   },
   {
    "duration": 14,
    "start_time": "2023-09-07T19:20:40.033Z"
   },
   {
    "duration": 12,
    "start_time": "2023-09-07T19:20:43.562Z"
   },
   {
    "duration": 6,
    "start_time": "2023-09-07T19:20:48.194Z"
   },
   {
    "duration": 6,
    "start_time": "2023-09-07T19:23:44.291Z"
   },
   {
    "duration": 11,
    "start_time": "2023-09-07T19:23:48.454Z"
   },
   {
    "duration": 10,
    "start_time": "2023-09-07T19:23:53.134Z"
   },
   {
    "duration": 6,
    "start_time": "2023-09-07T19:23:58.358Z"
   },
   {
    "duration": 7,
    "start_time": "2023-09-07T19:24:05.494Z"
   },
   {
    "duration": 6,
    "start_time": "2023-09-07T19:27:08.890Z"
   },
   {
    "duration": 2374,
    "start_time": "2023-09-07T19:31:51.264Z"
   },
   {
    "duration": 7,
    "start_time": "2023-09-07T19:41:35.390Z"
   },
   {
    "duration": 2201,
    "start_time": "2023-09-07T19:41:40.390Z"
   },
   {
    "duration": 155,
    "start_time": "2023-09-07T19:42:13.261Z"
   },
   {
    "duration": 2188,
    "start_time": "2023-09-07T19:42:23.019Z"
   },
   {
    "duration": 134,
    "start_time": "2023-09-07T19:42:26.490Z"
   },
   {
    "duration": 7,
    "start_time": "2023-09-07T19:45:01.495Z"
   },
   {
    "duration": 2296,
    "start_time": "2023-09-07T19:45:05.926Z"
   },
   {
    "duration": 141,
    "start_time": "2023-09-07T19:45:09.072Z"
   },
   {
    "duration": 6,
    "start_time": "2023-09-07T19:45:25.900Z"
   },
   {
    "duration": 1916,
    "start_time": "2023-09-07T19:45:29.852Z"
   },
   {
    "duration": 144,
    "start_time": "2023-09-07T19:45:31.775Z"
   },
   {
    "duration": 4,
    "start_time": "2023-09-07T19:45:37.327Z"
   },
   {
    "duration": 455,
    "start_time": "2023-09-07T19:45:37.336Z"
   },
   {
    "duration": 14,
    "start_time": "2023-09-07T19:45:37.793Z"
   },
   {
    "duration": 52,
    "start_time": "2023-09-07T19:45:37.810Z"
   },
   {
    "duration": 33,
    "start_time": "2023-09-07T19:45:37.864Z"
   },
   {
    "duration": 47,
    "start_time": "2023-09-07T19:45:37.899Z"
   },
   {
    "duration": 104,
    "start_time": "2023-09-07T19:45:37.948Z"
   },
   {
    "duration": 152,
    "start_time": "2023-09-07T19:45:38.054Z"
   },
   {
    "duration": 171,
    "start_time": "2023-09-07T19:45:38.207Z"
   },
   {
    "duration": 6,
    "start_time": "2023-09-07T19:45:38.380Z"
   },
   {
    "duration": 143,
    "start_time": "2023-09-07T19:45:38.387Z"
   },
   {
    "duration": 468,
    "start_time": "2023-09-07T19:45:38.532Z"
   },
   {
    "duration": 381,
    "start_time": "2023-09-07T19:45:39.001Z"
   },
   {
    "duration": 338,
    "start_time": "2023-09-07T19:45:39.386Z"
   },
   {
    "duration": 2338,
    "start_time": "2023-09-07T19:45:39.726Z"
   },
   {
    "duration": 31,
    "start_time": "2023-09-07T19:45:42.068Z"
   },
   {
    "duration": 164,
    "start_time": "2023-09-07T19:45:42.100Z"
   },
   {
    "duration": 86,
    "start_time": "2023-09-07T19:45:42.270Z"
   },
   {
    "duration": 70,
    "start_time": "2023-09-07T19:45:42.372Z"
   },
   {
    "duration": 27,
    "start_time": "2023-09-07T19:45:42.448Z"
   },
   {
    "duration": 2116,
    "start_time": "2023-09-07T19:45:42.477Z"
   },
   {
    "duration": 4,
    "start_time": "2023-09-07T19:45:44.595Z"
   },
   {
    "duration": 2191,
    "start_time": "2023-09-07T19:45:44.601Z"
   },
   {
    "duration": 6,
    "start_time": "2023-09-07T19:45:46.793Z"
   },
   {
    "duration": 4,
    "start_time": "2023-09-07T19:45:46.800Z"
   },
   {
    "duration": 9,
    "start_time": "2023-09-07T19:45:46.805Z"
   },
   {
    "duration": 5,
    "start_time": "2023-09-07T19:45:46.816Z"
   },
   {
    "duration": 2139,
    "start_time": "2023-09-07T19:45:46.836Z"
   },
   {
    "duration": 4,
    "start_time": "2023-09-07T19:45:48.977Z"
   },
   {
    "duration": 23,
    "start_time": "2023-09-07T19:45:48.982Z"
   },
   {
    "duration": 53,
    "start_time": "2023-09-07T19:45:49.006Z"
   },
   {
    "duration": 16,
    "start_time": "2023-09-07T19:45:49.060Z"
   },
   {
    "duration": 1824,
    "start_time": "2023-09-07T19:45:49.077Z"
   },
   {
    "duration": 1849,
    "start_time": "2023-09-07T19:45:54.832Z"
   },
   {
    "duration": 174,
    "start_time": "2023-09-07T19:45:57.826Z"
   },
   {
    "duration": 1671,
    "start_time": "2023-09-07T19:46:09.353Z"
   },
   {
    "duration": 554,
    "start_time": "2023-09-07T19:46:11.026Z"
   },
   {
    "duration": 19,
    "start_time": "2023-09-07T19:46:11.581Z"
   },
   {
    "duration": 55,
    "start_time": "2023-09-07T19:46:11.601Z"
   },
   {
    "duration": 44,
    "start_time": "2023-09-07T19:46:11.661Z"
   },
   {
    "duration": 44,
    "start_time": "2023-09-07T19:46:11.706Z"
   },
   {
    "duration": 114,
    "start_time": "2023-09-07T19:46:11.752Z"
   },
   {
    "duration": 194,
    "start_time": "2023-09-07T19:46:11.868Z"
   },
   {
    "duration": 165,
    "start_time": "2023-09-07T19:46:12.065Z"
   },
   {
    "duration": 17,
    "start_time": "2023-09-07T19:46:12.232Z"
   },
   {
    "duration": 176,
    "start_time": "2023-09-07T19:46:12.250Z"
   },
   {
    "duration": 418,
    "start_time": "2023-09-07T19:46:12.428Z"
   },
   {
    "duration": 441,
    "start_time": "2023-09-07T19:46:12.849Z"
   },
   {
    "duration": 373,
    "start_time": "2023-09-07T19:46:13.293Z"
   },
   {
    "duration": 2694,
    "start_time": "2023-09-07T19:46:13.669Z"
   },
   {
    "duration": 204,
    "start_time": "2023-09-07T19:46:16.365Z"
   },
   {
    "duration": 156,
    "start_time": "2023-09-07T19:46:16.580Z"
   },
   {
    "duration": 4,
    "start_time": "2023-09-07T19:46:16.738Z"
   },
   {
    "duration": 15,
    "start_time": "2023-09-07T19:46:16.744Z"
   },
   {
    "duration": 127,
    "start_time": "2023-09-07T19:46:16.762Z"
   },
   {
    "duration": 2306,
    "start_time": "2023-09-07T19:46:16.891Z"
   },
   {
    "duration": 4,
    "start_time": "2023-09-07T19:46:19.198Z"
   },
   {
    "duration": 2230,
    "start_time": "2023-09-07T19:46:19.203Z"
   },
   {
    "duration": 8,
    "start_time": "2023-09-07T19:46:21.437Z"
   },
   {
    "duration": 3,
    "start_time": "2023-09-07T19:46:21.449Z"
   },
   {
    "duration": 19,
    "start_time": "2023-09-07T19:46:21.453Z"
   },
   {
    "duration": 13,
    "start_time": "2023-09-07T19:46:21.477Z"
   },
   {
    "duration": 2238,
    "start_time": "2023-09-07T19:46:21.493Z"
   },
   {
    "duration": 15,
    "start_time": "2023-09-07T19:46:23.734Z"
   },
   {
    "duration": 32,
    "start_time": "2023-09-07T19:46:23.751Z"
   },
   {
    "duration": 8,
    "start_time": "2023-09-07T19:46:23.795Z"
   },
   {
    "duration": 5,
    "start_time": "2023-09-07T19:46:23.805Z"
   },
   {
    "duration": 2100,
    "start_time": "2023-09-07T19:46:23.812Z"
   },
   {
    "duration": 2021,
    "start_time": "2023-09-07T19:46:30.518Z"
   },
   {
    "duration": 166,
    "start_time": "2023-09-07T19:46:34.295Z"
   },
   {
    "duration": 6,
    "start_time": "2023-09-07T19:49:46.587Z"
   },
   {
    "duration": 1741,
    "start_time": "2023-09-07T19:49:51.292Z"
   },
   {
    "duration": 196,
    "start_time": "2023-09-07T19:49:54.471Z"
   },
   {
    "duration": 1734,
    "start_time": "2023-09-07T19:50:15.707Z"
   },
   {
    "duration": 148,
    "start_time": "2023-09-07T19:50:18.632Z"
   },
   {
    "duration": 1554,
    "start_time": "2023-09-07T19:50:21.557Z"
   },
   {
    "duration": 140,
    "start_time": "2023-09-07T19:50:26.656Z"
   },
   {
    "duration": 28,
    "start_time": "2023-09-07T19:50:30.292Z"
   },
   {
    "duration": 12,
    "start_time": "2023-09-07T19:53:23.834Z"
   },
   {
    "duration": 1404,
    "start_time": "2023-09-07T19:53:29.593Z"
   },
   {
    "duration": 148,
    "start_time": "2023-09-07T19:53:32.809Z"
   },
   {
    "duration": 1411,
    "start_time": "2023-09-07T19:53:37.496Z"
   },
   {
    "duration": 149,
    "start_time": "2023-09-07T19:53:40.692Z"
   },
   {
    "duration": 5,
    "start_time": "2023-09-07T20:00:25.109Z"
   },
   {
    "duration": 1859,
    "start_time": "2023-09-07T20:00:29.027Z"
   },
   {
    "duration": 159,
    "start_time": "2023-09-07T20:00:31.800Z"
   },
   {
    "duration": 7,
    "start_time": "2023-09-07T20:01:45.416Z"
   },
   {
    "duration": 6,
    "start_time": "2023-09-07T20:01:54.121Z"
   },
   {
    "duration": 97,
    "start_time": "2023-09-07T20:02:11.633Z"
   },
   {
    "duration": 223,
    "start_time": "2023-09-07T20:02:14.856Z"
   },
   {
    "duration": 91,
    "start_time": "2023-09-07T20:04:08.195Z"
   },
   {
    "duration": 8,
    "start_time": "2023-09-07T20:04:16.387Z"
   },
   {
    "duration": 7,
    "start_time": "2023-09-07T20:04:18.660Z"
   },
   {
    "duration": 1746,
    "start_time": "2023-09-07T20:04:20.758Z"
   },
   {
    "duration": 144,
    "start_time": "2023-09-07T20:04:26.319Z"
   },
   {
    "duration": 1862,
    "start_time": "2023-09-07T20:04:31.485Z"
   },
   {
    "duration": 148,
    "start_time": "2023-09-07T20:04:35.615Z"
   },
   {
    "duration": 102,
    "start_time": "2023-09-07T20:08:28.815Z"
   },
   {
    "duration": 2123,
    "start_time": "2023-09-07T20:08:32.227Z"
   },
   {
    "duration": 6,
    "start_time": "2023-09-07T20:11:47.209Z"
   },
   {
    "duration": 2258,
    "start_time": "2023-09-07T20:11:54.146Z"
   },
   {
    "duration": 6,
    "start_time": "2023-09-07T20:14:42.998Z"
   },
   {
    "duration": 1770,
    "start_time": "2023-09-07T20:14:47.297Z"
   },
   {
    "duration": 127,
    "start_time": "2023-09-07T20:14:49.905Z"
   },
   {
    "duration": 6,
    "start_time": "2023-09-07T20:19:01.709Z"
   },
   {
    "duration": 1757,
    "start_time": "2023-09-07T20:19:05.924Z"
   },
   {
    "duration": 119,
    "start_time": "2023-09-07T20:19:09.024Z"
   },
   {
    "duration": 1820,
    "start_time": "2023-09-07T20:19:13.047Z"
   },
   {
    "duration": 132,
    "start_time": "2023-09-07T20:19:16.026Z"
   },
   {
    "duration": 6,
    "start_time": "2023-09-07T20:22:12.611Z"
   },
   {
    "duration": 2162,
    "start_time": "2023-09-07T20:22:17.012Z"
   },
   {
    "duration": 123,
    "start_time": "2023-09-07T20:22:21.135Z"
   },
   {
    "duration": 5,
    "start_time": "2023-09-07T20:38:08.143Z"
   },
   {
    "duration": 7,
    "start_time": "2023-09-07T20:38:11.963Z"
   },
   {
    "duration": 6,
    "start_time": "2023-09-07T20:38:13.954Z"
   },
   {
    "duration": 1750,
    "start_time": "2023-09-07T20:38:15.915Z"
   },
   {
    "duration": 121,
    "start_time": "2023-09-07T20:38:19.643Z"
   },
   {
    "duration": 6,
    "start_time": "2023-09-07T20:38:40.864Z"
   },
   {
    "duration": 136,
    "start_time": "2023-09-07T20:38:44.957Z"
   },
   {
    "duration": 1733,
    "start_time": "2023-09-07T20:45:39.617Z"
   },
   {
    "duration": 6,
    "start_time": "2023-09-07T20:47:21.448Z"
   },
   {
    "duration": 1768,
    "start_time": "2023-09-07T20:47:24.819Z"
   },
   {
    "duration": 6,
    "start_time": "2023-09-07T20:53:36.165Z"
   },
   {
    "duration": 101,
    "start_time": "2023-09-07T20:54:12.448Z"
   },
   {
    "duration": 4,
    "start_time": "2023-09-07T20:54:18.139Z"
   },
   {
    "duration": 5,
    "start_time": "2023-09-07T20:54:28.350Z"
   },
   {
    "duration": 4,
    "start_time": "2023-09-07T20:54:38.539Z"
   },
   {
    "duration": 5,
    "start_time": "2023-09-07T20:54:50.876Z"
   },
   {
    "duration": 6,
    "start_time": "2023-09-07T20:55:51.049Z"
   },
   {
    "duration": 22,
    "start_time": "2023-09-07T20:55:54.422Z"
   },
   {
    "duration": 6,
    "start_time": "2023-09-07T20:56:16.619Z"
   },
   {
    "duration": 11,
    "start_time": "2023-09-07T20:56:20.363Z"
   },
   {
    "duration": 6,
    "start_time": "2023-09-07T20:56:47.960Z"
   },
   {
    "duration": 16,
    "start_time": "2023-09-07T20:56:51.702Z"
   },
   {
    "duration": 6,
    "start_time": "2023-09-07T20:57:01.318Z"
   },
   {
    "duration": 2195,
    "start_time": "2023-09-07T20:57:04.518Z"
   },
   {
    "duration": 123,
    "start_time": "2023-09-07T20:57:08.731Z"
   },
   {
    "duration": 18,
    "start_time": "2023-09-07T20:57:51.035Z"
   },
   {
    "duration": 1807,
    "start_time": "2023-09-07T20:57:59.610Z"
   },
   {
    "duration": 1781,
    "start_time": "2023-09-08T10:00:39.556Z"
   },
   {
    "duration": 774,
    "start_time": "2023-09-08T10:00:41.339Z"
   },
   {
    "duration": 14,
    "start_time": "2023-09-08T10:00:42.115Z"
   },
   {
    "duration": 72,
    "start_time": "2023-09-08T10:00:42.131Z"
   },
   {
    "duration": 29,
    "start_time": "2023-09-08T10:00:42.205Z"
   },
   {
    "duration": 45,
    "start_time": "2023-09-08T10:00:42.236Z"
   },
   {
    "duration": 84,
    "start_time": "2023-09-08T10:00:42.282Z"
   },
   {
    "duration": 159,
    "start_time": "2023-09-08T10:00:42.367Z"
   },
   {
    "duration": 148,
    "start_time": "2023-09-08T10:00:42.527Z"
   },
   {
    "duration": 6,
    "start_time": "2023-09-08T10:00:42.680Z"
   },
   {
    "duration": 142,
    "start_time": "2023-09-08T10:00:42.687Z"
   },
   {
    "duration": 442,
    "start_time": "2023-09-08T10:00:42.830Z"
   },
   {
    "duration": 430,
    "start_time": "2023-09-08T10:00:43.274Z"
   },
   {
    "duration": 320,
    "start_time": "2023-09-08T10:00:43.705Z"
   },
   {
    "duration": 2048,
    "start_time": "2023-09-08T10:00:44.027Z"
   },
   {
    "duration": 193,
    "start_time": "2023-09-08T10:00:46.077Z"
   },
   {
    "duration": 232,
    "start_time": "2023-09-08T10:00:53.457Z"
   },
   {
    "duration": 7,
    "start_time": "2023-09-08T10:01:21.292Z"
   },
   {
    "duration": 171,
    "start_time": "2023-09-08T10:03:04.618Z"
   },
   {
    "duration": 6,
    "start_time": "2023-09-08T10:03:08.198Z"
   },
   {
    "duration": 130,
    "start_time": "2023-09-08T10:03:30.256Z"
   },
   {
    "duration": 126,
    "start_time": "2023-09-08T10:03:35.158Z"
   },
   {
    "duration": 7,
    "start_time": "2023-09-08T10:03:36.856Z"
   },
   {
    "duration": 6,
    "start_time": "2023-09-08T10:04:58.742Z"
   },
   {
    "duration": 7,
    "start_time": "2023-09-08T10:06:34.288Z"
   },
   {
    "duration": 107,
    "start_time": "2023-09-08T10:07:12.586Z"
   },
   {
    "duration": 4,
    "start_time": "2023-09-08T10:07:38.185Z"
   },
   {
    "duration": 389,
    "start_time": "2023-09-08T10:07:38.190Z"
   },
   {
    "duration": 12,
    "start_time": "2023-09-08T10:07:38.581Z"
   },
   {
    "duration": 46,
    "start_time": "2023-09-08T10:07:38.595Z"
   },
   {
    "duration": 38,
    "start_time": "2023-09-08T10:07:38.643Z"
   },
   {
    "duration": 36,
    "start_time": "2023-09-08T10:07:38.682Z"
   },
   {
    "duration": 98,
    "start_time": "2023-09-08T10:07:38.719Z"
   },
   {
    "duration": 153,
    "start_time": "2023-09-08T10:07:38.818Z"
   },
   {
    "duration": 142,
    "start_time": "2023-09-08T10:07:38.972Z"
   },
   {
    "duration": 6,
    "start_time": "2023-09-08T10:07:39.116Z"
   },
   {
    "duration": 168,
    "start_time": "2023-09-08T10:07:39.123Z"
   },
   {
    "duration": 327,
    "start_time": "2023-09-08T10:07:39.293Z"
   },
   {
    "duration": 322,
    "start_time": "2023-09-08T10:07:39.623Z"
   },
   {
    "duration": 362,
    "start_time": "2023-09-08T10:07:39.946Z"
   },
   {
    "duration": 2143,
    "start_time": "2023-09-08T10:07:40.310Z"
   },
   {
    "duration": 40,
    "start_time": "2023-09-08T10:07:42.455Z"
   },
   {
    "duration": 285,
    "start_time": "2023-09-08T10:07:42.496Z"
   },
   {
    "duration": 93,
    "start_time": "2023-09-08T10:07:42.789Z"
   },
   {
    "duration": 51,
    "start_time": "2023-09-08T10:07:42.884Z"
   },
   {
    "duration": 42,
    "start_time": "2023-09-08T10:07:42.937Z"
   },
   {
    "duration": 39,
    "start_time": "2023-09-08T10:07:42.981Z"
   },
   {
    "duration": 41,
    "start_time": "2023-09-08T10:07:43.022Z"
   },
   {
    "duration": 1909,
    "start_time": "2023-09-08T10:07:47.936Z"
   },
   {
    "duration": 8,
    "start_time": "2023-09-08T10:09:26.600Z"
   },
   {
    "duration": 7,
    "start_time": "2023-09-08T10:09:41.874Z"
   },
   {
    "duration": 7,
    "start_time": "2023-09-08T10:10:10.365Z"
   },
   {
    "duration": 7,
    "start_time": "2023-09-08T10:10:16.287Z"
   },
   {
    "duration": 1482,
    "start_time": "2023-09-08T10:10:37.100Z"
   },
   {
    "duration": 432,
    "start_time": "2023-09-08T10:10:38.584Z"
   },
   {
    "duration": 18,
    "start_time": "2023-09-08T10:10:39.018Z"
   },
   {
    "duration": 55,
    "start_time": "2023-09-08T10:10:39.039Z"
   },
   {
    "duration": 34,
    "start_time": "2023-09-08T10:10:39.096Z"
   },
   {
    "duration": 55,
    "start_time": "2023-09-08T10:10:39.131Z"
   },
   {
    "duration": 98,
    "start_time": "2023-09-08T10:10:39.188Z"
   },
   {
    "duration": 172,
    "start_time": "2023-09-08T10:10:39.288Z"
   },
   {
    "duration": 188,
    "start_time": "2023-09-08T10:10:39.461Z"
   },
   {
    "duration": 6,
    "start_time": "2023-09-08T10:10:39.652Z"
   },
   {
    "duration": 165,
    "start_time": "2023-09-08T10:10:39.660Z"
   },
   {
    "duration": 387,
    "start_time": "2023-09-08T10:10:39.826Z"
   },
   {
    "duration": 412,
    "start_time": "2023-09-08T10:10:40.214Z"
   },
   {
    "duration": 393,
    "start_time": "2023-09-08T10:10:40.628Z"
   },
   {
    "duration": 2136,
    "start_time": "2023-09-08T10:10:41.023Z"
   },
   {
    "duration": 155,
    "start_time": "2023-09-08T10:10:43.161Z"
   },
   {
    "duration": 171,
    "start_time": "2023-09-08T10:10:43.318Z"
   },
   {
    "duration": 96,
    "start_time": "2023-09-08T10:10:43.492Z"
   },
   {
    "duration": 90,
    "start_time": "2023-09-08T10:10:43.592Z"
   },
   {
    "duration": 13,
    "start_time": "2023-09-08T10:10:43.684Z"
   },
   {
    "duration": 18,
    "start_time": "2023-09-08T10:10:43.699Z"
   },
   {
    "duration": 7,
    "start_time": "2023-09-08T10:10:49.299Z"
   },
   {
    "duration": 8,
    "start_time": "2023-09-08T10:10:55.017Z"
   },
   {
    "duration": 2046,
    "start_time": "2023-09-08T10:11:22.195Z"
   },
   {
    "duration": 2500,
    "start_time": "2023-09-08T10:11:39.184Z"
   },
   {
    "duration": 110,
    "start_time": "2023-09-08T10:12:20.255Z"
   },
   {
    "duration": 89,
    "start_time": "2023-09-08T10:12:28.904Z"
   },
   {
    "duration": 79,
    "start_time": "2023-09-08T10:12:38.096Z"
   },
   {
    "duration": 2499,
    "start_time": "2023-09-08T10:12:46.662Z"
   },
   {
    "duration": 1679,
    "start_time": "2023-09-08T10:12:52.485Z"
   },
   {
    "duration": 9,
    "start_time": "2023-09-08T10:18:02.782Z"
   },
   {
    "duration": 184,
    "start_time": "2023-09-08T10:19:46.826Z"
   },
   {
    "duration": 156,
    "start_time": "2023-09-08T10:20:21.387Z"
   },
   {
    "duration": 167,
    "start_time": "2023-09-08T10:21:47.002Z"
   },
   {
    "duration": 159,
    "start_time": "2023-09-08T10:21:50.531Z"
   },
   {
    "duration": 129,
    "start_time": "2023-09-08T10:22:18.383Z"
   },
   {
    "duration": 160,
    "start_time": "2023-09-08T10:22:22.495Z"
   },
   {
    "duration": 1863,
    "start_time": "2023-09-08T11:20:21.596Z"
   },
   {
    "duration": 8,
    "start_time": "2023-09-08T11:21:49.161Z"
   },
   {
    "duration": 10,
    "start_time": "2023-09-08T11:21:54.982Z"
   },
   {
    "duration": 1983,
    "start_time": "2023-09-08T11:22:05.568Z"
   },
   {
    "duration": 11,
    "start_time": "2023-09-08T11:22:14.651Z"
   },
   {
    "duration": 113,
    "start_time": "2023-09-08T11:27:30.477Z"
   },
   {
    "duration": 1524,
    "start_time": "2023-09-08T11:27:57.957Z"
   },
   {
    "duration": 4,
    "start_time": "2023-09-08T11:28:07.968Z"
   },
   {
    "duration": 79,
    "start_time": "2023-09-08T11:30:08.393Z"
   },
   {
    "duration": 8,
    "start_time": "2023-09-08T11:30:53.338Z"
   },
   {
    "duration": 14,
    "start_time": "2023-09-08T11:31:01.345Z"
   },
   {
    "duration": 10,
    "start_time": "2023-09-08T11:31:23.366Z"
   },
   {
    "duration": 12,
    "start_time": "2023-09-08T11:31:27.333Z"
   },
   {
    "duration": 12,
    "start_time": "2023-09-08T11:31:59.841Z"
   },
   {
    "duration": 1385,
    "start_time": "2023-09-08T11:32:09.738Z"
   },
   {
    "duration": 448,
    "start_time": "2023-09-08T11:32:11.125Z"
   },
   {
    "duration": 19,
    "start_time": "2023-09-08T11:32:11.575Z"
   },
   {
    "duration": 78,
    "start_time": "2023-09-08T11:32:11.595Z"
   },
   {
    "duration": 29,
    "start_time": "2023-09-08T11:32:11.676Z"
   },
   {
    "duration": 36,
    "start_time": "2023-09-08T11:32:11.707Z"
   },
   {
    "duration": 95,
    "start_time": "2023-09-08T11:32:11.745Z"
   },
   {
    "duration": 192,
    "start_time": "2023-09-08T11:32:11.842Z"
   },
   {
    "duration": 157,
    "start_time": "2023-09-08T11:32:12.036Z"
   },
   {
    "duration": 6,
    "start_time": "2023-09-08T11:32:12.195Z"
   },
   {
    "duration": 163,
    "start_time": "2023-09-08T11:32:12.203Z"
   },
   {
    "duration": 367,
    "start_time": "2023-09-08T11:32:12.367Z"
   },
   {
    "duration": 409,
    "start_time": "2023-09-08T11:32:12.735Z"
   },
   {
    "duration": 359,
    "start_time": "2023-09-08T11:32:13.146Z"
   },
   {
    "duration": 2097,
    "start_time": "2023-09-08T11:32:13.507Z"
   },
   {
    "duration": 163,
    "start_time": "2023-09-08T11:32:15.606Z"
   },
   {
    "duration": 220,
    "start_time": "2023-09-08T11:32:15.770Z"
   },
   {
    "duration": 100,
    "start_time": "2023-09-08T11:32:16.083Z"
   },
   {
    "duration": 11,
    "start_time": "2023-09-08T11:32:16.185Z"
   },
   {
    "duration": 24,
    "start_time": "2023-09-08T11:32:16.198Z"
   },
   {
    "duration": 28,
    "start_time": "2023-09-08T11:32:16.224Z"
   },
   {
    "duration": 7,
    "start_time": "2023-09-08T11:32:16.254Z"
   },
   {
    "duration": 34,
    "start_time": "2023-09-08T11:32:16.263Z"
   },
   {
    "duration": 2000,
    "start_time": "2023-09-08T11:32:16.298Z"
   },
   {
    "duration": 1485,
    "start_time": "2023-09-08T11:32:18.299Z"
   },
   {
    "duration": 4,
    "start_time": "2023-09-08T11:32:19.786Z"
   },
   {
    "duration": 2004,
    "start_time": "2023-09-08T11:32:19.792Z"
   },
   {
    "duration": 7,
    "start_time": "2023-09-08T11:32:21.797Z"
   },
   {
    "duration": 17,
    "start_time": "2023-09-08T11:32:21.805Z"
   },
   {
    "duration": 4,
    "start_time": "2023-09-08T11:32:21.824Z"
   },
   {
    "duration": 30,
    "start_time": "2023-09-08T11:32:21.830Z"
   },
   {
    "duration": 2111,
    "start_time": "2023-09-08T11:32:21.862Z"
   },
   {
    "duration": 9,
    "start_time": "2023-09-08T11:32:23.974Z"
   },
   {
    "duration": 37,
    "start_time": "2023-09-08T11:32:23.984Z"
   },
   {
    "duration": 12,
    "start_time": "2023-09-08T11:32:24.023Z"
   },
   {
    "duration": 25,
    "start_time": "2023-09-08T11:32:24.036Z"
   },
   {
    "duration": 19,
    "start_time": "2023-09-08T11:32:24.062Z"
   },
   {
    "duration": 17,
    "start_time": "2023-09-08T11:32:24.082Z"
   },
   {
    "duration": 117,
    "start_time": "2023-09-08T11:32:28.362Z"
   },
   {
    "duration": 7,
    "start_time": "2023-09-08T11:32:51.388Z"
   },
   {
    "duration": 2883,
    "start_time": "2023-09-08T11:32:55.607Z"
   },
   {
    "duration": 168,
    "start_time": "2023-09-08T11:33:02.359Z"
   },
   {
    "duration": 2763,
    "start_time": "2023-09-08T11:33:41.221Z"
   },
   {
    "duration": 151,
    "start_time": "2023-09-08T11:33:45.515Z"
   },
   {
    "duration": 2964,
    "start_time": "2023-09-08T11:33:52.922Z"
   },
   {
    "duration": 159,
    "start_time": "2023-09-08T11:33:57.183Z"
   },
   {
    "duration": 26,
    "start_time": "2023-09-08T11:34:01.926Z"
   },
   {
    "duration": 11,
    "start_time": "2023-09-08T11:41:47.109Z"
   },
   {
    "duration": 3512,
    "start_time": "2023-09-08T11:41:51.564Z"
   },
   {
    "duration": 2269,
    "start_time": "2023-09-08T11:42:56.228Z"
   },
   {
    "duration": 10,
    "start_time": "2023-09-08T11:44:42.089Z"
   },
   {
    "duration": 1485,
    "start_time": "2023-09-08T11:44:48.094Z"
   },
   {
    "duration": 168,
    "start_time": "2023-09-08T11:44:52.180Z"
   },
   {
    "duration": 1544,
    "start_time": "2023-09-08T11:44:57.296Z"
   },
   {
    "duration": 180,
    "start_time": "2023-09-08T11:45:00.202Z"
   },
   {
    "duration": 1496,
    "start_time": "2023-09-08T11:45:03.014Z"
   },
   {
    "duration": 133,
    "start_time": "2023-09-08T11:45:05.496Z"
   },
   {
    "duration": 22,
    "start_time": "2023-09-08T11:45:09.420Z"
   },
   {
    "duration": 1458,
    "start_time": "2023-09-08T11:47:14.048Z"
   },
   {
    "duration": 1636,
    "start_time": "2023-09-08T11:47:35.930Z"
   },
   {
    "duration": 16,
    "start_time": "2023-09-08T11:48:17.507Z"
   },
   {
    "duration": 1547,
    "start_time": "2023-09-08T11:48:41.890Z"
   },
   {
    "duration": 1492,
    "start_time": "2023-09-08T11:49:27.414Z"
   },
   {
    "duration": 1488,
    "start_time": "2023-09-08T11:49:41.594Z"
   },
   {
    "duration": 1480,
    "start_time": "2023-09-08T11:50:09.485Z"
   },
   {
    "duration": 1585,
    "start_time": "2023-09-08T11:50:30.806Z"
   },
   {
    "duration": 1615,
    "start_time": "2023-09-08T11:51:16.278Z"
   },
   {
    "duration": 1488,
    "start_time": "2023-09-08T11:51:25.701Z"
   },
   {
    "duration": 146,
    "start_time": "2023-09-08T11:51:28.486Z"
   },
   {
    "duration": 1482,
    "start_time": "2023-09-08T11:51:44.113Z"
   },
   {
    "duration": 412,
    "start_time": "2023-09-08T11:51:45.597Z"
   },
   {
    "duration": 19,
    "start_time": "2023-09-08T11:51:46.011Z"
   },
   {
    "duration": 54,
    "start_time": "2023-09-08T11:51:46.032Z"
   },
   {
    "duration": 33,
    "start_time": "2023-09-08T11:51:46.089Z"
   },
   {
    "duration": 38,
    "start_time": "2023-09-08T11:51:46.124Z"
   },
   {
    "duration": 107,
    "start_time": "2023-09-08T11:51:46.181Z"
   },
   {
    "duration": 204,
    "start_time": "2023-09-08T11:51:46.291Z"
   },
   {
    "duration": 162,
    "start_time": "2023-09-08T11:51:46.497Z"
   },
   {
    "duration": 8,
    "start_time": "2023-09-08T11:51:46.661Z"
   },
   {
    "duration": 180,
    "start_time": "2023-09-08T11:51:46.670Z"
   },
   {
    "duration": 420,
    "start_time": "2023-09-08T11:51:46.852Z"
   },
   {
    "duration": 456,
    "start_time": "2023-09-08T11:51:47.275Z"
   },
   {
    "duration": 388,
    "start_time": "2023-09-08T11:51:47.734Z"
   },
   {
    "duration": 2096,
    "start_time": "2023-09-08T11:51:48.124Z"
   },
   {
    "duration": 161,
    "start_time": "2023-09-08T11:51:50.222Z"
   },
   {
    "duration": 302,
    "start_time": "2023-09-08T11:51:50.385Z"
   },
   {
    "duration": 97,
    "start_time": "2023-09-08T11:51:50.689Z"
   },
   {
    "duration": 25,
    "start_time": "2023-09-08T11:51:50.788Z"
   },
   {
    "duration": 13,
    "start_time": "2023-09-08T11:51:50.815Z"
   },
   {
    "duration": 27,
    "start_time": "2023-09-08T11:51:50.830Z"
   },
   {
    "duration": 1555,
    "start_time": "2023-09-08T11:51:50.859Z"
   },
   {
    "duration": 1572,
    "start_time": "2023-09-08T11:51:52.416Z"
   },
   {
    "duration": 5,
    "start_time": "2023-09-08T11:51:53.991Z"
   },
   {
    "duration": 1623,
    "start_time": "2023-09-08T11:51:53.998Z"
   },
   {
    "duration": 122,
    "start_time": "2023-09-08T11:51:55.624Z"
   },
   {
    "duration": 0,
    "start_time": "2023-09-08T11:51:55.748Z"
   },
   {
    "duration": 0,
    "start_time": "2023-09-08T11:51:55.749Z"
   },
   {
    "duration": 0,
    "start_time": "2023-09-08T11:51:55.750Z"
   },
   {
    "duration": 0,
    "start_time": "2023-09-08T11:51:55.752Z"
   },
   {
    "duration": 0,
    "start_time": "2023-09-08T11:51:55.753Z"
   },
   {
    "duration": 0,
    "start_time": "2023-09-08T11:51:55.754Z"
   },
   {
    "duration": 0,
    "start_time": "2023-09-08T11:51:55.755Z"
   },
   {
    "duration": 0,
    "start_time": "2023-09-08T11:51:55.756Z"
   },
   {
    "duration": 0,
    "start_time": "2023-09-08T11:51:55.757Z"
   },
   {
    "duration": 0,
    "start_time": "2023-09-08T11:51:55.758Z"
   },
   {
    "duration": 0,
    "start_time": "2023-09-08T11:51:55.781Z"
   },
   {
    "duration": 0,
    "start_time": "2023-09-08T11:51:55.782Z"
   },
   {
    "duration": 0,
    "start_time": "2023-09-08T11:51:55.783Z"
   },
   {
    "duration": 0,
    "start_time": "2023-09-08T11:51:55.784Z"
   },
   {
    "duration": 0,
    "start_time": "2023-09-08T11:51:55.785Z"
   },
   {
    "duration": 4,
    "start_time": "2023-09-08T11:52:15.592Z"
   },
   {
    "duration": 1994,
    "start_time": "2023-09-08T11:52:20.576Z"
   },
   {
    "duration": 4,
    "start_time": "2023-09-08T11:52:24.895Z"
   },
   {
    "duration": 7,
    "start_time": "2023-09-08T11:52:35.376Z"
   },
   {
    "duration": 1350,
    "start_time": "2023-09-08T11:52:39.988Z"
   },
   {
    "duration": 139,
    "start_time": "2023-09-08T11:52:42.288Z"
   },
   {
    "duration": 1432,
    "start_time": "2023-09-08T11:52:46.671Z"
   },
   {
    "duration": 144,
    "start_time": "2023-09-08T11:52:49.110Z"
   },
   {
    "duration": 1385,
    "start_time": "2023-09-08T11:52:51.889Z"
   },
   {
    "duration": 132,
    "start_time": "2023-09-08T11:52:54.273Z"
   },
   {
    "duration": 25,
    "start_time": "2023-09-08T11:52:58.370Z"
   },
   {
    "duration": 1707,
    "start_time": "2023-09-10T11:32:08.677Z"
   },
   {
    "duration": 1744,
    "start_time": "2023-09-10T11:32:10.386Z"
   },
   {
    "duration": 26,
    "start_time": "2023-09-10T11:32:12.131Z"
   },
   {
    "duration": 40,
    "start_time": "2023-09-10T11:32:12.159Z"
   },
   {
    "duration": 30,
    "start_time": "2023-09-10T11:32:12.201Z"
   },
   {
    "duration": 48,
    "start_time": "2023-09-10T11:32:12.232Z"
   },
   {
    "duration": 97,
    "start_time": "2023-09-10T11:32:12.282Z"
   },
   {
    "duration": 147,
    "start_time": "2023-09-10T11:32:12.380Z"
   },
   {
    "duration": 147,
    "start_time": "2023-09-10T11:32:12.529Z"
   },
   {
    "duration": 6,
    "start_time": "2023-09-10T11:32:12.679Z"
   },
   {
    "duration": 145,
    "start_time": "2023-09-10T11:32:12.686Z"
   },
   {
    "duration": 450,
    "start_time": "2023-09-10T11:32:12.833Z"
   },
   {
    "duration": 397,
    "start_time": "2023-09-10T11:32:13.285Z"
   },
   {
    "duration": 331,
    "start_time": "2023-09-10T11:32:13.683Z"
   },
   {
    "duration": 2077,
    "start_time": "2023-09-10T11:32:14.016Z"
   },
   {
    "duration": 158,
    "start_time": "2023-09-10T11:32:16.095Z"
   },
   {
    "duration": 291,
    "start_time": "2023-09-10T11:32:16.257Z"
   },
   {
    "duration": 97,
    "start_time": "2023-09-10T11:32:16.550Z"
   },
   {
    "duration": 7,
    "start_time": "2023-09-10T11:32:16.649Z"
   },
   {
    "duration": 17,
    "start_time": "2023-09-10T11:32:16.658Z"
   },
   {
    "duration": 18,
    "start_time": "2023-09-10T11:32:16.676Z"
   },
   {
    "duration": 1588,
    "start_time": "2023-09-10T11:32:16.696Z"
   },
   {
    "duration": 1615,
    "start_time": "2023-09-10T11:32:18.286Z"
   },
   {
    "duration": 4,
    "start_time": "2023-09-10T11:32:19.903Z"
   },
   {
    "duration": 1543,
    "start_time": "2023-09-10T11:32:19.909Z"
   },
   {
    "duration": 8,
    "start_time": "2023-09-10T11:32:21.453Z"
   },
   {
    "duration": 12,
    "start_time": "2023-09-10T11:32:21.462Z"
   },
   {
    "duration": 18,
    "start_time": "2023-09-10T11:32:21.477Z"
   },
   {
    "duration": 32,
    "start_time": "2023-09-10T11:32:21.496Z"
   },
   {
    "duration": 2077,
    "start_time": "2023-09-10T11:32:21.531Z"
   },
   {
    "duration": 4,
    "start_time": "2023-09-10T11:32:23.609Z"
   },
   {
    "duration": 15,
    "start_time": "2023-09-10T11:32:23.615Z"
   },
   {
    "duration": 43,
    "start_time": "2023-09-10T11:32:23.632Z"
   },
   {
    "duration": 16,
    "start_time": "2023-09-10T11:32:23.677Z"
   },
   {
    "duration": 1542,
    "start_time": "2023-09-10T11:32:23.694Z"
   },
   {
    "duration": 158,
    "start_time": "2023-09-10T11:32:25.237Z"
   },
   {
    "duration": 1465,
    "start_time": "2023-09-10T11:32:25.396Z"
   },
   {
    "duration": 160,
    "start_time": "2023-09-10T11:32:26.863Z"
   },
   {
    "duration": 1463,
    "start_time": "2023-09-10T11:32:27.025Z"
   },
   {
    "duration": 141,
    "start_time": "2023-09-10T11:32:28.490Z"
   },
   {
    "duration": 46,
    "start_time": "2023-09-10T11:32:28.633Z"
   },
   {
    "duration": 1574,
    "start_time": "2023-09-10T11:35:46.262Z"
   },
   {
    "duration": 382,
    "start_time": "2023-09-10T11:35:47.838Z"
   },
   {
    "duration": 22,
    "start_time": "2023-09-10T11:35:48.222Z"
   },
   {
    "duration": 41,
    "start_time": "2023-09-10T11:35:48.246Z"
   },
   {
    "duration": 60,
    "start_time": "2023-09-10T11:35:48.290Z"
   },
   {
    "duration": 50,
    "start_time": "2023-09-10T11:35:48.352Z"
   },
   {
    "duration": 112,
    "start_time": "2023-09-10T11:35:48.404Z"
   },
   {
    "duration": 220,
    "start_time": "2023-09-10T11:35:48.517Z"
   },
   {
    "duration": 172,
    "start_time": "2023-09-10T11:35:48.738Z"
   },
   {
    "duration": 7,
    "start_time": "2023-09-10T11:35:48.913Z"
   },
   {
    "duration": 179,
    "start_time": "2023-09-10T11:35:48.922Z"
   },
   {
    "duration": 382,
    "start_time": "2023-09-10T11:35:49.103Z"
   },
   {
    "duration": 416,
    "start_time": "2023-09-10T11:35:49.487Z"
   },
   {
    "duration": 353,
    "start_time": "2023-09-10T11:35:49.905Z"
   },
   {
    "duration": 2065,
    "start_time": "2023-09-10T11:35:50.259Z"
   },
   {
    "duration": 160,
    "start_time": "2023-09-10T11:35:52.326Z"
   },
   {
    "duration": 256,
    "start_time": "2023-09-10T11:35:52.488Z"
   },
   {
    "duration": 97,
    "start_time": "2023-09-10T11:35:52.747Z"
   },
   {
    "duration": 13,
    "start_time": "2023-09-10T11:35:52.846Z"
   },
   {
    "duration": 11,
    "start_time": "2023-09-10T11:35:52.860Z"
   },
   {
    "duration": 16,
    "start_time": "2023-09-10T11:35:52.873Z"
   },
   {
    "duration": 1317,
    "start_time": "2023-09-10T11:35:52.892Z"
   },
   {
    "duration": 1271,
    "start_time": "2023-09-10T11:35:54.210Z"
   },
   {
    "duration": 3,
    "start_time": "2023-09-10T11:35:55.483Z"
   },
   {
    "duration": 1347,
    "start_time": "2023-09-10T11:35:55.488Z"
   },
   {
    "duration": 8,
    "start_time": "2023-09-10T11:35:56.836Z"
   },
   {
    "duration": 4,
    "start_time": "2023-09-10T11:35:56.846Z"
   },
   {
    "duration": 11,
    "start_time": "2023-09-10T11:35:56.853Z"
   },
   {
    "duration": 15,
    "start_time": "2023-09-10T11:35:56.866Z"
   },
   {
    "duration": 1632,
    "start_time": "2023-09-10T11:35:56.882Z"
   },
   {
    "duration": 4,
    "start_time": "2023-09-10T11:35:58.515Z"
   },
   {
    "duration": 24,
    "start_time": "2023-09-10T11:35:58.520Z"
   },
   {
    "duration": 17,
    "start_time": "2023-09-10T11:35:58.546Z"
   },
   {
    "duration": 8,
    "start_time": "2023-09-10T11:35:58.565Z"
   },
   {
    "duration": 1080,
    "start_time": "2023-09-10T11:35:58.574Z"
   },
   {
    "duration": 130,
    "start_time": "2023-09-10T11:35:59.655Z"
   },
   {
    "duration": 1082,
    "start_time": "2023-09-10T11:35:59.786Z"
   },
   {
    "duration": 176,
    "start_time": "2023-09-10T11:36:00.870Z"
   },
   {
    "duration": 1138,
    "start_time": "2023-09-10T11:36:01.048Z"
   },
   {
    "duration": 154,
    "start_time": "2023-09-10T11:36:02.188Z"
   },
   {
    "duration": 23,
    "start_time": "2023-09-10T11:36:02.343Z"
   },
   {
    "duration": 1615,
    "start_time": "2023-09-10T14:28:46.389Z"
   },
   {
    "duration": 951,
    "start_time": "2023-09-10T14:28:48.007Z"
   },
   {
    "duration": 18,
    "start_time": "2023-09-10T14:28:48.959Z"
   },
   {
    "duration": 51,
    "start_time": "2023-09-10T14:28:48.979Z"
   },
   {
    "duration": 35,
    "start_time": "2023-09-10T14:28:49.033Z"
   },
   {
    "duration": 57,
    "start_time": "2023-09-10T14:28:49.070Z"
   },
   {
    "duration": 107,
    "start_time": "2023-09-10T14:28:49.128Z"
   },
   {
    "duration": 177,
    "start_time": "2023-09-10T14:28:49.237Z"
   },
   {
    "duration": 180,
    "start_time": "2023-09-10T14:28:49.416Z"
   },
   {
    "duration": 15,
    "start_time": "2023-09-10T14:28:49.599Z"
   },
   {
    "duration": 157,
    "start_time": "2023-09-10T14:28:49.616Z"
   },
   {
    "duration": 428,
    "start_time": "2023-09-10T14:28:49.775Z"
   },
   {
    "duration": 475,
    "start_time": "2023-09-10T14:28:50.204Z"
   },
   {
    "duration": 376,
    "start_time": "2023-09-10T14:28:50.681Z"
   },
   {
    "duration": 2214,
    "start_time": "2023-09-10T14:28:51.058Z"
   },
   {
    "duration": 157,
    "start_time": "2023-09-10T14:28:53.273Z"
   },
   {
    "duration": 288,
    "start_time": "2023-09-10T14:28:53.432Z"
   },
   {
    "duration": 97,
    "start_time": "2023-09-10T14:28:53.812Z"
   },
   {
    "duration": 5,
    "start_time": "2023-09-10T14:28:53.911Z"
   },
   {
    "duration": 17,
    "start_time": "2023-09-10T14:28:53.917Z"
   },
   {
    "duration": 17,
    "start_time": "2023-09-10T14:28:53.936Z"
   },
   {
    "duration": 1502,
    "start_time": "2023-09-10T14:28:53.955Z"
   },
   {
    "duration": 1425,
    "start_time": "2023-09-10T14:28:55.459Z"
   },
   {
    "duration": 4,
    "start_time": "2023-09-10T14:28:56.886Z"
   },
   {
    "duration": 1429,
    "start_time": "2023-09-10T14:28:56.891Z"
   },
   {
    "duration": 3,
    "start_time": "2023-09-10T14:28:58.321Z"
   },
   {
    "duration": 11,
    "start_time": "2023-09-10T14:28:58.326Z"
   },
   {
    "duration": 6,
    "start_time": "2023-09-10T14:28:58.341Z"
   },
   {
    "duration": 5,
    "start_time": "2023-09-10T14:28:58.349Z"
   },
   {
    "duration": 1924,
    "start_time": "2023-09-10T14:28:58.356Z"
   },
   {
    "duration": 4,
    "start_time": "2023-09-10T14:29:00.282Z"
   },
   {
    "duration": 27,
    "start_time": "2023-09-10T14:29:00.288Z"
   },
   {
    "duration": 52,
    "start_time": "2023-09-10T14:29:00.317Z"
   },
   {
    "duration": 24,
    "start_time": "2023-09-10T14:29:00.370Z"
   },
   {
    "duration": 1288,
    "start_time": "2023-09-10T14:29:00.396Z"
   },
   {
    "duration": 154,
    "start_time": "2023-09-10T14:29:01.686Z"
   },
   {
    "duration": 1457,
    "start_time": "2023-09-10T14:29:01.842Z"
   },
   {
    "duration": 163,
    "start_time": "2023-09-10T14:29:03.301Z"
   },
   {
    "duration": 1347,
    "start_time": "2023-09-10T14:29:03.466Z"
   },
   {
    "duration": 181,
    "start_time": "2023-09-10T14:29:04.815Z"
   },
   {
    "duration": 26,
    "start_time": "2023-09-10T14:29:08.547Z"
   },
   {
    "duration": 109,
    "start_time": "2023-09-10T14:29:24.237Z"
   },
   {
    "duration": 10,
    "start_time": "2023-09-10T14:31:07.482Z"
   },
   {
    "duration": 14,
    "start_time": "2023-09-10T14:31:24.874Z"
   },
   {
    "duration": 85,
    "start_time": "2023-09-10T14:31:52.925Z"
   },
   {
    "duration": 7,
    "start_time": "2023-09-10T14:51:52.716Z"
   },
   {
    "duration": 1274,
    "start_time": "2023-09-10T14:51:57.896Z"
   },
   {
    "duration": 153,
    "start_time": "2023-09-10T14:52:01.359Z"
   },
   {
    "duration": 11,
    "start_time": "2023-09-10T15:05:07.360Z"
   },
   {
    "duration": 4,
    "start_time": "2023-09-10T15:06:34.041Z"
   },
   {
    "duration": 9,
    "start_time": "2023-09-10T15:06:40.215Z"
   },
   {
    "duration": 9,
    "start_time": "2023-09-10T15:07:04.940Z"
   },
   {
    "duration": 92,
    "start_time": "2023-09-10T15:07:23.516Z"
   },
   {
    "duration": 10,
    "start_time": "2023-09-10T15:07:32.316Z"
   },
   {
    "duration": 10,
    "start_time": "2023-09-10T15:07:47.383Z"
   },
   {
    "duration": 20,
    "start_time": "2023-09-10T15:08:06.841Z"
   },
   {
    "duration": 20,
    "start_time": "2023-09-10T15:08:15.837Z"
   },
   {
    "duration": 111,
    "start_time": "2023-09-10T15:13:02.823Z"
   },
   {
    "duration": 13,
    "start_time": "2023-09-10T15:24:40.446Z"
   },
   {
    "duration": 13,
    "start_time": "2023-09-10T15:25:01.182Z"
   },
   {
    "duration": 25,
    "start_time": "2023-09-10T15:27:45.297Z"
   },
   {
    "duration": 20,
    "start_time": "2023-09-10T15:29:39.326Z"
   },
   {
    "duration": 1628,
    "start_time": "2023-09-10T15:31:19.935Z"
   },
   {
    "duration": 5,
    "start_time": "2023-09-10T15:31:31.160Z"
   },
   {
    "duration": 8,
    "start_time": "2023-09-10T15:32:20.436Z"
   },
   {
    "duration": 84,
    "start_time": "2023-09-10T15:32:22.548Z"
   },
   {
    "duration": 1517,
    "start_time": "2023-09-10T15:32:34.121Z"
   },
   {
    "duration": 446,
    "start_time": "2023-09-10T15:32:35.640Z"
   },
   {
    "duration": 22,
    "start_time": "2023-09-10T15:32:36.088Z"
   },
   {
    "duration": 59,
    "start_time": "2023-09-10T15:32:36.113Z"
   },
   {
    "duration": 42,
    "start_time": "2023-09-10T15:32:36.174Z"
   },
   {
    "duration": 41,
    "start_time": "2023-09-10T15:32:36.218Z"
   },
   {
    "duration": 115,
    "start_time": "2023-09-10T15:32:36.261Z"
   },
   {
    "duration": 181,
    "start_time": "2023-09-10T15:32:36.378Z"
   },
   {
    "duration": 179,
    "start_time": "2023-09-10T15:32:36.561Z"
   },
   {
    "duration": 6,
    "start_time": "2023-09-10T15:32:36.743Z"
   },
   {
    "duration": 173,
    "start_time": "2023-09-10T15:32:36.751Z"
   },
   {
    "duration": 372,
    "start_time": "2023-09-10T15:32:36.926Z"
   },
   {
    "duration": 474,
    "start_time": "2023-09-10T15:32:37.300Z"
   },
   {
    "duration": 398,
    "start_time": "2023-09-10T15:32:37.775Z"
   },
   {
    "duration": 2318,
    "start_time": "2023-09-10T15:32:38.175Z"
   },
   {
    "duration": 175,
    "start_time": "2023-09-10T15:32:40.496Z"
   },
   {
    "duration": 244,
    "start_time": "2023-09-10T15:32:40.673Z"
   },
   {
    "duration": 97,
    "start_time": "2023-09-10T15:32:40.919Z"
   },
   {
    "duration": 95,
    "start_time": "2023-09-10T15:32:41.018Z"
   },
   {
    "duration": 46,
    "start_time": "2023-09-10T15:32:41.115Z"
   },
   {
    "duration": 19,
    "start_time": "2023-09-10T15:32:41.163Z"
   },
   {
    "duration": 20,
    "start_time": "2023-09-10T15:32:41.184Z"
   },
   {
    "duration": 1568,
    "start_time": "2023-09-10T15:32:41.207Z"
   },
   {
    "duration": 1506,
    "start_time": "2023-09-10T15:32:42.777Z"
   },
   {
    "duration": 4,
    "start_time": "2023-09-10T15:32:44.285Z"
   },
   {
    "duration": 1555,
    "start_time": "2023-09-10T15:32:44.292Z"
   },
   {
    "duration": 3,
    "start_time": "2023-09-10T15:32:45.849Z"
   },
   {
    "duration": 3,
    "start_time": "2023-09-10T15:32:45.856Z"
   },
   {
    "duration": 12,
    "start_time": "2023-09-10T15:32:45.861Z"
   },
   {
    "duration": 7,
    "start_time": "2023-09-10T15:32:45.875Z"
   },
   {
    "duration": 1962,
    "start_time": "2023-09-10T15:32:45.883Z"
   },
   {
    "duration": 4,
    "start_time": "2023-09-10T15:32:47.847Z"
   },
   {
    "duration": 6,
    "start_time": "2023-09-10T15:32:47.853Z"
   },
   {
    "duration": 94,
    "start_time": "2023-09-10T15:32:50.752Z"
   },
   {
    "duration": 80,
    "start_time": "2023-09-10T15:32:58.179Z"
   },
   {
    "duration": 78,
    "start_time": "2023-09-10T15:33:17.444Z"
   },
   {
    "duration": 1704,
    "start_time": "2023-09-10T15:33:24.839Z"
   },
   {
    "duration": 1922,
    "start_time": "2023-09-10T15:33:40.862Z"
   },
   {
    "duration": 5,
    "start_time": "2023-09-10T15:33:43.921Z"
   },
   {
    "duration": 2,
    "start_time": "2023-09-10T15:34:02.035Z"
   },
   {
    "duration": 1749,
    "start_time": "2023-09-10T15:34:14.237Z"
   },
   {
    "duration": 4,
    "start_time": "2023-09-10T15:34:19.261Z"
   },
   {
    "duration": 1715,
    "start_time": "2023-09-10T15:34:27.171Z"
   },
   {
    "duration": 4,
    "start_time": "2023-09-10T15:34:29.433Z"
   },
   {
    "duration": 1696,
    "start_time": "2023-09-10T15:34:43.635Z"
   },
   {
    "duration": 4,
    "start_time": "2023-09-10T15:34:59.079Z"
   },
   {
    "duration": 1724,
    "start_time": "2023-09-10T15:35:04.448Z"
   },
   {
    "duration": 4,
    "start_time": "2023-09-10T15:35:07.530Z"
   },
   {
    "duration": 114,
    "start_time": "2023-09-10T15:38:17.443Z"
   },
   {
    "duration": 5041,
    "start_time": "2023-09-10T15:39:20.240Z"
   },
   {
    "duration": 6588,
    "start_time": "2023-09-10T15:40:40.482Z"
   },
   {
    "duration": 5156,
    "start_time": "2023-09-10T15:40:47.896Z"
   },
   {
    "duration": 24,
    "start_time": "2023-09-10T15:44:32.284Z"
   },
   {
    "duration": 5058,
    "start_time": "2023-09-10T15:44:35.241Z"
   },
   {
    "duration": 49,
    "start_time": "2023-09-10T16:09:53.674Z"
   },
   {
    "duration": 1503,
    "start_time": "2023-09-10T16:10:02.820Z"
   },
   {
    "duration": 411,
    "start_time": "2023-09-10T16:10:04.325Z"
   },
   {
    "duration": 17,
    "start_time": "2023-09-10T16:10:04.738Z"
   },
   {
    "duration": 56,
    "start_time": "2023-09-10T16:10:04.757Z"
   },
   {
    "duration": 32,
    "start_time": "2023-09-10T16:10:04.815Z"
   },
   {
    "duration": 40,
    "start_time": "2023-09-10T16:10:04.848Z"
   },
   {
    "duration": 124,
    "start_time": "2023-09-10T16:10:04.889Z"
   },
   {
    "duration": 173,
    "start_time": "2023-09-10T16:10:05.014Z"
   },
   {
    "duration": 187,
    "start_time": "2023-09-10T16:10:05.189Z"
   },
   {
    "duration": 7,
    "start_time": "2023-09-10T16:10:05.379Z"
   },
   {
    "duration": 172,
    "start_time": "2023-09-10T16:10:05.387Z"
   },
   {
    "duration": 398,
    "start_time": "2023-09-10T16:10:05.561Z"
   },
   {
    "duration": 441,
    "start_time": "2023-09-10T16:10:05.962Z"
   },
   {
    "duration": 358,
    "start_time": "2023-09-10T16:10:06.404Z"
   },
   {
    "duration": 2206,
    "start_time": "2023-09-10T16:10:06.764Z"
   },
   {
    "duration": 165,
    "start_time": "2023-09-10T16:10:08.972Z"
   },
   {
    "duration": 275,
    "start_time": "2023-09-10T16:10:09.139Z"
   },
   {
    "duration": 98,
    "start_time": "2023-09-10T16:10:09.417Z"
   },
   {
    "duration": 94,
    "start_time": "2023-09-10T16:10:09.516Z"
   },
   {
    "duration": 14,
    "start_time": "2023-09-10T16:10:09.612Z"
   },
   {
    "duration": 16,
    "start_time": "2023-09-10T16:10:09.628Z"
   },
   {
    "duration": 1447,
    "start_time": "2023-09-10T16:10:09.646Z"
   },
   {
    "duration": 1485,
    "start_time": "2023-09-10T16:10:11.095Z"
   },
   {
    "duration": 4,
    "start_time": "2023-09-10T16:10:12.583Z"
   },
   {
    "duration": 1502,
    "start_time": "2023-09-10T16:10:12.589Z"
   },
   {
    "duration": 3,
    "start_time": "2023-09-10T16:10:14.092Z"
   },
   {
    "duration": 35,
    "start_time": "2023-09-10T16:10:14.096Z"
   },
   {
    "duration": 22,
    "start_time": "2023-09-10T16:10:14.134Z"
   },
   {
    "duration": 44,
    "start_time": "2023-09-10T16:10:14.158Z"
   },
   {
    "duration": 1988,
    "start_time": "2023-09-10T16:10:14.204Z"
   },
   {
    "duration": 4,
    "start_time": "2023-09-10T16:10:16.194Z"
   },
   {
    "duration": 7,
    "start_time": "2023-09-10T16:10:19.327Z"
   },
   {
    "duration": 86,
    "start_time": "2023-09-10T16:10:22.720Z"
   },
   {
    "duration": 6,
    "start_time": "2023-09-10T16:10:49.840Z"
   },
   {
    "duration": 2366,
    "start_time": "2023-09-10T16:10:53.686Z"
   },
   {
    "duration": 7,
    "start_time": "2023-09-10T16:11:14.705Z"
   },
   {
    "duration": 1262,
    "start_time": "2023-09-10T16:11:19.412Z"
   },
   {
    "duration": 7,
    "start_time": "2023-09-10T16:37:18.224Z"
   },
   {
    "duration": 1315,
    "start_time": "2023-09-10T16:37:26.722Z"
   },
   {
    "duration": 113,
    "start_time": "2023-09-10T16:38:08.861Z"
   },
   {
    "duration": 87,
    "start_time": "2023-09-10T16:38:24.555Z"
   },
   {
    "duration": 21,
    "start_time": "2023-09-10T17:36:01.250Z"
   },
   {
    "duration": 3,
    "start_time": "2023-09-10T17:36:38.928Z"
   },
   {
    "duration": 443,
    "start_time": "2023-09-10T17:36:38.933Z"
   },
   {
    "duration": 16,
    "start_time": "2023-09-10T17:36:39.378Z"
   },
   {
    "duration": 47,
    "start_time": "2023-09-10T17:36:39.397Z"
   },
   {
    "duration": 33,
    "start_time": "2023-09-10T17:36:39.446Z"
   },
   {
    "duration": 64,
    "start_time": "2023-09-10T17:36:39.481Z"
   },
   {
    "duration": 102,
    "start_time": "2023-09-10T17:36:39.546Z"
   },
   {
    "duration": 171,
    "start_time": "2023-09-10T17:36:39.649Z"
   },
   {
    "duration": 171,
    "start_time": "2023-09-10T17:36:39.822Z"
   },
   {
    "duration": 19,
    "start_time": "2023-09-10T17:36:39.995Z"
   },
   {
    "duration": 160,
    "start_time": "2023-09-10T17:36:40.015Z"
   },
   {
    "duration": 387,
    "start_time": "2023-09-10T17:36:40.177Z"
   },
   {
    "duration": 378,
    "start_time": "2023-09-10T17:36:40.566Z"
   },
   {
    "duration": 350,
    "start_time": "2023-09-10T17:36:40.945Z"
   },
   {
    "duration": 2366,
    "start_time": "2023-09-10T17:36:41.297Z"
   },
   {
    "duration": 30,
    "start_time": "2023-09-10T17:36:43.664Z"
   },
   {
    "duration": 206,
    "start_time": "2023-09-10T17:36:43.708Z"
   },
   {
    "duration": 104,
    "start_time": "2023-09-10T17:36:43.916Z"
   },
   {
    "duration": 89,
    "start_time": "2023-09-10T17:36:44.023Z"
   },
   {
    "duration": 12,
    "start_time": "2023-09-10T17:36:44.114Z"
   },
   {
    "duration": 17,
    "start_time": "2023-09-10T17:36:44.128Z"
   },
   {
    "duration": 1529,
    "start_time": "2023-09-10T17:36:44.147Z"
   },
   {
    "duration": 1489,
    "start_time": "2023-09-10T17:36:45.678Z"
   },
   {
    "duration": 4,
    "start_time": "2023-09-10T17:36:47.169Z"
   },
   {
    "duration": 1625,
    "start_time": "2023-09-10T17:36:47.175Z"
   },
   {
    "duration": 2,
    "start_time": "2023-09-10T17:36:48.809Z"
   },
   {
    "duration": 5,
    "start_time": "2023-09-10T17:36:48.813Z"
   },
   {
    "duration": 3,
    "start_time": "2023-09-10T17:36:48.821Z"
   },
   {
    "duration": 6,
    "start_time": "2023-09-10T17:36:48.826Z"
   },
   {
    "duration": 2048,
    "start_time": "2023-09-10T17:36:48.834Z"
   },
   {
    "duration": 4,
    "start_time": "2023-09-10T17:36:50.883Z"
   },
   {
    "duration": 24,
    "start_time": "2023-09-10T17:36:50.889Z"
   },
   {
    "duration": 26,
    "start_time": "2023-09-10T17:36:50.915Z"
   },
   {
    "duration": 8,
    "start_time": "2023-09-10T17:36:50.943Z"
   },
   {
    "duration": 1311,
    "start_time": "2023-09-10T17:36:50.953Z"
   },
   {
    "duration": 169,
    "start_time": "2023-09-10T17:36:52.266Z"
   },
   {
    "duration": 1359,
    "start_time": "2023-09-10T17:36:52.437Z"
   },
   {
    "duration": 155,
    "start_time": "2023-09-10T17:36:53.798Z"
   },
   {
    "duration": 1341,
    "start_time": "2023-09-10T17:36:53.955Z"
   },
   {
    "duration": 183,
    "start_time": "2023-09-10T17:36:55.298Z"
   },
   {
    "duration": 37,
    "start_time": "2023-09-10T17:36:55.483Z"
   },
   {
    "duration": 20,
    "start_time": "2023-09-10T17:36:55.522Z"
   },
   {
    "duration": 21,
    "start_time": "2023-09-10T17:37:34.883Z"
   },
   {
    "duration": 9,
    "start_time": "2023-09-10T17:37:43.521Z"
   },
   {
    "duration": 14,
    "start_time": "2023-09-10T17:37:58.458Z"
   },
   {
    "duration": 7,
    "start_time": "2023-09-10T17:38:11.098Z"
   },
   {
    "duration": 13,
    "start_time": "2023-09-10T17:38:13.360Z"
   },
   {
    "duration": 7,
    "start_time": "2023-09-10T17:38:24.391Z"
   },
   {
    "duration": 14,
    "start_time": "2023-09-10T17:38:25.936Z"
   },
   {
    "duration": 7,
    "start_time": "2023-09-10T17:38:27.506Z"
   },
   {
    "duration": 13,
    "start_time": "2023-09-10T17:38:29.663Z"
   },
   {
    "duration": 7,
    "start_time": "2023-09-10T17:38:44.262Z"
   },
   {
    "duration": 2334,
    "start_time": "2023-09-10T17:38:46.311Z"
   },
   {
    "duration": 7,
    "start_time": "2023-09-10T17:39:44.313Z"
   },
   {
    "duration": 2389,
    "start_time": "2023-09-10T17:39:45.901Z"
   },
   {
    "duration": 4,
    "start_time": "2023-09-10T17:55:54.097Z"
   },
   {
    "duration": 470,
    "start_time": "2023-09-10T17:55:54.103Z"
   },
   {
    "duration": 13,
    "start_time": "2023-09-10T17:55:54.575Z"
   },
   {
    "duration": 66,
    "start_time": "2023-09-10T17:55:54.590Z"
   },
   {
    "duration": 34,
    "start_time": "2023-09-10T17:55:54.658Z"
   },
   {
    "duration": 49,
    "start_time": "2023-09-10T17:55:54.694Z"
   },
   {
    "duration": 106,
    "start_time": "2023-09-10T17:55:54.745Z"
   },
   {
    "duration": 178,
    "start_time": "2023-09-10T17:55:54.853Z"
   },
   {
    "duration": 170,
    "start_time": "2023-09-10T17:55:55.032Z"
   },
   {
    "duration": 8,
    "start_time": "2023-09-10T17:55:55.209Z"
   },
   {
    "duration": 192,
    "start_time": "2023-09-10T17:55:55.219Z"
   },
   {
    "duration": 356,
    "start_time": "2023-09-10T17:55:55.413Z"
   },
   {
    "duration": 370,
    "start_time": "2023-09-10T17:55:55.771Z"
   },
   {
    "duration": 345,
    "start_time": "2023-09-10T17:55:56.144Z"
   },
   {
    "duration": 2283,
    "start_time": "2023-09-10T17:55:56.491Z"
   },
   {
    "duration": 40,
    "start_time": "2023-09-10T17:55:58.775Z"
   },
   {
    "duration": 304,
    "start_time": "2023-09-10T17:55:58.817Z"
   },
   {
    "duration": 8,
    "start_time": "2023-09-10T17:55:59.210Z"
   },
   {
    "duration": 90,
    "start_time": "2023-09-10T17:55:59.220Z"
   },
   {
    "duration": 34,
    "start_time": "2023-09-10T17:55:59.312Z"
   },
   {
    "duration": 22,
    "start_time": "2023-09-10T17:55:59.348Z"
   },
   {
    "duration": 1438,
    "start_time": "2023-09-10T17:55:59.372Z"
   },
   {
    "duration": 1490,
    "start_time": "2023-09-10T17:56:00.812Z"
   },
   {
    "duration": 5,
    "start_time": "2023-09-10T17:56:02.310Z"
   },
   {
    "duration": 1519,
    "start_time": "2023-09-10T17:56:02.316Z"
   },
   {
    "duration": 3,
    "start_time": "2023-09-10T17:56:03.836Z"
   },
   {
    "duration": 23,
    "start_time": "2023-09-10T17:56:03.840Z"
   },
   {
    "duration": 75,
    "start_time": "2023-09-10T17:56:03.866Z"
   },
   {
    "duration": 18,
    "start_time": "2023-09-10T17:56:03.943Z"
   },
   {
    "duration": 2088,
    "start_time": "2023-09-10T17:56:03.963Z"
   },
   {
    "duration": 4,
    "start_time": "2023-09-10T17:56:06.052Z"
   },
   {
    "duration": 34,
    "start_time": "2023-09-10T17:56:06.058Z"
   },
   {
    "duration": 31,
    "start_time": "2023-09-10T17:56:06.094Z"
   },
   {
    "duration": 33,
    "start_time": "2023-09-10T17:56:06.127Z"
   },
   {
    "duration": 1328,
    "start_time": "2023-09-10T17:56:06.161Z"
   },
   {
    "duration": 152,
    "start_time": "2023-09-10T17:56:07.490Z"
   },
   {
    "duration": 1290,
    "start_time": "2023-09-10T17:56:07.643Z"
   },
   {
    "duration": 161,
    "start_time": "2023-09-10T17:56:08.934Z"
   },
   {
    "duration": 1297,
    "start_time": "2023-09-10T17:56:09.097Z"
   },
   {
    "duration": 160,
    "start_time": "2023-09-10T17:56:10.396Z"
   },
   {
    "duration": 18,
    "start_time": "2023-09-10T17:56:34.836Z"
   },
   {
    "duration": 7,
    "start_time": "2023-09-10T17:58:24.156Z"
   },
   {
    "duration": 1913,
    "start_time": "2023-09-10T17:58:29.826Z"
   },
   {
    "duration": 1503,
    "start_time": "2023-09-10T17:59:21.159Z"
   },
   {
    "duration": 1904,
    "start_time": "2023-09-10T17:59:57.034Z"
   },
   {
    "duration": 7,
    "start_time": "2023-09-10T18:00:01.451Z"
   },
   {
    "duration": 868,
    "start_time": "2023-09-10T18:00:04.624Z"
   },
   {
    "duration": 142,
    "start_time": "2023-09-10T18:00:07.994Z"
   },
   {
    "duration": 1506,
    "start_time": "2023-09-10T18:00:20.614Z"
   },
   {
    "duration": 482,
    "start_time": "2023-09-10T18:00:22.122Z"
   },
   {
    "duration": 20,
    "start_time": "2023-09-10T18:00:22.606Z"
   },
   {
    "duration": 58,
    "start_time": "2023-09-10T18:00:22.628Z"
   },
   {
    "duration": 52,
    "start_time": "2023-09-10T18:00:22.689Z"
   },
   {
    "duration": 41,
    "start_time": "2023-09-10T18:00:22.743Z"
   },
   {
    "duration": 125,
    "start_time": "2023-09-10T18:00:22.787Z"
   },
   {
    "duration": 171,
    "start_time": "2023-09-10T18:00:22.914Z"
   },
   {
    "duration": 173,
    "start_time": "2023-09-10T18:00:23.087Z"
   },
   {
    "duration": 7,
    "start_time": "2023-09-10T18:00:23.263Z"
   },
   {
    "duration": 169,
    "start_time": "2023-09-10T18:00:23.272Z"
   },
   {
    "duration": 358,
    "start_time": "2023-09-10T18:00:23.443Z"
   },
   {
    "duration": 448,
    "start_time": "2023-09-10T18:00:23.810Z"
   },
   {
    "duration": 409,
    "start_time": "2023-09-10T18:00:24.260Z"
   },
   {
    "duration": 2311,
    "start_time": "2023-09-10T18:00:24.672Z"
   },
   {
    "duration": 161,
    "start_time": "2023-09-10T18:00:26.985Z"
   },
   {
    "duration": 267,
    "start_time": "2023-09-10T18:00:27.148Z"
   },
   {
    "duration": 102,
    "start_time": "2023-09-10T18:00:27.418Z"
   },
   {
    "duration": 4,
    "start_time": "2023-09-10T18:00:27.609Z"
   },
   {
    "duration": 12,
    "start_time": "2023-09-10T18:00:27.615Z"
   },
   {
    "duration": 23,
    "start_time": "2023-09-10T18:00:27.629Z"
   },
   {
    "duration": 1498,
    "start_time": "2023-09-10T18:00:27.654Z"
   },
   {
    "duration": 1422,
    "start_time": "2023-09-10T18:00:29.154Z"
   },
   {
    "duration": 4,
    "start_time": "2023-09-10T18:00:30.578Z"
   },
   {
    "duration": 1471,
    "start_time": "2023-09-10T18:00:30.585Z"
   },
   {
    "duration": 2,
    "start_time": "2023-09-10T18:00:32.058Z"
   },
   {
    "duration": 19,
    "start_time": "2023-09-10T18:00:32.062Z"
   },
   {
    "duration": 9,
    "start_time": "2023-09-10T18:00:32.085Z"
   },
   {
    "duration": 17,
    "start_time": "2023-09-10T18:00:32.096Z"
   },
   {
    "duration": 2026,
    "start_time": "2023-09-10T18:00:32.114Z"
   },
   {
    "duration": 4,
    "start_time": "2023-09-10T18:00:34.142Z"
   },
   {
    "duration": 10,
    "start_time": "2023-09-10T18:00:34.147Z"
   },
   {
    "duration": 15,
    "start_time": "2023-09-10T18:00:34.158Z"
   },
   {
    "duration": 861,
    "start_time": "2023-09-10T18:00:37.511Z"
   },
   {
    "duration": 145,
    "start_time": "2023-09-10T18:00:40.580Z"
   },
   {
    "duration": 7,
    "start_time": "2023-09-10T18:00:53.992Z"
   },
   {
    "duration": 1422,
    "start_time": "2023-09-10T18:00:57.377Z"
   },
   {
    "duration": 163,
    "start_time": "2023-09-10T18:00:59.568Z"
   },
   {
    "duration": 17,
    "start_time": "2023-09-10T18:02:19.233Z"
   },
   {
    "duration": 7,
    "start_time": "2023-09-10T18:02:29.309Z"
   },
   {
    "duration": 2411,
    "start_time": "2023-09-10T18:02:32.382Z"
   },
   {
    "duration": 114,
    "start_time": "2023-09-10T18:02:57.522Z"
   },
   {
    "duration": 4,
    "start_time": "2023-09-10T18:03:01.968Z"
   },
   {
    "duration": 494,
    "start_time": "2023-09-10T18:03:01.974Z"
   },
   {
    "duration": 19,
    "start_time": "2023-09-10T18:03:02.471Z"
   },
   {
    "duration": 139,
    "start_time": "2023-09-10T18:03:02.494Z"
   },
   {
    "duration": 48,
    "start_time": "2023-09-10T18:03:02.635Z"
   },
   {
    "duration": 69,
    "start_time": "2023-09-10T18:03:02.685Z"
   },
   {
    "duration": 105,
    "start_time": "2023-09-10T18:03:02.756Z"
   },
   {
    "duration": 169,
    "start_time": "2023-09-10T18:03:02.863Z"
   },
   {
    "duration": 165,
    "start_time": "2023-09-10T18:03:03.034Z"
   },
   {
    "duration": 7,
    "start_time": "2023-09-10T18:03:03.210Z"
   },
   {
    "duration": 204,
    "start_time": "2023-09-10T18:03:03.219Z"
   },
   {
    "duration": 374,
    "start_time": "2023-09-10T18:03:03.425Z"
   },
   {
    "duration": 387,
    "start_time": "2023-09-10T18:03:03.801Z"
   },
   {
    "duration": 470,
    "start_time": "2023-09-10T18:03:04.190Z"
   },
   {
    "duration": 2221,
    "start_time": "2023-09-10T18:03:04.662Z"
   },
   {
    "duration": 42,
    "start_time": "2023-09-10T18:03:06.884Z"
   },
   {
    "duration": 289,
    "start_time": "2023-09-10T18:03:06.929Z"
   },
   {
    "duration": 99,
    "start_time": "2023-09-10T18:03:07.311Z"
   },
   {
    "duration": 5,
    "start_time": "2023-09-10T18:03:07.411Z"
   },
   {
    "duration": 11,
    "start_time": "2023-09-10T18:03:07.418Z"
   },
   {
    "duration": 18,
    "start_time": "2023-09-10T18:03:07.432Z"
   },
   {
    "duration": 1504,
    "start_time": "2023-09-10T18:03:07.452Z"
   },
   {
    "duration": 1612,
    "start_time": "2023-09-10T18:03:08.958Z"
   },
   {
    "duration": 5,
    "start_time": "2023-09-10T18:03:10.571Z"
   },
   {
    "duration": 1462,
    "start_time": "2023-09-10T18:03:10.578Z"
   },
   {
    "duration": 2,
    "start_time": "2023-09-10T18:03:12.042Z"
   },
   {
    "duration": 4,
    "start_time": "2023-09-10T18:03:12.046Z"
   },
   {
    "duration": 3,
    "start_time": "2023-09-10T18:03:12.054Z"
   },
   {
    "duration": 12,
    "start_time": "2023-09-10T18:03:12.059Z"
   },
   {
    "duration": 2084,
    "start_time": "2023-09-10T18:03:12.073Z"
   },
   {
    "duration": 4,
    "start_time": "2023-09-10T18:03:14.159Z"
   },
   {
    "duration": 9,
    "start_time": "2023-09-10T18:03:14.165Z"
   },
   {
    "duration": 25,
    "start_time": "2023-09-10T18:03:14.175Z"
   },
   {
    "duration": 12,
    "start_time": "2023-09-10T18:03:14.202Z"
   },
   {
    "duration": 1362,
    "start_time": "2023-09-10T18:03:14.216Z"
   },
   {
    "duration": 155,
    "start_time": "2023-09-10T18:03:15.580Z"
   },
   {
    "duration": 1309,
    "start_time": "2023-09-10T18:03:15.737Z"
   },
   {
    "duration": 151,
    "start_time": "2023-09-10T18:03:17.047Z"
   },
   {
    "duration": 1295,
    "start_time": "2023-09-10T18:03:17.200Z"
   },
   {
    "duration": 171,
    "start_time": "2023-09-10T18:03:18.496Z"
   },
   {
    "duration": 25,
    "start_time": "2023-09-10T18:03:21.219Z"
   },
   {
    "duration": 6,
    "start_time": "2023-09-10T18:11:02.834Z"
   },
   {
    "duration": 1791,
    "start_time": "2023-09-11T15:06:40.594Z"
   },
   {
    "duration": 973,
    "start_time": "2023-09-11T15:06:42.388Z"
   },
   {
    "duration": 18,
    "start_time": "2023-09-11T15:06:43.363Z"
   },
   {
    "duration": 51,
    "start_time": "2023-09-11T15:06:43.383Z"
   },
   {
    "duration": 34,
    "start_time": "2023-09-11T15:06:43.436Z"
   },
   {
    "duration": 40,
    "start_time": "2023-09-11T15:06:43.472Z"
   },
   {
    "duration": 114,
    "start_time": "2023-09-11T15:06:43.514Z"
   },
   {
    "duration": 176,
    "start_time": "2023-09-11T15:06:43.630Z"
   },
   {
    "duration": 173,
    "start_time": "2023-09-11T15:06:43.808Z"
   },
   {
    "duration": 7,
    "start_time": "2023-09-11T15:06:43.982Z"
   },
   {
    "duration": 179,
    "start_time": "2023-09-11T15:06:43.991Z"
   },
   {
    "duration": 436,
    "start_time": "2023-09-11T15:06:44.172Z"
   },
   {
    "duration": 445,
    "start_time": "2023-09-11T15:06:44.609Z"
   },
   {
    "duration": 377,
    "start_time": "2023-09-11T15:06:45.057Z"
   },
   {
    "duration": 2290,
    "start_time": "2023-09-11T15:06:45.436Z"
   },
   {
    "duration": 163,
    "start_time": "2023-09-11T15:06:47.728Z"
   },
   {
    "duration": 265,
    "start_time": "2023-09-11T15:06:47.893Z"
   },
   {
    "duration": 101,
    "start_time": "2023-09-11T15:06:48.247Z"
   },
   {
    "duration": 6,
    "start_time": "2023-09-11T15:06:48.350Z"
   },
   {
    "duration": 18,
    "start_time": "2023-09-11T15:06:48.358Z"
   },
   {
    "duration": 27,
    "start_time": "2023-09-11T15:06:48.378Z"
   },
   {
    "duration": 2145,
    "start_time": "2023-09-11T15:06:48.406Z"
   },
   {
    "duration": 2028,
    "start_time": "2023-09-11T15:06:50.553Z"
   },
   {
    "duration": 4,
    "start_time": "2023-09-11T15:06:52.583Z"
   },
   {
    "duration": 1997,
    "start_time": "2023-09-11T15:06:52.589Z"
   },
   {
    "duration": 3,
    "start_time": "2023-09-11T15:06:54.587Z"
   },
   {
    "duration": 7,
    "start_time": "2023-09-11T15:06:54.591Z"
   },
   {
    "duration": 33,
    "start_time": "2023-09-11T15:06:54.599Z"
   },
   {
    "duration": 6,
    "start_time": "2023-09-11T15:06:54.633Z"
   },
   {
    "duration": 2627,
    "start_time": "2023-09-11T15:06:54.640Z"
   },
   {
    "duration": 3,
    "start_time": "2023-09-11T15:06:57.269Z"
   },
   {
    "duration": 8,
    "start_time": "2023-09-11T15:06:57.274Z"
   },
   {
    "duration": 27,
    "start_time": "2023-09-11T15:06:57.284Z"
   },
   {
    "duration": 25,
    "start_time": "2023-09-11T15:06:57.312Z"
   },
   {
    "duration": 1852,
    "start_time": "2023-09-11T15:06:57.339Z"
   },
   {
    "duration": 157,
    "start_time": "2023-09-11T15:06:59.193Z"
   },
   {
    "duration": 1896,
    "start_time": "2023-09-11T15:06:59.352Z"
   },
   {
    "duration": 154,
    "start_time": "2023-09-11T15:07:01.250Z"
   },
   {
    "duration": 1844,
    "start_time": "2023-09-11T15:07:01.405Z"
   },
   {
    "duration": 167,
    "start_time": "2023-09-11T15:07:03.252Z"
   },
   {
    "duration": 34,
    "start_time": "2023-09-11T15:07:03.424Z"
   },
   {
    "duration": 16,
    "start_time": "2023-09-11T15:07:03.460Z"
   },
   {
    "duration": 57,
    "start_time": "2023-09-11T15:07:03.478Z"
   },
   {
    "duration": 2560,
    "start_time": "2023-09-11T15:07:03.537Z"
   },
   {
    "duration": 1526,
    "start_time": "2023-09-16T10:22:56.544Z"
   },
   {
    "duration": 783,
    "start_time": "2023-09-16T10:22:58.072Z"
   },
   {
    "duration": 17,
    "start_time": "2023-09-16T10:22:58.857Z"
   },
   {
    "duration": 82,
    "start_time": "2023-09-16T10:22:58.876Z"
   },
   {
    "duration": 29,
    "start_time": "2023-09-16T10:22:58.960Z"
   },
   {
    "duration": 35,
    "start_time": "2023-09-16T10:22:58.991Z"
   },
   {
    "duration": 100,
    "start_time": "2023-09-16T10:22:59.028Z"
   },
   {
    "duration": 158,
    "start_time": "2023-09-16T10:22:59.130Z"
   },
   {
    "duration": 150,
    "start_time": "2023-09-16T10:22:59.289Z"
   },
   {
    "duration": 12,
    "start_time": "2023-09-16T10:22:59.441Z"
   },
   {
    "duration": 145,
    "start_time": "2023-09-16T10:22:59.454Z"
   },
   {
    "duration": 457,
    "start_time": "2023-09-16T10:22:59.600Z"
   },
   {
    "duration": 323,
    "start_time": "2023-09-16T10:23:00.058Z"
   },
   {
    "duration": 350,
    "start_time": "2023-09-16T10:23:00.383Z"
   },
   {
    "duration": 2062,
    "start_time": "2023-09-16T10:23:00.734Z"
   },
   {
    "duration": 29,
    "start_time": "2023-09-16T10:23:02.797Z"
   },
   {
    "duration": 283,
    "start_time": "2023-09-16T10:23:10.369Z"
   },
   {
    "duration": 4,
    "start_time": "2023-09-16T10:23:15.449Z"
   },
   {
    "duration": 6,
    "start_time": "2023-09-16T10:23:23.047Z"
   },
   {
    "duration": 6,
    "start_time": "2023-09-16T10:23:42.628Z"
   },
   {
    "duration": 18,
    "start_time": "2023-09-16T10:24:38.219Z"
   },
   {
    "duration": 1852,
    "start_time": "2023-09-16T10:24:56.014Z"
   },
   {
    "duration": 1793,
    "start_time": "2023-09-16T10:25:11.020Z"
   },
   {
    "duration": 15,
    "start_time": "2023-09-16T10:25:19.370Z"
   },
   {
    "duration": 1885,
    "start_time": "2023-09-16T10:25:21.712Z"
   },
   {
    "duration": 16,
    "start_time": "2023-09-16T10:26:09.994Z"
   },
   {
    "duration": 1727,
    "start_time": "2023-09-16T10:26:43.788Z"
   },
   {
    "duration": 16,
    "start_time": "2023-09-16T10:27:18.412Z"
   },
   {
    "duration": 1771,
    "start_time": "2023-09-16T10:27:21.972Z"
   },
   {
    "duration": 16,
    "start_time": "2023-09-16T10:28:24.427Z"
   },
   {
    "duration": 6,
    "start_time": "2023-09-16T10:28:30.877Z"
   },
   {
    "duration": 1762,
    "start_time": "2023-09-16T10:30:09.737Z"
   },
   {
    "duration": 97,
    "start_time": "2023-09-16T10:30:43.416Z"
   },
   {
    "duration": 1906,
    "start_time": "2023-09-16T10:30:49.085Z"
   },
   {
    "duration": 1210,
    "start_time": "2023-09-16T10:31:00.084Z"
   },
   {
    "duration": 15,
    "start_time": "2023-09-16T10:31:07.861Z"
   },
   {
    "duration": 1825,
    "start_time": "2023-09-16T10:31:10.711Z"
   },
   {
    "duration": 2622,
    "start_time": "2023-09-16T10:31:14.897Z"
   },
   {
    "duration": 6,
    "start_time": "2023-09-16T10:41:41.290Z"
   },
   {
    "duration": 5,
    "start_time": "2023-09-16T10:41:52.176Z"
   },
   {
    "duration": 3,
    "start_time": "2023-09-16T10:42:01.474Z"
   },
   {
    "duration": 418,
    "start_time": "2023-09-16T10:42:01.479Z"
   },
   {
    "duration": 13,
    "start_time": "2023-09-16T10:42:01.899Z"
   },
   {
    "duration": 93,
    "start_time": "2023-09-16T10:42:01.914Z"
   },
   {
    "duration": 53,
    "start_time": "2023-09-16T10:42:02.009Z"
   },
   {
    "duration": 72,
    "start_time": "2023-09-16T10:42:02.063Z"
   },
   {
    "duration": 84,
    "start_time": "2023-09-16T10:42:02.137Z"
   },
   {
    "duration": 148,
    "start_time": "2023-09-16T10:42:02.223Z"
   },
   {
    "duration": 278,
    "start_time": "2023-09-16T10:42:02.373Z"
   },
   {
    "duration": 6,
    "start_time": "2023-09-16T10:42:02.653Z"
   },
   {
    "duration": 141,
    "start_time": "2023-09-16T10:42:02.660Z"
   },
   {
    "duration": 333,
    "start_time": "2023-09-16T10:42:02.802Z"
   },
   {
    "duration": 319,
    "start_time": "2023-09-16T10:42:03.137Z"
   },
   {
    "duration": 308,
    "start_time": "2023-09-16T10:42:03.457Z"
   },
   {
    "duration": 1996,
    "start_time": "2023-09-16T10:42:03.767Z"
   },
   {
    "duration": 27,
    "start_time": "2023-09-16T10:42:05.764Z"
   },
   {
    "duration": 163,
    "start_time": "2023-09-16T10:42:05.792Z"
   },
   {
    "duration": 98,
    "start_time": "2023-09-16T10:42:05.957Z"
   },
   {
    "duration": 27,
    "start_time": "2023-09-16T10:42:06.057Z"
   },
   {
    "duration": 18,
    "start_time": "2023-09-16T10:42:06.150Z"
   },
   {
    "duration": 5,
    "start_time": "2023-09-16T10:42:14.357Z"
   },
   {
    "duration": 6,
    "start_time": "2023-09-16T10:42:20.123Z"
   },
   {
    "duration": 6,
    "start_time": "2023-09-16T10:42:37.052Z"
   },
   {
    "duration": 4,
    "start_time": "2023-09-16T10:42:49.565Z"
   },
   {
    "duration": 5,
    "start_time": "2023-09-16T10:42:51.221Z"
   },
   {
    "duration": 2160,
    "start_time": "2023-09-16T10:44:28.731Z"
   },
   {
    "duration": 15,
    "start_time": "2023-09-16T10:44:32.177Z"
   },
   {
    "duration": 2236,
    "start_time": "2023-09-16T10:44:35.391Z"
   },
   {
    "duration": 10,
    "start_time": "2023-09-16T10:48:00.858Z"
   },
   {
    "duration": 11,
    "start_time": "2023-09-16T10:48:41.006Z"
   },
   {
    "duration": 10,
    "start_time": "2023-09-16T10:48:51.213Z"
   },
   {
    "duration": 9,
    "start_time": "2023-09-16T10:49:05.290Z"
   },
   {
    "duration": 103,
    "start_time": "2023-09-16T10:49:14.355Z"
   },
   {
    "duration": 4,
    "start_time": "2023-09-16T10:49:20.560Z"
   },
   {
    "duration": 9,
    "start_time": "2023-09-16T10:49:33.882Z"
   },
   {
    "duration": 9,
    "start_time": "2023-09-16T10:50:45.770Z"
   },
   {
    "duration": 3,
    "start_time": "2023-09-16T10:52:25.427Z"
   },
   {
    "duration": 80,
    "start_time": "2023-09-16T10:52:28.813Z"
   },
   {
    "duration": 7,
    "start_time": "2023-09-16T10:52:32.646Z"
   },
   {
    "duration": 3,
    "start_time": "2023-09-16T10:53:13.511Z"
   },
   {
    "duration": 6,
    "start_time": "2023-09-16T10:53:16.446Z"
   },
   {
    "duration": 5,
    "start_time": "2023-09-16T10:54:02.895Z"
   },
   {
    "duration": 9,
    "start_time": "2023-09-16T10:55:30.559Z"
   },
   {
    "duration": 9,
    "start_time": "2023-09-16T10:55:40.848Z"
   },
   {
    "duration": 8,
    "start_time": "2023-09-16T10:55:58.934Z"
   },
   {
    "duration": 12,
    "start_time": "2023-09-16T10:56:14.768Z"
   },
   {
    "duration": 8,
    "start_time": "2023-09-16T10:58:27.538Z"
   },
   {
    "duration": 7,
    "start_time": "2023-09-16T10:58:31.988Z"
   },
   {
    "duration": 4,
    "start_time": "2023-09-16T10:59:45.494Z"
   },
   {
    "duration": 6,
    "start_time": "2023-09-16T10:59:47.815Z"
   },
   {
    "duration": 11,
    "start_time": "2023-09-16T11:01:11.219Z"
   },
   {
    "duration": 5,
    "start_time": "2023-09-16T11:01:12.806Z"
   },
   {
    "duration": 3,
    "start_time": "2023-09-16T11:01:14.437Z"
   },
   {
    "duration": 6,
    "start_time": "2023-09-16T11:01:15.979Z"
   },
   {
    "duration": 5,
    "start_time": "2023-09-16T11:13:18.086Z"
   },
   {
    "duration": 5,
    "start_time": "2023-09-16T11:16:03.062Z"
   },
   {
    "duration": 22,
    "start_time": "2023-09-16T11:16:39.068Z"
   },
   {
    "duration": 2077,
    "start_time": "2023-09-16T11:20:49.657Z"
   },
   {
    "duration": 9,
    "start_time": "2023-09-16T11:32:39.304Z"
   },
   {
    "duration": 9,
    "start_time": "2023-09-16T11:33:38.138Z"
   },
   {
    "duration": 12,
    "start_time": "2023-09-16T11:33:40.904Z"
   },
   {
    "duration": 10,
    "start_time": "2023-09-16T11:36:33.384Z"
   },
   {
    "duration": 1317,
    "start_time": "2023-09-16T11:36:35.474Z"
   },
   {
    "duration": 93,
    "start_time": "2023-09-16T11:36:46.015Z"
   },
   {
    "duration": 15,
    "start_time": "2023-09-16T11:36:54.116Z"
   },
   {
    "duration": 12,
    "start_time": "2023-09-16T11:36:56.665Z"
   },
   {
    "duration": 20,
    "start_time": "2023-09-16T11:39:10.202Z"
   },
   {
    "duration": 2251,
    "start_time": "2023-09-16T11:39:22.534Z"
   },
   {
    "duration": 20,
    "start_time": "2023-09-16T11:41:04.381Z"
   },
   {
    "duration": 10,
    "start_time": "2023-09-16T11:41:10.358Z"
   },
   {
    "duration": 2645,
    "start_time": "2023-09-16T11:41:16.725Z"
   },
   {
    "duration": 7,
    "start_time": "2023-09-16T11:42:19.494Z"
   },
   {
    "duration": 2218,
    "start_time": "2023-09-16T11:42:22.328Z"
   },
   {
    "duration": 6,
    "start_time": "2023-09-16T11:42:45.604Z"
   },
   {
    "duration": 3195,
    "start_time": "2023-09-16T11:42:47.972Z"
   },
   {
    "duration": 21,
    "start_time": "2023-09-16T11:43:03.090Z"
   },
   {
    "duration": 121,
    "start_time": "2023-09-16T11:43:09.843Z"
   },
   {
    "duration": 19,
    "start_time": "2023-09-16T11:43:18.991Z"
   },
   {
    "duration": 6,
    "start_time": "2023-09-16T11:43:21.424Z"
   },
   {
    "duration": 3335,
    "start_time": "2023-09-16T11:43:22.885Z"
   },
   {
    "duration": 17,
    "start_time": "2023-09-16T11:43:32.875Z"
   },
   {
    "duration": 6,
    "start_time": "2023-09-16T11:43:35.092Z"
   },
   {
    "duration": 3220,
    "start_time": "2023-09-16T11:43:36.759Z"
   },
   {
    "duration": 5,
    "start_time": "2023-09-16T11:44:51.337Z"
   },
   {
    "duration": 3562,
    "start_time": "2023-09-16T11:44:53.101Z"
   },
   {
    "duration": 3,
    "start_time": "2023-09-16T11:45:01.872Z"
   },
   {
    "duration": 7,
    "start_time": "2023-09-16T11:45:04.250Z"
   },
   {
    "duration": 3298,
    "start_time": "2023-09-16T11:45:06.117Z"
   },
   {
    "duration": 3331,
    "start_time": "2023-09-16T11:46:34.928Z"
   },
   {
    "duration": 6,
    "start_time": "2023-09-16T11:46:46.713Z"
   },
   {
    "duration": 5,
    "start_time": "2023-09-16T11:46:53.195Z"
   },
   {
    "duration": 5,
    "start_time": "2023-09-16T11:47:05.300Z"
   },
   {
    "duration": 3748,
    "start_time": "2023-09-16T11:47:31.735Z"
   },
   {
    "duration": 5,
    "start_time": "2023-09-16T11:47:48.189Z"
   },
   {
    "duration": 3205,
    "start_time": "2023-09-16T11:47:49.629Z"
   },
   {
    "duration": 7,
    "start_time": "2023-09-16T11:48:06.276Z"
   },
   {
    "duration": 3773,
    "start_time": "2023-09-16T11:48:08.913Z"
   },
   {
    "duration": 8,
    "start_time": "2023-09-16T11:49:58.987Z"
   },
   {
    "duration": 7,
    "start_time": "2023-09-16T11:51:57.390Z"
   },
   {
    "duration": 10,
    "start_time": "2023-09-16T11:52:00.787Z"
   },
   {
    "duration": 10,
    "start_time": "2023-09-16T11:52:10.484Z"
   },
   {
    "duration": 16,
    "start_time": "2023-09-16T11:53:08.855Z"
   },
   {
    "duration": 8,
    "start_time": "2023-09-16T11:53:09.486Z"
   },
   {
    "duration": 7,
    "start_time": "2023-09-16T11:53:10.141Z"
   },
   {
    "duration": 11,
    "start_time": "2023-09-16T11:53:10.764Z"
   },
   {
    "duration": 8,
    "start_time": "2023-09-16T11:53:11.232Z"
   },
   {
    "duration": 14,
    "start_time": "2023-09-16T11:53:11.747Z"
   },
   {
    "duration": 7,
    "start_time": "2023-09-16T11:53:12.208Z"
   },
   {
    "duration": 8,
    "start_time": "2023-09-16T11:53:12.604Z"
   },
   {
    "duration": 8,
    "start_time": "2023-09-16T11:53:12.987Z"
   },
   {
    "duration": 10,
    "start_time": "2023-09-16T11:53:13.368Z"
   },
   {
    "duration": 7,
    "start_time": "2023-09-16T11:53:13.734Z"
   },
   {
    "duration": 7,
    "start_time": "2023-09-16T11:53:14.101Z"
   },
   {
    "duration": 14,
    "start_time": "2023-09-16T11:53:14.452Z"
   },
   {
    "duration": 8,
    "start_time": "2023-09-16T11:53:14.812Z"
   },
   {
    "duration": 8,
    "start_time": "2023-09-16T11:53:15.205Z"
   },
   {
    "duration": 11,
    "start_time": "2023-09-16T11:53:19.051Z"
   },
   {
    "duration": 8,
    "start_time": "2023-09-16T11:53:19.493Z"
   },
   {
    "duration": 8,
    "start_time": "2023-09-16T11:53:19.881Z"
   },
   {
    "duration": 12,
    "start_time": "2023-09-16T11:53:20.450Z"
   },
   {
    "duration": 8,
    "start_time": "2023-09-16T11:53:21.171Z"
   },
   {
    "duration": 8,
    "start_time": "2023-09-16T11:53:21.914Z"
   },
   {
    "duration": 8,
    "start_time": "2023-09-16T11:53:22.417Z"
   },
   {
    "duration": 13,
    "start_time": "2023-09-16T11:53:22.962Z"
   },
   {
    "duration": 5,
    "start_time": "2023-09-16T11:53:48.764Z"
   },
   {
    "duration": 6,
    "start_time": "2023-09-16T11:53:53.795Z"
   },
   {
    "duration": 5,
    "start_time": "2023-09-16T11:53:59.401Z"
   },
   {
    "duration": 5,
    "start_time": "2023-09-16T11:54:10.201Z"
   },
   {
    "duration": 7,
    "start_time": "2023-09-16T11:54:28.566Z"
   },
   {
    "duration": 9,
    "start_time": "2023-09-16T11:54:31.495Z"
   },
   {
    "duration": 8,
    "start_time": "2023-09-16T11:54:41.811Z"
   },
   {
    "duration": 6,
    "start_time": "2023-09-16T11:54:44.991Z"
   },
   {
    "duration": 4,
    "start_time": "2023-09-16T11:54:54.610Z"
   },
   {
    "duration": 12,
    "start_time": "2023-09-16T11:54:56.652Z"
   },
   {
    "duration": 5,
    "start_time": "2023-09-16T11:55:00.984Z"
   },
   {
    "duration": 5,
    "start_time": "2023-09-16T11:55:06.010Z"
   },
   {
    "duration": 4,
    "start_time": "2023-09-16T11:55:09.317Z"
   },
   {
    "duration": 4,
    "start_time": "2023-09-16T11:55:12.619Z"
   },
   {
    "duration": 10,
    "start_time": "2023-09-16T11:55:22.542Z"
   },
   {
    "duration": 4,
    "start_time": "2023-09-16T11:55:25.800Z"
   },
   {
    "duration": 4,
    "start_time": "2023-09-16T11:55:29.197Z"
   },
   {
    "duration": 5,
    "start_time": "2023-09-16T11:55:32.563Z"
   },
   {
    "duration": 4,
    "start_time": "2023-09-16T11:55:47.403Z"
   },
   {
    "duration": 5,
    "start_time": "2023-09-16T11:55:54.094Z"
   },
   {
    "duration": 4,
    "start_time": "2023-09-16T11:56:15.418Z"
   },
   {
    "duration": 4,
    "start_time": "2023-09-16T11:56:18.774Z"
   },
   {
    "duration": 8,
    "start_time": "2023-09-16T11:59:22.108Z"
   },
   {
    "duration": 8,
    "start_time": "2023-09-16T11:59:38.667Z"
   },
   {
    "duration": 6,
    "start_time": "2023-09-16T12:00:24.970Z"
   },
   {
    "duration": 7,
    "start_time": "2023-09-16T12:00:26.268Z"
   },
   {
    "duration": 4,
    "start_time": "2023-09-16T12:00:27.787Z"
   },
   {
    "duration": 8,
    "start_time": "2023-09-16T12:00:29.298Z"
   },
   {
    "duration": 8,
    "start_time": "2023-09-16T12:00:31.039Z"
   },
   {
    "duration": 9,
    "start_time": "2023-09-16T12:00:31.596Z"
   },
   {
    "duration": 10,
    "start_time": "2023-09-16T12:00:32.539Z"
   },
   {
    "duration": 13,
    "start_time": "2023-09-16T12:00:34.244Z"
   },
   {
    "duration": 8,
    "start_time": "2023-09-16T12:00:35.490Z"
   },
   {
    "duration": 8,
    "start_time": "2023-09-16T12:01:35.285Z"
   },
   {
    "duration": 6,
    "start_time": "2023-09-16T12:03:28.700Z"
   },
   {
    "duration": 13,
    "start_time": "2023-09-16T12:03:31.857Z"
   },
   {
    "duration": 6,
    "start_time": "2023-09-16T12:09:51.412Z"
   },
   {
    "duration": 3,
    "start_time": "2023-09-16T12:13:16.214Z"
   },
   {
    "duration": 5,
    "start_time": "2023-09-16T12:13:17.905Z"
   },
   {
    "duration": 4,
    "start_time": "2023-09-16T12:13:32.498Z"
   },
   {
    "duration": 15,
    "start_time": "2023-09-16T12:13:34.630Z"
   },
   {
    "duration": 10,
    "start_time": "2023-09-16T12:13:47.968Z"
   },
   {
    "duration": 7,
    "start_time": "2023-09-16T12:13:50.494Z"
   },
   {
    "duration": 7,
    "start_time": "2023-09-16T12:13:51.014Z"
   },
   {
    "duration": 8,
    "start_time": "2023-09-16T12:13:57.431Z"
   },
   {
    "duration": 7,
    "start_time": "2023-09-16T12:13:58.273Z"
   },
   {
    "duration": 8,
    "start_time": "2023-09-16T12:14:00.444Z"
   },
   {
    "duration": 9,
    "start_time": "2023-09-16T12:14:00.926Z"
   },
   {
    "duration": 7,
    "start_time": "2023-09-16T12:14:01.400Z"
   },
   {
    "duration": 8,
    "start_time": "2023-09-16T12:14:01.815Z"
   },
   {
    "duration": 8,
    "start_time": "2023-09-16T12:14:02.231Z"
   },
   {
    "duration": 6,
    "start_time": "2023-09-16T12:14:15.916Z"
   },
   {
    "duration": 6,
    "start_time": "2023-09-16T12:14:31.309Z"
   },
   {
    "duration": 5,
    "start_time": "2023-09-16T12:14:47.290Z"
   },
   {
    "duration": 7,
    "start_time": "2023-09-16T12:15:05.063Z"
   },
   {
    "duration": 6,
    "start_time": "2023-09-16T12:15:06.372Z"
   },
   {
    "duration": 4,
    "start_time": "2023-09-16T12:15:07.983Z"
   },
   {
    "duration": 5,
    "start_time": "2023-09-16T12:15:10.765Z"
   },
   {
    "duration": 8,
    "start_time": "2023-09-16T12:15:12.049Z"
   },
   {
    "duration": 5,
    "start_time": "2023-09-16T12:15:12.364Z"
   },
   {
    "duration": 5,
    "start_time": "2023-09-16T12:15:12.621Z"
   },
   {
    "duration": 4,
    "start_time": "2023-09-16T12:15:12.808Z"
   },
   {
    "duration": 5,
    "start_time": "2023-09-16T12:15:12.968Z"
   },
   {
    "duration": 4,
    "start_time": "2023-09-16T12:15:13.123Z"
   },
   {
    "duration": 5,
    "start_time": "2023-09-16T12:15:13.272Z"
   },
   {
    "duration": 4,
    "start_time": "2023-09-16T12:15:14.617Z"
   },
   {
    "duration": 6,
    "start_time": "2023-09-16T12:15:15.887Z"
   },
   {
    "duration": 4,
    "start_time": "2023-09-16T12:15:17.219Z"
   },
   {
    "duration": 5,
    "start_time": "2023-09-16T12:15:18.596Z"
   },
   {
    "duration": 5,
    "start_time": "2023-09-16T12:15:19.994Z"
   },
   {
    "duration": 5,
    "start_time": "2023-09-16T12:15:21.180Z"
   },
   {
    "duration": 4,
    "start_time": "2023-09-16T12:15:26.806Z"
   },
   {
    "duration": 6,
    "start_time": "2023-09-16T12:15:43.547Z"
   },
   {
    "duration": 4,
    "start_time": "2023-09-16T12:15:44.718Z"
   },
   {
    "duration": 4,
    "start_time": "2023-09-16T12:15:47.904Z"
   },
   {
    "duration": 5,
    "start_time": "2023-09-16T12:15:49.154Z"
   },
   {
    "duration": 4,
    "start_time": "2023-09-16T12:15:50.222Z"
   },
   {
    "duration": 13,
    "start_time": "2023-09-16T12:15:51.451Z"
   },
   {
    "duration": 8,
    "start_time": "2023-09-16T12:15:52.748Z"
   },
   {
    "duration": 4,
    "start_time": "2023-09-16T12:15:55.080Z"
   },
   {
    "duration": 6,
    "start_time": "2023-09-16T12:15:56.435Z"
   },
   {
    "duration": 6,
    "start_time": "2023-09-16T12:16:36.689Z"
   },
   {
    "duration": 6,
    "start_time": "2023-09-16T12:16:38.525Z"
   },
   {
    "duration": 9,
    "start_time": "2023-09-16T12:16:46.117Z"
   },
   {
    "duration": 4,
    "start_time": "2023-09-16T12:16:53.435Z"
   },
   {
    "duration": 5,
    "start_time": "2023-09-16T12:16:57.553Z"
   },
   {
    "duration": 4,
    "start_time": "2023-09-16T12:20:49.228Z"
   },
   {
    "duration": 6,
    "start_time": "2023-09-16T12:21:03.323Z"
   },
   {
    "duration": 5,
    "start_time": "2023-09-16T12:21:09.371Z"
   },
   {
    "duration": 10,
    "start_time": "2023-09-16T12:21:12.965Z"
   },
   {
    "duration": 4,
    "start_time": "2023-09-16T12:21:19.389Z"
   },
   {
    "duration": 6,
    "start_time": "2023-09-16T12:21:21.769Z"
   },
   {
    "duration": 7,
    "start_time": "2023-09-16T12:21:26.067Z"
   },
   {
    "duration": 4,
    "start_time": "2023-09-16T12:21:28.682Z"
   },
   {
    "duration": 5,
    "start_time": "2023-09-16T12:21:30.165Z"
   },
   {
    "duration": 4,
    "start_time": "2023-09-16T12:21:31.780Z"
   },
   {
    "duration": 7,
    "start_time": "2023-09-16T12:22:20.067Z"
   },
   {
    "duration": 6,
    "start_time": "2023-09-16T12:22:24.806Z"
   },
   {
    "duration": 4,
    "start_time": "2023-09-16T12:23:52.728Z"
   },
   {
    "duration": 4,
    "start_time": "2023-09-16T12:23:54.368Z"
   },
   {
    "duration": 5,
    "start_time": "2023-09-16T12:23:54.813Z"
   },
   {
    "duration": 4,
    "start_time": "2023-09-16T12:23:55.124Z"
   },
   {
    "duration": 4,
    "start_time": "2023-09-16T12:24:19.933Z"
   },
   {
    "duration": 4,
    "start_time": "2023-09-16T12:24:22.204Z"
   },
   {
    "duration": 4,
    "start_time": "2023-09-16T12:24:23.488Z"
   },
   {
    "duration": 8,
    "start_time": "2023-09-16T12:31:35.295Z"
   },
   {
    "duration": 4,
    "start_time": "2023-09-16T12:31:37.215Z"
   },
   {
    "duration": 7,
    "start_time": "2023-09-16T12:31:38.511Z"
   },
   {
    "duration": 6,
    "start_time": "2023-09-16T12:31:39.996Z"
   },
   {
    "duration": 10,
    "start_time": "2023-09-16T12:31:42.251Z"
   },
   {
    "duration": 5,
    "start_time": "2023-09-16T12:31:45.032Z"
   },
   {
    "duration": 5,
    "start_time": "2023-09-16T12:31:47.839Z"
   },
   {
    "duration": 6,
    "start_time": "2023-09-16T12:31:48.504Z"
   },
   {
    "duration": 13,
    "start_time": "2023-09-16T12:31:53.857Z"
   },
   {
    "duration": 7,
    "start_time": "2023-09-16T12:31:56.254Z"
   },
   {
    "duration": 5,
    "start_time": "2023-09-16T12:31:58.605Z"
   },
   {
    "duration": 6,
    "start_time": "2023-09-16T12:32:00.489Z"
   },
   {
    "duration": 8,
    "start_time": "2023-09-16T12:32:03.457Z"
   },
   {
    "duration": 6,
    "start_time": "2023-09-16T12:32:06.467Z"
   },
   {
    "duration": 6,
    "start_time": "2023-09-16T12:32:10.602Z"
   },
   {
    "duration": 5,
    "start_time": "2023-09-16T12:32:12.498Z"
   },
   {
    "duration": 6,
    "start_time": "2023-09-16T12:32:14.728Z"
   },
   {
    "duration": 8,
    "start_time": "2023-09-16T12:32:17.152Z"
   },
   {
    "duration": 7,
    "start_time": "2023-09-16T12:32:32.381Z"
   },
   {
    "duration": 7,
    "start_time": "2023-09-16T12:32:42.293Z"
   },
   {
    "duration": 6,
    "start_time": "2023-09-16T12:33:39.276Z"
   },
   {
    "duration": 5,
    "start_time": "2023-09-16T12:33:39.398Z"
   },
   {
    "duration": 5,
    "start_time": "2023-09-16T12:33:41.894Z"
   },
   {
    "duration": 5,
    "start_time": "2023-09-16T12:33:44.279Z"
   },
   {
    "duration": 6,
    "start_time": "2023-09-16T12:33:45.930Z"
   },
   {
    "duration": 5,
    "start_time": "2023-09-16T12:34:05.386Z"
   },
   {
    "duration": 6,
    "start_time": "2023-09-16T12:34:07.777Z"
   },
   {
    "duration": 5,
    "start_time": "2023-09-16T12:34:12.371Z"
   },
   {
    "duration": 7,
    "start_time": "2023-09-16T12:34:13.615Z"
   },
   {
    "duration": 4,
    "start_time": "2023-09-16T12:35:28.218Z"
   },
   {
    "duration": 8,
    "start_time": "2023-09-16T12:35:31.955Z"
   },
   {
    "duration": 9,
    "start_time": "2023-09-16T12:35:45.754Z"
   },
   {
    "duration": 6,
    "start_time": "2023-09-16T12:36:08.977Z"
   },
   {
    "duration": 5,
    "start_time": "2023-09-16T12:36:12.431Z"
   },
   {
    "duration": 7,
    "start_time": "2023-09-16T12:36:36.763Z"
   },
   {
    "duration": 6,
    "start_time": "2023-09-16T12:36:38.425Z"
   },
   {
    "duration": 6,
    "start_time": "2023-09-16T12:36:40.981Z"
   },
   {
    "duration": 6,
    "start_time": "2023-09-16T12:36:42.428Z"
   },
   {
    "duration": 6,
    "start_time": "2023-09-16T12:36:43.442Z"
   },
   {
    "duration": 6,
    "start_time": "2023-09-16T12:36:47.165Z"
   },
   {
    "duration": 5,
    "start_time": "2023-09-16T12:36:49.507Z"
   },
   {
    "duration": 6,
    "start_time": "2023-09-16T12:36:51.107Z"
   },
   {
    "duration": 9,
    "start_time": "2023-09-16T12:36:52.250Z"
   },
   {
    "duration": 9,
    "start_time": "2023-09-16T12:36:54.447Z"
   },
   {
    "duration": 5,
    "start_time": "2023-09-16T12:36:58.430Z"
   },
   {
    "duration": 6,
    "start_time": "2023-09-16T12:36:59.634Z"
   },
   {
    "duration": 6,
    "start_time": "2023-09-16T12:37:00.038Z"
   },
   {
    "duration": 9,
    "start_time": "2023-09-16T12:37:00.255Z"
   },
   {
    "duration": 5,
    "start_time": "2023-09-16T12:37:00.425Z"
   },
   {
    "duration": 6,
    "start_time": "2023-09-16T12:37:00.585Z"
   },
   {
    "duration": 5,
    "start_time": "2023-09-16T12:37:00.733Z"
   },
   {
    "duration": 5,
    "start_time": "2023-09-16T12:38:36.238Z"
   },
   {
    "duration": 5,
    "start_time": "2023-09-16T12:38:52.493Z"
   },
   {
    "duration": 5,
    "start_time": "2023-09-16T12:39:04.069Z"
   },
   {
    "duration": 6,
    "start_time": "2023-09-16T12:39:16.293Z"
   },
   {
    "duration": 5,
    "start_time": "2023-09-16T12:39:29.225Z"
   },
   {
    "duration": 8,
    "start_time": "2023-09-16T12:39:31.316Z"
   },
   {
    "duration": 3,
    "start_time": "2023-09-16T12:40:05.117Z"
   },
   {
    "duration": 6,
    "start_time": "2023-09-16T12:40:06.480Z"
   },
   {
    "duration": 4,
    "start_time": "2023-09-16T12:40:08.172Z"
   },
   {
    "duration": 4,
    "start_time": "2023-09-16T12:40:09.590Z"
   },
   {
    "duration": 9,
    "start_time": "2023-09-16T12:40:10.960Z"
   },
   {
    "duration": 5,
    "start_time": "2023-09-16T12:40:52.700Z"
   },
   {
    "duration": 6,
    "start_time": "2023-09-16T12:40:53.303Z"
   },
   {
    "duration": 6,
    "start_time": "2023-09-16T12:40:54.073Z"
   },
   {
    "duration": 8,
    "start_time": "2023-09-16T12:40:54.450Z"
   },
   {
    "duration": 6,
    "start_time": "2023-09-16T12:40:54.916Z"
   },
   {
    "duration": 7,
    "start_time": "2023-09-16T12:40:55.341Z"
   },
   {
    "duration": 6,
    "start_time": "2023-09-16T12:40:55.681Z"
   },
   {
    "duration": 7,
    "start_time": "2023-09-16T12:40:56.280Z"
   },
   {
    "duration": 6,
    "start_time": "2023-09-16T12:40:57.640Z"
   },
   {
    "duration": 11,
    "start_time": "2023-09-16T12:40:59.459Z"
   },
   {
    "duration": 7,
    "start_time": "2023-09-16T12:41:01.988Z"
   },
   {
    "duration": 9,
    "start_time": "2023-09-16T12:41:02.362Z"
   },
   {
    "duration": 6,
    "start_time": "2023-09-16T12:41:02.680Z"
   },
   {
    "duration": 10,
    "start_time": "2023-09-16T12:41:02.955Z"
   },
   {
    "duration": 6,
    "start_time": "2023-09-16T12:41:03.223Z"
   },
   {
    "duration": 5,
    "start_time": "2023-09-16T12:41:03.518Z"
   },
   {
    "duration": 6,
    "start_time": "2023-09-16T12:41:03.878Z"
   },
   {
    "duration": 4,
    "start_time": "2023-09-16T12:41:10.173Z"
   },
   {
    "duration": 5,
    "start_time": "2023-09-16T12:41:12.882Z"
   },
   {
    "duration": 6,
    "start_time": "2023-09-16T12:41:15.112Z"
   },
   {
    "duration": 8,
    "start_time": "2023-09-16T12:42:33.589Z"
   },
   {
    "duration": 8,
    "start_time": "2023-09-16T12:42:43.020Z"
   },
   {
    "duration": 3,
    "start_time": "2023-09-16T12:43:03.226Z"
   },
   {
    "duration": 5,
    "start_time": "2023-09-16T12:43:08.567Z"
   },
   {
    "duration": 5,
    "start_time": "2023-09-16T12:43:12.139Z"
   },
   {
    "duration": 3,
    "start_time": "2023-09-16T12:43:18.896Z"
   },
   {
    "duration": 7,
    "start_time": "2023-09-16T12:43:23.753Z"
   },
   {
    "duration": 4,
    "start_time": "2023-09-16T12:43:25.304Z"
   },
   {
    "duration": 5,
    "start_time": "2023-09-16T12:43:53.112Z"
   },
   {
    "duration": 5,
    "start_time": "2023-09-16T12:43:54.674Z"
   },
   {
    "duration": 5,
    "start_time": "2023-09-16T12:43:56.685Z"
   },
   {
    "duration": 7,
    "start_time": "2023-09-16T12:43:59.285Z"
   },
   {
    "duration": 4,
    "start_time": "2023-09-16T12:44:01.520Z"
   },
   {
    "duration": 5,
    "start_time": "2023-09-16T12:44:03.083Z"
   },
   {
    "duration": 6,
    "start_time": "2023-09-16T12:44:04.344Z"
   },
   {
    "duration": 5,
    "start_time": "2023-09-16T12:46:19.022Z"
   },
   {
    "duration": 11,
    "start_time": "2023-09-16T12:50:24.558Z"
   },
   {
    "duration": 16,
    "start_time": "2023-09-16T12:50:29.120Z"
   },
   {
    "duration": 3,
    "start_time": "2023-09-16T12:50:32.999Z"
   },
   {
    "duration": 392,
    "start_time": "2023-09-16T12:50:33.004Z"
   },
   {
    "duration": 13,
    "start_time": "2023-09-16T12:50:33.398Z"
   },
   {
    "duration": 47,
    "start_time": "2023-09-16T12:50:33.413Z"
   },
   {
    "duration": 32,
    "start_time": "2023-09-16T12:50:33.463Z"
   },
   {
    "duration": 32,
    "start_time": "2023-09-16T12:50:33.496Z"
   },
   {
    "duration": 102,
    "start_time": "2023-09-16T12:50:33.530Z"
   },
   {
    "duration": 160,
    "start_time": "2023-09-16T12:50:33.634Z"
   },
   {
    "duration": 158,
    "start_time": "2023-09-16T12:50:33.796Z"
   },
   {
    "duration": 12,
    "start_time": "2023-09-16T12:50:33.957Z"
   },
   {
    "duration": 305,
    "start_time": "2023-09-16T12:50:33.970Z"
   },
   {
    "duration": 347,
    "start_time": "2023-09-16T12:50:34.277Z"
   },
   {
    "duration": 369,
    "start_time": "2023-09-16T12:50:34.625Z"
   },
   {
    "duration": 507,
    "start_time": "2023-09-16T12:50:34.995Z"
   },
   {
    "duration": 2118,
    "start_time": "2023-09-16T12:50:35.503Z"
   },
   {
    "duration": 38,
    "start_time": "2023-09-16T12:50:37.623Z"
   },
   {
    "duration": 285,
    "start_time": "2023-09-16T12:50:37.665Z"
   },
   {
    "duration": 5,
    "start_time": "2023-09-16T12:50:37.953Z"
   },
   {
    "duration": 99,
    "start_time": "2023-09-16T12:50:37.960Z"
   },
   {
    "duration": 19,
    "start_time": "2023-09-16T12:50:38.062Z"
   },
   {
    "duration": 5,
    "start_time": "2023-09-16T12:50:38.082Z"
   },
   {
    "duration": 15,
    "start_time": "2023-09-16T12:50:38.088Z"
   },
   {
    "duration": 31,
    "start_time": "2023-09-16T12:50:38.104Z"
   },
   {
    "duration": 52,
    "start_time": "2023-09-16T12:50:38.138Z"
   },
   {
    "duration": 2391,
    "start_time": "2023-09-16T12:50:38.192Z"
   },
   {
    "duration": 2050,
    "start_time": "2023-09-16T12:50:40.585Z"
   },
   {
    "duration": 13,
    "start_time": "2023-09-16T12:50:42.637Z"
   },
   {
    "duration": 1961,
    "start_time": "2023-09-16T12:50:42.652Z"
   },
   {
    "duration": 2,
    "start_time": "2023-09-16T12:50:44.614Z"
   },
   {
    "duration": 23,
    "start_time": "2023-09-16T12:50:44.618Z"
   },
   {
    "duration": 10,
    "start_time": "2023-09-16T12:50:44.643Z"
   },
   {
    "duration": 22,
    "start_time": "2023-09-16T12:50:44.655Z"
   },
   {
    "duration": 2454,
    "start_time": "2023-09-16T12:50:44.679Z"
   },
   {
    "duration": 4,
    "start_time": "2023-09-16T12:50:47.134Z"
   },
   {
    "duration": 10,
    "start_time": "2023-09-16T12:50:47.151Z"
   },
   {
    "duration": 11,
    "start_time": "2023-09-16T12:50:47.163Z"
   },
   {
    "duration": 7,
    "start_time": "2023-09-16T12:50:47.176Z"
   },
   {
    "duration": 6,
    "start_time": "2023-09-16T12:50:51.720Z"
   },
   {
    "duration": 2224,
    "start_time": "2023-09-16T12:50:54.146Z"
   },
   {
    "duration": 24,
    "start_time": "2023-09-16T12:51:14.849Z"
   },
   {
    "duration": 9,
    "start_time": "2023-09-16T12:51:22.057Z"
   },
   {
    "duration": 2012,
    "start_time": "2023-09-16T12:51:30.388Z"
   },
   {
    "duration": 16,
    "start_time": "2023-09-16T12:53:05.461Z"
   },
   {
    "duration": 6,
    "start_time": "2023-09-16T12:53:07.587Z"
   },
   {
    "duration": 1919,
    "start_time": "2023-09-16T12:53:21.614Z"
   },
   {
    "duration": 142,
    "start_time": "2023-09-16T12:54:19.323Z"
   },
   {
    "duration": 1987,
    "start_time": "2023-09-16T12:54:22.295Z"
   },
   {
    "duration": 136,
    "start_time": "2023-09-16T12:54:29.898Z"
   },
   {
    "duration": 2158,
    "start_time": "2023-09-16T12:54:31.816Z"
   },
   {
    "duration": 33,
    "start_time": "2023-09-16T12:54:35.944Z"
   },
   {
    "duration": 7,
    "start_time": "2023-09-16T12:55:06.970Z"
   },
   {
    "duration": 4,
    "start_time": "2023-09-16T12:55:11.617Z"
   },
   {
    "duration": 6,
    "start_time": "2023-09-16T12:55:12.866Z"
   },
   {
    "duration": 5,
    "start_time": "2023-09-16T12:55:14.078Z"
   },
   {
    "duration": 5,
    "start_time": "2023-09-16T12:55:15.838Z"
   },
   {
    "duration": 6,
    "start_time": "2023-09-16T12:55:17.624Z"
   },
   {
    "duration": 7,
    "start_time": "2023-09-16T12:55:20.056Z"
   },
   {
    "duration": 12,
    "start_time": "2023-09-16T12:55:59.056Z"
   },
   {
    "duration": 4,
    "start_time": "2023-09-16T12:56:00.372Z"
   },
   {
    "duration": 5,
    "start_time": "2023-09-16T12:58:40.592Z"
   },
   {
    "duration": 9,
    "start_time": "2023-09-16T12:58:43.641Z"
   },
   {
    "duration": 3,
    "start_time": "2023-09-16T12:58:48.506Z"
   },
   {
    "duration": 400,
    "start_time": "2023-09-16T12:58:48.511Z"
   },
   {
    "duration": 11,
    "start_time": "2023-09-16T12:58:48.913Z"
   },
   {
    "duration": 71,
    "start_time": "2023-09-16T12:58:48.925Z"
   },
   {
    "duration": 26,
    "start_time": "2023-09-16T12:58:48.998Z"
   },
   {
    "duration": 42,
    "start_time": "2023-09-16T12:58:49.026Z"
   },
   {
    "duration": 100,
    "start_time": "2023-09-16T12:58:49.071Z"
   },
   {
    "duration": 147,
    "start_time": "2023-09-16T12:58:49.172Z"
   },
   {
    "duration": 164,
    "start_time": "2023-09-16T12:58:49.320Z"
   },
   {
    "duration": 7,
    "start_time": "2023-09-16T12:58:49.486Z"
   },
   {
    "duration": 142,
    "start_time": "2023-09-16T12:58:49.495Z"
   },
   {
    "duration": 362,
    "start_time": "2023-09-16T12:58:49.639Z"
   },
   {
    "duration": 379,
    "start_time": "2023-09-16T12:58:50.002Z"
   },
   {
    "duration": 323,
    "start_time": "2023-09-16T12:58:50.383Z"
   },
   {
    "duration": 2083,
    "start_time": "2023-09-16T12:58:50.707Z"
   },
   {
    "duration": 27,
    "start_time": "2023-09-16T12:58:52.791Z"
   },
   {
    "duration": 147,
    "start_time": "2023-09-16T12:58:52.819Z"
   },
   {
    "duration": 6,
    "start_time": "2023-09-16T12:58:53.055Z"
   },
   {
    "duration": 106,
    "start_time": "2023-09-16T12:58:53.063Z"
   },
   {
    "duration": 19,
    "start_time": "2023-09-16T12:58:53.171Z"
   },
   {
    "duration": 6,
    "start_time": "2023-09-16T12:58:53.191Z"
   },
   {
    "duration": 2067,
    "start_time": "2023-09-16T12:58:53.198Z"
   },
   {
    "duration": 137,
    "start_time": "2023-09-16T12:58:55.267Z"
   },
   {
    "duration": 2001,
    "start_time": "2023-09-16T12:58:55.405Z"
   },
   {
    "duration": 132,
    "start_time": "2023-09-16T12:58:57.407Z"
   },
   {
    "duration": 1941,
    "start_time": "2023-09-16T12:58:57.541Z"
   },
   {
    "duration": 143,
    "start_time": "2023-09-16T12:58:59.484Z"
   },
   {
    "duration": 40,
    "start_time": "2023-09-16T12:58:59.628Z"
   },
   {
    "duration": 3,
    "start_time": "2023-09-16T12:58:59.670Z"
   },
   {
    "duration": 20,
    "start_time": "2023-09-16T12:58:59.675Z"
   },
   {
    "duration": 11,
    "start_time": "2023-09-16T12:58:59.696Z"
   },
   {
    "duration": 20,
    "start_time": "2023-09-16T12:58:59.709Z"
   },
   {
    "duration": 7,
    "start_time": "2023-09-16T12:58:59.730Z"
   },
   {
    "duration": 6,
    "start_time": "2023-09-16T12:59:03.802Z"
   },
   {
    "duration": 4,
    "start_time": "2023-09-16T12:59:08.230Z"
   },
   {
    "duration": 11,
    "start_time": "2023-09-16T12:59:26.251Z"
   },
   {
    "duration": 6,
    "start_time": "2023-09-16T12:59:27.963Z"
   },
   {
    "duration": 8,
    "start_time": "2023-09-16T12:59:38.944Z"
   },
   {
    "duration": 4,
    "start_time": "2023-09-16T12:59:40.584Z"
   },
   {
    "duration": 6,
    "start_time": "2023-09-16T13:03:31.919Z"
   },
   {
    "duration": 3,
    "start_time": "2023-09-16T13:03:34.705Z"
   },
   {
    "duration": 7,
    "start_time": "2023-09-16T13:03:36.373Z"
   },
   {
    "duration": 14,
    "start_time": "2023-09-16T13:03:42.847Z"
   },
   {
    "duration": 6,
    "start_time": "2023-09-16T13:03:47.506Z"
   },
   {
    "duration": 9,
    "start_time": "2023-09-16T13:03:47.966Z"
   },
   {
    "duration": 5,
    "start_time": "2023-09-16T13:03:51.485Z"
   },
   {
    "duration": 6,
    "start_time": "2023-09-16T13:03:54.901Z"
   },
   {
    "duration": 5,
    "start_time": "2023-09-16T13:03:59.663Z"
   },
   {
    "duration": 7,
    "start_time": "2023-09-16T13:04:01.137Z"
   },
   {
    "duration": 6,
    "start_time": "2023-09-16T13:04:03.479Z"
   },
   {
    "duration": 6,
    "start_time": "2023-09-16T13:04:04.715Z"
   },
   {
    "duration": 6,
    "start_time": "2023-09-16T13:04:07.919Z"
   },
   {
    "duration": 4,
    "start_time": "2023-09-16T13:04:20.543Z"
   },
   {
    "duration": 6,
    "start_time": "2023-09-16T13:04:22.627Z"
   },
   {
    "duration": 5,
    "start_time": "2023-09-16T13:04:24.177Z"
   },
   {
    "duration": 6,
    "start_time": "2023-09-16T13:04:26.124Z"
   },
   {
    "duration": 6,
    "start_time": "2023-09-16T13:04:33.276Z"
   },
   {
    "duration": 7,
    "start_time": "2023-09-16T13:04:36.625Z"
   },
   {
    "duration": 8,
    "start_time": "2023-09-16T13:04:38.156Z"
   },
   {
    "duration": 6,
    "start_time": "2023-09-16T13:04:40.958Z"
   },
   {
    "duration": 6,
    "start_time": "2023-09-16T13:04:43.313Z"
   },
   {
    "duration": 15,
    "start_time": "2023-09-16T13:04:59.353Z"
   },
   {
    "duration": 8,
    "start_time": "2023-09-16T13:05:19.317Z"
   },
   {
    "duration": 8,
    "start_time": "2023-09-16T13:05:21.305Z"
   },
   {
    "duration": 9,
    "start_time": "2023-09-16T13:05:21.882Z"
   },
   {
    "duration": 8,
    "start_time": "2023-09-16T13:05:27.219Z"
   },
   {
    "duration": 11,
    "start_time": "2023-09-16T13:05:28.013Z"
   },
   {
    "duration": 10,
    "start_time": "2023-09-16T13:05:28.603Z"
   },
   {
    "duration": 9,
    "start_time": "2023-09-16T13:05:29.016Z"
   },
   {
    "duration": 10,
    "start_time": "2023-09-16T13:05:29.331Z"
   },
   {
    "duration": 9,
    "start_time": "2023-09-16T13:05:29.713Z"
   },
   {
    "duration": 9,
    "start_time": "2023-09-16T13:05:29.783Z"
   },
   {
    "duration": 20,
    "start_time": "2023-09-16T13:05:30.055Z"
   },
   {
    "duration": 11,
    "start_time": "2023-09-16T13:05:30.495Z"
   },
   {
    "duration": 17,
    "start_time": "2023-09-16T13:05:30.955Z"
   },
   {
    "duration": 15,
    "start_time": "2023-09-16T13:05:31.358Z"
   },
   {
    "duration": 10,
    "start_time": "2023-09-16T13:05:31.770Z"
   },
   {
    "duration": 9,
    "start_time": "2023-09-16T13:05:34.536Z"
   },
   {
    "duration": 9,
    "start_time": "2023-09-16T13:05:35.107Z"
   },
   {
    "duration": 8,
    "start_time": "2023-09-16T13:05:35.605Z"
   },
   {
    "duration": 15,
    "start_time": "2023-09-16T13:05:36.157Z"
   },
   {
    "duration": 14,
    "start_time": "2023-09-16T13:05:36.658Z"
   },
   {
    "duration": 10,
    "start_time": "2023-09-16T13:05:37.080Z"
   },
   {
    "duration": 11,
    "start_time": "2023-09-16T13:05:37.662Z"
   },
   {
    "duration": 10,
    "start_time": "2023-09-16T13:05:44.048Z"
   },
   {
    "duration": 6,
    "start_time": "2023-09-16T13:05:55.077Z"
   },
   {
    "duration": 9,
    "start_time": "2023-09-16T13:06:00.601Z"
   },
   {
    "duration": 9,
    "start_time": "2023-09-16T13:06:03.334Z"
   },
   {
    "duration": 11,
    "start_time": "2023-09-16T13:06:17.066Z"
   },
   {
    "duration": 8,
    "start_time": "2023-09-16T13:06:58.724Z"
   },
   {
    "duration": 14,
    "start_time": "2023-09-16T13:07:02.349Z"
   },
   {
    "duration": 14,
    "start_time": "2023-09-16T13:07:02.943Z"
   },
   {
    "duration": 9,
    "start_time": "2023-09-16T13:07:03.282Z"
   },
   {
    "duration": 9,
    "start_time": "2023-09-16T13:07:03.619Z"
   },
   {
    "duration": 12,
    "start_time": "2023-09-16T13:07:03.961Z"
   },
   {
    "duration": 10,
    "start_time": "2023-09-16T13:07:04.340Z"
   },
   {
    "duration": 20,
    "start_time": "2023-09-16T13:07:10.149Z"
   },
   {
    "duration": 11,
    "start_time": "2023-09-16T13:07:11.977Z"
   },
   {
    "duration": 8,
    "start_time": "2023-09-16T13:07:12.379Z"
   },
   {
    "duration": 8,
    "start_time": "2023-09-16T13:07:12.707Z"
   },
   {
    "duration": 9,
    "start_time": "2023-09-16T13:07:12.980Z"
   },
   {
    "duration": 10,
    "start_time": "2023-09-16T13:07:13.209Z"
   },
   {
    "duration": 9,
    "start_time": "2023-09-16T13:07:13.432Z"
   },
   {
    "duration": 8,
    "start_time": "2023-09-16T13:07:13.670Z"
   },
   {
    "duration": 9,
    "start_time": "2023-09-16T13:07:13.877Z"
   },
   {
    "duration": 8,
    "start_time": "2023-09-16T13:07:14.069Z"
   },
   {
    "duration": 10,
    "start_time": "2023-09-16T13:07:14.237Z"
   },
   {
    "duration": 10,
    "start_time": "2023-09-16T13:07:14.410Z"
   },
   {
    "duration": 9,
    "start_time": "2023-09-16T13:07:14.586Z"
   },
   {
    "duration": 15,
    "start_time": "2023-09-16T13:07:14.749Z"
   },
   {
    "duration": 10,
    "start_time": "2023-09-16T13:07:15.023Z"
   },
   {
    "duration": 26,
    "start_time": "2023-09-16T13:07:15.079Z"
   },
   {
    "duration": 12,
    "start_time": "2023-09-16T13:07:15.240Z"
   },
   {
    "duration": 13,
    "start_time": "2023-09-16T13:07:15.400Z"
   },
   {
    "duration": 13,
    "start_time": "2023-09-16T13:07:15.560Z"
   },
   {
    "duration": 9,
    "start_time": "2023-09-16T13:07:15.729Z"
   },
   {
    "duration": 9,
    "start_time": "2023-09-16T13:07:15.888Z"
   },
   {
    "duration": 16,
    "start_time": "2023-09-16T13:07:16.057Z"
   },
   {
    "duration": 9,
    "start_time": "2023-09-16T13:16:41.733Z"
   },
   {
    "duration": 10,
    "start_time": "2023-09-16T13:16:55.279Z"
   },
   {
    "duration": 14,
    "start_time": "2023-09-16T13:17:08.342Z"
   },
   {
    "duration": 10,
    "start_time": "2023-09-16T13:17:22.473Z"
   },
   {
    "duration": 10,
    "start_time": "2023-09-16T13:17:44.605Z"
   },
   {
    "duration": 9,
    "start_time": "2023-09-16T13:17:48.927Z"
   },
   {
    "duration": 10,
    "start_time": "2023-09-16T13:17:49.892Z"
   },
   {
    "duration": 23,
    "start_time": "2023-09-16T13:17:50.549Z"
   },
   {
    "duration": 11,
    "start_time": "2023-09-16T13:17:50.946Z"
   },
   {
    "duration": 13,
    "start_time": "2023-09-16T13:17:51.359Z"
   },
   {
    "duration": 8,
    "start_time": "2023-09-16T13:17:51.668Z"
   },
   {
    "duration": 12,
    "start_time": "2023-09-16T13:17:51.961Z"
   },
   {
    "duration": 8,
    "start_time": "2023-09-16T13:17:52.232Z"
   },
   {
    "duration": 11,
    "start_time": "2023-09-16T13:17:52.483Z"
   },
   {
    "duration": 8,
    "start_time": "2023-09-16T13:17:52.734Z"
   },
   {
    "duration": 15,
    "start_time": "2023-09-16T13:17:53.147Z"
   },
   {
    "duration": 9,
    "start_time": "2023-09-16T13:17:53.490Z"
   },
   {
    "duration": 8,
    "start_time": "2023-09-16T13:17:53.896Z"
   },
   {
    "duration": 6,
    "start_time": "2023-09-16T13:17:55.605Z"
   },
   {
    "duration": 10,
    "start_time": "2023-09-16T13:17:58.263Z"
   },
   {
    "duration": 9,
    "start_time": "2023-09-16T13:17:59.005Z"
   },
   {
    "duration": 15,
    "start_time": "2023-09-16T13:18:09.349Z"
   },
   {
    "duration": 9,
    "start_time": "2023-09-16T13:18:09.993Z"
   },
   {
    "duration": 12,
    "start_time": "2023-09-16T13:18:13.882Z"
   },
   {
    "duration": 9,
    "start_time": "2023-09-16T13:18:20.790Z"
   },
   {
    "duration": 9,
    "start_time": "2023-09-16T13:18:21.983Z"
   },
   {
    "duration": 9,
    "start_time": "2023-09-16T13:18:36.713Z"
   },
   {
    "duration": 13,
    "start_time": "2023-09-16T13:18:37.439Z"
   },
   {
    "duration": 8,
    "start_time": "2023-09-16T13:18:59.030Z"
   },
   {
    "duration": 9,
    "start_time": "2023-09-16T13:18:59.880Z"
   },
   {
    "duration": 10,
    "start_time": "2023-09-16T13:19:00.427Z"
   },
   {
    "duration": 15,
    "start_time": "2023-09-16T13:19:00.953Z"
   },
   {
    "duration": 8,
    "start_time": "2023-09-16T13:19:01.489Z"
   },
   {
    "duration": 10,
    "start_time": "2023-09-16T13:19:02.033Z"
   },
   {
    "duration": 13,
    "start_time": "2023-09-16T13:19:03.669Z"
   },
   {
    "duration": 11,
    "start_time": "2023-09-16T13:20:06.309Z"
   },
   {
    "duration": 9,
    "start_time": "2023-09-16T13:20:07.441Z"
   },
   {
    "duration": 10,
    "start_time": "2023-09-16T13:20:08.009Z"
   },
   {
    "duration": 10,
    "start_time": "2023-09-16T13:20:08.579Z"
   },
   {
    "duration": 11,
    "start_time": "2023-09-16T13:20:10.009Z"
   },
   {
    "duration": 10,
    "start_time": "2023-09-16T13:21:32.682Z"
   },
   {
    "duration": 15,
    "start_time": "2023-09-16T13:22:42.053Z"
   },
   {
    "duration": 15,
    "start_time": "2023-09-16T13:22:51.439Z"
   },
   {
    "duration": 11,
    "start_time": "2023-09-16T13:22:54.369Z"
   },
   {
    "duration": 5,
    "start_time": "2023-09-16T13:26:56.988Z"
   },
   {
    "duration": 14,
    "start_time": "2023-09-16T13:27:22.492Z"
   },
   {
    "duration": 12,
    "start_time": "2023-09-16T13:27:30.751Z"
   },
   {
    "duration": 7,
    "start_time": "2023-09-16T13:27:37.195Z"
   },
   {
    "duration": 6,
    "start_time": "2023-09-16T13:27:52.888Z"
   },
   {
    "duration": 14,
    "start_time": "2023-09-16T13:27:55.053Z"
   },
   {
    "duration": 7,
    "start_time": "2023-09-16T13:28:15.772Z"
   },
   {
    "duration": 7,
    "start_time": "2023-09-16T13:28:24.491Z"
   },
   {
    "duration": 7,
    "start_time": "2023-09-16T13:28:25.577Z"
   },
   {
    "duration": 9,
    "start_time": "2023-09-16T13:28:26.141Z"
   },
   {
    "duration": 5,
    "start_time": "2023-09-16T13:28:26.715Z"
   },
   {
    "duration": 7,
    "start_time": "2023-09-16T13:28:27.599Z"
   },
   {
    "duration": 7,
    "start_time": "2023-09-16T13:28:28.895Z"
   },
   {
    "duration": 6,
    "start_time": "2023-09-16T13:28:31.480Z"
   },
   {
    "duration": 8,
    "start_time": "2023-09-16T13:28:33.182Z"
   },
   {
    "duration": 7,
    "start_time": "2023-09-16T13:28:34.099Z"
   },
   {
    "duration": 7,
    "start_time": "2023-09-16T13:28:36.095Z"
   },
   {
    "duration": 6,
    "start_time": "2023-09-16T13:28:54.875Z"
   },
   {
    "duration": 6,
    "start_time": "2023-09-16T13:29:09.392Z"
   },
   {
    "duration": 8,
    "start_time": "2023-09-16T13:29:11.655Z"
   }
  ],
  "kernelspec": {
   "display_name": "Python 3 (ipykernel)",
   "language": "python",
   "name": "python3"
  },
  "language_info": {
   "codemirror_mode": {
    "name": "ipython",
    "version": 3
   },
   "file_extension": ".py",
   "mimetype": "text/x-python",
   "name": "python",
   "nbconvert_exporter": "python",
   "pygments_lexer": "ipython3",
   "version": "3.9.5"
  },
  "toc": {
   "base_numbering": 1,
   "nav_menu": {},
   "number_sections": true,
   "sideBar": true,
   "skip_h1_title": true,
   "title_cell": "Table of Contents",
   "title_sidebar": "Contents",
   "toc_cell": true,
   "toc_position": {
    "height": "calc(100% - 180px)",
    "left": "10px",
    "top": "150px",
    "width": "165px"
   },
   "toc_section_display": true,
   "toc_window_display": true
  }
 },
 "nbformat": 4,
 "nbformat_minor": 2
}
